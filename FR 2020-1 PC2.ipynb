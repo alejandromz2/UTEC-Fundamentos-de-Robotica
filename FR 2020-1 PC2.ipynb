{
 "cells": [
  {
   "cell_type": "code",
   "execution_count": 1,
   "metadata": {},
   "outputs": [],
   "source": [
    "import numpy as np\n",
    "from sympy.matrices import Matrix\n",
    "import sympy as sp\n",
    "\n",
    "from scipy.linalg import null_space\n",
    "\n",
    "#Redefine numpy functions\n",
    "cos = np.cos\n",
    "sin = np.sin\n",
    "pi = np.pi\n",
    "\n",
    "#Redefine sympy functions\n",
    "coss = sp.cos\n",
    "sins = sp.sin\n",
    "scos = sp.cos\n",
    "ssin = sp.sin\n",
    "na = np.array"
   ]
  },
  {
   "cell_type": "markdown",
   "metadata": {},
   "source": [
    "# Funciones"
   ]
  },
  {
   "cell_type": "code",
   "execution_count": 2,
   "metadata": {},
   "outputs": [],
   "source": [
    "#Round and select type\n",
    "def printr(x,t='n',a=3):\n",
    "    if t != 'n':\n",
    "        if t == 'd':\n",
    "            print(np.round(np.rad2deg(x),a))\n",
    "        elif t == 'r':\n",
    "            print(np.round(np.deg2rad(x),a))\n",
    "    else:\n",
    "         print(np.round(x,a))\n",
    "\n",
    "#Canonic rotation matrixes\n",
    "def rot(ang,c,ua='r'):\n",
    "\n",
    "    if ua == 'd':\n",
    "        ang = np.deg2rad(ang)\n",
    "    \n",
    "    if c == 'x':\n",
    "        Rx = np.array([[1, 0, 0],\n",
    "                       [0, cos(ang) ,-sin(ang)],\n",
    "                       [0, sin(ang), cos(ang)]])\n",
    "        return Rx\n",
    "\n",
    "    elif c == 'y':\n",
    "        Ry = np.array([[cos(ang), 0, sin(ang)],\n",
    "                       [0, 1 ,0],\n",
    "                       [-sin(ang), 0, cos(ang)]])\n",
    "        return Ry\n",
    "\n",
    "    elif c == 'z':\n",
    "        Rz = np.array([[cos(ang), -sin(ang), 0],\n",
    "                       [sin(ang), cos(ang), 0],\n",
    "                       [0, 0, 1]])\n",
    "        return Rz\n",
    "\n",
    "#Symbolic canonic rotation matrixes\n",
    "def srot(ang,c):\n",
    "\n",
    "    if c == 'x':\n",
    "        Rx = sp.Matrix([[1, 0, 0],\n",
    "                       [0, coss(ang) ,-sins(ang)],\n",
    "                       [0, sins(ang), coss(ang)]])\n",
    "        return Rx\n",
    "\n",
    "    elif c == 'y':\n",
    "        Ry = sp.Matrix([[coss(ang), 0, sins(ang)],\n",
    "                        [0, 1, 0],\n",
    "                        [-sins(ang), 0, coss(ang)]])\n",
    "        return Ry\n",
    "\n",
    "    elif c == 'z':\n",
    "        Rz = sp.Matrix([[coss(ang), -sins(ang), 0],\n",
    "                       [sins(ang), coss(ang), 0],\n",
    "                       [0,0,1]])\n",
    "        return Rz\n",
    "\n",
    "#Checks if a matrix is a rotation matrix\n",
    "def check_rotm(R,p=3):\n",
    "    if ((np.round(np.dot(R,R.T),p) == np.eye(3)).all() and np.round(np.linalg.det(R),p) == 1):\n",
    "        return True\n",
    "    else:\n",
    "        return False\n",
    "\n",
    "#Define point in the space\n",
    "def def_point(x,y,z):\n",
    "    return np.array([[x],[y],[z]])\n",
    "\n",
    "#T given t,R\n",
    "def T_tR(t,R):\n",
    "    T = np.vstack((np.hstack((R,t)),np.array([[0, 0, 0, 1]])))\n",
    "    return T\n",
    "\n",
    "#R from T\n",
    "def R_T(T):\n",
    "    R = T[:3,:3]\n",
    "    return R\n",
    "\n",
    "#Pure rotation\n",
    "def tf_rot(ang,c,ua='r'):\n",
    "\n",
    "    if ua == 'd':\n",
    "        ang = np.deg2rad(ang)\n",
    "\n",
    "    if c == 'x':\n",
    "        Trotx = np.array([[1, 0, 0, 0],\n",
    "                         [0, cos(ang), -sin(ang), 0],\n",
    "                         [0, sin(ang), cos(ang), 0],\n",
    "                         [0, 0, 0, 1]])\n",
    "        return Trotx\n",
    "\n",
    "    elif c == 'y':\n",
    "        Troty = np.array([[cos(ang), 0, sin(ang), 0],\n",
    "                         [0, 1 ,0, 0],\n",
    "                         [-sin(ang), 0, cos(ang), 0],\n",
    "                         [0, 0, 0, 1]])\n",
    "        return Troty\n",
    "\n",
    "    elif c == 'z':\n",
    "        Trotz = np.array([[cos(ang), -sin(ang), 0, 0],\n",
    "                         [sin(ang), cos(ang), 0, 0],\n",
    "                         [0, 0, 1, 0],\n",
    "                         [0, 0, 0, 1]])\n",
    "        return Trotz\n",
    "\n",
    "#Symbolic pure rotation\n",
    "def stf_rot(ang,c):\n",
    "   \n",
    "    if c == 'x':\n",
    "        Trotx = sp.Matrix([[1, 0, 0, 0],\n",
    "                         [0, coss(ang), -sins(ang), 0],\n",
    "                         [0, sins(ang), coss(ang), 0],\n",
    "                         [0, 0, 0, 1]])\n",
    "        return Trotx\n",
    "\n",
    "    elif c == 'y':\n",
    "        Troty = sp.Matrix([[coss(ang), 0, sins(ang), 0],\n",
    "                         [0, 1 ,0, 0],\n",
    "                         [-sins(ang), 0, coss(ang), 0],\n",
    "                         [0, 0, 0, 1]])\n",
    "        return Troty\n",
    "\n",
    "    elif c == 'z':\n",
    "        Trotz = sp.Matrix([[coss(ang), -sins(ang), 0, 0],\n",
    "                         [sins(ang), coss(ang), 0, 0],\n",
    "                         [0, 0, 1, 0],\n",
    "                         [0, 0, 0, 1]])\n",
    "        return Trotz\n",
    "\n",
    "#Pure traslation\n",
    "def tf_tr(d,c):\n",
    "\n",
    "    if c == 'x':\n",
    "        Ttrx = np.array([[1, 0, 0, d],\n",
    "                         [0, 1, 0, 0],\n",
    "                         [0, 0, 1, 0],\n",
    "                         [0, 0, 0, 1]])\n",
    "        return Ttrx\n",
    "\n",
    "    elif c == 'y':\n",
    "        Ttry = np.array([[1, 0, 0, 0],\n",
    "                         [0, 1, 0, d],\n",
    "                         [0, 0, 1, 0],\n",
    "                         [0, 0, 0, 1]])\n",
    "        return Ttry\n",
    "\n",
    "    elif c == 'z':\n",
    "        Ttrz = np.array([[1, 0, 0, 0],\n",
    "                         [0, 1, 0, 0],\n",
    "                         [0, 0, 1, d],\n",
    "                         [0, 0, 0, 1]])\n",
    "        return Ttrz\n",
    "\n",
    "#Symbolic Pure traslation\n",
    "def stf_tr(d,c):\n",
    "\n",
    "    if c == 'x':\n",
    "        Ttrx = sp.Matrix([[1, 0, 0, d],\n",
    "                         [0, 1, 0, 0],\n",
    "                         [0, 0, 1, 0],\n",
    "                         [0, 0, 0, 1]])\n",
    "        return Ttrx\n",
    "\n",
    "    elif c == 'y':\n",
    "        Ttry = sp.Matrix([[1, 0, 0, 0],\n",
    "                         [0, 1, 0, d],\n",
    "                         [0, 0, 1, 0],\n",
    "                         [0, 0, 0, 1]])\n",
    "        return Ttry\n",
    "\n",
    "    elif c == 'z':\n",
    "        Ttrz = sp.Matrix([[1, 0, 0, 0],\n",
    "                         [0, 1, 0, 0],\n",
    "                         [0, 0, 1, d],\n",
    "                         [0, 0, 0, 1]])\n",
    "        return Ttrz\n",
    "\n",
    "#Complete pure traslation\n",
    "def tf_trc(dx,dy,dz):\n",
    "    Ttr = np.array([[1, 0, 0, dx],\n",
    "                     [0, 1, 0, dy],\n",
    "                     [0, 0, 1, dz],\n",
    "                     [0, 0, 0, 1]])\n",
    "    return Ttr\n",
    "\n",
    "#Symbolic complete complete pure traslation\n",
    "def stf_trc(dx,dy,dz):\n",
    "    Ttr = sp.Matrix([[1, 0, 0, dx],\n",
    "                     [0, 1, 0, dy],\n",
    "                     [0, 0, 1, dz],\n",
    "                     [0, 0, 0, 1]])\n",
    "    return Ttr\n",
    "\n",
    "#Define homogeneus coordinate\n",
    "def def_hc(x,y,z):\n",
    "    return np.array([[x],\n",
    "                     [y],\n",
    "                     [z],\n",
    "                     [1]])\n",
    "\n",
    "#New vector from vector and Homogeneus matrix rotation\n",
    "def np_pT(p1,T):\n",
    "    p1 = np.array([[p1[0,0]],[p1[1,0]],[p1[2,0]],[1]])\n",
    "    p2 = np.dot(T,p1)\n",
    "    p2 = p2[:3,:]\n",
    "    return p2\n",
    "\n",
    "#Matriz de transformacion homogenea simbolica de DH\n",
    "def sTdh(d, th, a, alpha):\n",
    "    cth = sp.cos(th); sth = sp.sin(th)\n",
    "    ca = sp.cos(alpha); sa = sp.sin(alpha)\n",
    "    sTdh = sp.Matrix([[cth, -ca*sth,  sa*sth, a*cth],\n",
    "                     [sth,  ca*cth, -sa*cth, a*sth],\n",
    "                     [0,        sa,     ca,      d],\n",
    "                     [0,         0,      0,      1]])\n",
    "    return sTdh\n",
    "\n",
    "#Matriz de transformacion homogenea numerica de DH\n",
    "def Tdh(d, th, a, alpha):\n",
    "    cth = np.cos(th);    sth = np.sin(th)\n",
    "    ca = np.cos(alpha);  sa = np.sin(alpha)\n",
    "    Tdh = np.array([[cth, -ca*sth,  sa*sth, a*cth],\n",
    "                    [sth,  ca*cth, -sa*cth, a*sth],\n",
    "                    [0,        sa,     ca,      d],\n",
    "                    [0,         0,      0,      1]])\n",
    "    return Tdh\n",
    "\n",
    "def vectorFromSkew(w_hat):\n",
    "    return sp.Matrix([w_hat[2,1], w_hat[0,2], w_hat[1,0]])"
   ]
  },
  {
   "cell_type": "markdown",
   "metadata": {},
   "source": [
    "# Resolución de la práctica"
   ]
  },
  {
   "cell_type": "markdown",
   "metadata": {},
   "source": [
    "Pregunta 1"
   ]
  },
  {
   "cell_type": "code",
   "execution_count": 38,
   "metadata": {},
   "outputs": [
    {
     "name": "stdout",
     "output_type": "stream",
     "text": [
      "T01:\n"
     ]
    },
    {
     "data": {
      "text/latex": [
       "$\\displaystyle \\left[\\begin{matrix}- \\sin{\\left(q_{1} \\right)} & 0 & \\cos{\\left(q_{1} \\right)} & 0\\\\\\cos{\\left(q_{1} \\right)} & 0 & \\sin{\\left(q_{1} \\right)} & 0\\\\0 & 1 & 0 & 0\\\\0 & 0 & 0 & 1\\end{matrix}\\right]$"
      ],
      "text/plain": [
       "Matrix([\n",
       "[-sin(q1), 0, cos(q1), 0],\n",
       "[ cos(q1), 0, sin(q1), 0],\n",
       "[       0, 1,       0, 0],\n",
       "[       0, 0,       0, 1]])"
      ]
     },
     "metadata": {},
     "output_type": "display_data"
    },
    {
     "name": "stdout",
     "output_type": "stream",
     "text": [
      "T12:\n"
     ]
    },
    {
     "data": {
      "text/latex": [
       "$\\displaystyle \\left[\\begin{matrix}\\sin{\\left(q_{2} \\right)} & 0 & - \\cos{\\left(q_{2} \\right)} & 0\\\\- \\cos{\\left(q_{2} \\right)} & 0 & - \\sin{\\left(q_{2} \\right)} & 0\\\\0 & 1 & 0 & 0\\\\0 & 0 & 0 & 1\\end{matrix}\\right]$"
      ],
      "text/plain": [
       "Matrix([\n",
       "[ sin(q2), 0, -cos(q2), 0],\n",
       "[-cos(q2), 0, -sin(q2), 0],\n",
       "[       0, 1,        0, 0],\n",
       "[       0, 0,        0, 1]])"
      ]
     },
     "metadata": {},
     "output_type": "display_data"
    },
    {
     "name": "stdout",
     "output_type": "stream",
     "text": [
      "T23:\n"
     ]
    },
    {
     "data": {
      "text/latex": [
       "$\\displaystyle \\left[\\begin{matrix}\\cos{\\left(q_{3} \\right)} & - \\sin{\\left(q_{3} \\right)} & 0 & 350 \\cos{\\left(q_{3} \\right)}\\\\\\sin{\\left(q_{3} \\right)} & \\cos{\\left(q_{3} \\right)} & 0 & 350 \\sin{\\left(q_{3} \\right)}\\\\0 & 0 & 1 & -19.05\\\\0 & 0 & 0 & 1\\end{matrix}\\right]$"
      ],
      "text/plain": [
       "Matrix([\n",
       "[cos(q3), -sin(q3), 0, 350*cos(q3)],\n",
       "[sin(q3),  cos(q3), 0, 350*sin(q3)],\n",
       "[      0,        0, 1,      -19.05],\n",
       "[      0,        0, 0,           1]])"
      ]
     },
     "metadata": {},
     "output_type": "display_data"
    },
    {
     "name": "stdout",
     "output_type": "stream",
     "text": [
      "T34:\n"
     ]
    },
    {
     "data": {
      "text/latex": [
       "$\\displaystyle \\left[\\begin{matrix}\\cos{\\left(q_{4} \\right)} & - \\sin{\\left(q_{4} \\right)} & 0 & 340 \\cos{\\left(q_{4} \\right)}\\\\\\sin{\\left(q_{4} \\right)} & \\cos{\\left(q_{4} \\right)} & 0 & 340 \\sin{\\left(q_{4} \\right)}\\\\0 & 0 & 1 & 0\\\\0 & 0 & 0 & 1\\end{matrix}\\right]$"
      ],
      "text/plain": [
       "Matrix([\n",
       "[cos(q4), -sin(q4), 0, 340*cos(q4)],\n",
       "[sin(q4),  cos(q4), 0, 340*sin(q4)],\n",
       "[      0,        0, 1,           0],\n",
       "[      0,        0, 0,           1]])"
      ]
     },
     "metadata": {},
     "output_type": "display_data"
    },
    {
     "name": "stdout",
     "output_type": "stream",
     "text": [
      "T45:\n"
     ]
    },
    {
     "data": {
      "text/latex": [
       "$\\displaystyle \\left[\\begin{matrix}- \\cos{\\left(q_{5} \\right)} & 0 & - \\sin{\\left(q_{5} \\right)} & 0\\\\- \\sin{\\left(q_{5} \\right)} & 0 & \\cos{\\left(q_{5} \\right)} & 0\\\\0 & 1 & 0 & 0\\\\0 & 0 & 0 & 1\\end{matrix}\\right]$"
      ],
      "text/plain": [
       "Matrix([\n",
       "[-cos(q5), 0, -sin(q5), 0],\n",
       "[-sin(q5), 0,  cos(q5), 0],\n",
       "[       0, 1,        0, 0],\n",
       "[       0, 0,        0, 1]])"
      ]
     },
     "metadata": {},
     "output_type": "display_data"
    },
    {
     "name": "stdout",
     "output_type": "stream",
     "text": [
      "T56:\n"
     ]
    },
    {
     "data": {
      "text/latex": [
       "$\\displaystyle \\left[\\begin{matrix}\\sin{\\left(q_{6} \\right)} & 0 & \\cos{\\left(q_{6} \\right)} & 0\\\\- \\cos{\\left(q_{6} \\right)} & 0 & \\sin{\\left(q_{6} \\right)} & 0\\\\0 & -1 & 0 & 0\\\\0 & 0 & 0 & 1\\end{matrix}\\right]$"
      ],
      "text/plain": [
       "Matrix([\n",
       "[ sin(q6),  0, cos(q6), 0],\n",
       "[-cos(q6),  0, sin(q6), 0],\n",
       "[       0, -1,       0, 0],\n",
       "[       0,  0,       0, 1]])"
      ]
     },
     "metadata": {},
     "output_type": "display_data"
    },
    {
     "name": "stdout",
     "output_type": "stream",
     "text": [
      "T06:\n"
     ]
    },
    {
     "data": {
      "text/latex": [
       "$\\displaystyle \\left[\\begin{matrix}\\left(\\sin{\\left(q_{1} \\right)} \\sin{\\left(q_{2} \\right)} \\cos{\\left(q_{3} + q_{4} + q_{5} \\right)} - \\sin{\\left(q_{3} + q_{4} + q_{5} \\right)} \\cos{\\left(q_{1} \\right)}\\right) \\sin{\\left(q_{6} \\right)} - \\sin{\\left(q_{1} \\right)} \\cos{\\left(q_{2} \\right)} \\cos{\\left(q_{6} \\right)} & - \\sin{\\left(q_{1} \\right)} \\sin{\\left(q_{2} \\right)} \\sin{\\left(q_{3} + q_{4} + q_{5} \\right)} - \\cos{\\left(q_{1} \\right)} \\cos{\\left(q_{3} + q_{4} + q_{5} \\right)} & \\left(\\sin{\\left(q_{1} \\right)} \\sin{\\left(q_{2} \\right)} \\cos{\\left(q_{3} + q_{4} + q_{5} \\right)} - \\sin{\\left(q_{3} + q_{4} + q_{5} \\right)} \\cos{\\left(q_{1} \\right)}\\right) \\cos{\\left(q_{6} \\right)} + \\sin{\\left(q_{1} \\right)} \\sin{\\left(q_{6} \\right)} \\cos{\\left(q_{2} \\right)} & - 350.0 \\sin{\\left(q_{1} \\right)} \\sin{\\left(q_{2} \\right)} \\cos{\\left(q_{3} \\right)} - 340.0 \\sin{\\left(q_{1} \\right)} \\sin{\\left(q_{2} \\right)} \\cos{\\left(q_{3} + q_{4} \\right)} - 19.05 \\sin{\\left(q_{1} \\right)} \\cos{\\left(q_{2} \\right)} + 350.0 \\sin{\\left(q_{3} \\right)} \\cos{\\left(q_{1} \\right)} + 340.0 \\sin{\\left(q_{3} + q_{4} \\right)} \\cos{\\left(q_{1} \\right)}\\\\- \\left(\\sin{\\left(q_{1} \\right)} \\sin{\\left(q_{3} + q_{4} + q_{5} \\right)} + \\sin{\\left(q_{2} \\right)} \\cos{\\left(q_{1} \\right)} \\cos{\\left(q_{3} + q_{4} + q_{5} \\right)}\\right) \\sin{\\left(q_{6} \\right)} + \\cos{\\left(q_{1} \\right)} \\cos{\\left(q_{2} \\right)} \\cos{\\left(q_{6} \\right)} & - \\sin{\\left(q_{1} \\right)} \\cos{\\left(q_{3} + q_{4} + q_{5} \\right)} + \\sin{\\left(q_{2} \\right)} \\sin{\\left(q_{3} + q_{4} + q_{5} \\right)} \\cos{\\left(q_{1} \\right)} & - \\left(\\sin{\\left(q_{1} \\right)} \\sin{\\left(q_{3} + q_{4} + q_{5} \\right)} + \\sin{\\left(q_{2} \\right)} \\cos{\\left(q_{1} \\right)} \\cos{\\left(q_{3} + q_{4} + q_{5} \\right)}\\right) \\cos{\\left(q_{6} \\right)} - \\sin{\\left(q_{6} \\right)} \\cos{\\left(q_{1} \\right)} \\cos{\\left(q_{2} \\right)} & 350.0 \\sin{\\left(q_{1} \\right)} \\sin{\\left(q_{3} \\right)} + 340.0 \\sin{\\left(q_{1} \\right)} \\sin{\\left(q_{3} + q_{4} \\right)} + 350.0 \\sin{\\left(q_{2} \\right)} \\cos{\\left(q_{1} \\right)} \\cos{\\left(q_{3} \\right)} + 340.0 \\sin{\\left(q_{2} \\right)} \\cos{\\left(q_{1} \\right)} \\cos{\\left(q_{3} + q_{4} \\right)} + 19.05 \\cos{\\left(q_{1} \\right)} \\cos{\\left(q_{2} \\right)}\\\\\\sin{\\left(q_{2} \\right)} \\cos{\\left(q_{6} \\right)} + \\sin{\\left(q_{6} \\right)} \\cos{\\left(q_{2} \\right)} \\cos{\\left(q_{3} + q_{4} + q_{5} \\right)} & - \\sin{\\left(q_{3} + q_{4} + q_{5} \\right)} \\cos{\\left(q_{2} \\right)} & - \\sin{\\left(q_{2} \\right)} \\sin{\\left(q_{6} \\right)} + \\cos{\\left(q_{2} \\right)} \\cos{\\left(q_{6} \\right)} \\cos{\\left(q_{3} + q_{4} + q_{5} \\right)} & 19.05 \\sin{\\left(q_{2} \\right)} - 350.0 \\cos{\\left(q_{2} \\right)} \\cos{\\left(q_{3} \\right)} - 340.0 \\cos{\\left(q_{2} \\right)} \\cos{\\left(q_{3} + q_{4} \\right)}\\\\0 & 0 & 0 & 1\\end{matrix}\\right]$"
      ],
      "text/plain": [
       "Matrix([\n",
       "[ (sin(q1)*sin(q2)*cos(q3 + q4 + q5) - sin(q3 + q4 + q5)*cos(q1))*sin(q6) - sin(q1)*cos(q2)*cos(q6), -sin(q1)*sin(q2)*sin(q3 + q4 + q5) - cos(q1)*cos(q3 + q4 + q5),  (sin(q1)*sin(q2)*cos(q3 + q4 + q5) - sin(q3 + q4 + q5)*cos(q1))*cos(q6) + sin(q1)*sin(q6)*cos(q2), -350.0*sin(q1)*sin(q2)*cos(q3) - 340.0*sin(q1)*sin(q2)*cos(q3 + q4) - 19.05*sin(q1)*cos(q2) + 350.0*sin(q3)*cos(q1) + 340.0*sin(q3 + q4)*cos(q1)],\n",
       "[-(sin(q1)*sin(q3 + q4 + q5) + sin(q2)*cos(q1)*cos(q3 + q4 + q5))*sin(q6) + cos(q1)*cos(q2)*cos(q6), -sin(q1)*cos(q3 + q4 + q5) + sin(q2)*sin(q3 + q4 + q5)*cos(q1), -(sin(q1)*sin(q3 + q4 + q5) + sin(q2)*cos(q1)*cos(q3 + q4 + q5))*cos(q6) - sin(q6)*cos(q1)*cos(q2),  350.0*sin(q1)*sin(q3) + 340.0*sin(q1)*sin(q3 + q4) + 350.0*sin(q2)*cos(q1)*cos(q3) + 340.0*sin(q2)*cos(q1)*cos(q3 + q4) + 19.05*cos(q1)*cos(q2)],\n",
       "[                                               sin(q2)*cos(q6) + sin(q6)*cos(q2)*cos(q3 + q4 + q5),                                     -sin(q3 + q4 + q5)*cos(q2),                                               -sin(q2)*sin(q6) + cos(q2)*cos(q6)*cos(q3 + q4 + q5),                                                                               19.05*sin(q2) - 350.0*cos(q2)*cos(q3) - 340.0*cos(q2)*cos(q3 + q4)],\n",
       "[                                                                                                 0,                                                              0,                                                                                                  0,                                                                                                                                                1]])"
      ]
     },
     "metadata": {},
     "output_type": "display_data"
    },
    {
     "name": "stdout",
     "output_type": "stream",
     "text": [
      "Comprobacion cuando q=0\n"
     ]
    },
    {
     "data": {
      "text/latex": [
       "$\\displaystyle \\left[\\begin{matrix}0 & -1 & 0 & 0\\\\1 & 0 & 0 & 19.05\\\\0 & 0 & 1 & -690.0\\\\0 & 0 & 0 & 1\\end{matrix}\\right]$"
      ],
      "text/plain": [
       "Matrix([\n",
       "[0, -1, 0,      0],\n",
       "[1,  0, 0,  19.05],\n",
       "[0,  0, 1, -690.0],\n",
       "[0,  0, 0,      1]])"
      ]
     },
     "metadata": {},
     "output_type": "display_data"
    }
   ],
   "source": [
    "# Variables simbólicas\n",
    "q1, q2, q3, q4, q5, q6 = sp.symbols(\"q1 q2 q3 q4 q5 q6\")\n",
    "\n",
    "# Transformaciones homogéneas\n",
    "T01 = sTdh( 0,   sp.pi/2+q1, 0, sp.pi/2)\n",
    "T12 = sTdh(   0, q2+3*sp.pi/2,  0,       sp.pi/2)\n",
    "T23 = sTdh(   -19.05,   q3, 350, 0)\n",
    "T34 = sTdh( 0,   q4,    340, 0)\n",
    "T45 = sTdh(   0,   q5+sp.pi,    0, sp.pi/2)\n",
    "T56 = sTdh(   0,         q6+3*sp.pi/2,    0,       -sp.pi/2)\n",
    "\n",
    "# Transformación homogénea final\n",
    "Tf = sp.simplify(T01*T12*T23*T34*T45*T56)\n",
    "\n",
    "# Mostrar las transformaciones homogéneas (display funciona con IPython)\n",
    "print(\"T01:\"); display(T01)\n",
    "print(\"T12:\"); display(T12)\n",
    "print(\"T23:\"); display(T23)\n",
    "print(\"T34:\"); display(T34)\n",
    "print(\"T45:\"); display(T45)\n",
    "print(\"T56:\"); display(T56)\n",
    "print(\"T06:\"); display(Tf)\n",
    "print(\"Comprobacion cuando q=0\"); display(Tf.subs({q1:0,q2:0,q3:0,q4:0,q5:0,q6:0}))"
   ]
  },
  {
   "cell_type": "markdown",
   "metadata": {},
   "source": [
    "Pregunta 2"
   ]
  },
  {
   "cell_type": "markdown",
   "metadata": {},
   "source": [
    "a) Velocidades del efector final"
   ]
  },
  {
   "cell_type": "code",
   "execution_count": 27,
   "metadata": {},
   "outputs": [
    {
     "name": "stdout",
     "output_type": "stream",
     "text": [
      "Jacobiano geometrico\n"
     ]
    },
    {
     "data": {
      "text/latex": [
       "$\\displaystyle \\left[\\begin{matrix}0.6 \\cos{\\left(q_{1} \\right)} \\cos{\\left(q_{3} \\right)} & 0.6 \\cos{\\left(q_{1} \\right)} \\cos{\\left(q_{3} \\right)} & - 0.6 \\sin{\\left(q_{1} \\right)} \\sin{\\left(q_{3} \\right)}\\\\0.6 \\sin{\\left(q_{1} \\right)} \\cos{\\left(q_{3} \\right)} & 0.6 \\sin{\\left(q_{1} \\right)} \\cos{\\left(q_{3} \\right)} & 0.6 \\sin{\\left(q_{3} \\right)} \\cos{\\left(q_{1} \\right)}\\\\0 & 0 & - 0.6 \\cos{\\left(q_{3} \\right)}\\\\0 & 0 & \\cos{\\left(q_{1} \\right)}\\\\0 & 0 & \\sin{\\left(q_{1} \\right)}\\\\1 & 1 & 0\\end{matrix}\\right]$"
      ],
      "text/plain": [
       "Matrix([\n",
       "[0.6*cos(q1)*cos(q3), 0.6*cos(q1)*cos(q3), -0.6*sin(q1)*sin(q3)],\n",
       "[0.6*sin(q1)*cos(q3), 0.6*sin(q1)*cos(q3),  0.6*sin(q3)*cos(q1)],\n",
       "[                  0,                   0,         -0.6*cos(q3)],\n",
       "[                  0,                   0,              cos(q1)],\n",
       "[                  0,                   0,              sin(q1)],\n",
       "[                  1,                   1,                    0]])"
      ]
     },
     "metadata": {},
     "output_type": "display_data"
    }
   ],
   "source": [
    "q1, q2, q3 = sp.symbols(\"q1 q2 q3\")\n",
    "\n",
    "# Matrices de transformación homogénea i con respecto a i-1\n",
    "T01 = sTdh(0, q1, 0, 0)\n",
    "T12 = sTdh(q2, -sp.pi/2,0, -sp.pi/2)\n",
    "T23 = sTdh(0, q3, 0.6, -sp.pi/2)\n",
    "\n",
    "# Matrices de transformación homogénea con respecto a 0\n",
    "T02 = sp.simplify(T01*T12)\n",
    "T03 = sp.simplify(T02*T23)\n",
    "\n",
    "# Ejes z (con respecto al sistema 0)\n",
    "z0 = sp.Matrix([[0],[0],[1]]);\n",
    "z1 = T01[0:3, 2]\n",
    "z2 = T02[0:3, 2]\n",
    "\n",
    "# Puntos con respecto al sistema 0\n",
    "p0 = sp.Matrix([0,0,0])\n",
    "p1 = T01[0:3, 3]\n",
    "p2 = T02[0:3, 3]\n",
    "p3 = T03[0:3, 3]\n",
    "\n",
    "# Componentes del Jacobiano (velocidad lineal)\n",
    "Jv1 = sp.simplify(z0.cross(p3-p0))\n",
    "Jv2 = sp.simplify(z1.cross(p3-p1))\n",
    "Jv3 = sp.simplify(z2.cross(p3-p2))\n",
    "# Componentes del Jacobiano (velocidad angular)\n",
    "Jw1 = z0; Jw2 = z1; Jw3 = z2;\n",
    "\n",
    "# Jacobiano geométrico\n",
    "J1 = sp.Matrix.vstack(Jv1, Jw1)\n",
    "J2 = sp.Matrix.vstack(Jv2, Jw2)\n",
    "J3 = sp.Matrix.vstack(Jv3, Jw3)\n",
    "J = sp.Matrix.hstack(J1, J2, J3)\n",
    "print(\"Jacobiano geometrico\"); display(J)"
   ]
  },
  {
   "cell_type": "markdown",
   "metadata": {},
   "source": [
    "Se reemplaza los angulos"
   ]
  },
  {
   "cell_type": "code",
   "execution_count": 28,
   "metadata": {},
   "outputs": [
    {
     "name": "stdout",
     "output_type": "stream",
     "text": [
      "Jacobiano geometrico dado los q\n"
     ]
    },
    {
     "data": {
      "text/latex": [
       "$\\displaystyle \\left[\\begin{matrix}- 0.3 \\sqrt{2} & - 0.3 \\sqrt{2} & 0\\\\- 0.3 \\sqrt{2} & - 0.3 \\sqrt{2} & 0\\\\0 & 0 & 0.6\\\\0 & 0 & \\frac{\\sqrt{2}}{2}\\\\0 & 0 & \\frac{\\sqrt{2}}{2}\\\\1 & 1 & 0\\end{matrix}\\right]$"
      ],
      "text/plain": [
       "Matrix([\n",
       "[-0.3*sqrt(2), -0.3*sqrt(2),         0],\n",
       "[-0.3*sqrt(2), -0.3*sqrt(2),         0],\n",
       "[           0,            0,       0.6],\n",
       "[           0,            0, sqrt(2)/2],\n",
       "[           0,            0, sqrt(2)/2],\n",
       "[           1,            1,         0]])"
      ]
     },
     "metadata": {},
     "output_type": "display_data"
    }
   ],
   "source": [
    "Jval = J.subs({q1:sp.pi/4,q2:0.5,q3:sp.pi})\n",
    "#Reemplazando los valores de q dados\n",
    "print(\"Jacobiano geometrico dado los q\");display(Jval)"
   ]
  },
  {
   "cell_type": "markdown",
   "metadata": {},
   "source": [
    "Se hallan las velocidades"
   ]
  },
  {
   "cell_type": "code",
   "execution_count": 29,
   "metadata": {
    "scrolled": true
   },
   "outputs": [
    {
     "name": "stdout",
     "output_type": "stream",
     "text": [
      "Velocidades del efector final\n"
     ]
    },
    {
     "data": {
      "text/latex": [
       "$\\displaystyle \\left[\\begin{matrix}- 0.15 \\sqrt{2}\\\\- 0.15 \\sqrt{2}\\\\0.24\\\\0.2 \\sqrt{2}\\\\0.2 \\sqrt{2}\\\\0.5\\end{matrix}\\right]$"
      ],
      "text/plain": [
       "Matrix([\n",
       "[-0.15*sqrt(2)],\n",
       "[-0.15*sqrt(2)],\n",
       "[         0.24],\n",
       "[  0.2*sqrt(2)],\n",
       "[  0.2*sqrt(2)],\n",
       "[          0.5]])"
      ]
     },
     "metadata": {},
     "output_type": "display_data"
    },
    {
     "name": "stdout",
     "output_type": "stream",
     "text": [
      "Velocidad lineal del efector final\n"
     ]
    },
    {
     "data": {
      "text/latex": [
       "$\\displaystyle \\left[\\begin{matrix}- 0.15 \\sqrt{2}\\\\- 0.15 \\sqrt{2}\\\\0.24\\end{matrix}\\right]$"
      ],
      "text/plain": [
       "Matrix([\n",
       "[-0.15*sqrt(2)],\n",
       "[-0.15*sqrt(2)],\n",
       "[         0.24]])"
      ]
     },
     "metadata": {},
     "output_type": "display_data"
    },
    {
     "name": "stdout",
     "output_type": "stream",
     "text": [
      "Velocidad angular del efector final\n"
     ]
    },
    {
     "data": {
      "text/latex": [
       "$\\displaystyle \\left[\\begin{matrix}0.2 \\sqrt{2}\\\\0.2 \\sqrt{2}\\\\0.5\\end{matrix}\\right]$"
      ],
      "text/plain": [
       "Matrix([\n",
       "[0.2*sqrt(2)],\n",
       "[0.2*sqrt(2)],\n",
       "[        0.5]])"
      ]
     },
     "metadata": {},
     "output_type": "display_data"
    }
   ],
   "source": [
    "dq = sp.Matrix([[0.4, 0.1, 0.4]]).T\n",
    "#Se halla las velocidades del efector final\n",
    "twist = Jval*dq\n",
    "print(\"Velocidades del efector final\"); display(twist)\n",
    "print(\"Velocidad lineal del efector final\"); display(twist[0:3,0])\n",
    "print(\"Velocidad angular del efector final\"); display(twist[3:6,0])"
   ]
  },
  {
   "cell_type": "markdown",
   "metadata": {},
   "source": [
    "b) Singularidades"
   ]
  },
  {
   "cell_type": "code",
   "execution_count": 30,
   "metadata": {},
   "outputs": [
    {
     "name": "stdout",
     "output_type": "stream",
     "text": [
      "Jacobian (solo posicion)\n"
     ]
    },
    {
     "data": {
      "text/latex": [
       "$\\displaystyle \\left[\\begin{matrix}0.6 \\cos{\\left(q_{1} \\right)} \\cos{\\left(q_{3} \\right)} & 0.6 \\cos{\\left(q_{1} \\right)} \\cos{\\left(q_{3} \\right)} & - 0.6 \\sin{\\left(q_{1} \\right)} \\sin{\\left(q_{3} \\right)}\\\\0.6 \\sin{\\left(q_{1} \\right)} \\cos{\\left(q_{3} \\right)} & 0.6 \\sin{\\left(q_{1} \\right)} \\cos{\\left(q_{3} \\right)} & 0.6 \\sin{\\left(q_{3} \\right)} \\cos{\\left(q_{1} \\right)}\\\\0 & 0 & - 0.6 \\cos{\\left(q_{3} \\right)}\\end{matrix}\\right]$"
      ],
      "text/plain": [
       "Matrix([\n",
       "[0.6*cos(q1)*cos(q3), 0.6*cos(q1)*cos(q3), -0.6*sin(q1)*sin(q3)],\n",
       "[0.6*sin(q1)*cos(q3), 0.6*sin(q1)*cos(q3),  0.6*sin(q3)*cos(q1)],\n",
       "[                  0,                   0,         -0.6*cos(q3)]])"
      ]
     },
     "metadata": {},
     "output_type": "display_data"
    },
    {
     "name": "stdout",
     "output_type": "stream",
     "text": [
      "Rango del jacobiano geometrico (solo posicion)\n",
      "2\n",
      "Determinante de J posicion\n"
     ]
    },
    {
     "data": {
      "text/latex": [
       "$\\displaystyle 0$"
      ],
      "text/plain": [
       "0"
      ]
     },
     "metadata": {},
     "output_type": "display_data"
    }
   ],
   "source": [
    "#Se extrae la parte de posicion del jacobiano\n",
    "Jp = J[0:3,0:3]\n",
    "print(\"Jacobian (solo posicion)\"); display(Jp)\n",
    "r = J.rank()\n",
    "print(\"Rango del jacobiano geometrico (solo posicion)\")\n",
    "print(r)\n",
    "#Se halla su determinante\n",
    "detJp = sp.simplify(Jp.det())\n",
    "print(\"Determinante de J posicion\"); display(detJp)"
   ]
  },
  {
   "cell_type": "markdown",
   "metadata": {},
   "source": [
    "Al ser la determinante 0, el robot presenta singularidades para todas sus configuraciones"
   ]
  },
  {
   "cell_type": "markdown",
   "metadata": {},
   "source": [
    "c) Torque de los motores"
   ]
  },
  {
   "cell_type": "code",
   "execution_count": 36,
   "metadata": {},
   "outputs": [
    {
     "name": "stdout",
     "output_type": "stream",
     "text": [
      "Fuerzas y momentos\n"
     ]
    },
    {
     "data": {
      "text/latex": [
       "$\\displaystyle \\left[\\begin{matrix}0.5\\\\0.5\\\\0.5\\\\0\\\\0\\\\0\\end{matrix}\\right]$"
      ],
      "text/plain": [
       "Matrix([\n",
       "[0.5],\n",
       "[0.5],\n",
       "[0.5],\n",
       "[  0],\n",
       "[  0],\n",
       "[  0]])"
      ]
     },
     "metadata": {},
     "output_type": "display_data"
    },
    {
     "name": "stdout",
     "output_type": "stream",
     "text": [
      "Torque en los motores: \n"
     ]
    },
    {
     "data": {
      "text/latex": [
       "$\\displaystyle \\left[\\begin{matrix}- 0.3 \\sqrt{2}\\\\- 0.3 \\sqrt{2}\\\\0.3\\end{matrix}\\right]$"
      ],
      "text/plain": [
       "Matrix([\n",
       "[-0.3*sqrt(2)],\n",
       "[-0.3*sqrt(2)],\n",
       "[         0.3]])"
      ]
     },
     "metadata": {},
     "output_type": "display_data"
    }
   ],
   "source": [
    "#Vector de fuerzas\n",
    "F = sp.Matrix([[0.5, 0.5, 0.5, 0, 0, 0]]).T\n",
    "print(\"Fuerzas y momentos\"); display(F)\n",
    "#Torque en los motores\n",
    "tau = Jval.T*F\n",
    "print(\"Torque en los motores: \"); display(tau)"
   ]
  },
  {
   "cell_type": "markdown",
   "metadata": {},
   "source": [
    "d) Jacobiano analitico"
   ]
  },
  {
   "cell_type": "code",
   "execution_count": 32,
   "metadata": {},
   "outputs": [
    {
     "name": "stdout",
     "output_type": "stream",
     "text": [
      "Matriz Eo: \n"
     ]
    },
    {
     "data": {
      "text/latex": [
       "$\\displaystyle \\left[\\begin{matrix}- 2 \\epsilon_{x} & 2 w & - 2 \\epsilon_{z} & 2 \\epsilon_{y}\\\\- 2 \\epsilon_{y} & 2 \\epsilon_{z} & 2 w & - 2 \\epsilon_{x}\\\\- 2 \\epsilon_{z} & - 2 \\epsilon_{y} & 2 \\epsilon_{x} & 2 w\\end{matrix}\\right]$"
      ],
      "text/plain": [
       "Matrix([\n",
       "[-2*epsilon_x,          2*w, -2*epsilon_z,  2*epsilon_y],\n",
       "[-2*epsilon_y,  2*epsilon_z,          2*w, -2*epsilon_x],\n",
       "[-2*epsilon_z, -2*epsilon_y,  2*epsilon_x,          2*w]])"
      ]
     },
     "metadata": {},
     "output_type": "display_data"
    },
    {
     "name": "stdout",
     "output_type": "stream",
     "text": [
      "Matriz E: \n"
     ]
    },
    {
     "data": {
      "text/latex": [
       "$\\displaystyle \\left[\\begin{matrix}1 & 0 & 0 & 0 & 0 & 0 & 0\\\\0 & 1 & 0 & 0 & 0 & 0 & 0\\\\0 & 0 & 1 & 0 & 0 & 0 & 0\\\\0 & 0 & 0 & - 2 \\epsilon_{x} & 2 w & - 2 \\epsilon_{z} & 2 \\epsilon_{y}\\\\0 & 0 & 0 & - 2 \\epsilon_{y} & 2 \\epsilon_{z} & 2 w & - 2 \\epsilon_{x}\\\\0 & 0 & 0 & - 2 \\epsilon_{z} & - 2 \\epsilon_{y} & 2 \\epsilon_{x} & 2 w\\end{matrix}\\right]$"
      ],
      "text/plain": [
       "Matrix([\n",
       "[1, 0, 0,            0,            0,            0,            0],\n",
       "[0, 1, 0,            0,            0,            0,            0],\n",
       "[0, 0, 1,            0,            0,            0,            0],\n",
       "[0, 0, 0, -2*epsilon_x,          2*w, -2*epsilon_z,  2*epsilon_y],\n",
       "[0, 0, 0, -2*epsilon_y,  2*epsilon_z,          2*w, -2*epsilon_x],\n",
       "[0, 0, 0, -2*epsilon_z, -2*epsilon_y,  2*epsilon_x,          2*w]])"
      ]
     },
     "metadata": {},
     "output_type": "display_data"
    },
    {
     "name": "stdout",
     "output_type": "stream",
     "text": [
      "Jacobiano geometrico: \n"
     ]
    },
    {
     "data": {
      "text/latex": [
       "$\\displaystyle \\left[\\begin{matrix}0.6 \\cos{\\left(q_{1} \\right)} \\cos{\\left(q_{3} \\right)} & 0.6 \\cos{\\left(q_{1} \\right)} \\cos{\\left(q_{3} \\right)} & - 0.6 \\sin{\\left(q_{1} \\right)} \\sin{\\left(q_{3} \\right)}\\\\0.6 \\sin{\\left(q_{1} \\right)} \\cos{\\left(q_{3} \\right)} & 0.6 \\sin{\\left(q_{1} \\right)} \\cos{\\left(q_{3} \\right)} & 0.6 \\sin{\\left(q_{3} \\right)} \\cos{\\left(q_{1} \\right)}\\\\0 & 0 & - 0.6 \\cos{\\left(q_{3} \\right)}\\\\0 & 0 & \\cos{\\left(q_{1} \\right)}\\\\0 & 0 & \\sin{\\left(q_{1} \\right)}\\\\1 & 1 & 0\\end{matrix}\\right]$"
      ],
      "text/plain": [
       "Matrix([\n",
       "[0.6*cos(q1)*cos(q3), 0.6*cos(q1)*cos(q3), -0.6*sin(q1)*sin(q3)],\n",
       "[0.6*sin(q1)*cos(q3), 0.6*sin(q1)*cos(q3),  0.6*sin(q3)*cos(q1)],\n",
       "[                  0,                   0,         -0.6*cos(q3)],\n",
       "[                  0,                   0,              cos(q1)],\n",
       "[                  0,                   0,              sin(q1)],\n",
       "[                  1,                   1,                    0]])"
      ]
     },
     "metadata": {},
     "output_type": "display_data"
    },
    {
     "name": "stdout",
     "output_type": "stream",
     "text": [
      "Jacobiano analitico: \n"
     ]
    },
    {
     "data": {
      "text/latex": [
       "$\\displaystyle \\left[\\begin{matrix}0.6 \\cos{\\left(q_{1} \\right)} \\cos{\\left(q_{3} \\right)} & 0.6 \\cos{\\left(q_{1} \\right)} \\cos{\\left(q_{3} \\right)} & - 0.6 \\sin{\\left(q_{1} \\right)} \\sin{\\left(q_{3} \\right)}\\\\0.6 \\sin{\\left(q_{1} \\right)} \\cos{\\left(q_{3} \\right)} & 0.6 \\sin{\\left(q_{1} \\right)} \\cos{\\left(q_{3} \\right)} & 0.6 \\sin{\\left(q_{3} \\right)} \\cos{\\left(q_{1} \\right)}\\\\0 & 0 & - 0.6 \\cos{\\left(q_{3} \\right)}\\\\- \\frac{2 \\epsilon_{z}}{4 \\epsilon_{x}^{2} + 4 \\epsilon_{y}^{2} + 4 \\epsilon_{z}^{2} + 4 w^{2}} & - \\frac{2 \\epsilon_{z}}{4 \\epsilon_{x}^{2} + 4 \\epsilon_{y}^{2} + 4 \\epsilon_{z}^{2} + 4 w^{2}} & - \\frac{2 \\epsilon_{x} \\cos{\\left(q_{1} \\right)}}{4 \\epsilon_{x}^{2} + 4 \\epsilon_{y}^{2} + 4 \\epsilon_{z}^{2} + 4 w^{2}} - \\frac{2 \\epsilon_{y} \\sin{\\left(q_{1} \\right)}}{4 \\epsilon_{x}^{2} + 4 \\epsilon_{y}^{2} + 4 \\epsilon_{z}^{2} + 4 w^{2}}\\\\- \\frac{2 \\epsilon_{y}}{4 \\epsilon_{x}^{2} + 4 \\epsilon_{y}^{2} + 4 \\epsilon_{z}^{2} + 4 w^{2}} & - \\frac{2 \\epsilon_{y}}{4 \\epsilon_{x}^{2} + 4 \\epsilon_{y}^{2} + 4 \\epsilon_{z}^{2} + 4 w^{2}} & \\frac{2 \\epsilon_{z} \\sin{\\left(q_{1} \\right)}}{4 \\epsilon_{x}^{2} + 4 \\epsilon_{y}^{2} + 4 \\epsilon_{z}^{2} + 4 w^{2}} + \\frac{2 w \\cos{\\left(q_{1} \\right)}}{4 \\epsilon_{x}^{2} + 4 \\epsilon_{y}^{2} + 4 \\epsilon_{z}^{2} + 4 w^{2}}\\\\\\frac{2 \\epsilon_{x}}{4 \\epsilon_{x}^{2} + 4 \\epsilon_{y}^{2} + 4 \\epsilon_{z}^{2} + 4 w^{2}} & \\frac{2 \\epsilon_{x}}{4 \\epsilon_{x}^{2} + 4 \\epsilon_{y}^{2} + 4 \\epsilon_{z}^{2} + 4 w^{2}} & - \\frac{2 \\epsilon_{z} \\cos{\\left(q_{1} \\right)}}{4 \\epsilon_{x}^{2} + 4 \\epsilon_{y}^{2} + 4 \\epsilon_{z}^{2} + 4 w^{2}} + \\frac{2 w \\sin{\\left(q_{1} \\right)}}{4 \\epsilon_{x}^{2} + 4 \\epsilon_{y}^{2} + 4 \\epsilon_{z}^{2} + 4 w^{2}}\\\\\\frac{2 w}{4 \\epsilon_{x}^{2} + 4 \\epsilon_{y}^{2} + 4 \\epsilon_{z}^{2} + 4 w^{2}} & \\frac{2 w}{4 \\epsilon_{x}^{2} + 4 \\epsilon_{y}^{2} + 4 \\epsilon_{z}^{2} + 4 w^{2}} & - \\frac{2 \\epsilon_{x} \\sin{\\left(q_{1} \\right)}}{4 \\epsilon_{x}^{2} + 4 \\epsilon_{y}^{2} + 4 \\epsilon_{z}^{2} + 4 w^{2}} + \\frac{2 \\epsilon_{y} \\cos{\\left(q_{1} \\right)}}{4 \\epsilon_{x}^{2} + 4 \\epsilon_{y}^{2} + 4 \\epsilon_{z}^{2} + 4 w^{2}}\\end{matrix}\\right]$"
      ],
      "text/plain": [
       "Matrix([\n",
       "[                                                     0.6*cos(q1)*cos(q3),                                                      0.6*cos(q1)*cos(q3),                                                                                                                                               -0.6*sin(q1)*sin(q3)],\n",
       "[                                                     0.6*sin(q1)*cos(q3),                                                      0.6*sin(q1)*cos(q3),                                                                                                                                                0.6*sin(q3)*cos(q1)],\n",
       "[                                                                       0,                                                                        0,                                                                                                                                                       -0.6*cos(q3)],\n",
       "[-2*epsilon_z/(4*epsilon_x**2 + 4*epsilon_y**2 + 4*epsilon_z**2 + 4*w**2), -2*epsilon_z/(4*epsilon_x**2 + 4*epsilon_y**2 + 4*epsilon_z**2 + 4*w**2), -2*epsilon_x*cos(q1)/(4*epsilon_x**2 + 4*epsilon_y**2 + 4*epsilon_z**2 + 4*w**2) - 2*epsilon_y*sin(q1)/(4*epsilon_x**2 + 4*epsilon_y**2 + 4*epsilon_z**2 + 4*w**2)],\n",
       "[-2*epsilon_y/(4*epsilon_x**2 + 4*epsilon_y**2 + 4*epsilon_z**2 + 4*w**2), -2*epsilon_y/(4*epsilon_x**2 + 4*epsilon_y**2 + 4*epsilon_z**2 + 4*w**2),          2*epsilon_z*sin(q1)/(4*epsilon_x**2 + 4*epsilon_y**2 + 4*epsilon_z**2 + 4*w**2) + 2*w*cos(q1)/(4*epsilon_x**2 + 4*epsilon_y**2 + 4*epsilon_z**2 + 4*w**2)],\n",
       "[ 2*epsilon_x/(4*epsilon_x**2 + 4*epsilon_y**2 + 4*epsilon_z**2 + 4*w**2),  2*epsilon_x/(4*epsilon_x**2 + 4*epsilon_y**2 + 4*epsilon_z**2 + 4*w**2),         -2*epsilon_z*cos(q1)/(4*epsilon_x**2 + 4*epsilon_y**2 + 4*epsilon_z**2 + 4*w**2) + 2*w*sin(q1)/(4*epsilon_x**2 + 4*epsilon_y**2 + 4*epsilon_z**2 + 4*w**2)],\n",
       "[         2*w/(4*epsilon_x**2 + 4*epsilon_y**2 + 4*epsilon_z**2 + 4*w**2),          2*w/(4*epsilon_x**2 + 4*epsilon_y**2 + 4*epsilon_z**2 + 4*w**2), -2*epsilon_x*sin(q1)/(4*epsilon_x**2 + 4*epsilon_y**2 + 4*epsilon_z**2 + 4*w**2) + 2*epsilon_y*cos(q1)/(4*epsilon_x**2 + 4*epsilon_y**2 + 4*epsilon_z**2 + 4*w**2)]])"
      ]
     },
     "metadata": {},
     "output_type": "display_data"
    }
   ],
   "source": [
    "w, ex, ey, ez = sp.symbols(\"w epsilon_x epsilon_y epsilon_z\")\n",
    "\n",
    "#Se tiene la matriz Eo\n",
    "Eo = 2*sp.Matrix([[-ex, w, -ez, ey],\n",
    "               [-ey, ez, w, -ex],\n",
    "               [-ez, -ey, ex, w]])\n",
    "print(\"Matriz Eo: \"); display(Eo)\n",
    "\n",
    "#Se halla la matrix E\n",
    "#Asumiendo que se usan coordenadas cartesianas para la posicion, Ep es igual a la matriz identidad I\n",
    "E1 = sp.Matrix.hstack(sp.eye(3), sp.zeros(3,4))\n",
    "E2 = sp.Matrix.hstack(sp.zeros(3), Eo)\n",
    "E = sp.Matrix.vstack(E1, E2)\n",
    "print(\"Matriz E: \"); display(E)\n",
    "#Se halla al inversa de la matriz E\n",
    "Einv = E.T*((E*E.T).inv())\n",
    "#Se halla el jacobiano analitico\n",
    "Ja = Einv*J\n",
    "print(\"Jacobiano geometrico: \"); display(J)\n",
    "print(\"Jacobiano analitico: \"); display(Ja)"
   ]
  },
  {
   "cell_type": "code",
   "execution_count": 33,
   "metadata": {},
   "outputs": [
    {
     "name": "stdout",
     "output_type": "stream",
     "text": [
      "Jacobiano analitico simplificado: \n"
     ]
    },
    {
     "data": {
      "text/latex": [
       "$\\displaystyle \\left[\\begin{matrix}0.6 \\cos{\\left(q_{1} \\right)} \\cos{\\left(q_{3} \\right)} & 0.6 \\cos{\\left(q_{1} \\right)} \\cos{\\left(q_{3} \\right)} & - 0.6 \\sin{\\left(q_{1} \\right)} \\sin{\\left(q_{3} \\right)}\\\\0.6 \\sin{\\left(q_{1} \\right)} \\cos{\\left(q_{3} \\right)} & 0.6 \\sin{\\left(q_{1} \\right)} \\cos{\\left(q_{3} \\right)} & 0.6 \\sin{\\left(q_{3} \\right)} \\cos{\\left(q_{1} \\right)}\\\\0 & 0 & - 0.6 \\cos{\\left(q_{3} \\right)}\\\\- \\frac{\\epsilon_{z}}{2} & - \\frac{\\epsilon_{z}}{2} & - \\frac{\\epsilon_{x} \\cos{\\left(q_{1} \\right)}}{2} - \\frac{\\epsilon_{y} \\sin{\\left(q_{1} \\right)}}{2}\\\\- \\frac{\\epsilon_{y}}{2} & - \\frac{\\epsilon_{y}}{2} & \\frac{\\epsilon_{z} \\sin{\\left(q_{1} \\right)}}{2} + \\frac{w \\cos{\\left(q_{1} \\right)}}{2}\\\\\\frac{\\epsilon_{x}}{2} & \\frac{\\epsilon_{x}}{2} & - \\frac{\\epsilon_{z} \\cos{\\left(q_{1} \\right)}}{2} + \\frac{w \\sin{\\left(q_{1} \\right)}}{2}\\\\\\frac{w}{2} & \\frac{w}{2} & - \\frac{\\epsilon_{x} \\sin{\\left(q_{1} \\right)}}{2} + \\frac{\\epsilon_{y} \\cos{\\left(q_{1} \\right)}}{2}\\end{matrix}\\right]$"
      ],
      "text/plain": [
       "Matrix([\n",
       "[0.6*cos(q1)*cos(q3), 0.6*cos(q1)*cos(q3),                       -0.6*sin(q1)*sin(q3)],\n",
       "[0.6*sin(q1)*cos(q3), 0.6*sin(q1)*cos(q3),                        0.6*sin(q3)*cos(q1)],\n",
       "[                  0,                   0,                               -0.6*cos(q3)],\n",
       "[       -epsilon_z/2,        -epsilon_z/2, -epsilon_x*cos(q1)/2 - epsilon_y*sin(q1)/2],\n",
       "[       -epsilon_y/2,        -epsilon_y/2,          epsilon_z*sin(q1)/2 + w*cos(q1)/2],\n",
       "[        epsilon_x/2,         epsilon_x/2,         -epsilon_z*cos(q1)/2 + w*sin(q1)/2],\n",
       "[                w/2,                 w/2, -epsilon_x*sin(q1)/2 + epsilon_y*cos(q1)/2]])"
      ]
     },
     "metadata": {},
     "output_type": "display_data"
    }
   ],
   "source": [
    "#Se simplifica el jacobiano analitico con la propiedad de la norma unitaria de los cuaterniones\n",
    "Ja_s = sp.Matrix([[0.6*scos(q1)*scos(q3), 0.6*scos(q1)*scos(q3), -0.6*ssin(q1)*ssin(q3)], [0.6*ssin(q1)*scos(q3), 0.6*ssin(q1)*scos(q3), 0.6*ssin(q3)*scos(q1)], [0, 0, -0.6*scos(q3)], [-2*ez/4, -2*ez/4, -2*ex*scos(q1)/4 - 2*ey*ssin(q1)/4], [-2*ey/4, -2*ey/4, 2*ez*ssin(q1)/4 + 2*w*scos(q1)/4], [2*ex/4, 2*ex/4, -2*ez*scos(q1)/4 + 2*w*ssin(q1)/4], [2*w/4, 2*w/4, -2*ex*ssin(q1)/4 + 2*ey*scos(q1)/4]])\n",
    "print(\"Jacobiano analitico simplificado: \"); display(Ja_s)"
   ]
  },
  {
   "cell_type": "code",
   "execution_count": null,
   "metadata": {},
   "outputs": [],
   "source": []
  },
  {
   "cell_type": "markdown",
   "metadata": {},
   "source": [
    "Pregunta 3"
   ]
  },
  {
   "cell_type": "code",
   "execution_count": 35,
   "metadata": {},
   "outputs": [
    {
     "name": "stdout",
     "output_type": "stream",
     "text": [
      "a)\n",
      "x^2 + y^2: \n"
     ]
    },
    {
     "data": {
      "text/latex": [
       "$\\displaystyle \\left(\\sin{\\left(q_{2} \\right)} - 1\\right)^{2}$"
      ],
      "text/plain": [
       "(sin(q2) - 1)**2"
      ]
     },
     "metadata": {},
     "output_type": "display_data"
    }
   ],
   "source": [
    "x, y, z = sp.symbols(\"x y z\")\n",
    "q1, q2 =sp.symbols(\"q1 q2\")\n",
    "\n",
    "x = ssin(q1)*ssin(q2)-ssin(q1)\n",
    "y = scos(q1)-scos(q1)*ssin(q2)\n",
    "z = 1 + scos(q2)\n",
    "#Exprsion simplificada de x^2 + y^2\n",
    "p = sp.simplify(x**2+y**2)\n",
    "print(\"a)\")\n",
    "print(\"x^2 + y^2: \"); display(p)"
   ]
  },
  {
   "cell_type": "markdown",
   "metadata": {},
   "source": [
    "b) No, porque al poseer solo 2 grados de libertad, la dimensiones de su Jacobiano geometrico serian de 6x2 y su rango sería 2. Por lo que a lo más podría controlar de manera independiente 2 valores de posicion."
   ]
  },
  {
   "cell_type": "code",
   "execution_count": null,
   "metadata": {},
   "outputs": [],
   "source": []
  }
 ],
 "metadata": {
  "kernelspec": {
   "display_name": "Python 3",
   "language": "python",
   "name": "python3"
  },
  "language_info": {
   "codemirror_mode": {
    "name": "ipython",
    "version": 3
   },
   "file_extension": ".py",
   "mimetype": "text/x-python",
   "name": "python",
   "nbconvert_exporter": "python",
   "pygments_lexer": "ipython3",
   "version": "3.6.6"
  }
 },
 "nbformat": 4,
 "nbformat_minor": 4
}
