{
 "cells": [
  {
   "cell_type": "code",
   "execution_count": 2,
   "metadata": {},
   "outputs": [],
   "source": [
    "import numpy as np\n",
    "import sympy as sp\n",
    "from sympy import init_printing\n",
    "from sympy import Matrix\n",
    "from sympy.interactive import printing\n",
    "printing.init_printing(use_latex=True)\n",
    "m=sp.Matrix"
   ]
  },
  {
   "cell_type": "code",
   "execution_count": 3,
   "metadata": {},
   "outputs": [],
   "source": [
    "cos=np.cos\n",
    "sen=np.sin\n",
    "pi=np.pi"
   ]
  },
  {
   "cell_type": "code",
   "execution_count": 4,
   "metadata": {},
   "outputs": [],
   "source": [
    "#Funciones de rotación canonicas con valores simbolicos\n",
    "def srotx(ang):\n",
    "    Rx=sp.Matrix([[1,0,0],\n",
    "                  [0,sp.cos(ang),-sp.sin(ang)],\n",
    "                  [0, sp.sin(ang), sp.cos(ang)]])\n",
    "    return Rx\n",
    "def sroty(ang):\n",
    "    Ry= sp.Matrix([[sp.cos(ang),0,sp.sin(ang)],\n",
    "                  [0,1,0],\n",
    "                  [-sp.sin(ang), 0, sp.cos(ang)]])\n",
    "    return Ry\n",
    "def srotz(ang):\n",
    "    Rz= sp.Matrix([[sp.cos(ang),-sp.sin(ang),0],\n",
    "                  [sp.sin(ang), sp.cos(ang), 0],\n",
    "                  [0,0,1]])\n",
    "    return Rz\n",
    "\n",
    "\n",
    "\n",
    "#T given t,R\n",
    "def T_tR(t,R):\n",
    "    T = np.vstack((np.hstack((R,t)),np.array([[0, 0, 0, 1]])))\n",
    "    return T\n",
    "\n",
    "\n",
    "#Funciones de rotación canonicas\n",
    "def rotx(ang):\n",
    "    Rx=np.array([[1,0,0],\n",
    "                  [0,cos(ang),-sen(ang)],\n",
    "                  [0, sen(ang), cos(ang)]])\n",
    "    return Rx\n",
    "def roty(ang):\n",
    "    Ry= np.array([[cos(ang),0,sen(ang)],\n",
    "                  [0,1,0],\n",
    "                  [-sen(ang), 0, cos(ang)]])\n",
    "    return Ry\n",
    "def rotz(ang):\n",
    "    Rz= np.array([[cos(ang),-sen(ang),0],\n",
    "                  [sen(ang), cos(ang), 0],\n",
    "                  [0,0,1]])\n",
    "    return Rz\n"
   ]
  },
  {
   "cell_type": "code",
   "execution_count": 17,
   "metadata": {},
   "outputs": [
    {
     "name": "stdout",
     "output_type": "stream",
     "text": [
      "T01:\n"
     ]
    },
    {
     "data": {
      "text/latex": [
       "$$\\left[\\begin{matrix}1 & 0 & 0 & 0\\\\0 & 1 & 0 & 0\\\\0 & 0 & 1 & l_{1}\\\\0 & 0 & 0 & 1\\end{matrix}\\right]$$"
      ],
      "text/plain": [
       "⎡1  0  0  0 ⎤\n",
       "⎢           ⎥\n",
       "⎢0  1  0  0 ⎥\n",
       "⎢           ⎥\n",
       "⎢0  0  1  l₁⎥\n",
       "⎢           ⎥\n",
       "⎣0  0  0  1 ⎦"
      ]
     },
     "metadata": {},
     "output_type": "display_data"
    },
    {
     "name": "stdout",
     "output_type": "stream",
     "text": [
      "T12:\n"
     ]
    },
    {
     "data": {
      "text/latex": [
       "$$\\left[\\begin{matrix}1 & 0 & 0 & 0\\\\0 & - \\sin{\\left (q_{1} \\right )} & - \\cos{\\left (q_{1} \\right )} & 0\\\\0 & \\cos{\\left (q_{1} \\right )} & - \\sin{\\left (q_{1} \\right )} & l_{2}\\\\0 & 0 & 0 & 1\\end{matrix}\\right]$$"
      ],
      "text/plain": [
       "⎡1     0         0      0 ⎤\n",
       "⎢                         ⎥\n",
       "⎢0  -sin(q₁)  -cos(q₁)  0 ⎥\n",
       "⎢                         ⎥\n",
       "⎢0  cos(q₁)   -sin(q₁)  l₂⎥\n",
       "⎢                         ⎥\n",
       "⎣0     0         0      1 ⎦"
      ]
     },
     "metadata": {},
     "output_type": "display_data"
    },
    {
     "name": "stdout",
     "output_type": "stream",
     "text": [
      "T23:\n"
     ]
    },
    {
     "data": {
      "text/latex": [
       "$$\\left[\\begin{matrix}1 & 0 & 0 & 0\\\\0 & \\sin{\\left (q_{2} \\right )} & \\cos{\\left (q_{2} \\right )} & l_{3}\\\\0 & - \\cos{\\left (q_{2} \\right )} & \\sin{\\left (q_{2} \\right )} & 0\\\\0 & 0 & 0 & 1\\end{matrix}\\right]$$"
      ],
      "text/plain": [
       "⎡1     0         0     0 ⎤\n",
       "⎢                        ⎥\n",
       "⎢0  sin(q₂)   cos(q₂)  l₃⎥\n",
       "⎢                        ⎥\n",
       "⎢0  -cos(q₂)  sin(q₂)  0 ⎥\n",
       "⎢                        ⎥\n",
       "⎣0     0         0     1 ⎦"
      ]
     },
     "metadata": {},
     "output_type": "display_data"
    },
    {
     "name": "stdout",
     "output_type": "stream",
     "text": [
      "T34:\n"
     ]
    },
    {
     "data": {
      "text/latex": [
       "$$\\left[\\begin{matrix}1 & 0 & 0 & 0\\\\0 & \\sin{\\left (q_{3} \\right )} & \\cos{\\left (q_{3} \\right )} & 0\\\\0 & - \\cos{\\left (q_{3} \\right )} & \\sin{\\left (q_{3} \\right )} & l_{4}\\\\0 & 0 & 0 & 1\\end{matrix}\\right]$$"
      ],
      "text/plain": [
       "⎡1     0         0     0 ⎤\n",
       "⎢                        ⎥\n",
       "⎢0  sin(q₃)   cos(q₃)  0 ⎥\n",
       "⎢                        ⎥\n",
       "⎢0  -cos(q₃)  sin(q₃)  l₄⎥\n",
       "⎢                        ⎥\n",
       "⎣0     0         0     1 ⎦"
      ]
     },
     "metadata": {},
     "output_type": "display_data"
    },
    {
     "name": "stdout",
     "output_type": "stream",
     "text": [
      "T45:\n"
     ]
    },
    {
     "data": {
      "text/latex": [
       "$$\\left[\\begin{matrix}1 & 0 & 0 & 0\\\\0 & - \\sin{\\left (q_{4} \\right )} & - \\cos{\\left (q_{4} \\right )} & - l_{5}\\\\0 & \\cos{\\left (q_{4} \\right )} & - \\sin{\\left (q_{4} \\right )} & 0\\\\0 & 0 & 0 & 1\\end{matrix}\\right]$$"
      ],
      "text/plain": [
       "⎡1     0         0       0 ⎤\n",
       "⎢                          ⎥\n",
       "⎢0  -sin(q₄)  -cos(q₄)  -l₅⎥\n",
       "⎢                          ⎥\n",
       "⎢0  cos(q₄)   -sin(q₄)   0 ⎥\n",
       "⎢                          ⎥\n",
       "⎣0     0         0       1 ⎦"
      ]
     },
     "metadata": {},
     "output_type": "display_data"
    },
    {
     "name": "stdout",
     "output_type": "stream",
     "text": [
      "T56:\n"
     ]
    },
    {
     "data": {
      "text/latex": [
       "$$\\left[\\begin{matrix}1 & 0 & 0 & 0\\\\0 & - \\sin{\\left (q_{5} \\right )} & - \\cos{\\left (q_{5} \\right )} & 0\\\\0 & \\cos{\\left (q_{5} \\right )} & - \\sin{\\left (q_{5} \\right )} & l_{6}\\\\0 & 0 & 0 & 1\\end{matrix}\\right]$$"
      ],
      "text/plain": [
       "⎡1     0         0      0 ⎤\n",
       "⎢                         ⎥\n",
       "⎢0  -sin(q₅)  -cos(q₅)  0 ⎥\n",
       "⎢                         ⎥\n",
       "⎢0  cos(q₅)   -sin(q₅)  l₆⎥\n",
       "⎢                         ⎥\n",
       "⎣0     0         0      1 ⎦"
      ]
     },
     "metadata": {},
     "output_type": "display_data"
    },
    {
     "name": "stdout",
     "output_type": "stream",
     "text": [
      "T67:\n"
     ]
    },
    {
     "data": {
      "text/latex": [
       "$$\\left[\\begin{matrix}1 & 0 & 0 & 0\\\\0 & \\sin{\\left (q_{6} \\right )} & \\cos{\\left (q_{6} \\right )} & l_{7}\\\\0 & - \\cos{\\left (q_{6} \\right )} & \\sin{\\left (q_{6} \\right )} & 0\\\\0 & 0 & 0 & 1\\end{matrix}\\right]$$"
      ],
      "text/plain": [
       "⎡1     0         0     0 ⎤\n",
       "⎢                        ⎥\n",
       "⎢0  sin(q₆)   cos(q₆)  l₇⎥\n",
       "⎢                        ⎥\n",
       "⎢0  -cos(q₆)  sin(q₆)  0 ⎥\n",
       "⎢                        ⎥\n",
       "⎣0     0         0     1 ⎦"
      ]
     },
     "metadata": {},
     "output_type": "display_data"
    },
    {
     "name": "stdout",
     "output_type": "stream",
     "text": [
      "T07:\n"
     ]
    },
    {
     "data": {
      "text/latex": [
       "$$\\left[\\begin{matrix}1 & 0 & 0 & 0\\\\0 & \\cos{\\left (q_{1} + q_{2} + q_{3} + q_{4} + q_{5} + q_{6} \\right )} & - \\sin{\\left (q_{1} + q_{2} + q_{3} + q_{4} + q_{5} + q_{6} \\right )} & - l_{3} \\sin{\\left (q_{1} \\right )} - l_{4} \\sin{\\left (q_{1} + q_{2} \\right )} - l_{5} \\sin{\\left (q_{1} + q_{2} + q_{3} \\right )} - l_{6} \\sin{\\left (q_{1} + q_{2} + q_{3} + q_{4} \\right )} - l_{7} \\sin{\\left (q_{1} + q_{2} + q_{3} + q_{4} + q_{5} \\right )}\\\\0 & \\sin{\\left (q_{1} + q_{2} + q_{3} + q_{4} + q_{5} + q_{6} \\right )} & \\cos{\\left (q_{1} + q_{2} + q_{3} + q_{4} + q_{5} + q_{6} \\right )} & l_{1} + l_{2} + l_{3} \\cos{\\left (q_{1} \\right )} + l_{4} \\cos{\\left (q_{1} + q_{2} \\right )} + l_{5} \\cos{\\left (q_{1} + q_{2} + q_{3} \\right )} + l_{6} \\cos{\\left (q_{1} + q_{2} + q_{3} + q_{4} \\right )} + l_{7} \\cos{\\left (q_{1} + q_{2} + q_{3} + q_{4} + q_{5} \\right )}\\\\0 & 0 & 0 & 1\\end{matrix}\\right]$$"
      ],
      "text/plain": [
       "⎡1                 0                                  0                       \n",
       "⎢                                                                             \n",
       "⎢0  cos(q₁ + q₂ + q₃ + q₄ + q₅ + q₆)  -sin(q₁ + q₂ + q₃ + q₄ + q₅ + q₆)      -\n",
       "⎢                                                                             \n",
       "⎢0  sin(q₁ + q₂ + q₃ + q₄ + q₅ + q₆)  cos(q₁ + q₂ + q₃ + q₄ + q₅ + q₆)   l₁ + \n",
       "⎢                                                                             \n",
       "⎣0                 0                                  0                       \n",
       "\n",
       "                                                       0                      \n",
       "                                                                              \n",
       "l₃⋅sin(q₁) - l₄⋅sin(q₁ + q₂) - l₅⋅sin(q₁ + q₂ + q₃) - l₆⋅sin(q₁ + q₂ + q₃ + q₄\n",
       "                                                                              \n",
       "l₂ + l₃⋅cos(q₁) + l₄⋅cos(q₁ + q₂) + l₅⋅cos(q₁ + q₂ + q₃) + l₆⋅cos(q₁ + q₂ + q₃\n",
       "                                                                              \n",
       "                                                       1                      \n",
       "\n",
       "                                       ⎤\n",
       "                                       ⎥\n",
       ") - l₇⋅sin(q₁ + q₂ + q₃ + q₄ + q₅)     ⎥\n",
       "                                       ⎥\n",
       " + q₄) + l₇⋅cos(q₁ + q₂ + q₃ + q₄ + q₅)⎥\n",
       "                                       ⎥\n",
       "                                       ⎦"
      ]
     },
     "metadata": {},
     "output_type": "display_data"
    }
   ],
   "source": [
    "#Definiendo variables\n",
    "q1, q2, q3, q4, q5, q6, l1, l2, l3, l4, l5, l6, l7 = sp.symbols(\"q1 q2 q3 q4 q5 q6 l1 l2 l3 l4 l5 l6 l7\")\n",
    "\n",
    "sin=sp.sin\n",
    "cos=sp.cos\n",
    "pi=sp.pi\n",
    "\n",
    "T01=sp.Matrix([[1, 0, 0, 0], [0, 1, 0, 0], [0, 0, 1, l1],[0, 0, 0, 1]])\n",
    "T12=sp.Matrix([[1, 0, 0, 0], [0, -sp.sin(q1), -sp.cos(q1), 0], [0, sp.cos(q1), -sp.sin(q1),l2],[0, 0, 0, 1]])\n",
    "T23=sp.Matrix([[1, 0, 0,0], [0, sin(q2), cos(q2),l3], [0, -cos(q2), sin(q2),0],[0, 0, 0, 1]])\n",
    "T34=sp.Matrix([[1, 0, 0,0], [0, sin(q3), cos(q3),0], [0, -cos(q3), sin(q3),l4],[0, 0, 0, 1]])\n",
    "T45=sp.Matrix([[1, 0, 0, 0], [0, -sp.sin(q4), -sp.cos(q4), -l5], [0, sp.cos(q4), -sp.sin(q4),0],[0, 0, 0, 1]])\n",
    "T56=sp.Matrix([[1, 0, 0, 0], [0, -sp.sin(q5), -sp.cos(q5), 0], [0, sp.cos(q5), -sp.sin(q5),l6],[0, 0, 0, 1]])\n",
    "T67=sp.Matrix([[1, 0, 0,0], [0, sin(q6), cos(q6),l7], [0, -cos(q6), sin(q6),0],[0, 0, 0, 1]])\n",
    "T07=sp.simplify(T01*T12*T23*T34*T45*T56*T67)\n",
    "\n",
    "\n",
    "print(\"T01:\"); display(T01)\n",
    "print(\"T12:\"); display(T12)\n",
    "print(\"T23:\"); display(T23)\n",
    "print(\"T34:\"); display(T34)\n",
    "print(\"T45:\"); display(T45)\n",
    "print(\"T56:\"); display(T56)\n",
    "print(\"T67:\"); display(T67)\n",
    "print(\"T07:\"); display(T07)\n",
    "\n",
    "\n"
   ]
  },
  {
   "cell_type": "code",
   "execution_count": 19,
   "metadata": {},
   "outputs": [
    {
     "name": "stdout",
     "output_type": "stream",
     "text": [
      "T07 cuando q=(0,0,0,0,0,0):\n"
     ]
    },
    {
     "data": {
      "text/latex": [
       "$$\\left[\\begin{matrix}1 & 0 & 0 & 0\\\\0 & 1 & 0 & 0\\\\0 & 0 & 1 & l_{1} + l_{2} + l_{3} + l_{4} + l_{5} + l_{6} + l_{7}\\\\0 & 0 & 0 & 1\\end{matrix}\\right]$$"
      ],
      "text/plain": [
       "⎡1  0  0                 0                ⎤\n",
       "⎢                                         ⎥\n",
       "⎢0  1  0                 0                ⎥\n",
       "⎢                                         ⎥\n",
       "⎢0  0  1  l₁ + l₂ + l₃ + l₄ + l₅ + l₆ + l₇⎥\n",
       "⎢                                         ⎥\n",
       "⎣0  0  0                 1                ⎦"
      ]
     },
     "execution_count": 19,
     "metadata": {},
     "output_type": "execute_result"
    }
   ],
   "source": [
    "sp.simplify(T07)\n",
    "\n",
    "# Valor cuando todos los ángulos son cero\n",
    "print(\"T07 cuando q=(0,0,0,0,0,0):\")\n",
    "T07.subs([ (q1,0), (q2,0), (q3,0), (q4,0), (q5,0), (q6,0)])"
   ]
  },
  {
   "cell_type": "code",
   "execution_count": 12,
   "metadata": {},
   "outputs": [
    {
     "data": {
      "text/latex": [
       "$$\\left[\\begin{matrix}1 & 0 & 0\\\\0 & \\sin{\\left (q_{1} \\right )} & \\cos{\\left (q_{1} \\right )}\\\\0 & - \\cos{\\left (q_{1} \\right )} & \\sin{\\left (q_{1} \\right )}\\end{matrix}\\right]$$"
      ],
      "text/plain": [
       "⎡1     0         0   ⎤\n",
       "⎢                    ⎥\n",
       "⎢0  sin(q₁)   cos(q₁)⎥\n",
       "⎢                    ⎥\n",
       "⎣0  -cos(q₁)  sin(q₁)⎦"
      ]
     },
     "execution_count": 12,
     "metadata": {},
     "output_type": "execute_result"
    }
   ],
   "source": [
    "srotx(-pi/2+q1)"
   ]
  }
 ],
 "metadata": {
  "kernelspec": {
   "display_name": "Python 3",
   "language": "python",
   "name": "python3"
  },
  "language_info": {
   "codemirror_mode": {
    "name": "ipython",
    "version": 3
   },
   "file_extension": ".py",
   "mimetype": "text/x-python",
   "name": "python",
   "nbconvert_exporter": "python",
   "pygments_lexer": "ipython3",
   "version": "3.6.6"
  }
 },
 "nbformat": 4,
 "nbformat_minor": 2
}
