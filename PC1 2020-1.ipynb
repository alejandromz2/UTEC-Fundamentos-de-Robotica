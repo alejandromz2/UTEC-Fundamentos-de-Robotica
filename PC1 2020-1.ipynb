{
 "cells": [
  {
   "cell_type": "code",
   "execution_count": 1,
   "metadata": {},
   "outputs": [],
   "source": [
    "import sys  \n",
    "sys.path.insert(0, 'D:\\Files\\Sergio\\Jupyter Notebook\\Libs')\n",
    "from serialrobot import *\n",
    "from rot_matrix import *\n",
    "from tf_matrix import *\n",
    "from par_or import *\n",
    "from kinematics import *"
   ]
  },
  {
   "cell_type": "code",
   "execution_count": 2,
   "metadata": {},
   "outputs": [],
   "source": [
    "na = np.array"
   ]
  },
  {
   "cell_type": "markdown",
   "metadata": {},
   "source": [
    "# Pregunta 1"
   ]
  },
  {
   "cell_type": "code",
   "execution_count": 3,
   "metadata": {},
   "outputs": [
    {
     "name": "stdout",
     "output_type": "stream",
     "text": [
      "Se halla la matriz simbolica que representa una rotacion con angulos de Euler ZXY\n"
     ]
    }
   ],
   "source": [
    "print(\"Se halla la matriz simbolica que representa una rotacion con angulos de Euler ZXY\")"
   ]
  },
  {
   "cell_type": "code",
   "execution_count": 4,
   "metadata": {},
   "outputs": [
    {
     "data": {
      "text/latex": [
       "$\\displaystyle \\left[\\begin{matrix}- \\sin{\\left(\\phi_1 \\right)} \\sin{\\left(\\phi_2 \\right)} \\sin{\\left(\\phi_3 \\right)} + \\cos{\\left(\\phi_1 \\right)} \\cos{\\left(\\phi_3 \\right)} & - \\sin{\\left(\\phi_1 \\right)} \\cos{\\left(\\phi_2 \\right)} & \\sin{\\left(\\phi_1 \\right)} \\sin{\\left(\\phi_2 \\right)} \\cos{\\left(\\phi_3 \\right)} + \\sin{\\left(\\phi_3 \\right)} \\cos{\\left(\\phi_1 \\right)}\\\\\\sin{\\left(\\phi_1 \\right)} \\cos{\\left(\\phi_3 \\right)} + \\sin{\\left(\\phi_2 \\right)} \\sin{\\left(\\phi_3 \\right)} \\cos{\\left(\\phi_1 \\right)} & \\cos{\\left(\\phi_1 \\right)} \\cos{\\left(\\phi_2 \\right)} & \\sin{\\left(\\phi_1 \\right)} \\sin{\\left(\\phi_3 \\right)} - \\sin{\\left(\\phi_2 \\right)} \\cos{\\left(\\phi_1 \\right)} \\cos{\\left(\\phi_3 \\right)}\\\\- \\sin{\\left(\\phi_3 \\right)} \\cos{\\left(\\phi_2 \\right)} & \\sin{\\left(\\phi_2 \\right)} & \\cos{\\left(\\phi_2 \\right)} \\cos{\\left(\\phi_3 \\right)}\\end{matrix}\\right]$"
      ],
      "text/plain": [
       "Matrix([\n",
       "[-sin(\\phi_1)*sin(\\phi_2)*sin(\\phi_3) + cos(\\phi_1)*cos(\\phi_3), -sin(\\phi_1)*cos(\\phi_2), sin(\\phi_1)*sin(\\phi_2)*cos(\\phi_3) + sin(\\phi_3)*cos(\\phi_1)],\n",
       "[ sin(\\phi_1)*cos(\\phi_3) + sin(\\phi_2)*sin(\\phi_3)*cos(\\phi_1),  cos(\\phi_1)*cos(\\phi_2), sin(\\phi_1)*sin(\\phi_3) - sin(\\phi_2)*cos(\\phi_1)*cos(\\phi_3)],\n",
       "[                                      -sin(\\phi_3)*cos(\\phi_2),              sin(\\phi_2),                                       cos(\\phi_2)*cos(\\phi_3)]])"
      ]
     },
     "execution_count": 4,
     "metadata": {},
     "output_type": "execute_result"
    }
   ],
   "source": [
    "phi1, phi2, phi3 = sp.symbols(\"\\phi_1 \\phi_2 \\phi_3\")\n",
    "\n",
    "R1s = srot(phi1,'z')*srot(phi2,'x')*srot(phi3,'y')\n",
    "R1s"
   ]
  },
  {
   "cell_type": "code",
   "execution_count": 5,
   "metadata": {},
   "outputs": [
    {
     "name": "stdout",
     "output_type": "stream",
     "text": [
      "a) \n",
      "Matriz de rotacion en t = 10 segundos: \n",
      "[[ 0.949 -0.158 -0.273]\n",
      " [-0.235  0.226 -0.946]\n",
      " [ 0.211  0.961  0.177]]\n",
      "\n",
      "Angulos ZXY de la matriz de rotacion (sexagesimales): \n",
      "Tomando la raiz positiva en phi2: \n",
      "[[ 34.958  74.008 -50.008]]\n",
      "Tomando la raiz negativa en phi2: \n",
      "[[-145.042  105.992  129.992]]\n",
      "\n",
      "b) \n",
      "Matriz de rotacion en t = 20 segundos: \n",
      "[[-0.906  0.     0.423]\n",
      " [ 0.423  0.     0.906]\n",
      " [ 0.     1.     0.   ]]\n",
      "\n",
      "Se presenta una singularidad al ser: \n",
      "phi2 = 90.0°\n",
      "Reemplazando este valor en la matriz de rotacion se obtiene: \n"
     ]
    }
   ],
   "source": [
    "print(\"a) \")\n",
    "R1 = na([[0.949, -0.158, -0.273],\n",
    "        [-0.235, 0.226, -0.946],\n",
    "        [0.211, 0.961, 0.177]])\n",
    "print(\"Matriz de rotacion en t = 10 segundos: \")\n",
    "printr(R1)\n",
    "print(\"\")\n",
    "\n",
    "#Funcion para hallar angulos ZXY a partir de una matriz de rotacion\n",
    "def zxy_R(R,a_s = '+'):\n",
    "\n",
    "    if a_s == '+':\n",
    "        phi2 = np.arctan2(R[2,1],np.sqrt(R[2,0]**2+R[2,2]**2))\n",
    "    elif a_s == '-':\n",
    "        phi2 = np.arctan2(R[2,1],-np.sqrt(R[2,0]**2+R[2,2]**2))\n",
    "\n",
    "    phi1 = np.arctan2(-R[0,1]/cos(phi2),R[1,1]/cos(phi2))\n",
    "    phi3 = np.arctan2(-R[2,0]/cos(phi2),R[2,2]/cos(phi2))\n",
    "    \n",
    "    return phi1, phi2, phi3\n",
    "\n",
    "p1, p2, p3 = zxy_R(R1)\n",
    "angszxy = na([[p1, p2, p3]])\n",
    "\n",
    "p1n, p2n, p3n = zxy_R(R1,'-')\n",
    "angszxy_n = na([[p1n, p2n, p3n]])\n",
    "\n",
    "print(\"Angulos ZXY de la matriz de rotacion (sexagesimales): \")\n",
    "print(\"Tomando la raiz positiva en phi2: \")\n",
    "printr(angszxy,'d')\n",
    "print(\"Tomando la raiz negativa en phi2: \")\n",
    "printr(angszxy_n,'d')\n",
    "print(\"\")\n",
    "\n",
    "print(\"b) \")\n",
    "R1_20 = na([[-0.906, 0, 0.423],\n",
    "        [0.423, 0, 0.906],\n",
    "        [0, 1, 0]])\n",
    "print(\"Matriz de rotacion en t = 20 segundos: \")\n",
    "printr(R1_20)\n",
    "print(\"\")\n",
    "\n",
    "p1, p2, p3 = zxy_R(R1_20)\n",
    "angszxy = na([[p1, p2, p3]])\n",
    "\n",
    "print(\"Se presenta una singularidad al ser: \")\n",
    "print(\"phi2 = \" + str(np.rad2deg(p2))+\"°\")\n",
    "print(\"Reemplazando este valor en la matriz de rotacion se obtiene: \")"
   ]
  },
  {
   "cell_type": "code",
   "execution_count": 6,
   "metadata": {},
   "outputs": [
    {
     "data": {
      "text/latex": [
       "$\\displaystyle \\left[\\begin{matrix}\\cos{\\left(\\phi_1 + \\phi_3 \\right)} & 0 & \\sin{\\left(\\phi_1 + \\phi_3 \\right)}\\\\\\sin{\\left(\\phi_1 + \\phi_3 \\right)} & 0 & - \\cos{\\left(\\phi_1 + \\phi_3 \\right)}\\\\0 & 1 & 0\\end{matrix}\\right]$"
      ],
      "text/plain": [
       "Matrix([\n",
       "[cos(\\phi_1 + \\phi_3), 0,  sin(\\phi_1 + \\phi_3)],\n",
       "[sin(\\phi_1 + \\phi_3), 0, -cos(\\phi_1 + \\phi_3)],\n",
       "[                   0, 1,                     0]])"
      ]
     },
     "execution_count": 6,
     "metadata": {},
     "output_type": "execute_result"
    }
   ],
   "source": [
    "sp.simplify(R1s.subs([(phi2,sp.pi/2)]))"
   ]
  },
  {
   "cell_type": "code",
   "execution_count": 7,
   "metadata": {},
   "outputs": [
    {
     "name": "stdout",
     "output_type": "stream",
     "text": [
      "Se observa que se puede obtener la suma de los dos angulos phi1 y phi 3\n",
      "La suma de phi1 y phi3 es: 154.973°\n",
      "Se puede asumir que phi1 vale 80° y phi3 vale 74.973°\n"
     ]
    }
   ],
   "source": [
    "print(\"Se observa que se puede obtener la suma de los dos angulos phi1 y phi 3\"\n",
    ")\n",
    "phi1_3 = np.rad2deg(np.arctan2(R1_20[1,0],R1_20[0,0]))\n",
    "print(\"La suma de phi1 y phi3 es: \" + str(np.round(phi1_3,3))+\"°\")\n",
    "print(\"Se puede asumir que phi1 vale 80° y phi3 vale 74.973°\")\n"
   ]
  },
  {
   "cell_type": "markdown",
   "metadata": {},
   "source": [
    "# Ejercicio 2"
   ]
  },
  {
   "cell_type": "code",
   "execution_count": 8,
   "metadata": {},
   "outputs": [
    {
     "name": "stdout",
     "output_type": "stream",
     "text": [
      "a) \n",
      "Las coordenadas tridimensionales de los puntos medidos por el LiDAR p1, p2 y p3 con respecto al sistema de referencia del robot son: \n",
      "\n",
      "pr1 = \n",
      "[[ 2.16]\n",
      " [-0.1 ]\n",
      " [ 0.3 ]]\n",
      "\n",
      "pr2 = \n",
      "[[2.121]\n",
      " [0.789]\n",
      " [1.701]]\n",
      "\n",
      "pr3 = \n",
      "[[ 2.007]\n",
      " [-1.795]\n",
      " [ 2.549]]\n",
      "\n",
      "b) \n",
      "Las coordenadas tridimensionales de p1, p2 y p3 con respecto al sistema de referencia inercial son: \n",
      "\n",
      "pI1 = \n",
      "[[6.847]\n",
      " [2.966]\n",
      " [0.5  ]]\n",
      "\n",
      "pI2 = \n",
      "[[6.248]\n",
      " [3.625]\n",
      " [1.901]]\n",
      "\n",
      "pI3 = \n",
      "[[7.813]\n",
      " [1.566]\n",
      " [2.749]]\n"
     ]
    }
   ],
   "source": [
    "#Funcion para obtener coordenadas de los puntos respecto al sistema del Lidar dado r y angulo\n",
    "def plidar(r,g):\n",
    "    g = np.deg2rad(g)\n",
    "    lx = r*cos(g)\n",
    "    ly = r*sin(g)\n",
    "    lz = 0\n",
    "    pl =  na([[lx],[ly],[lz]])\n",
    "    return pl\n",
    "\n",
    "#Coordenadas de los puntos respectos al lidar\n",
    "pl1 = plidar(2.04, 0)\n",
    "pl2 = plidar(2.6, 20)\n",
    "pl3 = plidar(3.39, -30)\n",
    "\n",
    "#Funcion para hallar la Transformacion homogenea del lidar, respecto al robot dado thetai\n",
    "def TR_L(th_i): \n",
    "    TR_L = tf_trc(0.12,-0.1,0.3).dot(tf_rot(-th_i,'y','d'))\n",
    "    return TR_L\n",
    "\n",
    "print(\"a) \")\n",
    "#Obtencion de las mediciones del Lidar respecto al sistema del robot\n",
    "pr1 = np_pT(pl1,TR_L(0))\n",
    "pr2 = np_pT(pl2,TR_L(35))\n",
    "pr3 = np_pT(pl3,TR_L(50))\n",
    "\n",
    "print(\"Las coordenadas tridimensionales de los puntos medidos por el LiDAR p1, p2 y p3 con respecto al sistema de referencia del robot son: \")\n",
    "print(\"\")\n",
    "print(\"pr1 = \")\n",
    "printr(pr1)\n",
    "print(\"\")\n",
    "print(\"pr2 = \")\n",
    "printr(pr2)\n",
    "print(\"\")\n",
    "print(\"pr3 = \")\n",
    "printr(pr3)\n",
    "print(\"\")\n",
    "\n",
    "print(\"b) \")\n",
    "\n",
    "#Transformacion del sistema del robot respecto al sistema inercial\n",
    "CI_R = cuaternion(0.94, 0, 0, 0.34) #Se define el cuaternion\n",
    "RI_R = Rf_C(CI_R) #Se halla la matriz de rotacion dado el cuaternion\n",
    "[u, th] = u_th_R(RI_R) #Se halla angulo de giro y eje a partir de R\n",
    "#print(u, th)\n",
    "TI_R = tf_rot(th,'z').dot(tf_trc(5,-2,0.2)) #Se realiza la transtormacion\n",
    "\n",
    "#Obtencion de las mediciones del Lidar respecto al sistema inercial\n",
    "pI1 = np_pT(pr1,TI_R)\n",
    "pI2 = np_pT(pr2,TI_R)\n",
    "pI3 = np_pT(pr3,TI_R)\n",
    "\n",
    "print(\"Las coordenadas tridimensionales de p1, p2 y p3 con respecto al sistema de referencia inercial son: \")\n",
    "print(\"\")\n",
    "print(\"pI1 = \")\n",
    "printr(pI1)\n",
    "print(\"\")\n",
    "print(\"pI2 = \")\n",
    "printr(pI2)\n",
    "print(\"\")\n",
    "print(\"pI3 = \")\n",
    "printr(pI3)"
   ]
  },
  {
   "cell_type": "markdown",
   "metadata": {},
   "source": [
    "# Ejercicio 3"
   ]
  },
  {
   "cell_type": "markdown",
   "metadata": {},
   "source": [
    "# a)\n",
    "# Utilizaria:\n",
    "# - Motores brushless DC debido a sus altas velocidades ya que estas se requieren para poder elevar al dron.\n",
    "# - SBC para el control de alto nivel\n",
    "# - Baterias LiPo debido a su alta densidad de energia para alimentar al amplificador de potencia que en este caso seria un Electronic Speed Control\n",
    "# - ESC para el control de los motores (iria conectado a la bateria, al motor y al SBC)\n",
    "# - Un frame aerodinamico para el mejor desplazamiento en el aire\n",
    "# - Un autopilot para el control de bajo nivel de los motores."
   ]
  },
  {
   "cell_type": "markdown",
   "metadata": {},
   "source": [
    "# b) Si es el mismo dado que girar un angulo theta alrededor de un eje u es lo mismo que girar en un eje - u en sentido negativo a ese eje."
   ]
  },
  {
   "cell_type": "code",
   "execution_count": 9,
   "metadata": {},
   "outputs": [
    {
     "name": "stdout",
     "output_type": "stream",
     "text": [
      "c) \n",
      "Matriz de rotacion del resultante respecto al inicial:\n",
      "[[ 0.866 -0.5    0.     3.33 ]\n",
      " [ 0.383  0.663 -0.643  3.242]\n",
      " [ 0.321  0.557  0.766  2.72 ]\n",
      " [ 0.     0.     0.     1.   ]]\n",
      "\n",
      "La posicion y orientación del sistema inicial con respecto al sistema resultante es: \n",
      "Posicion: \n",
      "[[-5.]\n",
      " [-2.]\n",
      " [ 0.]]\n",
      "Rotacion: \n",
      "[[ 0.866  0.383  0.321]\n",
      " [-0.5    0.663  0.557]\n",
      " [ 0.    -0.643  0.766]]\n"
     ]
    }
   ],
   "source": [
    "print(\"c) \")\n",
    "\n",
    "print(\"Matriz de rotacion del resultante respecto al inicial:\")\n",
    "T5 = tf_rot(40,'x','d').dot(tf_rot(30,'z','d')).dot(tf_trc(5,0,0)).dot(tf_trc(0,2,0))\n",
    "printr(T5)\n",
    "print(\"\")\n",
    "\n",
    "#Transformacion del sistema inicial respecto al resultante\n",
    "T5i = np.linalg.inv(T5)\n",
    "\n",
    "print(\"La posicion y orientación del sistema inicial con respecto al sistema resultante es: \")\n",
    "print(\"Posicion: \")\n",
    "printr(T5i[0:3,3:])\n",
    "print(\"Rotacion: \")\n",
    "printr(T5i[0:3,:3])"
   ]
  },
  {
   "cell_type": "markdown",
   "metadata": {},
   "source": [
    "# d) Se debe tener 3 eslabones y 3 articulaciones como minimo para obtener 3 grados de libertad segun la formula de Guebler"
   ]
  },
  {
   "cell_type": "code",
   "execution_count": null,
   "metadata": {},
   "outputs": [],
   "source": []
  }
 ],
 "metadata": {
  "kernelspec": {
   "display_name": "Python 3",
   "language": "python",
   "name": "python3"
  },
  "language_info": {
   "codemirror_mode": {
    "name": "ipython",
    "version": 3
   },
   "file_extension": ".py",
   "mimetype": "text/x-python",
   "name": "python",
   "nbconvert_exporter": "python",
   "pygments_lexer": "ipython3",
   "version": "3.6.6"
  }
 },
 "nbformat": 4,
 "nbformat_minor": 4
}
