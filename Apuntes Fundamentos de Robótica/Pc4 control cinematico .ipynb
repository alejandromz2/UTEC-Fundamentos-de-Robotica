{
 "cells": [
  {
   "cell_type": "code",
   "execution_count": 1,
   "metadata": {},
   "outputs": [],
   "source": [
    "import numpy as np\n",
    "import sympy as sp\n",
    "from sympy import init_printing\n",
    "from sympy import Matrix\n",
    "from sympy.interactive import printing\n",
    "from sympy import sympify\n",
    "printing.init_printing(use_latex=True)\n",
    "sin=np.sin\n",
    "cos=np.cos\n",
    "pi=np.pi\n",
    "ssin=sp.sin\n",
    "scos=sp.cos"
   ]
  },
  {
   "cell_type": "code",
   "execution_count": 32,
   "metadata": {},
   "outputs": [
    {
     "data": {
      "text/latex": [
       "$$\\left[\\begin{matrix}5 \\ddot{q1} + 2 \\ddot{q2} + 40 \\dot{q1} + 400 q_{1} - 400 q1r\\\\2 \\ddot{q1} + \\ddot{q2}\\end{matrix}\\right]$$"
      ],
      "text/plain": [
       "⎡5⋅\\ddot{q1} + 2⋅\\ddot{q2} + 40⋅\\dot{q1} + 400⋅q₁ - 400⋅q1r⎤\n",
       "⎢                                                          ⎥\n",
       "⎣                 2⋅\\ddot{q1} + \\ddot{q2}                  ⎦"
      ]
     },
     "execution_count": 32,
     "metadata": {},
     "output_type": "execute_result"
    }
   ],
   "source": [
    "q1, q2, dq1, dq2, ddq1, ddq2 = sp.symbols('q1 q2 \\dot{q1} \\dot{q2} \\ddot{q1} \\ddot{q2}')\n",
    "q1r=sp.symbols('q1r')\n",
    "M=sp.Matrix([[4+scos(q2), 1+scos(q2)],[1+scos(q2), 1]])\n",
    "\n",
    "ddq=sp.Matrix([[ddq1],[ddq2]])\n",
    "g=sp.Matrix([[-((dq2**2)+2*dq1*dq2)*ssin(q2)],[dq1**2*ssin(q2)]])\n",
    "u=sp.Matrix([[-40*dq1-400*(q1-q1r)],[0]])\n",
    "sp.simplify(M*ddq+g-u).subs({q2:0})\n",
    "\n"
   ]
  }
 ],
 "metadata": {
  "kernelspec": {
   "display_name": "Python 3",
   "language": "python",
   "name": "python3"
  },
  "language_info": {
   "codemirror_mode": {
    "name": "ipython",
    "version": 3
   },
   "file_extension": ".py",
   "mimetype": "text/x-python",
   "name": "python",
   "nbconvert_exporter": "python",
   "pygments_lexer": "ipython3",
   "version": "3.6.6"
  }
 },
 "nbformat": 4,
 "nbformat_minor": 2
}
