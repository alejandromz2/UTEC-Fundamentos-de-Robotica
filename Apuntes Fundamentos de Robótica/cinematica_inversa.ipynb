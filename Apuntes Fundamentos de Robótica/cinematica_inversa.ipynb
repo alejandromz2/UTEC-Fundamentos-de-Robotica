{
 "cells": [
  {
   "cell_type": "code",
   "execution_count": 2,
   "metadata": {},
   "outputs": [],
   "source": [
    "import numpy as np\n",
    "import sympy as sp\n",
    "from sympy import init_printing\n",
    "from sympy import Matrix\n",
    "from sympy.interactive import printing\n",
    "printing.init_printing(use_latex=True)\n",
    "sin=sp.sin\n",
    "cos=sp.cos\n",
    "pi=sp.pi"
   ]
  },
  {
   "cell_type": "code",
   "execution_count": 2,
   "metadata": {},
   "outputs": [],
   "source": [
    "#Funciones de rotación canonicas con valores simbolicos\n",
    "def srotx(ang):\n",
    "    Rx=sp.Matrix([[1,0,0],\n",
    "                  [0,sp.cos(ang),-sp.sin(ang)],\n",
    "                  [0, sp.sin(ang), sp.cos(ang)]])\n",
    "    return Rx\n",
    "def sroty(ang): \n",
    "    Ry= sp.Matrix([[sp.cos(ang),0,sp.sin(ang)],\n",
    "                  [0,1,0],\n",
    "                  [-sp.sin(ang), 0, sp.cos(ang)]])\n",
    "    return Ry\n",
    "def srotz(ang):\n",
    "    Rz= sp.Matrix([[sp.cos(ang),-sp.sin(ang),0],\n",
    "                  [sp.sin(ang), sp.cos(ang), 0],\n",
    "                  [0,0,1]])\n",
    "    return Rz\n",
    "\n",
    "\n",
    "#T given t,R\n",
    "def T_tR(t,R):\n",
    "    T = np.vstack((np.hstack((R,t)),np.array([[0, 0, 0, 1]])))\n",
    "    return T\n",
    "def rotdh(d,th,a,alf):\n",
    "    T=sp.Matrix([[cos(th),-cos(alf)*sin(th),sin(alf)*sin(th),a*cos(th)],\n",
    "                  [sin(th),cos(alf)*cos(th),-sin(alf)*cos(th),a*sin(th)],\n",
    "                  [0, sin(alf), cos(alf),d],[0, 0, 0, 1]])\n",
    "    return T"
   ]
  },
  {
   "cell_type": "code",
   "execution_count": 3,
   "metadata": {},
   "outputs": [
    {
     "name": "stdout",
     "output_type": "stream",
     "text": [
      "Cinematica directa\n"
     ]
    },
    {
     "data": {
      "text/latex": [
       "$\\displaystyle \\left[\\begin{matrix}- \\sin{\\left(q_{1} \\right)} \\cos{\\left(q_{6} \\right)} \\cos{\\left(q_{3} + q_{4} + q_{5} \\right)} - \\sin{\\left(q_{6} \\right)} \\cos{\\left(q_{1} \\right)} & - \\sin{\\left(q_{1} \\right)} \\sin{\\left(q_{6} \\right)} \\cos{\\left(q_{3} + q_{4} + q_{5} \\right)} + \\cos{\\left(q_{1} \\right)} \\cos{\\left(q_{6} \\right)} & - \\sin{\\left(q_{1} \\right)} \\sin{\\left(q_{3} + q_{4} + q_{5} \\right)} & \\left(l_{3} \\cos{\\left(q_{3} \\right)} + l_{4} \\cos{\\left(q_{3} + q_{4} \\right)} - l_{5} \\sin{\\left(q_{3} + q_{4} + q_{5} \\right)}\\right) \\sin{\\left(q_{1} \\right)}\\\\- \\sin{\\left(q_{1} \\right)} \\sin{\\left(q_{6} \\right)} + \\cos{\\left(q_{1} \\right)} \\cos{\\left(q_{6} \\right)} \\cos{\\left(q_{3} + q_{4} + q_{5} \\right)} & \\sin{\\left(q_{1} \\right)} \\cos{\\left(q_{6} \\right)} + \\sin{\\left(q_{6} \\right)} \\cos{\\left(q_{1} \\right)} \\cos{\\left(q_{3} + q_{4} + q_{5} \\right)} & \\sin{\\left(q_{3} + q_{4} + q_{5} \\right)} \\cos{\\left(q_{1} \\right)} & \\left(- l_{3} \\cos{\\left(q_{3} \\right)} - l_{4} \\cos{\\left(q_{3} + q_{4} \\right)} + l_{5} \\sin{\\left(q_{3} + q_{4} + q_{5} \\right)}\\right) \\cos{\\left(q_{1} \\right)}\\\\\\sin{\\left(q_{3} + q_{4} + q_{5} \\right)} \\cos{\\left(q_{6} \\right)} & \\sin{\\left(q_{6} \\right)} \\sin{\\left(q_{3} + q_{4} + q_{5} \\right)} & - \\cos{\\left(q_{3} + q_{4} + q_{5} \\right)} & l_{1} + l_{2} - l_{3} \\sin{\\left(q_{3} \\right)} - l_{4} \\sin{\\left(q_{3} + q_{4} \\right)} - l_{5} \\cos{\\left(q_{3} + q_{4} + q_{5} \\right)} + q_{2}\\\\0 & 0 & 0 & 1\\end{matrix}\\right]$"
      ],
      "text/plain": [
       "⎡-sin(q₁)⋅cos(q₆)⋅cos(q₃ + q₄ + q₅) - sin(q₆)⋅cos(q₁)  -sin(q₁)⋅sin(q₆)⋅cos(q₃\n",
       "⎢                                                                             \n",
       "⎢-sin(q₁)⋅sin(q₆) + cos(q₁)⋅cos(q₆)⋅cos(q₃ + q₄ + q₅)  sin(q₁)⋅cos(q₆) + sin(q\n",
       "⎢                                                                             \n",
       "⎢             sin(q₃ + q₄ + q₅)⋅cos(q₆)                             sin(q₆)⋅si\n",
       "⎢                                                                             \n",
       "⎣                         0                                                   \n",
       "\n",
       " + q₄ + q₅) + cos(q₁)⋅cos(q₆)  -sin(q₁)⋅sin(q₃ + q₄ + q₅)    (l₃⋅cos(q₃) + l₄⋅\n",
       "                                                                              \n",
       "₆)⋅cos(q₁)⋅cos(q₃ + q₄ + q₅)   sin(q₃ + q₄ + q₅)⋅cos(q₁)     (-l₃⋅cos(q₃) - l₄\n",
       "                                                                              \n",
       "n(q₃ + q₄ + q₅)                    -cos(q₃ + q₄ + q₅)      l₁ + l₂ - l₃⋅sin(q₃\n",
       "                                                                              \n",
       "  0                                        0                                  \n",
       "\n",
       "cos(q₃ + q₄) - l₅⋅sin(q₃ + q₄ + q₅))⋅sin(q₁)   ⎤\n",
       "                                               ⎥\n",
       "⋅cos(q₃ + q₄) + l₅⋅sin(q₃ + q₄ + q₅))⋅cos(q₁)  ⎥\n",
       "                                               ⎥\n",
       ") - l₄⋅sin(q₃ + q₄) - l₅⋅cos(q₃ + q₄ + q₅) + q₂⎥\n",
       "                                               ⎥\n",
       "             1                                 ⎦"
      ]
     },
     "metadata": {},
     "output_type": "display_data"
    },
    {
     "name": "stdout",
     "output_type": "stream",
     "text": [
      "Cinematica directa cuando qi=0\n"
     ]
    },
    {
     "data": {
      "text/latex": [
       "$\\displaystyle \\left[\\begin{matrix}0 & 1 & 0 & 0\\\\1 & 0 & 0 & - l_{3} - l_{4}\\\\0 & 0 & -1 & l_{1} + l_{2} - l_{5}\\\\0 & 0 & 0 & 1\\end{matrix}\\right]$"
      ],
      "text/plain": [
       "⎡0  1  0        0      ⎤\n",
       "⎢                      ⎥\n",
       "⎢1  0  0     -l₃ - l₄  ⎥\n",
       "⎢                      ⎥\n",
       "⎢0  0  -1  l₁ + l₂ - l₅⎥\n",
       "⎢                      ⎥\n",
       "⎣0  0  0        1      ⎦"
      ]
     },
     "metadata": {},
     "output_type": "display_data"
    },
    {
     "data": {
      "text/latex": [
       "$\\displaystyle \\left[\\begin{matrix}- \\sin{\\left(q_{1} \\right)} \\cos{\\left(q_{6} \\right)} \\cos{\\left(q_{3} + q_{4} + q_{5} \\right)} - \\sin{\\left(q_{6} \\right)} \\cos{\\left(q_{1} \\right)} & - \\sin{\\left(q_{1} \\right)} \\sin{\\left(q_{6} \\right)} \\cos{\\left(q_{3} + q_{4} + q_{5} \\right)} + \\cos{\\left(q_{1} \\right)} \\cos{\\left(q_{6} \\right)} & - \\sin{\\left(q_{1} \\right)} \\sin{\\left(q_{3} + q_{4} + q_{5} \\right)} & \\left(l_{3} \\cos{\\left(q_{3} \\right)} + l_{4} \\cos{\\left(q_{3} + q_{4} \\right)} - l_{5} \\sin{\\left(q_{3} + q_{4} + q_{5} \\right)}\\right) \\sin{\\left(q_{1} \\right)}\\\\- \\sin{\\left(q_{1} \\right)} \\sin{\\left(q_{6} \\right)} + \\cos{\\left(q_{1} \\right)} \\cos{\\left(q_{6} \\right)} \\cos{\\left(q_{3} + q_{4} + q_{5} \\right)} & \\sin{\\left(q_{1} \\right)} \\cos{\\left(q_{6} \\right)} + \\sin{\\left(q_{6} \\right)} \\cos{\\left(q_{1} \\right)} \\cos{\\left(q_{3} + q_{4} + q_{5} \\right)} & \\sin{\\left(q_{3} + q_{4} + q_{5} \\right)} \\cos{\\left(q_{1} \\right)} & \\left(- l_{3} \\cos{\\left(q_{3} \\right)} - l_{4} \\cos{\\left(q_{3} + q_{4} \\right)} + l_{5} \\sin{\\left(q_{3} + q_{4} + q_{5} \\right)}\\right) \\cos{\\left(q_{1} \\right)}\\\\\\sin{\\left(q_{3} + q_{4} + q_{5} \\right)} \\cos{\\left(q_{6} \\right)} & \\sin{\\left(q_{6} \\right)} \\sin{\\left(q_{3} + q_{4} + q_{5} \\right)} & - \\cos{\\left(q_{3} + q_{4} + q_{5} \\right)} & l_{1} + l_{2} - l_{3} \\sin{\\left(q_{3} \\right)} - l_{4} \\sin{\\left(q_{3} + q_{4} \\right)} - l_{5} \\cos{\\left(q_{3} + q_{4} + q_{5} \\right)} + q_{2}\\\\0 & 0 & 0 & 1\\end{matrix}\\right]$"
      ],
      "text/plain": [
       "⎡-sin(q₁)⋅cos(q₆)⋅cos(q₃ + q₄ + q₅) - sin(q₆)⋅cos(q₁)  -sin(q₁)⋅sin(q₆)⋅cos(q₃\n",
       "⎢                                                                             \n",
       "⎢-sin(q₁)⋅sin(q₆) + cos(q₁)⋅cos(q₆)⋅cos(q₃ + q₄ + q₅)  sin(q₁)⋅cos(q₆) + sin(q\n",
       "⎢                                                                             \n",
       "⎢             sin(q₃ + q₄ + q₅)⋅cos(q₆)                             sin(q₆)⋅si\n",
       "⎢                                                                             \n",
       "⎣                         0                                                   \n",
       "\n",
       " + q₄ + q₅) + cos(q₁)⋅cos(q₆)  -sin(q₁)⋅sin(q₃ + q₄ + q₅)    (l₃⋅cos(q₃) + l₄⋅\n",
       "                                                                              \n",
       "₆)⋅cos(q₁)⋅cos(q₃ + q₄ + q₅)   sin(q₃ + q₄ + q₅)⋅cos(q₁)     (-l₃⋅cos(q₃) - l₄\n",
       "                                                                              \n",
       "n(q₃ + q₄ + q₅)                    -cos(q₃ + q₄ + q₅)      l₁ + l₂ - l₃⋅sin(q₃\n",
       "                                                                              \n",
       "  0                                        0                                  \n",
       "\n",
       "cos(q₃ + q₄) - l₅⋅sin(q₃ + q₄ + q₅))⋅sin(q₁)   ⎤\n",
       "                                               ⎥\n",
       "⋅cos(q₃ + q₄) + l₅⋅sin(q₃ + q₄ + q₅))⋅cos(q₁)  ⎥\n",
       "                                               ⎥\n",
       ") - l₄⋅sin(q₃ + q₄) - l₅⋅cos(q₃ + q₄ + q₅) + q₂⎥\n",
       "                                               ⎥\n",
       "             1                                 ⎦"
      ]
     },
     "execution_count": 3,
     "metadata": {},
     "output_type": "execute_result"
    }
   ],
   "source": [
    "#Cinematica directa\n",
    "q1,q2,q3,q4,q5,q6,l1,l2,l3,l4,l5 = sp.symbols('q1 q2 q3 q4 q5 q6 l1 l2 l3 l4 l5')\n",
    "\n",
    "T01=rotdh(l1,pi/2+q1,0,0)\n",
    "T12=rotdh(l2+q2,0,0,pi/2)\n",
    "T23=rotdh(0,pi+q3,l3,0)\n",
    "T34=rotdh(0,0+q4,l4,0)\n",
    "T45=rotdh(0,0+q5,0,pi/2)\n",
    "T56=rotdh(-l5,pi+q6,0,pi)\n",
    "T06=sp.simplify(T01*T12*T23*T34*T45*T56)\n",
    "T06i=T06.subs({q1:0,q2:0,q3:0,q4:0,q5:0,q6:0})\n",
    "print('Cinematica directa'), display(T06)\n",
    "print('Cinematica directa cuando qi=0'), display(T06i)\n",
    "\n",
    "T06"
   ]
  },
  {
   "cell_type": "code",
   "execution_count": 6,
   "metadata": {},
   "outputs": [
    {
     "ename": "ShapeError",
     "evalue": "Matrix size mismatch: (1, 3) + (3,)",
     "output_type": "error",
     "traceback": [
      "\u001b[1;31m---------------------------------------------------------------------------\u001b[0m",
      "\u001b[1;31mShapeError\u001b[0m                                Traceback (most recent call last)",
      "\u001b[1;32m<ipython-input-6-52ec9c13336f>\u001b[0m in \u001b[0;36m<module>\u001b[1;34m()\u001b[0m\n\u001b[0;32m     11\u001b[0m     \u001b[0mf\u001b[0m\u001b[1;33m=\u001b[0m\u001b[0msp\u001b[0m\u001b[1;33m.\u001b[0m\u001b[0mMatrix\u001b[0m\u001b[1;33m(\u001b[0m\u001b[1;33m[\u001b[0m\u001b[1;33m[\u001b[0m\u001b[1;33m(\u001b[0m\u001b[0mcos\u001b[0m\u001b[1;33m(\u001b[0m\u001b[0mq3\u001b[0m\u001b[1;33m)\u001b[0m \u001b[1;33m+\u001b[0m \u001b[0mcos\u001b[0m\u001b[1;33m(\u001b[0m\u001b[0mq3\u001b[0m \u001b[1;33m+\u001b[0m \u001b[0mq4\u001b[0m\u001b[1;33m)\u001b[0m \u001b[1;33m-\u001b[0m \u001b[0msin\u001b[0m\u001b[1;33m(\u001b[0m\u001b[0mq3\u001b[0m \u001b[1;33m+\u001b[0m \u001b[0mq4\u001b[0m \u001b[1;33m+\u001b[0m \u001b[0mq5\u001b[0m\u001b[1;33m)\u001b[0m\u001b[1;33m)\u001b[0m\u001b[1;33m*\u001b[0m\u001b[0msin\u001b[0m\u001b[1;33m(\u001b[0m\u001b[0mq1\u001b[0m\u001b[1;33m)\u001b[0m\u001b[1;33m]\u001b[0m\u001b[1;33m,\u001b[0m\u001b[1;33m[\u001b[0m\u001b[1;33m(\u001b[0m\u001b[1;33m-\u001b[0m\u001b[0mcos\u001b[0m\u001b[1;33m(\u001b[0m\u001b[0mq3\u001b[0m\u001b[1;33m)\u001b[0m \u001b[1;33m-\u001b[0m \u001b[0mcos\u001b[0m\u001b[1;33m(\u001b[0m\u001b[0mq3\u001b[0m \u001b[1;33m+\u001b[0m \u001b[0mq4\u001b[0m\u001b[1;33m)\u001b[0m \u001b[1;33m+\u001b[0m \u001b[0msin\u001b[0m\u001b[1;33m(\u001b[0m\u001b[0mq3\u001b[0m \u001b[1;33m+\u001b[0m \u001b[0mq4\u001b[0m \u001b[1;33m+\u001b[0m \u001b[0mq5\u001b[0m\u001b[1;33m)\u001b[0m\u001b[1;33m)\u001b[0m\u001b[1;33m*\u001b[0m\u001b[0mcos\u001b[0m\u001b[1;33m(\u001b[0m\u001b[0mq1\u001b[0m\u001b[1;33m)\u001b[0m\u001b[1;33m]\u001b[0m\u001b[1;33m,\u001b[0m\u001b[1;33m[\u001b[0m\u001b[1;36m1\u001b[0m \u001b[1;33m+\u001b[0m \u001b[1;36m1\u001b[0m \u001b[1;33m-\u001b[0m \u001b[0msin\u001b[0m\u001b[1;33m(\u001b[0m\u001b[0mq3\u001b[0m\u001b[1;33m)\u001b[0m \u001b[1;33m-\u001b[0m \u001b[0msin\u001b[0m\u001b[1;33m(\u001b[0m\u001b[0mq3\u001b[0m \u001b[1;33m+\u001b[0m \u001b[0mq4\u001b[0m\u001b[1;33m)\u001b[0m \u001b[1;33m-\u001b[0m \u001b[0mcos\u001b[0m\u001b[1;33m(\u001b[0m\u001b[0mq3\u001b[0m \u001b[1;33m+\u001b[0m \u001b[0mq4\u001b[0m \u001b[1;33m+\u001b[0m \u001b[0mq5\u001b[0m\u001b[1;33m)\u001b[0m \u001b[1;33m+\u001b[0m \u001b[0mq2\u001b[0m\u001b[1;33m]\u001b[0m\u001b[1;33m]\u001b[0m\u001b[1;33m)\u001b[0m\u001b[1;33m\u001b[0m\u001b[0m\n\u001b[0;32m     12\u001b[0m     \u001b[0mfT\u001b[0m \u001b[1;33m=\u001b[0m \u001b[0mf\u001b[0m\u001b[1;33m.\u001b[0m\u001b[0mT\u001b[0m\u001b[1;33m\u001b[0m\u001b[0m\n\u001b[1;32m---> 13\u001b[1;33m     \u001b[0me\u001b[0m \u001b[1;33m=\u001b[0m \u001b[0mxd\u001b[0m\u001b[1;33m-\u001b[0m\u001b[0mfT\u001b[0m\u001b[1;33m\u001b[0m\u001b[0m\n\u001b[0m\u001b[0;32m     14\u001b[0m     \u001b[0mq\u001b[0m \u001b[1;33m=\u001b[0m \u001b[0mq\u001b[0m \u001b[1;33m+\u001b[0m \u001b[0mnp\u001b[0m\u001b[1;33m.\u001b[0m\u001b[0mdot\u001b[0m\u001b[1;33m(\u001b[0m\u001b[0mnp\u001b[0m\u001b[1;33m.\u001b[0m\u001b[0mlinalg\u001b[0m\u001b[1;33m.\u001b[0m\u001b[0minv\u001b[0m\u001b[1;33m(\u001b[0m\u001b[0mJa_newton\u001b[0m\u001b[1;33m)\u001b[0m\u001b[1;33m,\u001b[0m \u001b[0me\u001b[0m\u001b[1;33m)\u001b[0m\u001b[1;33m\u001b[0m\u001b[0m\n\u001b[0;32m     15\u001b[0m     \u001b[0mprint\u001b[0m\u001b[1;33m(\u001b[0m\u001b[1;34m\"iteración:{}, error:{}\"\u001b[0m\u001b[1;33m.\u001b[0m\u001b[0mformat\u001b[0m\u001b[1;33m(\u001b[0m\u001b[0mi\u001b[0m\u001b[1;33m,\u001b[0m\u001b[0mnp\u001b[0m\u001b[1;33m.\u001b[0m\u001b[0mlinalg\u001b[0m\u001b[1;33m.\u001b[0m\u001b[0mnorm\u001b[0m\u001b[1;33m(\u001b[0m\u001b[0me\u001b[0m\u001b[1;33m)\u001b[0m\u001b[1;33m)\u001b[0m\u001b[1;33m)\u001b[0m\u001b[1;33m\u001b[0m\u001b[0m\n",
      "\u001b[1;32mD:\\Anaconda\\envs\\python3\\lib\\site-packages\\sympy\\core\\decorators.py\u001b[0m in \u001b[0;36mbinary_op_wrapper\u001b[1;34m(self, other)\u001b[0m\n\u001b[0;32m    130\u001b[0m                     \u001b[1;32melse\u001b[0m\u001b[1;33m:\u001b[0m\u001b[1;33m\u001b[0m\u001b[0m\n\u001b[0;32m    131\u001b[0m                         \u001b[1;32mreturn\u001b[0m \u001b[0mf\u001b[0m\u001b[1;33m(\u001b[0m\u001b[0mself\u001b[0m\u001b[1;33m)\u001b[0m\u001b[1;33m\u001b[0m\u001b[0m\n\u001b[1;32m--> 132\u001b[1;33m             \u001b[1;32mreturn\u001b[0m \u001b[0mfunc\u001b[0m\u001b[1;33m(\u001b[0m\u001b[0mself\u001b[0m\u001b[1;33m,\u001b[0m \u001b[0mother\u001b[0m\u001b[1;33m)\u001b[0m\u001b[1;33m\u001b[0m\u001b[0m\n\u001b[0m\u001b[0;32m    133\u001b[0m         \u001b[1;32mreturn\u001b[0m \u001b[0mbinary_op_wrapper\u001b[0m\u001b[1;33m\u001b[0m\u001b[0m\n\u001b[0;32m    134\u001b[0m     \u001b[1;32mreturn\u001b[0m \u001b[0mpriority_decorator\u001b[0m\u001b[1;33m\u001b[0m\u001b[0m\n",
      "\u001b[1;32mD:\\Anaconda\\envs\\python3\\lib\\site-packages\\sympy\\matrices\\common.py\u001b[0m in \u001b[0;36m__rsub__\u001b[1;34m(self, a)\u001b[0m\n\u001b[0;32m   2109\u001b[0m     \u001b[1;33m@\u001b[0m\u001b[0mcall_highest_priority\u001b[0m\u001b[1;33m(\u001b[0m\u001b[1;34m'__sub__'\u001b[0m\u001b[1;33m)\u001b[0m\u001b[1;33m\u001b[0m\u001b[0m\n\u001b[0;32m   2110\u001b[0m     \u001b[1;32mdef\u001b[0m \u001b[0m__rsub__\u001b[0m\u001b[1;33m(\u001b[0m\u001b[0mself\u001b[0m\u001b[1;33m,\u001b[0m \u001b[0ma\u001b[0m\u001b[1;33m)\u001b[0m\u001b[1;33m:\u001b[0m\u001b[1;33m\u001b[0m\u001b[0m\n\u001b[1;32m-> 2111\u001b[1;33m         \u001b[1;32mreturn\u001b[0m \u001b[1;33m(\u001b[0m\u001b[1;33m-\u001b[0m\u001b[0mself\u001b[0m\u001b[1;33m)\u001b[0m \u001b[1;33m+\u001b[0m \u001b[0ma\u001b[0m\u001b[1;33m\u001b[0m\u001b[0m\n\u001b[0m\u001b[0;32m   2112\u001b[0m \u001b[1;33m\u001b[0m\u001b[0m\n\u001b[0;32m   2113\u001b[0m     \u001b[1;33m@\u001b[0m\u001b[0mcall_highest_priority\u001b[0m\u001b[1;33m(\u001b[0m\u001b[1;34m'__rsub__'\u001b[0m\u001b[1;33m)\u001b[0m\u001b[1;33m\u001b[0m\u001b[0m\n",
      "\u001b[1;32mD:\\Anaconda\\envs\\python3\\lib\\site-packages\\sympy\\core\\decorators.py\u001b[0m in \u001b[0;36mbinary_op_wrapper\u001b[1;34m(self, other)\u001b[0m\n\u001b[0;32m    130\u001b[0m                     \u001b[1;32melse\u001b[0m\u001b[1;33m:\u001b[0m\u001b[1;33m\u001b[0m\u001b[0m\n\u001b[0;32m    131\u001b[0m                         \u001b[1;32mreturn\u001b[0m \u001b[0mf\u001b[0m\u001b[1;33m(\u001b[0m\u001b[0mself\u001b[0m\u001b[1;33m)\u001b[0m\u001b[1;33m\u001b[0m\u001b[0m\n\u001b[1;32m--> 132\u001b[1;33m             \u001b[1;32mreturn\u001b[0m \u001b[0mfunc\u001b[0m\u001b[1;33m(\u001b[0m\u001b[0mself\u001b[0m\u001b[1;33m,\u001b[0m \u001b[0mother\u001b[0m\u001b[1;33m)\u001b[0m\u001b[1;33m\u001b[0m\u001b[0m\n\u001b[0m\u001b[0;32m    133\u001b[0m         \u001b[1;32mreturn\u001b[0m \u001b[0mbinary_op_wrapper\u001b[0m\u001b[1;33m\u001b[0m\u001b[0m\n\u001b[0;32m    134\u001b[0m     \u001b[1;32mreturn\u001b[0m \u001b[0mpriority_decorator\u001b[0m\u001b[1;33m\u001b[0m\u001b[0m\n",
      "\u001b[1;32mD:\\Anaconda\\envs\\python3\\lib\\site-packages\\sympy\\matrices\\common.py\u001b[0m in \u001b[0;36m__add__\u001b[1;34m(self, other)\u001b[0m\n\u001b[0;32m   1956\u001b[0m             \u001b[1;32mif\u001b[0m \u001b[0mself\u001b[0m\u001b[1;33m.\u001b[0m\u001b[0mshape\u001b[0m \u001b[1;33m!=\u001b[0m \u001b[0mother\u001b[0m\u001b[1;33m.\u001b[0m\u001b[0mshape\u001b[0m\u001b[1;33m:\u001b[0m\u001b[1;33m\u001b[0m\u001b[0m\n\u001b[0;32m   1957\u001b[0m                 raise ShapeError(\"Matrix size mismatch: %s + %s\" % (\n\u001b[1;32m-> 1958\u001b[1;33m                     self.shape, other.shape))\n\u001b[0m\u001b[0;32m   1959\u001b[0m \u001b[1;33m\u001b[0m\u001b[0m\n\u001b[0;32m   1960\u001b[0m         \u001b[1;31m# honest sympy matrices defer to their class's routine\u001b[0m\u001b[1;33m\u001b[0m\u001b[1;33m\u001b[0m\u001b[0m\n",
      "\u001b[1;31mShapeError\u001b[0m: Matrix size mismatch: (1, 3) + (3,)"
     ]
    }
   ],
   "source": [
    "#Cinematica Inversa\n",
    "xd = np.array([2, 2, 2]) # Valor deseado en el espacio cartesiano\n",
    "q = np.array([0.5, 0.5,0.5,0.5,0.5,0.5]) # Valor inicial en el espacio articular\n",
    "epsilon = 1e-3\n",
    "max_iter = 100 # Maximo numero de iteraciones\n",
    "\n",
    "# Iteraciones: Método de Newton\n",
    "for i in range(max_iter):\n",
    "    q1 = q[0]; q2 = q[1]; q3 = q[2]; q4 = q[3]; q5 = q[4]; q6 = q[5];  \n",
    "    Ja_newton=sp.Matrix([[(l3*cos(q3) + l4*cos(q3 + q4) - l5*sin(q3 + q4 + q5))*cos(q1), 0, (-l3*sin(q3) - l4*sin(q3 + q4) - l5*cos(q3 + q4 + q5))*sin(q1), (-l4*sin(q3 + q4) - l5*cos(q3 + q4 + q5))*sin(q1), -l5*sin(q1)*cos(q3 + q4 + q5), 0], \n",
    "                         [-(-l3*cos(q3) - l4*cos(q3 + q4) + l5*sin(q3 + q4 + q5))*sin(q1), 0, (l3*sin(q3) + l4*sin(q3 + q4) + l5*cos(q3 + q4 + q5))*cos(q1), (l4*sin(q3 + q4) + l5*cos(q3 + q4 + q5))*cos(q1), l5*cos(q1)*cos(q3 + q4 + q5), 0], \n",
    "                         [0, 1, -l3*cos(q3) - l4*cos(q3 + q4) + l5*sin(q3 + q4 + q5), -l4*cos(q3 + q4) + l5*sin(q3 + q4 + q5), l5*sin(q3 + q4 + q5), 0]])\n",
    "    f=sp.Matrix([[(cos(q3) + cos(q3 + q4) - sin(q3 + q4 + q5))*sin(q1)],[(-cos(q3) - cos(q3 + q4) + sin(q3 + q4 + q5))*cos(q1)],[1 + 1 - sin(q3) - sin(q3 + q4) - cos(q3 + q4 + q5) + q2]])\n",
    "    fT = f.T\n",
    "    e = xd-fT\n",
    "    q = q + np.dot(np.linalg.inv(Ja_newton), e)\n",
    "    print(\"iteración:{}, error:{}\".format(i,np.linalg.norm(e)))\n",
    "#Condicion de termino \n",
    "    if (np.linalg.norm(e) < epsilon):\n",
    "         break \n",
    "print(q)"
   ]
  },
  {
   "cell_type": "code",
   "execution_count": 23,
   "metadata": {},
   "outputs": [
    {
     "name": "stdout",
     "output_type": "stream",
     "text": [
      "Jacobiano Geometrico: \n"
     ]
    },
    {
     "data": {
      "text/latex": [
       "$$\\left[\\begin{matrix}\\left(l_{3} \\cos{\\left (q_{3} \\right )} + l_{4} \\cos{\\left (q_{3} + q_{4} \\right )} - l_{5} \\sin{\\left (q_{3} + q_{4} + q_{5} \\right )}\\right) \\cos{\\left (q_{1} \\right )} & \\left(l_{3} \\cos{\\left (q_{3} \\right )} + l_{4} \\cos{\\left (q_{3} + q_{4} \\right )} - l_{5} \\sin{\\left (q_{3} + q_{4} + q_{5} \\right )}\\right) \\cos{\\left (q_{1} \\right )} & - \\left(l_{3} \\sin{\\left (q_{3} \\right )} + l_{4} \\sin{\\left (q_{3} + q_{4} \\right )} + l_{5} \\cos{\\left (q_{3} + q_{4} + q_{5} \\right )}\\right) \\sin{\\left (q_{1} \\right )} & - \\left(l_{4} \\sin{\\left (q_{3} + q_{4} \\right )} + l_{5} \\cos{\\left (q_{3} + q_{4} + q_{5} \\right )}\\right) \\sin{\\left (q_{1} \\right )} & - l_{5} \\sin{\\left (q_{1} \\right )} \\cos{\\left (q_{3} + q_{4} + q_{5} \\right )} & 0\\\\\\left(l_{3} \\cos{\\left (q_{3} \\right )} + l_{4} \\cos{\\left (q_{3} + q_{4} \\right )} - l_{5} \\sin{\\left (q_{3} + q_{4} + q_{5} \\right )}\\right) \\sin{\\left (q_{1} \\right )} & \\left(l_{3} \\cos{\\left (q_{3} \\right )} + l_{4} \\cos{\\left (q_{3} + q_{4} \\right )} - l_{5} \\sin{\\left (q_{3} + q_{4} + q_{5} \\right )}\\right) \\sin{\\left (q_{1} \\right )} & \\left(l_{3} \\sin{\\left (q_{3} \\right )} + l_{4} \\sin{\\left (q_{3} + q_{4} \\right )} + l_{5} \\cos{\\left (q_{3} + q_{4} + q_{5} \\right )}\\right) \\cos{\\left (q_{1} \\right )} & \\left(l_{4} \\sin{\\left (q_{3} + q_{4} \\right )} + l_{5} \\cos{\\left (q_{3} + q_{4} + q_{5} \\right )}\\right) \\cos{\\left (q_{1} \\right )} & l_{5} \\cos{\\left (q_{1} \\right )} \\cos{\\left (q_{3} + q_{4} + q_{5} \\right )} & 0\\\\0 & 0 & - l_{3} \\cos{\\left (q_{3} \\right )} - l_{4} \\cos{\\left (q_{3} + q_{4} \\right )} + l_{5} \\sin{\\left (q_{3} + q_{4} + q_{5} \\right )} & - l_{4} \\cos{\\left (q_{3} + q_{4} \\right )} + l_{5} \\sin{\\left (q_{3} + q_{4} + q_{5} \\right )} & l_{5} \\sin{\\left (q_{3} + q_{4} + q_{5} \\right )} & 0\\\\0 & 0 & \\cos{\\left (q_{1} \\right )} & \\cos{\\left (q_{1} \\right )} & \\cos{\\left (q_{1} \\right )} & \\left(- \\sin{\\left (q_{1} \\right )} \\sin{\\left (q_{3} \\right )} \\sin{\\left (q_{4} \\right )} + \\sin{\\left (q_{1} \\right )} \\cos{\\left (q_{3} \\right )} \\cos{\\left (q_{4} \\right )}\\right) \\sin{\\left (q_{5} \\right )} - \\left(- \\sin{\\left (q_{1} \\right )} \\sin{\\left (q_{3} \\right )} \\cos{\\left (q_{4} \\right )} - \\sin{\\left (q_{1} \\right )} \\sin{\\left (q_{4} \\right )} \\cos{\\left (q_{3} \\right )}\\right) \\cos{\\left (q_{5} \\right )}\\\\0 & 0 & \\sin{\\left (q_{1} \\right )} & \\sin{\\left (q_{1} \\right )} & \\sin{\\left (q_{1} \\right )} & \\left(\\sin{\\left (q_{3} \\right )} \\sin{\\left (q_{4} \\right )} \\cos{\\left (q_{1} \\right )} - \\cos{\\left (q_{1} \\right )} \\cos{\\left (q_{3} \\right )} \\cos{\\left (q_{4} \\right )}\\right) \\sin{\\left (q_{5} \\right )} - \\left(\\sin{\\left (q_{3} \\right )} \\cos{\\left (q_{1} \\right )} \\cos{\\left (q_{4} \\right )} + \\sin{\\left (q_{4} \\right )} \\cos{\\left (q_{1} \\right )} \\cos{\\left (q_{3} \\right )}\\right) \\cos{\\left (q_{5} \\right )}\\\\1 & 1 & 0 & 0 & 0 & - \\left(\\sin{\\left (q_{3} \\right )} \\sin{\\left (q_{4} \\right )} - \\cos{\\left (q_{3} \\right )} \\cos{\\left (q_{4} \\right )}\\right) \\cos{\\left (q_{5} \\right )} + \\left(- \\sin{\\left (q_{3} \\right )} \\cos{\\left (q_{4} \\right )} - \\sin{\\left (q_{4} \\right )} \\cos{\\left (q_{3} \\right )}\\right) \\sin{\\left (q_{5} \\right )}\\end{matrix}\\right]$$"
      ],
      "text/plain": [
       "⎡(l₃⋅cos(q₃) + l₄⋅cos(q₃ + q₄) - l₅⋅sin(q₃ + q₄ + q₅))⋅cos(q₁)  (l₃⋅cos(q₃) + \n",
       "⎢                                                                             \n",
       "⎢(l₃⋅cos(q₃) + l₄⋅cos(q₃ + q₄) - l₅⋅sin(q₃ + q₄ + q₅))⋅sin(q₁)  (l₃⋅cos(q₃) + \n",
       "⎢                                                                             \n",
       "⎢                              0                                              \n",
       "⎢                                                                             \n",
       "⎢                              0                                              \n",
       "⎢                                                                             \n",
       "⎢                              0                                              \n",
       "⎢                                                                             \n",
       "⎣                              1                                              \n",
       "\n",
       "l₄⋅cos(q₃ + q₄) - l₅⋅sin(q₃ + q₄ + q₅))⋅cos(q₁)  -(l₃⋅sin(q₃) + l₄⋅sin(q₃ + q₄\n",
       "                                                                              \n",
       "l₄⋅cos(q₃ + q₄) - l₅⋅sin(q₃ + q₄ + q₅))⋅sin(q₁)  (l₃⋅sin(q₃) + l₄⋅sin(q₃ + q₄)\n",
       "                                                                              \n",
       "                0                                     -l₃⋅cos(q₃) - l₄⋅cos(q₃ \n",
       "                                                                              \n",
       "                0                                                           co\n",
       "                                                                              \n",
       "                0                                                           si\n",
       "                                                                              \n",
       "                1                                                             \n",
       "\n",
       ") + l₅⋅cos(q₃ + q₄ + q₅))⋅sin(q₁)  -(l₄⋅sin(q₃ + q₄) + l₅⋅cos(q₃ + q₄ + q₅))⋅s\n",
       "                                                                              \n",
       " + l₅⋅cos(q₃ + q₄ + q₅))⋅cos(q₁)   (l₄⋅sin(q₃ + q₄) + l₅⋅cos(q₃ + q₄ + q₅))⋅co\n",
       "                                                                              \n",
       "+ q₄) + l₅⋅sin(q₃ + q₄ + q₅)            -l₄⋅cos(q₃ + q₄) + l₅⋅sin(q₃ + q₄ + q₅\n",
       "                                                                              \n",
       "s(q₁)                                                   cos(q₁)               \n",
       "                                                                              \n",
       "n(q₁)                                                   sin(q₁)               \n",
       "                                                                              \n",
       " 0                                                         0                  \n",
       "\n",
       "in(q₁)  -l₅⋅sin(q₁)⋅cos(q₃ + q₄ + q₅)                                         \n",
       "                                                                              \n",
       "s(q₁)   l₅⋅cos(q₁)⋅cos(q₃ + q₄ + q₅)                                          \n",
       "                                                                              \n",
       ")           l₅⋅sin(q₃ + q₄ + q₅)                                              \n",
       "                                                                              \n",
       "                   cos(q₁)             (-sin(q₁)⋅sin(q₃)⋅sin(q₄) + sin(q₁)⋅cos\n",
       "                                                                              \n",
       "                   sin(q₁)              (sin(q₃)⋅sin(q₄)⋅cos(q₁) - cos(q₁)⋅cos\n",
       "                                                                              \n",
       "                      0                                -(sin(q₃)⋅sin(q₄) - cos\n",
       "\n",
       "                      0                                                       \n",
       "                                                                              \n",
       "                      0                                                       \n",
       "                                                                              \n",
       "                      0                                                       \n",
       "                                                                              \n",
       "(q₃)⋅cos(q₄))⋅sin(q₅) - (-sin(q₁)⋅sin(q₃)⋅cos(q₄) - sin(q₁)⋅sin(q₄)⋅cos(q₃))⋅c\n",
       "                                                                              \n",
       "(q₃)⋅cos(q₄))⋅sin(q₅) - (sin(q₃)⋅cos(q₁)⋅cos(q₄) + sin(q₄)⋅cos(q₁)⋅cos(q₃))⋅co\n",
       "                                                                              \n",
       "(q₃)⋅cos(q₄))⋅cos(q₅) + (-sin(q₃)⋅cos(q₄) - sin(q₄)⋅cos(q₃))⋅sin(q₅)          \n",
       "\n",
       "      ⎤\n",
       "      ⎥\n",
       "      ⎥\n",
       "      ⎥\n",
       "      ⎥\n",
       "      ⎥\n",
       "os(q₅)⎥\n",
       "      ⎥\n",
       "s(q₅) ⎥\n",
       "      ⎥\n",
       "      ⎦"
      ]
     },
     "metadata": {},
     "output_type": "display_data"
    },
    {
     "name": "stdout",
     "output_type": "stream",
     "text": [
      "Jacobiano Analitico: \n"
     ]
    },
    {
     "data": {
      "text/latex": [
       "$$\\left[\\begin{matrix}\\left(l_{3} \\cos{\\left (q_{3} \\right )} + l_{4} \\cos{\\left (q_{3} + q_{4} \\right )} - l_{5} \\sin{\\left (q_{3} + q_{4} + q_{5} \\right )}\\right) \\cos{\\left (q_{1} \\right )} & 0 & \\left(- l_{3} \\sin{\\left (q_{3} \\right )} - l_{4} \\sin{\\left (q_{3} + q_{4} \\right )} - l_{5} \\cos{\\left (q_{3} + q_{4} + q_{5} \\right )}\\right) \\sin{\\left (q_{1} \\right )} & \\left(- l_{4} \\sin{\\left (q_{3} + q_{4} \\right )} - l_{5} \\cos{\\left (q_{3} + q_{4} + q_{5} \\right )}\\right) \\sin{\\left (q_{1} \\right )} & - l_{5} \\sin{\\left (q_{1} \\right )} \\cos{\\left (q_{3} + q_{4} + q_{5} \\right )} & 0\\\\- \\left(- l_{3} \\cos{\\left (q_{3} \\right )} - l_{4} \\cos{\\left (q_{3} + q_{4} \\right )} + l_{5} \\sin{\\left (q_{3} + q_{4} + q_{5} \\right )}\\right) \\sin{\\left (q_{1} \\right )} & 0 & \\left(l_{3} \\sin{\\left (q_{3} \\right )} + l_{4} \\sin{\\left (q_{3} + q_{4} \\right )} + l_{5} \\cos{\\left (q_{3} + q_{4} + q_{5} \\right )}\\right) \\cos{\\left (q_{1} \\right )} & \\left(l_{4} \\sin{\\left (q_{3} + q_{4} \\right )} + l_{5} \\cos{\\left (q_{3} + q_{4} + q_{5} \\right )}\\right) \\cos{\\left (q_{1} \\right )} & l_{5} \\cos{\\left (q_{1} \\right )} \\cos{\\left (q_{3} + q_{4} + q_{5} \\right )} & 0\\\\0 & 1 & - l_{3} \\cos{\\left (q_{3} \\right )} - l_{4} \\cos{\\left (q_{3} + q_{4} \\right )} + l_{5} \\sin{\\left (q_{3} + q_{4} + q_{5} \\right )} & - l_{4} \\cos{\\left (q_{3} + q_{4} \\right )} + l_{5} \\sin{\\left (q_{3} + q_{4} + q_{5} \\right )} & l_{5} \\sin{\\left (q_{3} + q_{4} + q_{5} \\right )} & 0\\end{matrix}\\right]$$"
      ],
      "text/plain": [
       "⎡ (l₃⋅cos(q₃) + l₄⋅cos(q₃ + q₄) - l₅⋅sin(q₃ + q₄ + q₅))⋅cos(q₁)   0  (-l₃⋅sin(\n",
       "⎢                                                                             \n",
       "⎢-(-l₃⋅cos(q₃) - l₄⋅cos(q₃ + q₄) + l₅⋅sin(q₃ + q₄ + q₅))⋅sin(q₁)  0  (l₃⋅sin(q\n",
       "⎢                                                                             \n",
       "⎣                               0                                 1       -l₃⋅\n",
       "\n",
       "q₃) - l₄⋅sin(q₃ + q₄) - l₅⋅cos(q₃ + q₄ + q₅))⋅sin(q₁)  (-l₄⋅sin(q₃ + q₄) - l₅⋅\n",
       "                                                                              \n",
       "₃) + l₄⋅sin(q₃ + q₄) + l₅⋅cos(q₃ + q₄ + q₅))⋅cos(q₁)   (l₄⋅sin(q₃ + q₄) + l₅⋅c\n",
       "                                                                              \n",
       "cos(q₃) - l₄⋅cos(q₃ + q₄) + l₅⋅sin(q₃ + q₄ + q₅)            -l₄⋅cos(q₃ + q₄) +\n",
       "\n",
       "cos(q₃ + q₄ + q₅))⋅sin(q₁)  -l₅⋅sin(q₁)⋅cos(q₃ + q₄ + q₅)  0⎤\n",
       "                                                            ⎥\n",
       "os(q₃ + q₄ + q₅))⋅cos(q₁)   l₅⋅cos(q₁)⋅cos(q₃ + q₄ + q₅)   0⎥\n",
       "                                                            ⎥\n",
       " l₅⋅sin(q₃ + q₄ + q₅)           l₅⋅sin(q₃ + q₄ + q₅)       0⎦"
      ]
     },
     "metadata": {},
     "output_type": "display_data"
    },
    {
     "name": "stdout",
     "output_type": "stream",
     "text": [
      "Matrix([[(l3*cos(q3) + l4*cos(q3 + q4) - l5*sin(q3 + q4 + q5))*cos(q1), 0, (-l3*sin(q3) - l4*sin(q3 + q4) - l5*cos(q3 + q4 + q5))*sin(q1), (-l4*sin(q3 + q4) - l5*cos(q3 + q4 + q5))*sin(q1), -l5*sin(q1)*cos(q3 + q4 + q5), 0], [-(-l3*cos(q3) - l4*cos(q3 + q4) + l5*sin(q3 + q4 + q5))*sin(q1), 0, (l3*sin(q3) + l4*sin(q3 + q4) + l5*cos(q3 + q4 + q5))*cos(q1), (l4*sin(q3 + q4) + l5*cos(q3 + q4 + q5))*cos(q1), l5*cos(q1)*cos(q3 + q4 + q5), 0], [0, 1, -l3*cos(q3) - l4*cos(q3 + q4) + l5*sin(q3 + q4 + q5), -l4*cos(q3 + q4) + l5*sin(q3 + q4 + q5), l5*sin(q3 + q4 + q5), 0]])\n"
     ]
    }
   ],
   "source": [
    "#Jacobiano geometrico y jacobiano analitico\n",
    "\n",
    "#Jacobiano geometrico\n",
    "\n",
    "T02=T01*T12\n",
    "T03=T01*T12*T23\n",
    "T04=T01*T12*T23*T34\n",
    "T05=T01*T12*T23*T34*T45\n",
    "\n",
    "p1=T01[0:3, 3]\n",
    "z1= T01[0:3, 2]\n",
    "p2=T02[0:3, 3]\n",
    "z2=T02[0:3, 2]\n",
    "p3=T03[0:3, 3]\n",
    "z3=T03[0:3, 2]\n",
    "p4=T04[0:3, 3]\n",
    "z4=T04[0:3, 2]\n",
    "p5=T05[0:3, 3]\n",
    "z5=T05[0:3, 2]\n",
    "p6=T06[0:3, 3]\n",
    "z6=T06[0:3, 2]\n",
    "\n",
    "z0 = sp.Matrix([[0],[0],[1]]);\n",
    "p0 = sp.Matrix([[0],[0],[0]]);\n",
    "Jv1 = sp.simplify(z0.cross(p6-p0)); \n",
    "Jv2 = sp.simplify(z1.cross(p6-p1)); \n",
    "Jv3 = sp.simplify(z2.cross(p6-p2)); \n",
    "Jv4 = sp.simplify(z3.cross(p6-p3)); \n",
    "Jv5 = sp.simplify(z4.cross(p6-p4)); \n",
    "Jv6 = sp.simplify(z5.cross(p6-p5)); \n",
    "Jw1=z0\n",
    "Jw2=z1\n",
    "Jw3=z2\n",
    "Jw4=z3\n",
    "Jw5=z4\n",
    "Jw6=z5\n",
    "\n",
    "J1 = sp.Matrix.vstack(Jv1, Jw1)\n",
    "J2 = sp.Matrix.vstack(Jv2, Jw2)\n",
    "J3 = sp.Matrix.vstack(Jv3, Jw3)\n",
    "J4 = sp.Matrix.vstack(Jv4, Jw4)\n",
    "J5 = sp.Matrix.vstack(Jv5, Jw5)\n",
    "J6 = sp.Matrix.vstack(Jv6, Jw6)\n",
    "J = sp.Matrix.hstack(J1, J2, J3,J4,J5,J6)\n",
    "\n",
    "print('Jacobiano Geometrico: '), display(J)\n",
    "\n",
    "#Jacobiano Analitico\n",
    "#Cinematica directa\n",
    "X=sp.Matrix([[ (l3*cos(q3) + l4*cos(q3 + q4) - l5*sin(q3 + q4 + q5))*sin(q1)],[(-l3*cos(q3) - l4*cos(q3 + q4) + l5*sin(q3 + q4 + q5))*cos(q1)],[l1 + l2 - l3*sin(q3) - l4*sin(q3 + q4) - l5*cos(q3 + q4 + q5) + q2]])\n",
    "# Variables articulares\n",
    "q = sp.Matrix([q1, q2, q3,q4,q5,q6])\n",
    "# Jacobiano analítico\n",
    "Ja = X.jacobian(q)\n",
    "print('Jacobiano Analitico: '), display(Ja)\n",
    "\n"
   ]
  },
  {
   "cell_type": "code",
   "execution_count": 19,
   "metadata": {},
   "outputs": [
    {
     "name": "stdout",
     "output_type": "stream",
     "text": [
      "El determinante es:\n"
     ]
    },
    {
     "data": {
      "image/png": "[encoded data removed]",
      "text/latex": [
       "$$- \\left(l_{3} \\sin{\\left (q_{3} \\right )} + l_{4} \\sin{\\left (q_{3} + q_{4} \\right )} + l_{5} \\cos{\\left (q_{3} + q_{4} + q_{5} \\right )}\\right) \\left(l_{3} \\cos{\\left (q_{3} \\right )} + l_{4} \\cos{\\left (q_{3} + q_{4} \\right )} - l_{5} \\sin{\\left (q_{3} + q_{4} + q_{5} \\right )}\\right)$$"
      ],
      "text/plain": [
       "-(l₃⋅sin(q₃) + l₄⋅sin(q₃ + q₄) + l₅⋅cos(q₃ + q₄ + q₅))⋅(l₃⋅cos(q₃) + l₄⋅cos(q₃\n",
       " + q₄) - l₅⋅sin(q₃ + q₄ + q₅))"
      ]
     },
     "metadata": {},
     "output_type": "display_data"
    },
    {
     "name": "stdout",
     "output_type": "stream",
     "text": [
      "Reemplazando q3=0 el Jacobiano analítico es:\n"
     ]
    },
    {
     "data": {
      "text/latex": [
       "$$\\left[\\begin{matrix}\\left(l_{3} + l_{4} \\cos{\\left (q_{4} \\right )} - l_{5} \\sin{\\left (q_{4} + q_{5} \\right )}\\right) \\cos{\\left (q_{1} \\right )} & 0 & - \\left(l_{4} \\sin{\\left (q_{4} \\right )} + l_{5} \\cos{\\left (q_{4} + q_{5} \\right )}\\right) \\sin{\\left (q_{1} \\right )}\\\\\\left(l_{3} + l_{4} \\cos{\\left (q_{4} \\right )} - l_{5} \\sin{\\left (q_{4} + q_{5} \\right )}\\right) \\sin{\\left (q_{1} \\right )} & 0 & \\left(l_{4} \\sin{\\left (q_{4} \\right )} + l_{5} \\cos{\\left (q_{4} + q_{5} \\right )}\\right) \\cos{\\left (q_{1} \\right )}\\\\0 & 1 & - l_{3} - l_{4} \\cos{\\left (q_{4} \\right )} + l_{5} \\sin{\\left (q_{4} + q_{5} \\right )}\\end{matrix}\\right]$$"
      ],
      "text/plain": [
       "⎡(l₃ + l₄⋅cos(q₄) - l₅⋅sin(q₄ + q₅))⋅cos(q₁)  0  -(l₄⋅sin(q₄) + l₅⋅cos(q₄ + q₅\n",
       "⎢                                                                             \n",
       "⎢(l₃ + l₄⋅cos(q₄) - l₅⋅sin(q₄ + q₅))⋅sin(q₁)  0  (l₄⋅sin(q₄) + l₅⋅cos(q₄ + q₅)\n",
       "⎢                                                                             \n",
       "⎣                     0                       1    -l₃ - l₄⋅cos(q₄) + l₅⋅sin(q\n",
       "\n",
       "))⋅sin(q₁)⎤\n",
       "          ⎥\n",
       ")⋅cos(q₁) ⎥\n",
       "          ⎥\n",
       "₄ + q₅)   ⎦"
      ]
     },
     "metadata": {},
     "output_type": "display_data"
    },
    {
     "name": "stdout",
     "output_type": "stream",
     "text": [
      "y su rango es: 3\n",
      "\n",
      "Reemplazando q3=pi el Jacobiano analítico es:\n"
     ]
    },
    {
     "data": {
      "text/latex": [
       "$$\\left[\\begin{matrix}\\left(- l_{3} - l_{4} \\cos{\\left (q_{4} \\right )} + l_{5} \\sin{\\left (q_{4} + q_{5} \\right )}\\right) \\cos{\\left (q_{1} \\right )} & 0 & \\left(l_{4} \\sin{\\left (q_{4} \\right )} + l_{5} \\cos{\\left (q_{4} + q_{5} \\right )}\\right) \\sin{\\left (q_{1} \\right )}\\\\\\left(- l_{3} - l_{4} \\cos{\\left (q_{4} \\right )} + l_{5} \\sin{\\left (q_{4} + q_{5} \\right )}\\right) \\sin{\\left (q_{1} \\right )} & 0 & - \\left(l_{4} \\sin{\\left (q_{4} \\right )} + l_{5} \\cos{\\left (q_{4} + q_{5} \\right )}\\right) \\cos{\\left (q_{1} \\right )}\\\\0 & 1 & l_{3} + l_{4} \\cos{\\left (q_{4} \\right )} - l_{5} \\sin{\\left (q_{4} + q_{5} \\right )}\\end{matrix}\\right]$$"
      ],
      "text/plain": [
       "⎡(-l₃ - l₄⋅cos(q₄) + l₅⋅sin(q₄ + q₅))⋅cos(q₁)  0  (l₄⋅sin(q₄) + l₅⋅cos(q₄ + q₅\n",
       "⎢                                                                             \n",
       "⎢(-l₃ - l₄⋅cos(q₄) + l₅⋅sin(q₄ + q₅))⋅sin(q₁)  0  -(l₄⋅sin(q₄) + l₅⋅cos(q₄ + q\n",
       "⎢                                                                             \n",
       "⎣                     0                        1     l₃ + l₄⋅cos(q₄) - l₅⋅sin(\n",
       "\n",
       "))⋅sin(q₁) ⎤\n",
       "           ⎥\n",
       "₅))⋅cos(q₁)⎥\n",
       "           ⎥\n",
       "q₄ + q₅)   ⎦"
      ]
     },
     "metadata": {},
     "output_type": "display_data"
    },
    {
     "name": "stdout",
     "output_type": "stream",
     "text": [
      "y su rango es: 3\n",
      "Reemplazando q4=0 el Jacobiano analítico es:\n"
     ]
    },
    {
     "data": {
      "text/latex": [
       "$$\\left[\\begin{matrix}\\left(l_{3} \\cos{\\left (q_{3} \\right )} + l_{4} \\cos{\\left (q_{3} \\right )} - l_{5} \\sin{\\left (q_{3} + q_{5} \\right )}\\right) \\cos{\\left (q_{1} \\right )} & 0 & - \\left(l_{3} \\sin{\\left (q_{3} \\right )} + l_{4} \\sin{\\left (q_{3} \\right )} + l_{5} \\cos{\\left (q_{3} + q_{5} \\right )}\\right) \\sin{\\left (q_{1} \\right )}\\\\\\left(l_{3} \\cos{\\left (q_{3} \\right )} + l_{4} \\cos{\\left (q_{3} \\right )} - l_{5} \\sin{\\left (q_{3} + q_{5} \\right )}\\right) \\sin{\\left (q_{1} \\right )} & 0 & \\left(l_{3} \\sin{\\left (q_{3} \\right )} + l_{4} \\sin{\\left (q_{3} \\right )} + l_{5} \\cos{\\left (q_{3} + q_{5} \\right )}\\right) \\cos{\\left (q_{1} \\right )}\\\\0 & 1 & - l_{3} \\cos{\\left (q_{3} \\right )} - l_{4} \\cos{\\left (q_{3} \\right )} + l_{5} \\sin{\\left (q_{3} + q_{5} \\right )}\\end{matrix}\\right]$$"
      ],
      "text/plain": [
       "⎡(l₃⋅cos(q₃) + l₄⋅cos(q₃) - l₅⋅sin(q₃ + q₅))⋅cos(q₁)  0  -(l₃⋅sin(q₃) + l₄⋅sin\n",
       "⎢                                                                             \n",
       "⎢(l₃⋅cos(q₃) + l₄⋅cos(q₃) - l₅⋅sin(q₃ + q₅))⋅sin(q₁)  0  (l₃⋅sin(q₃) + l₄⋅sin(\n",
       "⎢                                                                             \n",
       "⎣                         0                           1       -l₃⋅cos(q₃) - l₄\n",
       "\n",
       "(q₃) + l₅⋅cos(q₃ + q₅))⋅sin(q₁)⎤\n",
       "                               ⎥\n",
       "q₃) + l₅⋅cos(q₃ + q₅))⋅cos(q₁) ⎥\n",
       "                               ⎥\n",
       "⋅cos(q₃) + l₅⋅sin(q₃ + q₅)     ⎦"
      ]
     },
     "metadata": {},
     "output_type": "display_data"
    },
    {
     "name": "stdout",
     "output_type": "stream",
     "text": [
      "y su rango es: 3\n",
      "\n",
      "Reemplazando q4=pi el Jacobiano analítico es:\n"
     ]
    },
    {
     "data": {
      "text/latex": [
       "$$\\left[\\begin{matrix}\\left(l_{3} \\cos{\\left (q_{3} \\right )} - l_{4} \\cos{\\left (q_{3} \\right )} + l_{5} \\sin{\\left (q_{3} + q_{5} \\right )}\\right) \\cos{\\left (q_{1} \\right )} & 0 & \\left(- l_{3} \\sin{\\left (q_{3} \\right )} + l_{4} \\sin{\\left (q_{3} \\right )} + l_{5} \\cos{\\left (q_{3} + q_{5} \\right )}\\right) \\sin{\\left (q_{1} \\right )}\\\\\\left(l_{3} \\cos{\\left (q_{3} \\right )} - l_{4} \\cos{\\left (q_{3} \\right )} + l_{5} \\sin{\\left (q_{3} + q_{5} \\right )}\\right) \\sin{\\left (q_{1} \\right )} & 0 & \\left(l_{3} \\sin{\\left (q_{3} \\right )} - l_{4} \\sin{\\left (q_{3} \\right )} - l_{5} \\cos{\\left (q_{3} + q_{5} \\right )}\\right) \\cos{\\left (q_{1} \\right )}\\\\0 & 1 & - l_{3} \\cos{\\left (q_{3} \\right )} + l_{4} \\cos{\\left (q_{3} \\right )} - l_{5} \\sin{\\left (q_{3} + q_{5} \\right )}\\end{matrix}\\right]$$"
      ],
      "text/plain": [
       "⎡(l₃⋅cos(q₃) - l₄⋅cos(q₃) + l₅⋅sin(q₃ + q₅))⋅cos(q₁)  0  (-l₃⋅sin(q₃) + l₄⋅sin\n",
       "⎢                                                                             \n",
       "⎢(l₃⋅cos(q₃) - l₄⋅cos(q₃) + l₅⋅sin(q₃ + q₅))⋅sin(q₁)  0  (l₃⋅sin(q₃) - l₄⋅sin(\n",
       "⎢                                                                             \n",
       "⎣                         0                           1       -l₃⋅cos(q₃) + l₄\n",
       "\n",
       "(q₃) + l₅⋅cos(q₃ + q₅))⋅sin(q₁)⎤\n",
       "                               ⎥\n",
       "q₃) - l₅⋅cos(q₃ + q₅))⋅cos(q₁) ⎥\n",
       "                               ⎥\n",
       "⋅cos(q₃) - l₅⋅sin(q₃ + q₅)     ⎦"
      ]
     },
     "metadata": {},
     "output_type": "display_data"
    },
    {
     "name": "stdout",
     "output_type": "stream",
     "text": [
      "y su rango es: 3\n",
      "Reemplazando q5=0 el Jacobiano analítico es:\n"
     ]
    },
    {
     "data": {
      "text/latex": [
       "$$\\left[\\begin{matrix}\\left(l_{3} \\cos{\\left (q_{3} \\right )} + l_{4} \\cos{\\left (q_{3} + q_{4} \\right )} - l_{5} \\sin{\\left (q_{3} + q_{4} \\right )}\\right) \\cos{\\left (q_{1} \\right )} & 0 & - \\left(l_{3} \\sin{\\left (q_{3} \\right )} + l_{4} \\sin{\\left (q_{3} + q_{4} \\right )} + l_{5} \\cos{\\left (q_{3} + q_{4} \\right )}\\right) \\sin{\\left (q_{1} \\right )}\\\\\\left(l_{3} \\cos{\\left (q_{3} \\right )} + l_{4} \\cos{\\left (q_{3} + q_{4} \\right )} - l_{5} \\sin{\\left (q_{3} + q_{4} \\right )}\\right) \\sin{\\left (q_{1} \\right )} & 0 & \\left(l_{3} \\sin{\\left (q_{3} \\right )} + l_{4} \\sin{\\left (q_{3} + q_{4} \\right )} + l_{5} \\cos{\\left (q_{3} + q_{4} \\right )}\\right) \\cos{\\left (q_{1} \\right )}\\\\0 & 1 & - l_{3} \\cos{\\left (q_{3} \\right )} - l_{4} \\cos{\\left (q_{3} + q_{4} \\right )} + l_{5} \\sin{\\left (q_{3} + q_{4} \\right )}\\end{matrix}\\right]$$"
      ],
      "text/plain": [
       "⎡(l₃⋅cos(q₃) + l₄⋅cos(q₃ + q₄) - l₅⋅sin(q₃ + q₄))⋅cos(q₁)  0  -(l₃⋅sin(q₃) + l\n",
       "⎢                                                                             \n",
       "⎢(l₃⋅cos(q₃) + l₄⋅cos(q₃ + q₄) - l₅⋅sin(q₃ + q₄))⋅sin(q₁)  0  (l₃⋅sin(q₃) + l₄\n",
       "⎢                                                                             \n",
       "⎣                           0                              1       -l₃⋅cos(q₃)\n",
       "\n",
       "₄⋅sin(q₃ + q₄) + l₅⋅cos(q₃ + q₄))⋅sin(q₁)⎤\n",
       "                                         ⎥\n",
       "⋅sin(q₃ + q₄) + l₅⋅cos(q₃ + q₄))⋅cos(q₁) ⎥\n",
       "                                         ⎥\n",
       " - l₄⋅cos(q₃ + q₄) + l₅⋅sin(q₃ + q₄)     ⎦"
      ]
     },
     "metadata": {},
     "output_type": "display_data"
    },
    {
     "name": "stdout",
     "output_type": "stream",
     "text": [
      "y su rango es: 3\n",
      "\n",
      "Reemplazando q5=pi el Jacobiano analítico es:\n"
     ]
    },
    {
     "data": {
      "text/latex": [
       "$$\\left[\\begin{matrix}\\left(l_{3} \\cos{\\left (q_{3} \\right )} + l_{4} \\cos{\\left (q_{3} + q_{4} \\right )} + l_{5} \\sin{\\left (q_{3} + q_{4} \\right )}\\right) \\cos{\\left (q_{1} \\right )} & 0 & \\left(- l_{3} \\sin{\\left (q_{3} \\right )} - l_{4} \\sin{\\left (q_{3} + q_{4} \\right )} + l_{5} \\cos{\\left (q_{3} + q_{4} \\right )}\\right) \\sin{\\left (q_{1} \\right )}\\\\\\left(l_{3} \\cos{\\left (q_{3} \\right )} + l_{4} \\cos{\\left (q_{3} + q_{4} \\right )} + l_{5} \\sin{\\left (q_{3} + q_{4} \\right )}\\right) \\sin{\\left (q_{1} \\right )} & 0 & \\left(l_{3} \\sin{\\left (q_{3} \\right )} + l_{4} \\sin{\\left (q_{3} + q_{4} \\right )} - l_{5} \\cos{\\left (q_{3} + q_{4} \\right )}\\right) \\cos{\\left (q_{1} \\right )}\\\\0 & 1 & - l_{3} \\cos{\\left (q_{3} \\right )} - l_{4} \\cos{\\left (q_{3} + q_{4} \\right )} - l_{5} \\sin{\\left (q_{3} + q_{4} \\right )}\\end{matrix}\\right]$$"
      ],
      "text/plain": [
       "⎡(l₃⋅cos(q₃) + l₄⋅cos(q₃ + q₄) + l₅⋅sin(q₃ + q₄))⋅cos(q₁)  0  (-l₃⋅sin(q₃) - l\n",
       "⎢                                                                             \n",
       "⎢(l₃⋅cos(q₃) + l₄⋅cos(q₃ + q₄) + l₅⋅sin(q₃ + q₄))⋅sin(q₁)  0  (l₃⋅sin(q₃) + l₄\n",
       "⎢                                                                             \n",
       "⎣                           0                              1       -l₃⋅cos(q₃)\n",
       "\n",
       "₄⋅sin(q₃ + q₄) + l₅⋅cos(q₃ + q₄))⋅sin(q₁)⎤\n",
       "                                         ⎥\n",
       "⋅sin(q₃ + q₄) - l₅⋅cos(q₃ + q₄))⋅cos(q₁) ⎥\n",
       "                                         ⎥\n",
       " - l₄⋅cos(q₃ + q₄) - l₅⋅sin(q₃ + q₄)     ⎦"
      ]
     },
     "metadata": {},
     "output_type": "display_data"
    },
    {
     "name": "stdout",
     "output_type": "stream",
     "text": [
      "y su rango es: 3\n"
     ]
    }
   ],
   "source": [
    "\n",
    "#Singularidades cinematicas\n",
    "\n",
    "#Evaluamos las singularidades cinematicas\n",
    "Jaxyz = Ja[0:3,0:3]\n",
    "det = sp.simplify(Jaxyz.det())\n",
    "print(\"El determinante es:\"); display(det)\n",
    "\n",
    "# Reemplazando q3=0 se obtiene:\n",
    "Jq3_0 = sp.simplify(Jaxyz.subs({q3:0}))\n",
    "# Reemplazando q3=pi se obtiene:\n",
    "Jq3_1 = sp.simplify(Jaxyz.subs({q3:sp.pi}))\n",
    "# Reemplazando q4=0 se obtiene:\n",
    "Jq4_0 = sp.simplify(Jaxyz.subs({q4:0}))\n",
    "# Reemplazando q4=pi se obtiene:\n",
    "Jq4_1 = sp.simplify(Jaxyz.subs({q4:sp.pi}))\n",
    "# Reemplazando q5=0 se obtiene:\n",
    "Jq5_0 = sp.simplify(Jaxyz.subs({q5:0}))\n",
    "# Reemplazando q5=pi se obtiene:\n",
    "Jq5_1 = sp.simplify(Jaxyz.subs({q5:sp.pi}))\n",
    "# Rango de las matrices\n",
    "r0 = Jq3_0.rank()\n",
    "r1 = Jq3_1.rank()\n",
    "r2 = Jq4_0.rank()\n",
    "r3 = Jq4_1.rank()\n",
    "r4 = Jq5_0.rank()\n",
    "r5 = Jq5_1.rank()\n",
    "print(\"Reemplazando q3=0 el Jacobiano analítico es:\"); display(Jq3_0)\n",
    "print(\"y su rango es:\", r0)\n",
    "print(\"\\nReemplazando q3=pi el Jacobiano analítico es:\"); display(Jq3_1)\n",
    "print(\"y su rango es:\", r1)\n",
    "print(\"Reemplazando q4=0 el Jacobiano analítico es:\"); display(Jq4_0)\n",
    "print(\"y su rango es:\", r2)\n",
    "print(\"\\nReemplazando q4=pi el Jacobiano analítico es:\"); display(Jq4_1)\n",
    "print(\"y su rango es:\", r3)\n",
    "print(\"Reemplazando q5=0 el Jacobiano analítico es:\"); display(Jq5_0)\n",
    "print(\"y su rango es:\", r4)\n",
    "print(\"\\nReemplazando q5=pi el Jacobiano analítico es:\"); display(Jq5_1)\n",
    "print(\"y su rango es:\", r5)\n",
    "\n"
   ]
  }
 ],
 "metadata": {
  "kernelspec": {
   "display_name": "Python 3",
   "language": "python",
   "name": "python3"
  },
  "language_info": {
   "codemirror_mode": {
    "name": "ipython",
    "version": 3
   },
   "file_extension": ".py",
   "mimetype": "text/x-python",
   "name": "python",
   "nbconvert_exporter": "python",
   "pygments_lexer": "ipython3",
   "version": "3.6.6"
  }
 },
 "nbformat": 4,
 "nbformat_minor": 2
}
