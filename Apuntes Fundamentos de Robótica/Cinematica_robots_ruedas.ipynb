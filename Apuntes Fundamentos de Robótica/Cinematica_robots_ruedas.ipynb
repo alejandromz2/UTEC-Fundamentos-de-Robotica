{
 "cells": [
  {
   "cell_type": "code",
   "execution_count": 2,
   "metadata": {},
   "outputs": [],
   "source": [
    "import numpy as np\n",
    "import sympy as sp\n",
    "from sympy import init_printing\n",
    "from sympy import Matrix\n",
    "from sympy.interactive import printing\n",
    "from sympy import sympify\n",
    "printing.init_printing(use_latex=True)\n",
    "sin=sp.sin\n",
    "cos=sp.cos\n",
    "pi=sp.pi\n"
   ]
  },
  {
   "cell_type": "code",
   "execution_count": 3,
   "metadata": {},
   "outputs": [],
   "source": [
    "#Funciones de rotación canonicas con valores simbolicos\n",
    "def srotx(ang):\n",
    "    Rx=sp.Matrix([[1,0,0],\n",
    "                  [0,sp.cos(ang),-sp.sin(ang)],\n",
    "                  [0, sp.sin(ang), sp.cos(ang)]])\n",
    "    return Rx\n",
    "def sroty(ang):\n",
    "    Ry= sp.Matrix([[sp.cos(ang),0,sp.sin(ang)],\n",
    "                  [0,1,0],\n",
    "                  [-sp.sin(ang), 0, sp.cos(ang)]])\n",
    "    return Ry\n",
    "def srotz(ang):\n",
    "    Rz= sp.Matrix([[sp.cos(ang),-sp.sin(ang),0],\n",
    "                  [sp.sin(ang), sp.cos(ang), 0],\n",
    "                  [0,0,1]])\n",
    "    return Rz\n",
    "\n",
    "\n",
    "#T given t,R\n",
    "def T_tR(t,R):\n",
    "    T = np.vstack((np.hstack((R,t)),np.array([[0, 0, 0, 1]])))\n",
    "    return T\n",
    "def rotdh(d,th,a,alf):\n",
    "    T=sp.Matrix([[cos(th),-cos(alf)*sin(th),sin(alf)*sin(th),a*cos(th)],\n",
    "                  [sin(th),cos(alf)*cos(th),-sin(alf)*cos(th),a*sin(th)],\n",
    "                  [0, sin(alf), cos(alf),d],[0, 0, 0, 1]])\n",
    "    return T"
   ]
  },
  {
   "cell_type": "code",
   "execution_count": null,
   "metadata": {},
   "outputs": [],
   "source": [
    "def cd_ruedas(alf,beta,l,r,'c',v,phi=None,d=None):\n",
    "    if d==Value:\n",
    "        A11=sin(alf+beta)\n",
    "        A12=-cos(alf+beta)\n",
    "        A13=-l*cos(beta+phi)\n",
    "        A21=cos(alf+beta)\n",
    "        A22=sin(alf+beta)\n",
    "        A23=l*sin(beta)+d\n",
    "        A=np.array([[A11,A12,A13],[A21,A22,A23]])\n",
    "        B=np.array([[r],[-diff(beta,beta)*d]])\n",
    "        if c=='i':\n",
    "            dv=sp.vstack\n",
    "            CI=np.linalgv.pinv(A)*\n",
    "        \n",
    "    if phi==Value:\n",
    "        vx=sin(alf+beta+phi)\n",
    "        vy=-cos(alf+beta+phi)\n",
    "        w=-l*cos(beta+phi)       \n",
    "    "
   ]
  },
  {
   "cell_type": "code",
   "execution_count": null,
   "metadata": {},
   "outputs": [],
   "source": [
    "alf, beta, phi,d, r, l, vdx,vdy,thdes,bt= sp.symbols('alf beta phi d r l vdx vdy thdes bt')\n",
    "tdeseado=sp.Matrix([[vdx],[vdy],[thdes]])\n",
    "sin=sp.sin\n",
    "cos=sp.cos\n",
    "\n",
    "\n",
    "A11=sin(alf+beta)\n",
    "A12=-cos(alf+beta)\n",
    "A13=-l*cos(beta+phi)\n",
    "A21=cos(alf+beta)\n",
    "A22=sin(alf+beta)\n",
    "A23=l*sin(beta)+d\n",
    "A=sp.Matrix([[A11,A12,A13],[A21,A22,A23]])\n",
    "B=sp.Matrix([[r],[-bt*d]])\n",
    "CI=B.pinv()*A*tdeseado\n",
    "CI\n"
   ]
  },
  {
   "cell_type": "markdown",
   "metadata": {},
   "source": [
    "### Ejemplo 2: Robot Diferencial"
   ]
  },
  {
   "cell_type": "code",
   "execution_count": null,
   "metadata": {},
   "outputs": [],
   "source": [
    "r,b,x,y,w, th=sp.symbols('r b vx vy w \\ theta')\n",
    "from sympy import lambdify\n",
    "beta1=0\n",
    "alf1=pi/2\n",
    "beta2=pi\n",
    "alf2=270*pi/180\n",
    "l1=b\n",
    "l2=-b\n",
    "\n",
    "# A=sp.Matrix([[sin(alf1+beta1), -cos(alf1+beta1), 1*cos(beta1)], #-l1\n",
    "#              [sin(alf2+beta2), -cos(alf2+beta2),  1*cos(beta2)], #-l2\n",
    "#              [cos(alf1+beta1), sin(alf1+beta1), 1*sin(beta1)],   # l1\n",
    "#              [cos(alf2+beta2), sin(alf2+beta2), -1*sin(beta2)]])  # l2\n",
    "\n",
    "# An =  np.array(A.tolist()).astype(np.int32)\n",
    "# An\n",
    "\n",
    "A=sp.Matrix([[1, 0, b],\n",
    "             [1, 0, -b],\n",
    "             [0, 1, 0],\n",
    "             [0, 1, 0]])\n",
    "B=sp.Matrix([[r, 0],[0,r],[0, 0],[0, 0]])\n",
    "T=sp.Matrix([[x],[y],[w]])\n",
    "\n",
    "#Cinematica inversa\n",
    "phi=B.pinv()*A*T\n",
    "phi\n",
    "\n",
    "dphid, dphii=sp.symbols('\\dot{\\phi}_d \\dot{\\phi}_i,')\n",
    "\n",
    "#Cinematica directa\n",
    "t_r=A.pinv()*B*sp.Matrix([[dphid],[dphii]])\n",
    "\n",
    "\n",
    "#Cinematica directa del robot en el sistema d referencia inercial\n",
    "\n",
    "t_i=srotz(th)*t_r\n",
    "\n"
   ]
  },
  {
   "cell_type": "markdown",
   "metadata": {},
   "source": [
    "### Ejemplo 4: Robot omnidireccional"
   ]
  },
  {
   "cell_type": "code",
   "execution_count": 5,
   "metadata": {},
   "outputs": [
    {
     "data": {
      "text/latex": [
       "$$\\left[\\begin{matrix}- \\frac{l w}{r} + \\frac{\\sqrt{3} vx}{2 r} - \\frac{vy}{2 r}\\\\- \\frac{l w}{r} + \\frac{vy}{r}\\\\- \\frac{l w}{r} - \\frac{\\sqrt{3} vx}{2 r} - \\frac{vy}{2 r}\\end{matrix}\\right]$$"
      ],
      "text/plain": [
       "⎡  l⋅w   √3⋅vx    vy⎤\n",
       "⎢- ─── + ───── - ───⎥\n",
       "⎢   r     2⋅r    2⋅r⎥\n",
       "⎢                   ⎥\n",
       "⎢      l⋅w   vy     ⎥\n",
       "⎢    - ─── + ──     ⎥\n",
       "⎢       r    r      ⎥\n",
       "⎢                   ⎥\n",
       "⎢  l⋅w   √3⋅vx    vy⎥\n",
       "⎢- ─── - ───── - ───⎥\n",
       "⎣   r     2⋅r    2⋅r⎦"
      ]
     },
     "metadata": {},
     "output_type": "display_data"
    },
    {
     "data": {
      "text/latex": [
       "$$\\left[\\begin{matrix}\\frac{\\sqrt{3} \\phi1 r}{3} - \\frac{\\sqrt{3} \\phi3 r}{3}\\\\- \\frac{\\phi1 r}{3} + \\frac{2 \\phi2 r}{3} - \\frac{\\phi3 r}{3}\\\\- \\frac{\\phi1 r}{3 l} - \\frac{\\phi2 r}{3 l} - \\frac{\\phi3 r}{3 l}\\end{matrix}\\right]$$"
      ],
      "text/plain": [
       "⎡    √3⋅\\phi1⋅r   √3⋅\\phi3⋅r    ⎤\n",
       "⎢    ────────── - ──────────    ⎥\n",
       "⎢        3            3         ⎥\n",
       "⎢                               ⎥\n",
       "⎢  \\phi1⋅r   2⋅\\phi2⋅r   \\phi3⋅r⎥\n",
       "⎢- ─────── + ───────── - ───────⎥\n",
       "⎢     3          3          3   ⎥\n",
       "⎢                               ⎥\n",
       "⎢   \\phi1⋅r   \\phi2⋅r   \\phi3⋅r ⎥\n",
       "⎢ - ─────── - ─────── - ─────── ⎥\n",
       "⎣     3⋅l       3⋅l       3⋅l   ⎦"
      ]
     },
     "metadata": {},
     "output_type": "display_data"
    },
    {
     "data": {
      "image/png": "[encoded data removed]",
      "text/latex": [
       "$$\\frac{\\sqrt{3}}{3}$$"
      ],
      "text/plain": [
       "√3\n",
       "──\n",
       "3 "
      ]
     },
     "metadata": {},
     "output_type": "display_data"
    }
   ],
   "source": [
    "l,vx,vy,w,r=sp.symbols('l vx vy w r')\n",
    "beta1=0\n",
    "alf1=60*pi/180\n",
    "l1=l\n",
    "beta2=0\n",
    "alf2=180*pi/180\n",
    "l2=l\n",
    "beta3=0\n",
    "alf3=300*pi/180\n",
    "l3=l\n",
    "y=0\n",
    "\n",
    "t_v=sp.Matrix([[vx],[vy],[w]])\n",
    "\n",
    "A=sp.Matrix([[sin(alf1+beta1+y), -cos(alf1+beta1+y), -l1*cos(beta1+y)],\n",
    "             [sin(alf2+beta2+y), -cos(alf2+beta2+y), -l2*cos(beta2+y)],\n",
    "             [sin(alf3+beta3+y), -cos(alf3+beta3+y), -l3*cos(beta3+y)]])\n",
    "\n",
    "B=sp.Matrix([[r*cos(y), 0, 0],[0,r*cos(y),0],[0, 0,r*cos(y)]])\n",
    "\n",
    "#Cinematica inversa\n",
    "\n",
    "phi=B.pinv()*A*t_v\n",
    "\n",
    "display(phi)\n",
    "\n",
    "#Cinematica directa\n",
    "fi1, fi2, fi3 = sp.symbols('\\phi1, \\phi2, \\phi3')\n",
    "ph=sp.Matrix([[fi1],[fi2],[fi3]])\n",
    "CD=A.pinv()*B*ph\n",
    "display(CD)\n",
    "display(sp.simplify(sp.sqrt(3)/3))"
   ]
  },
  {
   "cell_type": "code",
   "execution_count": 4,
   "metadata": {},
   "outputs": [
    {
     "data": {
      "text/latex": [
       "$$\\left[\\begin{matrix}0\\\\0.0166666666666667\\\\-0.111111111111111\\end{matrix}\\right]$$"
      ],
      "text/plain": [
       "⎡        0         ⎤\n",
       "⎢                  ⎥\n",
       "⎢0.0166666666666667⎥\n",
       "⎢                  ⎥\n",
       "⎣-0.111111111111111⎦"
      ]
     },
     "metadata": {},
     "output_type": "display_data"
    },
    {
     "ename": "NameError",
     "evalue": "name 'ph' is not defined",
     "output_type": "error",
     "traceback": [
      "\u001b[1;31m---------------------------------------------------------------------------\u001b[0m",
      "\u001b[1;31mNameError\u001b[0m                                 Traceback (most recent call last)",
      "\u001b[1;32m<ipython-input-4-b3f170cb4da9>\u001b[0m in \u001b[0;36m<module>\u001b[1;34m()\u001b[0m\n\u001b[0;32m     31\u001b[0m \u001b[0mvx\u001b[0m\u001b[1;33m,\u001b[0m \u001b[0mvy\u001b[0m\u001b[1;33m,\u001b[0m \u001b[0mw\u001b[0m \u001b[1;33m=\u001b[0m \u001b[0msp\u001b[0m\u001b[1;33m.\u001b[0m\u001b[0msymbols\u001b[0m\u001b[1;33m(\u001b[0m\u001b[1;34m'vx, vy, w'\u001b[0m\u001b[1;33m)\u001b[0m\u001b[1;33m\u001b[0m\u001b[0m\n\u001b[0;32m     32\u001b[0m \u001b[1;33m\u001b[0m\u001b[0m\n\u001b[1;32m---> 33\u001b[1;33m \u001b[0mv_w_s\u001b[0m\u001b[1;33m=\u001b[0m\u001b[0mA\u001b[0m\u001b[1;33m.\u001b[0m\u001b[0mpinv\u001b[0m\u001b[1;33m(\u001b[0m\u001b[1;33m)\u001b[0m\u001b[1;33m*\u001b[0m\u001b[0mB\u001b[0m\u001b[1;33m*\u001b[0m\u001b[0mph\u001b[0m\u001b[1;33m\u001b[0m\u001b[0m\n\u001b[0m\u001b[0;32m     34\u001b[0m \u001b[1;33m\u001b[0m\u001b[0m\n\u001b[0;32m     35\u001b[0m \u001b[0mv_w_vx\u001b[0m\u001b[1;33m=\u001b[0m\u001b[0msp\u001b[0m\u001b[1;33m.\u001b[0m\u001b[0mMatrix\u001b[0m\u001b[1;33m(\u001b[0m\u001b[1;33m[\u001b[0m\u001b[1;33m[\u001b[0m\u001b[0mvx\u001b[0m\u001b[1;33m]\u001b[0m\u001b[1;33m,\u001b[0m\u001b[1;33m[\u001b[0m\u001b[1;36m0\u001b[0m\u001b[1;33m]\u001b[0m\u001b[1;33m,\u001b[0m\u001b[1;33m[\u001b[0m\u001b[1;36m0\u001b[0m\u001b[1;33m]\u001b[0m\u001b[1;33m]\u001b[0m\u001b[1;33m)\u001b[0m\u001b[1;33m\u001b[0m\u001b[0m\n",
      "\u001b[1;31mNameError\u001b[0m: name 'ph' is not defined"
     ]
    }
   ],
   "source": [
    "#Problema 2 examen 2 2017-1\n",
    "\n",
    "beta1=0\n",
    "alf1=60*pi/180\n",
    "l1=0.3\n",
    "beta2=0\n",
    "alf2=180*pi/180\n",
    "l2=0.3\n",
    "beta3=0\n",
    "alf3=300*pi/180\n",
    "l3=0.3\n",
    "y=0\n",
    "\n",
    "r=5/100 #radio de las ruedas en metros\n",
    "\n",
    "A=sp.Matrix([[sin(alf1+beta1+y), -cos(alf1+beta1+y), -l1*cos(beta1+y)],\n",
    "             [sin(alf2+beta2+y), -cos(alf2+beta2+y), -l2*cos(beta2+y)],\n",
    "             [sin(alf3+beta3+y), -cos(alf3+beta3+y), -l3*cos(beta3+y)]])\n",
    "\n",
    "B=sp.Matrix([[r*cos(y), 0, 0],[0,r*cos(y),0],[0, 0,r*cos(y)]])\n",
    "\n",
    "phi=sp.Matrix([[0.5],[1],[0.5]])\n",
    "\n",
    "#a\n",
    "v_w=A.pinv()*B*phi\n",
    "v_w, phi\n",
    "\n",
    "display(v_w)\n",
    "\n",
    "#b\n",
    "vx, vy, w = sp.symbols('vx, vy, w')\n",
    "\n",
    "v_w_s=A.pinv()*B*ph\n",
    "\n",
    "v_w_vx=sp.Matrix([[vx],[0],[0]])\n",
    "v_w_vy=sp.Matrix([[0],[vy],[0]])\n",
    "v_w_w=sp.Matrix([[0],[0],[w]])\n",
    "\n",
    "phvx=B.pinv()*A*v_w_vx\n",
    "print('La velocidad de las ruedas debido a vx:')\n",
    "display(phvx.evalf(6))\n",
    "phvy=B.pinv()*A*v_w_vy\n",
    "print('La velocidad de las ruedas debido a vy:')\n",
    "display(phvy.evalf(6))\n",
    "phw=B.pinv()*A*v_w_w\n",
    "print('La velocidad de las ruedas debido a w:')\n",
    "display(phw.evalf(6))\n",
    "\n",
    "#Parte c\n",
    "\n",
    "phi1, phi2, phi3 = sp.symbols('\\phi1, \\phi2, \\phi3')\n",
    "\n",
    "#Cinematica inversa del robot movil\n",
    "\n",
    "p=sp.Matrix([[phi1],[phi2],[phi3]])\n",
    "v_w=A.pinv()*B*p\n",
    "\n",
    "print('La cinematica inversa del robot es:')\n",
    "display(v_w)\n",
    "\n",
    "\n",
    "#Caso de giro de phi1 puro\n",
    "\n",
    "vr_1=sp.Matrix([[10],[0],[-10]])\n",
    "vr_2=sp.Matrix([[-5],[10],[-5]])\n",
    "vr_3=sp.Matrix([[-10],[-10],[-10]])\n",
    "\n",
    "\n",
    "v_w_t1=A.pinv()*B*vr_1\n",
    "print('La velocidad debido a phi1=10 es:')\n",
    "display(v_w_t1.evalf(6))\n",
    "v_w_t2=A.pinv()*B*vr_2\n",
    "print('La velocidad debido a phi2=10 es:')\n",
    "display(v_w_t2.evalf(6))\n",
    "v_w_t3=A.pinv()*B*vr_3\n",
    "print('La velocidad debido a phi3=10 es:')\n",
    "display(v_w_t3.evalf(6))\n",
    "\n",
    "\n",
    "l1, l2, l3 = sp.symbols('l1 l2 l3')\n",
    "A=sp.Matrix([[sin(alf1+beta1+y), -cos(alf1+beta1+y), -l1*cos(beta1+y)],\n",
    "             [sin(alf2+beta2+y), -cos(alf2+beta2+y), -l2*cos(beta2+y)],\n",
    "             [sin(alf3+beta3+y), -cos(alf3+beta3+y), -l3*cos(beta3+y)]])\n",
    "\n",
    "B=sp.Matrix([[l1*cos(y), 0, 0],[0,l2*cos(y),0],[0, 0,l3*cos(y)]])\n",
    "\n",
    "phi=sp.Matrix([[0.5],[1],[0.5]])\n",
    "\n",
    "#a\n",
    "v_w=A.pinv()*B*phi\n",
    "v_w.subs({l1:-1.33, l2:1, l3:1})\n"
   ]
  },
  {
   "cell_type": "code",
   "execution_count": 6,
   "metadata": {},
   "outputs": [
    {
     "name": "stdout",
     "output_type": "stream",
     "text": [
      "La cinematica directa seria\n"
     ]
    },
    {
     "data": {
      "text/latex": [
       "$$\\left[\\begin{matrix}0.5 \\dot{\\varphi}_2 r - 0.5 \\dot{\\varphi}_4 r\\\\- 0.5 \\dot{\\varphi}_1 r + 0.5 \\dot{\\varphi}_3 r\\\\- \\frac{0.25 \\dot{\\varphi}_1 r}{l} - \\frac{0.25 \\dot{\\varphi}_2 r}{l} - \\frac{0.25 \\dot{\\varphi}_3 r}{l} - \\frac{0.25 \\dot{\\varphi}_4 r}{l}\\end{matrix}\\right]$$"
      ],
      "text/plain": [
       "⎡                          0.5⋅\\dot{\\varphi}₂⋅r - 0.5⋅\\dot{\\varphi}₄⋅r        \n",
       "⎢                                                                             \n",
       "⎢                         -0.5⋅\\dot{\\varphi}₁⋅r + 0.5⋅\\dot{\\varphi}₃⋅r        \n",
       "⎢                                                                             \n",
       "⎢  0.25⋅\\dot{\\varphi}₁⋅r   0.25⋅\\dot{\\varphi}₂⋅r   0.25⋅\\dot{\\varphi}₃⋅r   0.2\n",
       "⎢- ───────────────────── - ───────────────────── - ───────────────────── - ───\n",
       "⎣            l                       l                       l                \n",
       "\n",
       "                  ⎤\n",
       "                  ⎥\n",
       "                  ⎥\n",
       "                  ⎥\n",
       "5⋅\\dot{\\varphi}₄⋅r⎥\n",
       "──────────────────⎥\n",
       "       l          ⎦"
      ]
     },
     "metadata": {},
     "output_type": "display_data"
    },
    {
     "name": "stdout",
     "output_type": "stream",
     "text": [
      "La cinematica inversa seria\n"
     ]
    },
    {
     "data": {
      "text/latex": [
       "$$\\left[\\begin{matrix}- \\frac{l w}{r} - \\frac{vy}{r}\\\\- \\frac{l w}{r} + \\frac{vx}{r}\\\\- \\frac{l w}{r} + \\frac{vy}{r}\\\\- \\frac{l w}{r} - \\frac{vx}{r}\\end{matrix}\\right]$$"
      ],
      "text/plain": [
       "⎡  l⋅w   vy⎤\n",
       "⎢- ─── - ──⎥\n",
       "⎢   r    r ⎥\n",
       "⎢          ⎥\n",
       "⎢  l⋅w   vx⎥\n",
       "⎢- ─── + ──⎥\n",
       "⎢   r    r ⎥\n",
       "⎢          ⎥\n",
       "⎢  l⋅w   vy⎥\n",
       "⎢- ─── + ──⎥\n",
       "⎢   r    r ⎥\n",
       "⎢          ⎥\n",
       "⎢  l⋅w   vx⎥\n",
       "⎢- ─── - ──⎥\n",
       "⎣   r    r ⎦"
      ]
     },
     "metadata": {},
     "output_type": "display_data"
    },
    {
     "name": "stdout",
     "output_type": "stream",
     "text": [
      "Si queremos velocidad en vx\n"
     ]
    },
    {
     "data": {
      "text/latex": [
       "$$\\left[\\begin{matrix}0.24\\\\0\\\\0\\end{matrix}\\right]$$"
      ],
      "text/plain": [
       "⎡0.24⎤\n",
       "⎢    ⎥\n",
       "⎢ 0  ⎥\n",
       "⎢    ⎥\n",
       "⎣ 0  ⎦"
      ]
     },
     "metadata": {},
     "output_type": "display_data"
    },
    {
     "name": "stdout",
     "output_type": "stream",
     "text": [
      "Si queremos velocidad en vy\n"
     ]
    },
    {
     "data": {
      "text/latex": [
       "$$\\left[\\begin{matrix}0\\\\-0.24\\\\0\\end{matrix}\\right]$$"
      ],
      "text/plain": [
       "⎡  0  ⎤\n",
       "⎢     ⎥\n",
       "⎢-0.24⎥\n",
       "⎢     ⎥\n",
       "⎣  0  ⎦"
      ]
     },
     "metadata": {},
     "output_type": "display_data"
    }
   ],
   "source": [
    "#Pregunta 8\n",
    "\n",
    "\n",
    "r, l,vx,vy,w = sp.symbols('r l vx vy w')\n",
    "vr1, vr2, vr3, vr4 = sp.symbols(r'\\dot{\\varphi}_1 \\dot{\\varphi}_2 \\dot{\\varphi}_3 \\dot{\\varphi}_4') #Velocidades de las ruedas\n",
    "\n",
    "\n",
    "\n",
    "beta1=0\n",
    "l1=l\n",
    "y=0\n",
    "\n",
    "beta2=0\n",
    "l2=l\n",
    "\n",
    "beta3=0\n",
    "l3=l\n",
    "\n",
    "beta4=0\n",
    "l4=l\n",
    "\n",
    "\n",
    "alf1=0\n",
    "alf2=pi/2\n",
    "alf3=pi\n",
    "alf4=270*pi/180\n",
    "\n",
    "A=sp.Matrix([[sin(alf1+beta1+y), -cos(alf1+beta1+y), -l1*cos(beta1+y)],\n",
    "             [sin(alf2+beta2+y), -cos(alf2+beta2+y), -l2*cos(beta2+y)],\n",
    "             [sin(alf3+beta3+y), -cos(alf3+beta3+y), -l3*cos(beta3+y)],\n",
    "             [sin(alf4+beta4+y), -cos(alf4+beta4+y), -l4*cos(beta4+y)]])\n",
    "\n",
    "B=sp.Matrix([[r*cos(y), 0, 0,0],[0,r*cos(y),0,0],[0, 0,r*cos(y),0],[0,0,0,r*cos(y)]])\n",
    "\n",
    "vr_s=sp.Matrix([[vr1],[vr2],[vr3],[vr4]])\n",
    "v_w_s=sp.Matrix([[vx],[vy],[w]])\n",
    "\n",
    "#Cinematica directa\n",
    "v_w=A.pinv()*B*vr_s\n",
    "print('La cinematica directa seria')\n",
    "display(v_w.subs({alf1:0, alf2:pi/2, alf3:pi, alf4:270*pi/180}).evalf(6))\n",
    "\n",
    "#Cinematica inversa\n",
    "phi=B.pinv()*A*v_w_s\n",
    "print('La cinematica inversa seria')\n",
    "display(phi.evalf(6))\n",
    "\n",
    "\n",
    "A_ev=A.subs({l1:18/100, l2:18/100, l3:18/100, l4:18/100})\n",
    "B_ev=B.subs({r:8/100})\n",
    "\n",
    "\n",
    "#Cinematica directa\n",
    "v_w_ev=A_ev.pinv()*B_ev*vr_s\n",
    "print('Si queremos velocidad en vx')\n",
    "display(v_w_ev.evalf(6).subs({vr1:0, vr2:3, vr3:0, vr4:-3}))\n",
    "print('Si queremos velocidad en vy')\n",
    "display(v_w_ev.evalf(6).subs({vr1:3, vr2:0, vr3:-3, vr4:0}))"
   ]
  },
  {
   "cell_type": "code",
   "execution_count": 7,
   "metadata": {},
   "outputs": [
    {
     "name": "stdout",
     "output_type": "stream",
     "text": [
      "La cinematica directa seria\n"
     ]
    },
    {
     "data": {
      "text/latex": [
       "$$\\left[\\begin{matrix}0.254834 \\dot{\\varphi}_1 r + 0.25054 \\dot{\\varphi}_2 r + 0.494843 \\dot{\\varphi}_3 r + 0.010531 \\dot{\\varphi}_4 r\\\\0.223432 \\dot{\\varphi}_1 r + 0.28128 \\dot{\\varphi}_2 r - 0.504521 \\dot{\\varphi}_3 r + 1.00923 \\dot{\\varphi}_4 r\\\\- \\frac{0.345793 \\dot{\\varphi}_1 r}{l} - \\frac{0.368607 \\dot{\\varphi}_2 r}{l} + \\frac{0.714104 \\dot{\\varphi}_3 r}{l} - \\frac{0.0142896 \\dot{\\varphi}_4 r}{l}\\end{matrix}\\right]$$"
      ],
      "text/plain": [
       "⎡  0.254834⋅\\dot{\\varphi}₁⋅r + 0.25054⋅\\dot{\\varphi}₂⋅r + 0.494843⋅\\dot{\\varph\n",
       "⎢                                                                             \n",
       "⎢  0.223432⋅\\dot{\\varphi}₁⋅r + 0.28128⋅\\dot{\\varphi}₂⋅r - 0.504521⋅\\dot{\\varph\n",
       "⎢                                                                             \n",
       "⎢  0.345793⋅\\dot{\\varphi}₁⋅r   0.368607⋅\\dot{\\varphi}₂⋅r   0.714104⋅\\dot{\\varp\n",
       "⎢- ───────────────────────── - ───────────────────────── + ───────────────────\n",
       "⎣              l                           l                           l      \n",
       "\n",
       "i}₃⋅r + 0.010531⋅\\dot{\\varphi}₄⋅r  ⎤\n",
       "                                   ⎥\n",
       "i}₃⋅r + 1.00923⋅\\dot{\\varphi}₄⋅r   ⎥\n",
       "                                   ⎥\n",
       "hi}₃⋅r   0.0142896⋅\\dot{\\varphi}₄⋅r⎥\n",
       "────── - ──────────────────────────⎥\n",
       "                     l             ⎦"
      ]
     },
     "metadata": {},
     "output_type": "display_data"
    },
    {
     "name": "stdout",
     "output_type": "stream",
     "text": [
      "La cinematica inversa seria\n"
     ]
    },
    {
     "data": {
      "text/latex": [
       "$$\\left[\\begin{matrix}- \\frac{0.707107 l w}{r} + \\frac{0.999146 vx}{r} - \\frac{0.041325 vy}{r}\\\\- \\frac{0.707107 l w}{r} + \\frac{vx}{r}\\\\\\frac{0.707107 l w}{r} + \\frac{vx}{r}\\\\\\frac{0.707107 l w}{r} + \\frac{vy}{r}\\end{matrix}\\right]$$"
      ],
      "text/plain": [
       "⎡  0.707107⋅l⋅w   0.999146⋅vx   0.041325⋅vy⎤\n",
       "⎢- ──────────── + ─────────── - ───────────⎥\n",
       "⎢       r              r             r     ⎥\n",
       "⎢                                          ⎥\n",
       "⎢             0.707107⋅l⋅w   vx            ⎥\n",
       "⎢           - ──────────── + ──            ⎥\n",
       "⎢                  r         r             ⎥\n",
       "⎢                                          ⎥\n",
       "⎢            0.707107⋅l⋅w   vx             ⎥\n",
       "⎢            ──────────── + ──             ⎥\n",
       "⎢                 r         r              ⎥\n",
       "⎢                                          ⎥\n",
       "⎢            0.707107⋅l⋅w   vy             ⎥\n",
       "⎢            ──────────── + ──             ⎥\n",
       "⎣                 r         r              ⎦"
      ]
     },
     "metadata": {},
     "output_type": "display_data"
    }
   ],
   "source": [
    "#Pregunta 9\n",
    "\n",
    "r, l,vx,vy,w = sp.symbols('r l vx vy w')\n",
    "vr1, vr2, vr3, vr4 = sp.symbols(r'\\dot{\\varphi}_1 \\dot{\\varphi}_2 \\dot{\\varphi}_3 \\dot{\\varphi}_4') #Velocidades de las ruedas\n",
    "\n",
    "beta1=pi/4\n",
    "alf1=45*pi/190\n",
    "l1=l\n",
    "\n",
    "beta2=-pi/4\n",
    "alf2=135*pi/180\n",
    "l2=l\n",
    "\n",
    "beta3=-3*pi/4\n",
    "alf3=225*pi/180\n",
    "l3=l\n",
    "\n",
    "beta4=-3*pi/4\n",
    "alf4=315*pi/180\n",
    "l4=l\n",
    "y=0\n",
    "\n",
    "A=sp.Matrix([[sin(alf1+beta1+y), -cos(alf1+beta1+y), -l1*cos(beta1+y)],\n",
    "             [sin(alf2+beta2+y), -cos(alf2+beta2+y), -l2*cos(beta2+y)],\n",
    "             [sin(alf3+beta3+y), -cos(alf3+beta3+y), -l3*cos(beta3+y)],\n",
    "             [sin(alf4+beta4+y), -cos(alf4+beta4+y), -l4*cos(beta4+y)]])\n",
    "\n",
    "B=sp.Matrix([[r*cos(y), 0, 0,0],[0,r*cos(y),0,0],[0, 0,r*cos(y),0],[0,0,0,r*cos(y)]])\n",
    "\n",
    "vr_s=sp.Matrix([[vr1],[vr2],[vr3],[vr4]])\n",
    "v_w_s=sp.Matrix([[vx],[vy],[w]])\n",
    "\n",
    "#Cinematica directa\n",
    "v_w=A.pinv()*B*vr_s\n",
    "print('La cinematica directa seria')\n",
    "display(v_w.evalf(6))\n",
    "\n",
    "#Cinematica inversa\n",
    "phi=B.pinv()*A*v_w_s\n",
    "print('La cinematica inversa seria')\n",
    "display(phi.evalf(6))\n",
    "\n",
    "\n"
   ]
  },
  {
   "cell_type": "code",
   "execution_count": 36,
   "metadata": {},
   "outputs": [],
   "source": [
    "alf1, alf2, alf3, alf4, beta1, beta2, beta3, beta4,l1,l2,l3,l4,y=sp.symbols('alf1 alf2 alf3 alf4 beta1 beta2 beta3 beta4 l1 l2 l3 l4 y')\n",
    "r, dbeta,d =sp.symbols('r \\dot{\\beta} d')\n",
    "\n",
    "alf=sp.Matrix([[alf1,alf2,alf3,alf4]])\n",
    "beta=sp.Matrix([[beta1,beta2,beta3,beta4]])\n",
    "l=sp.Matrix([[l1,l2,l3,l4]])\n",
    "def rO(alf,beta,l,y):\n",
    "    A=sp.Matrix([[sin(alf[0]+beta[0]+y), -cos(alf[0]+beta[0]+y), -l[0]*cos(beta[0]+y)],\n",
    "             [sin(alf[1]+beta[1]+y), -cos(alf[1]+beta[1]+y), -l[1]*cos(beta[1]+y)],\n",
    "             [sin(alf[2]+beta[2]+y), -cos(alf[2]+beta[2]+y), -l[2]*cos(beta[2]+y)],\n",
    "             [sin(alf[3]+beta[3]+y), -cos(alf[3]+beta[3]+y), -l[3]*cos(beta[3]+y)]])\n",
    "    B=sp.Matrix([[r*cos(y), 0, 0,0],[0,r*cos(y),0,0],[0, 0,r*cos(y),0],[0,0,0,r*cos(y)]])\n",
    "    return A, B\n",
    "\n",
    "def rD(alf,beta,l,d,dbeta):\n",
    "    A=sp.Matrix([[sin(alf[0]+beta[0]), -cos(alf[0]+beta[0]), -l[0]*cos(beta[0])],\n",
    "                 [cos(alf[0]+beta[0]), sin(alf[0]+beta[0]), l[0]*sin(beta[0])+d],\n",
    "                 [sin(alf[1]+beta[1]), -cos(alf[1]+beta[1]), -l[1]*cos(beta[1])],\n",
    "                 [cos(alf[1]+beta[1]), sin(alf[1]+beta[1]), l[1]*sin(beta[1])+d],\n",
    "                 [sin(alf[2]+beta[2]), -cos(alf[2]+beta[2]), -l[2]*cos(beta[2])],\n",
    "                 [cos(alf[2]+beta[2]), sin(alf[2]+beta[2]), l[2]*sin(beta[2])+d],\n",
    "                 [sin(alf[3]+beta[3]), -cos(alf[3]+beta[3]), -l[3]*cos(beta[3])],\n",
    "                 [cos(alf[3]+beta[3]), sin(alf[3]+beta[3]), l[3]*sin(beta[3])+d],])\n",
    "    B=sp.Matrix([[r, 0, 0,0],\n",
    "                 [-d*dbeta, 0, 0,0],\n",
    "                 [0,r,0,0],\n",
    "                 [0, -d*dbeta, 0,0],\n",
    "                 [0, 0,r,0],\n",
    "                 [0, 0, -d*dbeta,0],\n",
    "                 [0,0,0,r],\n",
    "                 [0, 0, 0,-d*dbeta],])\n",
    "    return A, B\n",
    "\n",
    "\n",
    "def rC(alf,beta,l):\n",
    "    A=sp.Matrix([[sin(alf[0]+beta[0]), -cos(alf[0]+beta[0]), -l[0]*cos(beta[0])],\n",
    "                 [cos(alf[0]+beta[0]), sin(alf[0]+beta[0]), l[0]*sin(beta[0])],\n",
    "                 [sin(alf[1]+beta[1]), -cos(alf[1]+beta[1]), -l[1]*cos(beta[1])],\n",
    "                 [cos(alf[1]+beta[1]), sin(alf[1]+beta[1]), l[1]*sin(beta[1])],\n",
    "                 [sin(alf[2]+beta[2]), -cos(alf[2]+beta[2]), -l[2]*cos(beta[2])],\n",
    "                 [cos(alf[2]+beta[2]), sin(alf[2]+beta[2]), l[2]*sin(beta[2])],\n",
    "                 [sin(alf[3]+beta[3]), -cos(alf[3]+beta[3]), -l[3]*cos(beta[3])],\n",
    "                 [cos(alf[3]+beta[3]), sin(alf[3]+beta[3]), l[3]*sin(beta[3])],])\n",
    "    B=sp.Matrix([[r, 0, 0,0],\n",
    "                 [0, 0, 0,0],\n",
    "                 [0,r,0,0],\n",
    "                 [0, 0, 0,0],\n",
    "                 [0, 0,r,0],\n",
    "                 [0, 0, 0,0],\n",
    "                 [0,0,0,r],\n",
    "                 [0, 0, 0,0],])\n",
    "    return A, B\n"
   ]
  },
  {
   "cell_type": "code",
   "execution_count": 38,
   "metadata": {},
   "outputs": [
    {
     "data": {
      "text/latex": [
       "$$\\left ( \\left[\\begin{matrix}\\sin{\\left (alf_{1} + \\beta_{1} + y \\right )} & - \\cos{\\left (alf_{1} + \\beta_{1} + y \\right )} & - l_{1} \\cos{\\left (\\beta_{1} + y \\right )}\\\\\\sin{\\left (alf_{2} + \\beta_{2} + y \\right )} & - \\cos{\\left (alf_{2} + \\beta_{2} + y \\right )} & - l_{2} \\cos{\\left (\\beta_{2} + y \\right )}\\\\\\sin{\\left (alf_{3} + \\beta_{3} + y \\right )} & - \\cos{\\left (alf_{3} + \\beta_{3} + y \\right )} & - l_{3} \\cos{\\left (\\beta_{3} + y \\right )}\\\\\\sin{\\left (alf_{4} + \\beta_{4} + y \\right )} & - \\cos{\\left (alf_{4} + \\beta_{4} + y \\right )} & - l_{4} \\cos{\\left (\\beta_{4} + y \\right )}\\end{matrix}\\right], \\quad \\left[\\begin{matrix}r \\cos{\\left (y \\right )} & 0 & 0 & 0\\\\0 & r \\cos{\\left (y \\right )} & 0 & 0\\\\0 & 0 & r \\cos{\\left (y \\right )} & 0\\\\0 & 0 & 0 & r \\cos{\\left (y \\right )}\\end{matrix}\\right], \\quad \\left[\\begin{matrix}\\sin{\\left (alf_{1} + \\beta_{1} \\right )} & - \\cos{\\left (alf_{1} + \\beta_{1} \\right )} & - l_{1} \\cos{\\left (\\beta_{1} \\right )}\\\\\\cos{\\left (alf_{1} + \\beta_{1} \\right )} & \\sin{\\left (alf_{1} + \\beta_{1} \\right )} & l_{1} \\sin{\\left (\\beta_{1} \\right )}\\\\\\sin{\\left (alf_{2} + \\beta_{2} \\right )} & - \\cos{\\left (alf_{2} + \\beta_{2} \\right )} & - l_{2} \\cos{\\left (\\beta_{2} \\right )}\\\\\\cos{\\left (alf_{2} + \\beta_{2} \\right )} & \\sin{\\left (alf_{2} + \\beta_{2} \\right )} & l_{2} \\sin{\\left (\\beta_{2} \\right )}\\\\\\sin{\\left (alf_{3} + \\beta_{3} \\right )} & - \\cos{\\left (alf_{3} + \\beta_{3} \\right )} & - l_{3} \\cos{\\left (\\beta_{3} \\right )}\\\\\\cos{\\left (alf_{3} + \\beta_{3} \\right )} & \\sin{\\left (alf_{3} + \\beta_{3} \\right )} & l_{3} \\sin{\\left (\\beta_{3} \\right )}\\\\\\sin{\\left (alf_{4} + \\beta_{4} \\right )} & - \\cos{\\left (alf_{4} + \\beta_{4} \\right )} & - l_{4} \\cos{\\left (\\beta_{4} \\right )}\\\\\\cos{\\left (alf_{4} + \\beta_{4} \\right )} & \\sin{\\left (alf_{4} + \\beta_{4} \\right )} & l_{4} \\sin{\\left (\\beta_{4} \\right )}\\end{matrix}\\right], \\quad \\left[\\begin{matrix}r & 0 & 0 & 0\\\\0 & 0 & 0 & 0\\\\0 & r & 0 & 0\\\\0 & 0 & 0 & 0\\\\0 & 0 & r & 0\\\\0 & 0 & 0 & 0\\\\0 & 0 & 0 & r\\\\0 & 0 & 0 & 0\\end{matrix}\\right], \\quad \\left[\\begin{matrix}\\sin{\\left (alf_{1} + \\beta_{1} \\right )} & - \\cos{\\left (alf_{1} + \\beta_{1} \\right )} & - l_{1} \\cos{\\left (\\beta_{1} \\right )}\\\\\\cos{\\left (alf_{1} + \\beta_{1} \\right )} & \\sin{\\left (alf_{1} + \\beta_{1} \\right )} & d + l_{1} \\sin{\\left (\\beta_{1} \\right )}\\\\\\sin{\\left (alf_{2} + \\beta_{2} \\right )} & - \\cos{\\left (alf_{2} + \\beta_{2} \\right )} & - l_{2} \\cos{\\left (\\beta_{2} \\right )}\\\\\\cos{\\left (alf_{2} + \\beta_{2} \\right )} & \\sin{\\left (alf_{2} + \\beta_{2} \\right )} & d + l_{2} \\sin{\\left (\\beta_{2} \\right )}\\\\\\sin{\\left (alf_{3} + \\beta_{3} \\right )} & - \\cos{\\left (alf_{3} + \\beta_{3} \\right )} & - l_{3} \\cos{\\left (\\beta_{3} \\right )}\\\\\\cos{\\left (alf_{3} + \\beta_{3} \\right )} & \\sin{\\left (alf_{3} + \\beta_{3} \\right )} & d + l_{3} \\sin{\\left (\\beta_{3} \\right )}\\\\\\sin{\\left (alf_{4} + \\beta_{4} \\right )} & - \\cos{\\left (alf_{4} + \\beta_{4} \\right )} & - l_{4} \\cos{\\left (\\beta_{4} \\right )}\\\\\\cos{\\left (alf_{4} + \\beta_{4} \\right )} & \\sin{\\left (alf_{4} + \\beta_{4} \\right )} & d + l_{4} \\sin{\\left (\\beta_{4} \\right )}\\end{matrix}\\right], \\quad \\left[\\begin{matrix}r & 0 & 0 & 0\\\\- \\dot{\beta} d & 0 & 0 & 0\\\\0 & r & 0 & 0\\\\0 & - \\dot{\beta} d & 0 & 0\\\\0 & 0 & r & 0\\\\0 & 0 & - \\dot{\beta} d & 0\\\\0 & 0 & 0 & r\\\\0 & 0 & 0 & - \\dot{\beta} d\\end{matrix}\\right]\\right )$$"
      ],
      "text/plain": [
       "⎛                                                                             \n",
       "⎜                                                                             \n",
       "⎜                                                                             \n",
       "⎜                                                                             \n",
       "⎜⎡sin(alf₁ + β₁ + y)  -cos(alf₁ + β₁ + y)  -l₁⋅cos(β₁ + y)⎤  ⎡r⋅cos(y)     0  \n",
       "⎜⎢                                                        ⎥  ⎢                \n",
       "⎜⎢sin(alf₂ + β₂ + y)  -cos(alf₂ + β₂ + y)  -l₂⋅cos(β₂ + y)⎥  ⎢   0      r⋅cos(\n",
       "⎜⎢                                                        ⎥, ⎢                \n",
       "⎜⎢sin(alf₃ + β₃ + y)  -cos(alf₃ + β₃ + y)  -l₃⋅cos(β₃ + y)⎥  ⎢   0         0  \n",
       "⎜⎢                                                        ⎥  ⎢                \n",
       "⎜⎣sin(alf₄ + β₄ + y)  -cos(alf₄ + β₄ + y)  -l₄⋅cos(β₄ + y)⎦  ⎣   0         0  \n",
       "⎜                                                                             \n",
       "⎜                                                                             \n",
       "⎜                                                                             \n",
       "⎝                                                                             \n",
       "\n",
       "                         ⎡sin(alf₁ + β₁)  -cos(alf₁ + β₁)  -l₁⋅cos(β₁)⎤  ⎡r  0\n",
       "                         ⎢                                            ⎥  ⎢    \n",
       "                         ⎢cos(alf₁ + β₁)  sin(alf₁ + β₁)   l₁⋅sin(β₁) ⎥  ⎢0  0\n",
       "                         ⎢                                            ⎥  ⎢    \n",
       "       0         0    ⎤  ⎢sin(alf₂ + β₂)  -cos(alf₂ + β₂)  -l₂⋅cos(β₂)⎥  ⎢0  r\n",
       "                      ⎥  ⎢                                            ⎥  ⎢    \n",
       "y)     0         0    ⎥  ⎢cos(alf₂ + β₂)  sin(alf₂ + β₂)   l₂⋅sin(β₂) ⎥  ⎢0  0\n",
       "                      ⎥, ⎢                                            ⎥, ⎢    \n",
       "    r⋅cos(y)     0    ⎥  ⎢sin(alf₃ + β₃)  -cos(alf₃ + β₃)  -l₃⋅cos(β₃)⎥  ⎢0  0\n",
       "                      ⎥  ⎢                                            ⎥  ⎢    \n",
       "       0      r⋅cos(y)⎦  ⎢cos(alf₃ + β₃)  sin(alf₃ + β₃)   l₃⋅sin(β₃) ⎥  ⎢0  0\n",
       "                         ⎢                                            ⎥  ⎢    \n",
       "                         ⎢sin(alf₄ + β₄)  -cos(alf₄ + β₄)  -l₄⋅cos(β₄)⎥  ⎢0  0\n",
       "                         ⎢                                            ⎥  ⎢    \n",
       "                         ⎣cos(alf₄ + β₄)  sin(alf₄ + β₄)   l₄⋅sin(β₄) ⎦  ⎣0  0\n",
       "\n",
       "  0  0⎤  ⎡sin(alf₁ + β₁)  -cos(alf₁ + β₁)   -l₁⋅cos(β₁)  ⎤  ⎡      r          \n",
       "      ⎥  ⎢                                               ⎥  ⎢                 \n",
       "  0  0⎥  ⎢cos(alf₁ + β₁)  sin(alf₁ + β₁)   d + l₁⋅sin(β₁)⎥  ⎢-\\dot{\beta}⋅d    \n",
       "      ⎥  ⎢                                               ⎥  ⎢                 \n",
       "  0  0⎥  ⎢sin(alf₂ + β₂)  -cos(alf₂ + β₂)   -l₂⋅cos(β₂)  ⎥  ⎢      0          \n",
       "      ⎥  ⎢                                               ⎥  ⎢                 \n",
       "  0  0⎥  ⎢cos(alf₂ + β₂)  sin(alf₂ + β₂)   d + l₂⋅sin(β₂)⎥  ⎢      0        -\\\n",
       "      ⎥, ⎢                                               ⎥, ⎢                 \n",
       "  r  0⎥  ⎢sin(alf₃ + β₃)  -cos(alf₃ + β₃)   -l₃⋅cos(β₃)  ⎥  ⎢      0          \n",
       "      ⎥  ⎢                                               ⎥  ⎢                 \n",
       "  0  0⎥  ⎢cos(alf₃ + β₃)  sin(alf₃ + β₃)   d + l₃⋅sin(β₃)⎥  ⎢      0          \n",
       "      ⎥  ⎢                                               ⎥  ⎢                 \n",
       "  0  r⎥  ⎢sin(alf₄ + β₄)  -cos(alf₄ + β₄)   -l₄⋅cos(β₄)  ⎥  ⎢      0          \n",
       "      ⎥  ⎢                                               ⎥  ⎢                 \n",
       "  0  0⎦  ⎣cos(alf₄ + β₄)  sin(alf₄ + β₄)   d + l₄⋅sin(β₄)⎦  ⎣      0          \n",
       "\n",
       "    0              0              0      ⎤⎞\n",
       "                                         ⎥⎟\n",
       "    0              0              0      ⎥⎟\n",
       "                                         ⎥⎟\n",
       "    r              0              0      ⎥⎟\n",
       "                                         ⎥⎟\n",
       "dot{\beta}⋅d        0              0      ⎥⎟\n",
       "                                         ⎥⎟\n",
       "    0              r              0      ⎥⎟\n",
       "                                         ⎥⎟\n",
       "    0        -\\dot{\beta}⋅d        0      ⎥⎟\n",
       "                                         ⎥⎟\n",
       "    0              0              r      ⎥⎟\n",
       "                                         ⎥⎟\n",
       "    0              0        -\\dot{\beta}⋅d⎦⎠"
      ]
     },
     "execution_count": 38,
     "metadata": {},
     "output_type": "execute_result"
    }
   ],
   "source": [
    "[A_omn,B_omn]=rO(alf,beta,l,y)\n",
    "[A_c,B_c]=rC(alf,beta,l)\n",
    "[A_d,B_d]=rD(alf,beta,l,d,dbeta)\n",
    "\n",
    "A_omn,B_omn, A_c, B_c, A_d, B_d\n",
    "\n",
    "\n"
   ]
  },
  {
   "cell_type": "code",
   "execution_count": null,
   "metadata": {},
   "outputs": [],
   "source": []
  }
 ],
 "metadata": {
  "kernelspec": {
   "display_name": "Python 3",
   "language": "python",
   "name": "python3"
  },
  "language_info": {
   "codemirror_mode": {
    "name": "ipython",
    "version": 3
   },
   "file_extension": ".py",
   "mimetype": "text/x-python",
   "name": "python",
   "nbconvert_exporter": "python",
   "pygments_lexer": "ipython3",
   "version": "3.6.6"
  }
 },
 "nbformat": 4,
 "nbformat_minor": 2
}
