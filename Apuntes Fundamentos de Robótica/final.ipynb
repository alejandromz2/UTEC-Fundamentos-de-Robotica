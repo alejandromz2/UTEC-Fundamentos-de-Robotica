{
 "cells": [
  {
   "cell_type": "code",
   "execution_count": 4,
   "metadata": {},
   "outputs": [],
   "source": [
    "import numpy as np\n",
    "import sympy as sp\n",
    "from sympy import init_printing\n",
    "from sympy import Matrix\n",
    "from sympy.interactive import printing\n",
    "printing.init_printing(use_latex=True)\n",
    "sin=np.sin\n",
    "cos=np.cos\n",
    "pi=np.pi"
   ]
  },
  {
   "cell_type": "code",
   "execution_count": 2,
   "metadata": {},
   "outputs": [],
   "source": [
    "spi=sp.pi\n",
    "ssin=sp.sin\n",
    "scos=sp.cos"
   ]
  },
  {
   "cell_type": "code",
   "execution_count": 52,
   "metadata": {},
   "outputs": [],
   "source": [
    "#Funciones de rotación canonicas con valores simbolicos\n",
    "def srotx(ang):\n",
    "    Rx=sp.Matrix([[1,0,0],\n",
    "                  [0,sp.cos(ang),-sp.sin(ang)],\n",
    "                  [0, sp.sin(ang), sp.cos(ang)]])\n",
    "    return Rx\n",
    "def sroty(ang):\n",
    "    Ry= sp.Matrix([[sp.cos(ang),0,sp.sin(ang)],\n",
    "                  [0,1,0],\n",
    "                  [-sp.sin(ang), 0, sp.cos(ang)]])\n",
    "    return Ry\n",
    "def srotz(ang):\n",
    "    Rz= sp.Matrix([[sp.cos(ang),-sp.sin(ang),0],\n",
    "                  [sp.sin(ang), sp.cos(ang), 0],\n",
    "                  [0,0,1]])\n",
    "    return Rz\n",
    "\n",
    "\n",
    "def rotdh(d,th,a,alf):\n",
    "    T=sp.Matrix([[scos(th),-scos(alf)*ssin(th),ssin(alf)*ssin(th),a*scos(th)],\n",
    "                  [ssin(th),scos(alf)*scos(th),-ssin(alf)*scos(th),a*ssin(th)],\n",
    "                  [0, ssin(alf), scos(alf),d],[0, 0, 0, 1]])\n",
    "    return T\n",
    "\n",
    "\n",
    "def R_rpy(R,s):\n",
    "\n",
    "\n",
    "    if R[2,0] == 0:\n",
    "        if s == '+':\n",
    "            fi_p = sp.atan2(R[2,0],sp.sqrt(R[2,1]**2+R[2,2]**2))\n",
    "        elif s == '-':\n",
    "            fi_p = sp.atan2(R[2,0],-sp.sqrt(R[2,1]**2+R[2,2]**2))\n",
    "    else: \n",
    "        if s == '+':\n",
    "            fi_p = sp.atan2(-R[2,0],sp.sqrt(R[2,1]**2+R[2,2]**2))\n",
    "        elif s == '-':\n",
    "            fi_p = sp.atan2(-R[2,0],-sp.sqrt(R[2,1]**2+R[2,2]**2))\n",
    "\n",
    "    if sp.cos(fi_p) != 0:\n",
    "        fi_r = sp.atan2(R[1,0]/sp.cos(fi_p),R[0,0]/sp.cos(fi_p))\n",
    "        fi_y = sp.atan2(R[2,1]/sp.cos(fi_p),R[2,2]/sp.cos(fi_p))\n",
    "        return fi_r, fi_p, fi_y"
   ]
  },
  {
   "cell_type": "code",
   "execution_count": 36,
   "metadata": {},
   "outputs": [],
   "source": [
    "q1, q2, q3, q4, q5 = sp.symbols(\"q1 q2 q3 q4 q5\")\n",
    "l2=0.4\n",
    "l3=0.3\n",
    "T01=rotdh(0,q1,-0,0)\n",
    "T12=rotdh(q2,0,0,spi/2)\n",
    "\n",
    "T23=rotdh(0,q3,l2,0)\n",
    "T34=rotdh(0,spi-q4,-l3,spi/2)\n",
    "T4F=rotdh(q5,-spi/2,0,0)\n",
    "\n",
    "T0F=sp.simplify(T01*T12*T23*T34*T4F)\n"
   ]
  },
  {
   "cell_type": "code",
   "execution_count": 65,
   "metadata": {},
   "outputs": [
    {
     "data": {
      "text/latex": [
       "$$\\left[\\begin{matrix}0 & -1 & 0 & 0.7\\\\1 & 0 & 0 & 0\\\\0 & 0 & 1 & 0\\\\0 & 0 & 0 & 1\\end{matrix}\\right]$$"
      ],
      "text/plain": [
       "⎡0  -1  0  0.7⎤\n",
       "⎢             ⎥\n",
       "⎢1  0   0   0 ⎥\n",
       "⎢             ⎥\n",
       "⎢0  0   1   0 ⎥\n",
       "⎢             ⎥\n",
       "⎣0  0   0   1 ⎦"
      ]
     },
     "execution_count": 65,
     "metadata": {},
     "output_type": "execute_result"
    }
   ],
   "source": [
    "T0F.subs({q1:0, q2:0, q3:0, q4:0, q5:0})\n"
   ]
  },
  {
   "cell_type": "code",
   "execution_count": 53,
   "metadata": {},
   "outputs": [
    {
     "name": "stdout",
     "output_type": "stream",
     "text": [
      "Jacobiano Geometrico: \n"
     ]
    },
    {
     "data": {
      "text/latex": [
       "$$\\left[\\begin{matrix}\\left(1.0 q_{5} \\sin{\\left (q_{3} - q_{4} \\right )} - 0.4 \\cos{\\left (q_{3} \\right )} - 0.3 \\cos{\\left (q_{3} - q_{4} \\right )}\\right) \\sin{\\left (q_{1} \\right )} & \\left(1.0 q_{5} \\sin{\\left (q_{3} - q_{4} \\right )} - 0.4 \\cos{\\left (q_{3} \\right )} - 0.3 \\cos{\\left (q_{3} - q_{4} \\right )}\\right) \\sin{\\left (q_{1} \\right )} & - \\left(1.0 q_{5} \\cos{\\left (q_{3} - q_{4} \\right )} + 0.4 \\sin{\\left (q_{3} \\right )} + 0.3 \\sin{\\left (q_{3} - q_{4} \\right )}\\right) \\cos{\\left (q_{1} \\right )} & - \\left(1.0 q_{5} \\cos{\\left (q_{3} - q_{4} \\right )} + 0.3 \\sin{\\left (q_{3} - q_{4} \\right )}\\right) \\cos{\\left (q_{1} \\right )} & 0\\\\\\left(- 1.0 q_{5} \\sin{\\left (q_{3} - q_{4} \\right )} + 0.4 \\cos{\\left (q_{3} \\right )} + 0.3 \\cos{\\left (q_{3} - q_{4} \\right )}\\right) \\cos{\\left (q_{1} \\right )} & \\left(- 1.0 q_{5} \\sin{\\left (q_{3} - q_{4} \\right )} + 0.4 \\cos{\\left (q_{3} \\right )} + 0.3 \\cos{\\left (q_{3} - q_{4} \\right )}\\right) \\cos{\\left (q_{1} \\right )} & - \\left(1.0 q_{5} \\cos{\\left (q_{3} - q_{4} \\right )} + 0.4 \\sin{\\left (q_{3} \\right )} + 0.3 \\sin{\\left (q_{3} - q_{4} \\right )}\\right) \\sin{\\left (q_{1} \\right )} & - \\left(1.0 q_{5} \\cos{\\left (q_{3} - q_{4} \\right )} + 0.3 \\sin{\\left (q_{3} - q_{4} \\right )}\\right) \\sin{\\left (q_{1} \\right )} & 0\\\\0 & 0 & - 1.0 q_{5} \\sin{\\left (q_{3} - q_{4} \\right )} + 0.4 \\cos{\\left (q_{3} \\right )} + 0.3 \\cos{\\left (q_{3} - q_{4} \\right )} & - 1.0 q_{5} \\sin{\\left (q_{3} - q_{4} \\right )} + 0.3 \\cos{\\left (q_{3} - q_{4} \\right )} & 0\\\\0 & 0 & \\sin{\\left (q_{1} \\right )} & \\sin{\\left (q_{1} \\right )} & - \\sin{\\left (q_{3} \\right )} \\cos{\\left (q_{1} \\right )} \\cos{\\left (q_{4} \\right )} + \\sin{\\left (q_{4} \\right )} \\cos{\\left (q_{1} \\right )} \\cos{\\left (q_{3} \\right )}\\\\0 & 0 & - \\cos{\\left (q_{1} \\right )} & - \\cos{\\left (q_{1} \\right )} & - \\sin{\\left (q_{1} \\right )} \\sin{\\left (q_{3} \\right )} \\cos{\\left (q_{4} \\right )} + \\sin{\\left (q_{1} \\right )} \\sin{\\left (q_{4} \\right )} \\cos{\\left (q_{3} \\right )}\\\\1 & 1 & 0 & 0 & \\sin{\\left (q_{3} \\right )} \\sin{\\left (q_{4} \\right )} + \\cos{\\left (q_{3} \\right )} \\cos{\\left (q_{4} \\right )}\\end{matrix}\\right]$$"
      ],
      "text/plain": [
       "⎡(1.0⋅q₅⋅sin(q₃ - q₄) - 0.4⋅cos(q₃) - 0.3⋅cos(q₃ - q₄))⋅sin(q₁)   (1.0⋅q₅⋅sin(\n",
       "⎢                                                                             \n",
       "⎢(-1.0⋅q₅⋅sin(q₃ - q₄) + 0.4⋅cos(q₃) + 0.3⋅cos(q₃ - q₄))⋅cos(q₁)  (-1.0⋅q₅⋅sin\n",
       "⎢                                                                             \n",
       "⎢                               0                                             \n",
       "⎢                                                                             \n",
       "⎢                               0                                             \n",
       "⎢                                                                             \n",
       "⎢                               0                                             \n",
       "⎢                                                                             \n",
       "⎣                               1                                             \n",
       "\n",
       "q₃ - q₄) - 0.4⋅cos(q₃) - 0.3⋅cos(q₃ - q₄))⋅sin(q₁)   -(1.0⋅q₅⋅cos(q₃ - q₄) + 0\n",
       "                                                                              \n",
       "(q₃ - q₄) + 0.4⋅cos(q₃) + 0.3⋅cos(q₃ - q₄))⋅cos(q₁)  -(1.0⋅q₅⋅cos(q₃ - q₄) + 0\n",
       "                                                                              \n",
       "                   0                                      -1.0⋅q₅⋅sin(q₃ - q₄)\n",
       "                                                                              \n",
       "                   0                                                          \n",
       "                                                                              \n",
       "                   0                                                          \n",
       "                                                                              \n",
       "                   1                                                          \n",
       "\n",
       ".4⋅sin(q₃) + 0.3⋅sin(q₃ - q₄))⋅cos(q₁)  -(1.0⋅q₅⋅cos(q₃ - q₄) + 0.3⋅sin(q₃ - q\n",
       "                                                                              \n",
       ".4⋅sin(q₃) + 0.3⋅sin(q₃ - q₄))⋅sin(q₁)  -(1.0⋅q₅⋅cos(q₃ - q₄) + 0.3⋅sin(q₃ - q\n",
       "                                                                              \n",
       " + 0.4⋅cos(q₃) + 0.3⋅cos(q₃ - q₄)            -1.0⋅q₅⋅sin(q₃ - q₄) + 0.3⋅cos(q₃\n",
       "                                                                              \n",
       "   sin(q₁)                                                   sin(q₁)          \n",
       "                                                                              \n",
       "  -cos(q₁)                                                  -cos(q₁)          \n",
       "                                                                              \n",
       "      0                                                         0             \n",
       "\n",
       "₄))⋅cos(q₁)                          0                         ⎤\n",
       "                                                               ⎥\n",
       "₄))⋅sin(q₁)                          0                         ⎥\n",
       "                                                               ⎥\n",
       " - q₄)                               0                         ⎥\n",
       "                                                               ⎥\n",
       "             -sin(q₃)⋅cos(q₁)⋅cos(q₄) + sin(q₄)⋅cos(q₁)⋅cos(q₃)⎥\n",
       "                                                               ⎥\n",
       "             -sin(q₁)⋅sin(q₃)⋅cos(q₄) + sin(q₁)⋅sin(q₄)⋅cos(q₃)⎥\n",
       "                                                               ⎥\n",
       "                     sin(q₃)⋅sin(q₄) + cos(q₃)⋅cos(q₄)         ⎦"
      ]
     },
     "metadata": {},
     "output_type": "display_data"
    },
    {
     "name": "stdout",
     "output_type": "stream",
     "text": [
      "La posicion y orientación en el instante 5 es\n"
     ]
    },
    {
     "data": {
      "text/latex": [
       "$$\\left[\\begin{matrix}-1 & 0 & 0 & 0\\\\0 & - \\frac{\\sqrt{3}}{2} & \\frac{1}{2} & 0.1 + 0.35 \\sqrt{3}\\\\0 & \\frac{1}{2} & \\frac{\\sqrt{3}}{2} & 0.1 \\sqrt{3} + 0.25\\\\0 & 0 & 0 & 1\\end{matrix}\\right]$$"
      ],
      "text/plain": [
       "⎡-1   0     0         0      ⎤\n",
       "⎢                            ⎥\n",
       "⎢    -√3                     ⎥\n",
       "⎢0   ────  1/2  0.1 + 0.35⋅√3⎥\n",
       "⎢     2                      ⎥\n",
       "⎢                            ⎥\n",
       "⎢          √3                ⎥\n",
       "⎢0   1/2   ──   0.1⋅√3 + 0.25⎥\n",
       "⎢          2                 ⎥\n",
       "⎢                            ⎥\n",
       "⎣0    0     0         1      ⎦"
      ]
     },
     "metadata": {},
     "output_type": "display_data"
    },
    {
     "name": "stdout",
     "output_type": "stream",
     "text": [
      "La velocidad y razon de cambio en el instante 5 es\n"
     ]
    },
    {
     "data": {
      "text/latex": [
       "$$\\left[\\begin{matrix}- 0.35 \\sqrt{3} - 0.1 & - 0.35 \\sqrt{3} - 0.1 & 0 & 0 & 0\\\\0 & 0 & - 0.1 \\sqrt{3} - 0.05 & - 0.1 \\sqrt{3} + 0.15 & 0\\\\0 & 0 & 0.1 + 0.35 \\sqrt{3} & 0.1 + 0.15 \\sqrt{3} & 0\\\\0 & 0 & 1 & 1 & 0\\\\0 & 0 & 0 & 0 & \\frac{1}{2}\\\\1 & 1 & 0 & 0 & \\frac{\\sqrt{3}}{2}\\end{matrix}\\right]$$"
      ],
      "text/plain": [
       "⎡-0.35⋅√3 - 0.1  -0.35⋅√3 - 0.1        0               0          0 ⎤\n",
       "⎢                                                                   ⎥\n",
       "⎢      0               0         -0.1⋅√3 - 0.05  -0.1⋅√3 + 0.15   0 ⎥\n",
       "⎢                                                                   ⎥\n",
       "⎢      0               0         0.1 + 0.35⋅√3   0.1 + 0.15⋅√3    0 ⎥\n",
       "⎢                                                                   ⎥\n",
       "⎢      0               0               1               1          0 ⎥\n",
       "⎢                                                                   ⎥\n",
       "⎢      0               0               0               0         1/2⎥\n",
       "⎢                                                                   ⎥\n",
       "⎢                                                                √3 ⎥\n",
       "⎢      1               1               0               0         ── ⎥\n",
       "⎣                                                                2  ⎦"
      ]
     },
     "metadata": {},
     "output_type": "display_data"
    },
    {
     "data": {
      "image/png": "[encoded data removed]",
      "text/latex": [
       "$$\\left ( \\operatorname{atan_{2}}{\\left (\\cos{\\left (q_{1} \\right )},- \\sin{\\left (q_{1} \\right )} \\right )}, \\quad \\operatorname{atan_{2}}{\\left (0,\\sqrt{\\sin^{2}{\\left (q_{3} - q_{4} \\right )} + \\cos^{2}{\\left (q_{3} - q_{4} \\right )}} \\right )}, \\quad \\operatorname{atan_{2}}{\\left (- \\sin{\\left (q_{3} - q_{4} \\right )},\\cos{\\left (q_{3} - q_{4} \\right )} \\right )}\\right )$$"
      ],
      "text/plain": [
       "⎛                               ⎛      _______________________________⎞       \n",
       "⎜                               ⎜     ╱    2               2          ⎟       \n",
       "⎝atan2(cos(q₁), -sin(q₁)), atan2⎝0, ╲╱  sin (q₃ - q₄) + cos (q₃ - q₄) ⎠, atan2\n",
       "\n",
       "                             ⎞\n",
       "                             ⎟\n",
       "(-sin(q₃ - q₄), cos(q₃ - q₄))⎠"
      ]
     },
     "execution_count": 53,
     "metadata": {},
     "output_type": "execute_result"
    }
   ],
   "source": [
    "T02=T01*T12\n",
    "T03=T01*T12*T23\n",
    "T04=T01*T12*T23*T34\n",
    "\n",
    "\n",
    "p1=T01[0:3, 3]\n",
    "z1= T01[0:3, 2]\n",
    "p2=T02[0:3, 3]\n",
    "z2=T02[0:3, 2]\n",
    "p3=T03[0:3, 3]\n",
    "z3=T03[0:3, 2]\n",
    "p4=T04[0:3, 3]\n",
    "z4=T04[0:3, 2]\n",
    "p5=T0F[0:3, 3]\n",
    "z5=T0F[0:3, 2]\n",
    "\n",
    "z0 = sp.Matrix([[0],[0],[1]]);\n",
    "p0 = sp.Matrix([[0],[0],[0]]);\n",
    "Jv1 = sp.simplify(z0.cross(p5-p0)); \n",
    "Jv2 = sp.simplify(z1.cross(p5-p1)); \n",
    "Jv3 = sp.simplify(z2.cross(p5-p2)); \n",
    "Jv4 = sp.simplify(z3.cross(p5-p3)); \n",
    "Jv5 = sp.simplify(z4.cross(p5-p4)); \n",
    "Jv6 = sp.simplify(z5.cross(p5-p5)); \n",
    "Jw1=z0\n",
    "Jw2=z1\n",
    "Jw3=z2\n",
    "Jw4=z3\n",
    "Jw5=z4\n",
    "\n",
    "\n",
    "J1 = sp.Matrix.vstack(Jv1, Jw1)\n",
    "J2 = sp.Matrix.vstack(Jv2, Jw2)\n",
    "J3 = sp.Matrix.vstack(Jv3, Jw3)\n",
    "J4 = sp.Matrix.vstack(Jv4, Jw4)\n",
    "J5 = sp.Matrix.vstack(Jv5, Jw5)\n",
    "J = sp.Matrix.hstack(J1, J2, J3,J4,J5)\n",
    "\n",
    "print('Jacobiano Geometrico: '), display(J)\n",
    "\n",
    "\n",
    "# Para t=5s\n",
    "\n",
    "#Posicion y orientacion\n",
    "\n",
    "T0Fp=T0F.subs({q1:spi/2, q2:0.2, q3:spi/6, q4:spi/3, q5:0.2})\n",
    "\n",
    "print('La posicion y orientación en el instante 5 es'); display(T0Fp)\n",
    "\n",
    "#Velocidades y orientaciones\n",
    "\n",
    "J_5v=J.subs({q1:spi/2,q2:0.2,q3:spi/6,q4:spi/3,q5:0.2})\n",
    "print('La velocidad y razon de cambio en el instante 5 es'); display(J_5v)\n",
    "\n",
    "\n",
    "#En roll pitch yaw\n",
    "\n",
    "\n",
    "Rrpy=R_rpy(T0F[:3,0:3],'+')\n",
    "Rrpy\n",
    "\n",
    "\n",
    "\n",
    "\n"
   ]
  },
  {
   "cell_type": "markdown",
   "metadata": {},
   "source": [
    "Primero tendriamos expresar la posición a alcanzar por el efector final respecto al sistema del robot movil respecto a la base, para lo que tendriamos que multiplicar las coordenadas por la matriz de transformación de la base al efector final, lo cual solo cambiaria en posición. La nueva posición seria (5-1,4-1,1-1). Luego procederiamos a calcular la cinematica inversa para calcular los angulos que necesitamos alcanzar usando algun metodo como newton raphson. Si lo que queremos son las velocidades y tasas de cambio, lo que podiamos hacer es multiplicar (R_B_R 0; 0 RB_0 )*J_sistemarobotmovil, lo cual nos daria el Jacobiano geometrico respecto al sistema inercial"
   ]
  },
  {
   "cell_type": "code",
   "execution_count": 79,
   "metadata": {},
   "outputs": [
    {
     "name": "stdout",
     "output_type": "stream",
     "text": [
      "Matrix([[-(-Ixx2*sin(q3) + Ixz2*cos(q3))*sin(q3) + (-Ixz2*sin(q3) + Izz2*cos(q3))*cos(q3), 0, (-Ixx2*sin(q3) + Ixz2*cos(q3))*sin(q1)*cos(q3) + (-Ixy2*sin(q3) + Iyz2*cos(q3))*cos(q1) + (-Ixz2*sin(q3) + Izz2*cos(q3))*sin(q1)*sin(q3)], [0, m1 + m2, l2*m2*cos(q3)], [-(Ixx2*sin(q1)*cos(q3) + Ixy2*cos(q1) + Ixz2*sin(q1)*sin(q3))*sin(q3) + (Ixz2*sin(q1)*cos(q3) + Iyz2*cos(q1) + Izz2*sin(q1)*sin(q3))*cos(q3), l2*m2*cos(q3), l2**2*m2 + (Ixx2*sin(q1)*cos(q3) + Ixy2*cos(q1) + Ixz2*sin(q1)*sin(q3))*sin(q1)*cos(q3) + (Ixy2*sin(q1)*cos(q3) + Iyy2*cos(q1) + Iyz2*sin(q1)*sin(q3))*cos(q1) + (Ixz2*sin(q1)*cos(q3) + Iyz2*cos(q1) + Izz2*sin(q1)*sin(q3))*sin(q1)*sin(q3)]])\n"
     ]
    }
   ],
   "source": [
    "#Pregunta 2\n",
    "\n",
    "#Parte a\n",
    "\n",
    "q1,q2,q3,m1,m2,l1,l2=sp.symbols('q1 q2 q3 m1 m2 l1 l2')\n",
    "\n",
    "\n",
    "R11=srotz(q1)\n",
    "R12=0\n",
    "R13=srotz(q1)*sroty(q3)\n",
    "# Posiciones de los centros de masa\n",
    "x1=0\n",
    "y1=0\n",
    "\n",
    "x2=0\n",
    "y2=0\n",
    "\n",
    "x3=l2*sp.cos(q3)\n",
    "y3=0\n",
    "\n",
    "z1=0\n",
    "z2=q2-l1\n",
    "z3=q2+l2*sp.sin(q3)\n",
    "\n",
    "\n",
    "# Jacobianos de velocidad lineal (del CdM)\n",
    "xyz1=sp.Matrix([[x1],[y1],[z1]])\n",
    "xyz2=sp.Matrix([[x2],[y2],[z2]])\n",
    "xyz3=sp.Matrix([[x3],[y3],[z3]])\n",
    "\n",
    "Jv11=sp.diff(xyz1,q1)\n",
    "Jv12=sp.diff(xyz1,q2)\n",
    "Jv13=sp.diff(xyz1,q3)\n",
    "Jv1=sp.Matrix.hstack(Jv11,Jv12,Jv13)\n",
    "Jv1\n",
    "\n",
    "Jv21=sp.diff(xyz2,q1)\n",
    "Jv22=sp.diff(xyz2,q2)\n",
    "Jv23=sp.diff(xyz2,q3)\n",
    "Jv2=sp.Matrix.hstack(Jv21,Jv22,Jv23)\n",
    "Jv2\n",
    "\n",
    "Jv31=sp.diff(xyz3,q1)\n",
    "Jv32=sp.diff(xyz3,q2)\n",
    "Jv33=sp.diff(xyz3,q3)\n",
    "Jv3=sp.Matrix.hstack(Jv21,Jv22,Jv33)\n",
    "Jv3\n",
    "\n",
    "#Jacobianos de velocidad angular\n",
    "J1w=sp.Matrix([[0, 0,0],[0,0,0],[1,0,0]])\n",
    "J2w=sp.Matrix([[0, 0,0],[0,0,0],[1,0,0]])\n",
    "J3w=sp.Matrix([[0, 0,0],[0,0,1],[1,0,0]])\n",
    "\n",
    "#Productos de Jacobianos de velocidad lineal\n",
    "J1j1=sp.simplify(Jv1.T*Jv1)\n",
    "J2j2=sp.simplify(Jv2.T*Jv2)\n",
    "J3j3=sp.simplify(Jv3.T*Jv3)\n",
    "\n",
    "#Productos de Jacobianos de velocidad angular con R\n",
    "Jw1R1=J1w.T*R11\n",
    "Jw2R2=J2w.T*R12\n",
    "Jw3R3=J3w.T*R13\n",
    "\n",
    "#Productos con el tensor de inercia de cada CdM\n",
    "Ixx1, Ixy1, Ixz1, Ixy1, Iyy1, Iyz1, Ixz1, Iyz1, Izz1 = sp.symbols('Ixx1 Ixy1 Ixz1 Ixy1 Iyy1 Iyz1 Ixz1 Iyz1 Izz1')\n",
    "Ixx2, Ixy2, Ixz2, Ixy2, Iyy2, Iyz2, Ixz2, Iyz2, Izz2 = sp.symbols('Ixx2 Ixy2 Ixz2 Ixy2 Iyy2 Iyz2 Ixz2 Iyz2 Izz2')\n",
    "\n",
    "I1=sp.Matrix([[Ixx1, Ixy1, Ixz1],\n",
    "             [Ixy1, Iyy1, Iyz1],\n",
    "             [Ixz1, Iyz1, Izz1]])\n",
    "I2=sp.Matrix([[Ixx2, Ixy2, Ixz2],\n",
    "             [Ixy2, Iyy2, Iyz2],\n",
    "             [Ixz2, Iyz2, Izz2]])\n",
    "\n",
    "\n",
    "Icdm1=0\n",
    "Icdm2=Jw2R2*I1*Jw2R2.T\n",
    "Icdm3=Jw3R3*I2*Jw3R3.T\n",
    "\n",
    "Icdm2, Icdm3\n",
    "\n",
    "Mq=m1*J2j2+m2*J3j3+Icdm2+Icdm3\n",
    "\n",
    "Mq\n",
    "\n",
    "print(Mq)"
   ]
  },
  {
   "cell_type": "code",
   "execution_count": 80,
   "metadata": {},
   "outputs": [
    {
     "data": {
      "image/png": "[encoded data removed]",
      "text/latex": [
       "$$\\left ( 0, \\quad 0, \\quad 0\\right )$$"
      ],
      "text/plain": [
       "(0, 0, 0)"
      ]
     },
     "execution_count": 80,
     "metadata": {},
     "output_type": "execute_result"
    }
   ],
   "source": [
    "#Parte b\n",
    "\n",
    "#Matriz de coriolis \n",
    "\n",
    "\n",
    "\n",
    "#Calculo de Matriz Coriolisis/ fuerzas centrifugas\n",
    "dq1, dq2,g=sp.symbols('\\dot{q}_1 \\dot{q}_2,g')\n",
    "\n",
    "#Cij=sum cijk*qk (k=1 --> k=2)\n",
    "#Cijk=1/2(dmij/dqk + dmik/dqj - dmjk/dqi)\n",
    "q=sp.Matrix([q1,q2])\n",
    "\n",
    "# Reemplazando los terminos\n",
    "#c1111\n",
    "mij11=sp.diff(Mq[0,0],q1) #mij\n",
    "mik11=sp.diff(Mq[0,0],q1) #mik\n",
    "mjk11=sp.diff(Mq[0,0],q1) #mjk\n",
    "mwk11=sp.diff(Mq[0,0],q1)\n",
    "c1111=(mij11+mik11-mjk11-mwk11)/2\n",
    "\n",
    "\n",
    "#c2222\n",
    "\n",
    "#c2222 Mq[i-1,j-1]\n",
    "mij22=sp.diff(Mq[1,1],q2) #mij derivada respecto a k\n",
    "mik22=sp.diff(Mq[1,1],q2) #mik derivada respecto a j\n",
    "mjk22=sp.diff(Mq[1,1],q2) #mjk derivada respecto a i\n",
    "mwk22=sp.diff(Mq[1,1],q2) #mwk derivada respecto a w\n",
    "c2222=(mij22+mik22-mjk22-mwk22)/2\n",
    "\n",
    "\n",
    "#c3333\n",
    "\n",
    "#c3333 Mq[i-1,j-1]\n",
    "mij33=sp.diff(Mq[1,1],q3) #mij derivada respecto a k\n",
    "mik33=sp.diff(Mq[1,1],q3) #mik derivada respecto a j\n",
    "mjk33=sp.diff(Mq[1,1],q3) #mjk derivada respecto a i\n",
    "mwk33=sp.diff(Mq[1,1],q3) #mwk derivada respecto a w\n",
    "c3333=(mij33+mik33-mjk33-mwk33)/2\n",
    "\n",
    "\n",
    "c1111,c2222,c3333"
   ]
  },
  {
   "cell_type": "code",
   "execution_count": 77,
   "metadata": {},
   "outputs": [
    {
     "data": {
      "text/latex": [
       "$$\\left[\\begin{matrix}Izz_{1} & 0\\\\0 & m_{1} + m_{2}\\end{matrix}\\right]$$"
      ],
      "text/plain": [
       "⎡Izz₁     0   ⎤\n",
       "⎢             ⎥\n",
       "⎣ 0    m₁ + m₂⎦"
      ]
     },
     "execution_count": 77,
     "metadata": {},
     "output_type": "execute_result"
    }
   ],
   "source": [
    "#Pregunta 2\n",
    "\n",
    "#Parte a\n",
    "\n",
    "q1,q2,q3,m1,m2,l1,l2=sp.symbols('q1 q2 q3 m1 m2 l1 l2')\n",
    "\n",
    "\n",
    "R11=srotz(q1)\n",
    "R12=0\n",
    "R13=srotz(q1)*sroty(q3)\n",
    "# Posiciones de los centros de masa\n",
    "x1=0\n",
    "y1=0\n",
    "\n",
    "\n",
    "x2=l2*sp.cos(q3)\n",
    "y2=0\n",
    "\n",
    "z1=q2-l1\n",
    "z2=q2+l2*sp.sin(q3)\n",
    "\n",
    "\n",
    "\n",
    "xyz1=sp.Matrix([[x1],[y1],[z1]])\n",
    "xyz2=sp.Matrix([[x2],[y2],[z2]])\n",
    "\n",
    "# Jacobianos de velocidad lineal (del CdM)\n",
    "xyz1=sp.Matrix([[x1],[y1],[z1]])\n",
    "xyz2=sp.Matrix([[x2],[y2],[z2]])\n",
    "Jv11=sp.diff(xyz1,q1)\n",
    "Jv12=sp.diff(xyz1,q2)\n",
    "Jv1=sp.Matrix.hstack(Jv11,Jv12)\n",
    "Jv1\n",
    "\n",
    "Jv21=sp.diff(xyz2,q1)\n",
    "Jv22=sp.diff(xyz2,q2)\n",
    "Jv2=sp.Matrix.hstack(Jv21,Jv22)\n",
    "Jv2\n",
    "\n",
    "#Jacobianos de velocidad angular\n",
    "J1w=sp.Matrix([[0, 0],[0,0],[1,0]])\n",
    "J2w=sp.Matrix([[0, 0],[0,1],[1,0]])\n",
    "\n",
    "#Productos de Jacobianos de velocidad lineal\n",
    "J1j1=sp.simplify(Jv1.T*Jv1)\n",
    "J2j2=sp.simplify(Jv2.T*Jv2)\n",
    "\n",
    "\n",
    "#Productos de Jacobianos de velocidad angular con R\n",
    "\n",
    "Jw1R1=J1w.T*R11\n",
    "Jw2R2=J2w.T*R12\n",
    "\n",
    "#Productos con el tensor de inercia de cada CdM\n",
    "Ixx1, Ixy1, Ixz1, Ixy1, Iyy1, Iyz1, Ixz1, Iyz1, Izz1 = sp.symbols('Ixx1 Ixy1 Ixz1 Ixy1 Iyy1 Iyz1 Ixz1 Iyz1 Izz1')\n",
    "Ixx2, Ixy2, Ixz2, Ixy2, Iyy2, Iyz2, Ixz2, Iyz2, Izz2 = sp.symbols('Ixx2 Ixy2 Ixz2 Ixy2 Iyy2 Iyz2 Ixz2 Iyz2 Izz2')\n",
    "\n",
    "I1=sp.Matrix([[Ixx1, Ixy1, Ixz1],\n",
    "             [Ixy1, Iyy1, Iyz1],\n",
    "             [Ixz1, Iyz1, Izz1]])\n",
    "I2=sp.Matrix([[Ixx2, Ixy2, Ixz2],\n",
    "             [Ixy2, Iyy2, Iyz2],\n",
    "             [Ixz2, Iyz2, Izz2]])\n",
    "\n",
    "Icdm1=Jw1R1*I1*Jw1R1.T\n",
    "Icdm2=Jw2R2*I2*Jw2R2.T\n",
    "Icdm1, Icdm2\n",
    "\n",
    "Mq=m1*J1j1+m2*J2j2+Icdm1+Icdm2\n",
    "Mq\n"
   ]
  }
 ],
 "metadata": {
  "kernelspec": {
   "display_name": "Python 3",
   "language": "python",
   "name": "python3"
  },
  "language_info": {
   "codemirror_mode": {
    "name": "ipython",
    "version": 3
   },
   "file_extension": ".py",
   "mimetype": "text/x-python",
   "name": "python",
   "nbconvert_exporter": "python",
   "pygments_lexer": "ipython3",
   "version": "3.6.6"
  }
 },
 "nbformat": 4,
 "nbformat_minor": 2
}
