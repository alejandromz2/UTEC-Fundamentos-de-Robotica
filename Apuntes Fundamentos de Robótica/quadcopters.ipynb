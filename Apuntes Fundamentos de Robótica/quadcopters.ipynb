{
 "cells": [
  {
   "cell_type": "code",
   "execution_count": 1,
   "metadata": {},
   "outputs": [],
   "source": [
    "import numpy as np\n",
    "import sympy as sp\n",
    "from sympy import init_printing\n",
    "from sympy import Matrix\n",
    "from sympy.interactive import printing\n",
    "printing.init_printing(use_latex=True)\n",
    "sin=sp.sin\n",
    "cos=sp.cos\n",
    "pi=sp.pi"
   ]
  },
  {
   "cell_type": "code",
   "execution_count": 13,
   "metadata": {},
   "outputs": [],
   "source": [
    "#Pregunta 3\n",
    "I=sp.eye(3)\n",
    "l=20/1000\n",
    "m=1\n",
    "kg=5.5*10e-6\n",
    "g=9.81\n",
    "ddr=0.1\n",
    "\n",
    "f=(m*ddr+m*g)/4\n",
    "\n",
    "w=sp.sqrt(f/kg)\n",
    "\n",
    "fe=m*g/4\n",
    "we=sp.sqrt(fe/kg)\n",
    "\n",
    "\n"
   ]
  },
  {
   "cell_type": "code",
   "execution_count": 16,
   "metadata": {},
   "outputs": [
    {
     "data": {
      "image/png": "[encoded data removed]",
      "text/latex": [
       "$$211.165596371448$$"
      ],
      "text/plain": [
       "211.165596371448"
      ]
     },
     "execution_count": 16,
     "metadata": {},
     "output_type": "execute_result"
    }
   ],
   "source": [
    "we"
   ]
  },
  {
   "cell_type": "code",
   "execution_count": null,
   "metadata": {},
   "outputs": [],
   "source": []
  },
  {
   "cell_type": "code",
   "execution_count": null,
   "metadata": {},
   "outputs": [],
   "source": []
  }
 ],
 "metadata": {
  "kernelspec": {
   "display_name": "Python 3",
   "language": "python",
   "name": "python3"
  },
  "language_info": {
   "codemirror_mode": {
    "name": "ipython",
    "version": 3
   },
   "file_extension": ".py",
   "mimetype": "text/x-python",
   "name": "python",
   "nbconvert_exporter": "python",
   "pygments_lexer": "ipython3",
   "version": "3.6.6"
  }
 },
 "nbformat": 4,
 "nbformat_minor": 2
}
