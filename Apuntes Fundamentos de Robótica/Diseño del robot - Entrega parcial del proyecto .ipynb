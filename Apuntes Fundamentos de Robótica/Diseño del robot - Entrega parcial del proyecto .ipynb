{
 "cells": [
  {
   "cell_type": "code",
   "execution_count": 1,
   "metadata": {},
   "outputs": [],
   "source": [
    "import sympy as sp                # Biblioteca para el cálculo simbólico\n",
    "\n",
    "def sTdh(d, th, a, alpha):\n",
    "    cth = sp.cos(th); sth = sp.sin(th)\n",
    "    ca = sp.cos(alpha); sa = sp.sin(alpha)\n",
    "    Tdh = sp.Matrix([[cth, -ca*sth,  sa*sth, a*cth],\n",
    "                     [sth,  ca*cth, -sa*cth, a*sth],\n",
    "                     [0,        sa,     ca,      d],\n",
    "                     [0,         0,      0,      1]])\n",
    "    return Tdh"
   ]
  },
  {
   "cell_type": "code",
   "execution_count": 16,
   "metadata": {},
   "outputs": [
    {
     "name": "stdout",
     "output_type": "stream",
     "text": [
      "T01:\n"
     ]
    },
    {
     "data": {
      "text/latex": [
       "$\\displaystyle \\left[\\begin{matrix}- \\sin{\\left(q_{1} \\right)} & - \\cos{\\left(q_{1} \\right)} & 0 & 0\\\\\\cos{\\left(q_{1} \\right)} & - \\sin{\\left(q_{1} \\right)} & 0 & 0\\\\0 & 0 & 1 & l_{1}\\\\0 & 0 & 0 & 1\\end{matrix}\\right]$"
      ],
      "text/plain": [
       "Matrix([\n",
       "[-sin(q1), -cos(q1), 0,  0],\n",
       "[ cos(q1), -sin(q1), 0,  0],\n",
       "[       0,        0, 1, l1],\n",
       "[       0,        0, 0,  1]])"
      ]
     },
     "metadata": {},
     "output_type": "display_data"
    },
    {
     "name": "stdout",
     "output_type": "stream",
     "text": [
      "T12:\n"
     ]
    },
    {
     "data": {
      "text/latex": [
       "$\\displaystyle \\left[\\begin{matrix}1 & 0 & 0 & 0\\\\0 & 0 & -1 & 0\\\\0 & 1 & 0 & l_{2} + q_{2}\\\\0 & 0 & 0 & 1\\end{matrix}\\right]$"
      ],
      "text/plain": [
       "Matrix([\n",
       "[1, 0,  0,       0],\n",
       "[0, 0, -1,       0],\n",
       "[0, 1,  0, l2 + q2],\n",
       "[0, 0,  0,       1]])"
      ]
     },
     "metadata": {},
     "output_type": "display_data"
    },
    {
     "name": "stdout",
     "output_type": "stream",
     "text": [
      "T23:\n"
     ]
    },
    {
     "data": {
      "text/latex": [
       "$\\displaystyle \\left[\\begin{matrix}- \\cos{\\left(q_{3} \\right)} & \\sin{\\left(q_{3} \\right)} & 0 & - l_{3} \\cos{\\left(q_{3} \\right)}\\\\- \\sin{\\left(q_{3} \\right)} & - \\cos{\\left(q_{3} \\right)} & 0 & - l_{3} \\sin{\\left(q_{3} \\right)}\\\\0 & 0 & 1 & 0\\\\0 & 0 & 0 & 1\\end{matrix}\\right]$"
      ],
      "text/plain": [
       "Matrix([\n",
       "[-cos(q3),  sin(q3), 0, -l3*cos(q3)],\n",
       "[-sin(q3), -cos(q3), 0, -l3*sin(q3)],\n",
       "[       0,        0, 1,           0],\n",
       "[       0,        0, 0,           1]])"
      ]
     },
     "metadata": {},
     "output_type": "display_data"
    },
    {
     "name": "stdout",
     "output_type": "stream",
     "text": [
      "T34:\n"
     ]
    },
    {
     "data": {
      "text/latex": [
       "$\\displaystyle \\left[\\begin{matrix}\\cos{\\left(q_{4} \\right)} & - \\sin{\\left(q_{4} \\right)} & 0 & l_{4} \\cos{\\left(q_{4} \\right)}\\\\\\sin{\\left(q_{4} \\right)} & \\cos{\\left(q_{4} \\right)} & 0 & l_{4} \\sin{\\left(q_{4} \\right)}\\\\0 & 0 & 1 & 0\\\\0 & 0 & 0 & 1\\end{matrix}\\right]$"
      ],
      "text/plain": [
       "Matrix([\n",
       "[cos(q4), -sin(q4), 0, l4*cos(q4)],\n",
       "[sin(q4),  cos(q4), 0, l4*sin(q4)],\n",
       "[      0,        0, 1,          0],\n",
       "[      0,        0, 0,          1]])"
      ]
     },
     "metadata": {},
     "output_type": "display_data"
    },
    {
     "name": "stdout",
     "output_type": "stream",
     "text": [
      "T45:\n"
     ]
    },
    {
     "data": {
      "text/latex": [
       "$\\displaystyle \\left[\\begin{matrix}\\cos{\\left(q_{5} \\right)} & 0 & \\sin{\\left(q_{5} \\right)} & 0\\\\\\sin{\\left(q_{5} \\right)} & 0 & - \\cos{\\left(q_{5} \\right)} & 0\\\\0 & 1 & 0 & 0\\\\0 & 0 & 0 & 1\\end{matrix}\\right]$"
      ],
      "text/plain": [
       "Matrix([\n",
       "[cos(q5), 0,  sin(q5), 0],\n",
       "[sin(q5), 0, -cos(q5), 0],\n",
       "[      0, 1,        0, 0],\n",
       "[      0, 0,        0, 1]])"
      ]
     },
     "metadata": {},
     "output_type": "display_data"
    },
    {
     "name": "stdout",
     "output_type": "stream",
     "text": [
      "T56:\n"
     ]
    },
    {
     "data": {
      "text/latex": [
       "$\\displaystyle \\left[\\begin{matrix}- \\cos{\\left(q_{6} \\right)} & \\sin{\\left(q_{6} \\right)} & 0 & 0\\\\- \\sin{\\left(q_{6} \\right)} & - \\cos{\\left(q_{6} \\right)} & 0 & 0\\\\0 & 0 & 1 & - l_{5}\\\\0 & 0 & 0 & 1\\end{matrix}\\right]$"
      ],
      "text/plain": [
       "Matrix([\n",
       "[-cos(q6),  sin(q6), 0,   0],\n",
       "[-sin(q6), -cos(q6), 0,   0],\n",
       "[       0,        0, 1, -l5],\n",
       "[       0,        0, 0,   1]])"
      ]
     },
     "metadata": {},
     "output_type": "display_data"
    },
    {
     "name": "stdout",
     "output_type": "stream",
     "text": [
      "T06:\n"
     ]
    },
    {
     "data": {
      "text/latex": [
       "$\\displaystyle \\left[\\begin{matrix}- \\sin{\\left(q_{1} \\right)} \\cos{\\left(q_{6} \\right)} \\cos{\\left(q_{3} + q_{4} + q_{5} \\right)} - \\sin{\\left(q_{6} \\right)} \\cos{\\left(q_{1} \\right)} & \\sin{\\left(q_{1} \\right)} \\sin{\\left(q_{6} \\right)} \\cos{\\left(q_{3} + q_{4} + q_{5} \\right)} - \\cos{\\left(q_{1} \\right)} \\cos{\\left(q_{6} \\right)} & \\sin{\\left(q_{1} \\right)} \\sin{\\left(q_{3} + q_{4} + q_{5} \\right)} & \\left(l_{3} \\cos{\\left(q_{3} \\right)} + l_{4} \\cos{\\left(q_{3} + q_{4} \\right)} - l_{5} \\sin{\\left(q_{3} + q_{4} + q_{5} \\right)}\\right) \\sin{\\left(q_{1} \\right)}\\\\- \\sin{\\left(q_{1} \\right)} \\sin{\\left(q_{6} \\right)} + \\cos{\\left(q_{1} \\right)} \\cos{\\left(q_{6} \\right)} \\cos{\\left(q_{3} + q_{4} + q_{5} \\right)} & - \\sin{\\left(q_{1} \\right)} \\cos{\\left(q_{6} \\right)} - \\sin{\\left(q_{6} \\right)} \\cos{\\left(q_{1} \\right)} \\cos{\\left(q_{3} + q_{4} + q_{5} \\right)} & - \\sin{\\left(q_{3} + q_{4} + q_{5} \\right)} \\cos{\\left(q_{1} \\right)} & \\left(- l_{3} \\cos{\\left(q_{3} \\right)} - l_{4} \\cos{\\left(q_{3} + q_{4} \\right)} + l_{5} \\sin{\\left(q_{3} + q_{4} + q_{5} \\right)}\\right) \\cos{\\left(q_{1} \\right)}\\\\\\sin{\\left(q_{3} + q_{4} + q_{5} \\right)} \\cos{\\left(q_{6} \\right)} & - \\sin{\\left(q_{6} \\right)} \\sin{\\left(q_{3} + q_{4} + q_{5} \\right)} & \\cos{\\left(q_{3} + q_{4} + q_{5} \\right)} & l_{1} + l_{2} - l_{3} \\sin{\\left(q_{3} \\right)} - l_{4} \\sin{\\left(q_{3} + q_{4} \\right)} - l_{5} \\cos{\\left(q_{3} + q_{4} + q_{5} \\right)} + q_{2}\\\\0 & 0 & 0 & 1\\end{matrix}\\right]$"
      ],
      "text/plain": [
       "Matrix([\n",
       "[-sin(q1)*cos(q6)*cos(q3 + q4 + q5) - sin(q6)*cos(q1),  sin(q1)*sin(q6)*cos(q3 + q4 + q5) - cos(q1)*cos(q6),  sin(q1)*sin(q3 + q4 + q5),      (l3*cos(q3) + l4*cos(q3 + q4) - l5*sin(q3 + q4 + q5))*sin(q1)],\n",
       "[-sin(q1)*sin(q6) + cos(q1)*cos(q6)*cos(q3 + q4 + q5), -sin(q1)*cos(q6) - sin(q6)*cos(q1)*cos(q3 + q4 + q5), -sin(q3 + q4 + q5)*cos(q1),     (-l3*cos(q3) - l4*cos(q3 + q4) + l5*sin(q3 + q4 + q5))*cos(q1)],\n",
       "[                           sin(q3 + q4 + q5)*cos(q6),                           -sin(q6)*sin(q3 + q4 + q5),          cos(q3 + q4 + q5), l1 + l2 - l3*sin(q3) - l4*sin(q3 + q4) - l5*cos(q3 + q4 + q5) + q2],\n",
       "[                                                   0,                                                    0,                          0,                                                                  1]])"
      ]
     },
     "metadata": {},
     "output_type": "display_data"
    }
   ],
   "source": [
    "# Variables simbólicas\n",
    "q1, q2, q3, q4, q5, q6 = sp.symbols(\"q1 q2 q3 q4 q5 q6\")\n",
    "l1, l2, l3, l4, l5 = sp.symbols(\"l1 l2 l3 l4 l5\")\n",
    "\n",
    "# Transformaciones homogéneas\n",
    "T01 = sTdh( l1, sp.pi/2+q1, 0, 0)\n",
    "T12 = sTdh( q2+l2, 0,  0,   sp.pi/2)\n",
    "T23 = sTdh(   0,   sp.pi+q3, l3, 0)\n",
    "T34 = sTdh( 0,   q4,    l4, 0)\n",
    "T45 = sTdh(   0,   q5,    0, sp.pi/2)\n",
    "T56 = sTdh(   -l5,  sp.pi+q6,    0, 0)\n",
    "\n",
    "# Transformación homogénea final\n",
    "Tf = sp.simplify(T01*T12*T23*T34*T45*T56)\n",
    "\n",
    "# Mostrar las transformaciones homogéneas (display funciona con IPython)\n",
    "print(\"T01:\"); display(T01)\n",
    "print(\"T12:\"); display(T12)\n",
    "print(\"T23:\"); display(T23)\n",
    "print(\"T34:\"); display(T34)\n",
    "print(\"T45:\"); display(T45)\n",
    "print(\"T56:\"); display(T56)\n",
    "print(\"T06:\"); display(Tf)"
   ]
  },
  {
   "cell_type": "code",
   "execution_count": 17,
   "metadata": {},
   "outputs": [
    {
     "name": "stdout",
     "output_type": "stream",
     "text": [
      "T06 cuando q=(0,0,0,0,0,0):\n"
     ]
    },
    {
     "data": {
      "text/latex": [
       "$\\displaystyle \\left[\\begin{matrix}0 & -1 & 0 & 0\\\\1 & 0 & 0 & - l_{3} - l_{4}\\\\0 & 0 & 1 & l_{1} + l_{2} - l_{5}\\\\0 & 0 & 0 & 1\\end{matrix}\\right]$"
      ],
      "text/plain": [
       "Matrix([\n",
       "[0, -1, 0,            0],\n",
       "[1,  0, 0,     -l3 - l4],\n",
       "[0,  0, 1, l1 + l2 - l5],\n",
       "[0,  0, 0,            1]])"
      ]
     },
     "execution_count": 17,
     "metadata": {},
     "output_type": "execute_result"
    }
   ],
   "source": [
    "# Valor cuando todos los ángulos son cero\n",
    "print(\"T06 cuando q=(0,0,0,0,0,0):\")\n",
    "Tf.subs({q1:0., q2:0., q3:0., q4:0., q5:0., q6:0.})"
   ]
  },
  {
   "cell_type": "code",
   "execution_count": 18,
   "metadata": {},
   "outputs": [],
   "source": [
    "import numpy as np\n",
    "\n",
    "def Tdh(d, th, a, alpha):\n",
    "    cth = np.cos(th);    sth = np.sin(th)\n",
    "    ca = np.cos(alpha);  sa = np.sin(alpha)\n",
    "    Tdh = np.array([[cth, -ca*sth,  sa*sth, a*cth],\n",
    "                    [sth,  ca*cth, -sa*cth, a*sth],\n",
    "                    [0,        sa,     ca,      d],\n",
    "                    [0,         0,      0,      1]])\n",
    "    return Tdh"
   ]
  },
  {
   "cell_type": "code",
   "execution_count": 22,
   "metadata": {},
   "outputs": [],
   "source": [
    "# Cinemática directa del robot\n",
    "def cdirecta_Drobot(q):\n",
    "    \"\"\" Retorna los sistemas de referencia de cada eslabón con respecto a la base\n",
    "    Asumiendo: \n",
    "    l1 = l2 = 65 cm\n",
    "    l3 = l4 = 45 cm\n",
    "    l5 = 30 cm \n",
    "    \"\"\"\n",
    "\n",
    "    # Transformaciones homogéneas de DH\n",
    "    T01 = Tdh( 65,   np.pi/2+q[0], 0, 0);\n",
    "    T12 = Tdh( q[1]+65, 0,  0,   np.pi/2);\n",
    "    T23 = Tdh(   0,   q[2]+np.pi, 45, 0);\n",
    "    T34 = Tdh( 0,   q[3],   45, 0);\n",
    "    T45 = Tdh(   0,   q[4],    0, np.pi/2);\n",
    "    T56 = Tdh(   -30,      np.pi+q[5], 0, 0);\n",
    "    # Efector final con respecto a la base\n",
    "    Tf = T01.dot(T12).dot(T23).dot(T34).dot(T45).dot(T56)\n",
    "    return Tf"
   ]
  },
  {
   "cell_type": "code",
   "execution_count": 23,
   "metadata": {},
   "outputs": [
    {
     "name": "stdout",
     "output_type": "stream",
     "text": [
      "Efector final con respecto a la base cuando q1=0.0, q2=0.0, q3=0.0, q4=0.0, q5=0.0, q6=0.0\n",
      "[[  0.  -1.   0.  -0.]\n",
      " [  1.   0.   0. -90.]\n",
      " [ -0.  -0.   1. 100.]\n",
      " [  0.   0.   0.   1.]]\n"
     ]
    }
   ],
   "source": [
    "# Ejemplo de cálculo de la cinemática directa\n",
    "q = np.array([0., 0., 0., 0., 0., 0.])\n",
    "\n",
    "# Cinemática directa\n",
    "Te = cdirecta_Drobot(np.deg2rad(q))   # Cinemática directa\n",
    "\n",
    "# Mostrar el resultado\n",
    "print(\"Efector final con respecto a la base cuando q1={}, q2={}, q3={}, q4={}, q5={}, q6={}\".format(q[0], q[1], q[2],\n",
    "                                                                                                    q[3], q[4], q[5]))\n",
    "\n",
    "print(np.round(Te,4))"
   ]
  },
  {
   "cell_type": "code",
   "execution_count": 24,
   "metadata": {},
   "outputs": [],
   "source": [
    "# ESTA PARTE SE DEBE COPIAR CADA VEZ QUE SE DESEA TRABAJAR CON CUALQUIER\n",
    "# EJERCICIO DE \"DENAVIT-HARTENBERG\" YPODER VISUALIZARLO EN VIDEO\n",
    "\n",
    "import numpy as np\n",
    "import sympy as sp\n",
    "from sympy.matrices import Matrix\n",
    "import matplotlib.pyplot as plt\n",
    "from mpl_toolkits.mplot3d import Axes3D\n",
    "\n",
    "class SerialRobot(object):\n",
    "    def __init__(self, L, name='robot'):\n",
    "        \"\"\"\n",
    "        Constructor for the serial robot\n",
    "          L - List containing the DH parameters in the following format\n",
    "                [[d1, th1, a1, alpha1, rp1], [d2, th2, a2, alpha2, rp2],...]\n",
    "              where rp can be 'r' for revolute joint, or 'p' for prismatic joint.\n",
    "          name - String containing the robot name\n",
    "          \n",
    "        \"\"\"\n",
    "        self.name = name\n",
    "        self.ndof = len(L)\n",
    "        self.type = [i[4] for i in L]\n",
    "        # DH parameters\n",
    "        self.d = [i[0] for i in L] \n",
    "        self.th = [i[1] for i in L]\n",
    "        self.a = [i[2] for i in L]\n",
    "        self.alpha = [i[3] for i in L]\n",
    "        # Store the transformation matrices\n",
    "        self.Ts = self.ndof*[0,]\n",
    "        # Store indication that d is zero\n",
    "        self.isdzero = self.ndof*[True, ]\n",
    "        for k in range(self.ndof):\n",
    "            if self.type[k] == 'p':\n",
    "                self.isdzero[k] = False\n",
    "            if np.abs(self.d[k])>1e-6:\n",
    "                self.isdzero[k] = False\n",
    "        # Store points for plot\n",
    "        self.p = (self.isdzero.count(False)+self.ndof)*[0,]\n",
    "        \n",
    "    def _Tdh(self, k, d, th):\n",
    "        cth = np.cos(self.th[k]+th); sth = np.sin(self.th[k]+th)\n",
    "        ca = np.cos(self.alpha[k]); sa = np.sin(self.alpha[k])\n",
    "        return np.array([[cth, -ca*sth, sa*sth, self.a[k]*cth],\n",
    "                         [sth, ca*cth, -sa*cth, self.a[k]*sth],\n",
    "                         [0., sa, ca, self.d[k]+d],\n",
    "                         [0., 0., 0., 1.]])\n",
    "    \n",
    "    def _sym_Tdh(self, k):\n",
    "        cth = sp.cos(self.th[k]); sth = sp.sin(self.th[k])\n",
    "        ca = sp.cos(self.alpha[k]); sa = sp.sin(self.alpha[k])\n",
    "        return Matrix([[cth, -ca*sth, sa*sth, self.a[k]*cth],\n",
    "                       [sth, ca*cth, -sa*cth, self.a[k]*sth],\n",
    "                       [0, sa, ca, self.d[k]],\n",
    "                       [0, 0, 0, 1]])\n",
    "\n",
    "    def get_name(self):\n",
    "        \"\"\"Returns the robot name\n",
    "        \"\"\"\n",
    "        return self.name\n",
    "        \n",
    "    def sym_fkine(self, verbose=False):\n",
    "        \"\"\"\n",
    "        Compute the symbolic forward kinematics of the robot.\n",
    "           verbose - shows intermediate matrices\n",
    "        \n",
    "        \"\"\"\n",
    "        Tf = sp.eye(4)\n",
    "        for k in range(self.ndof):\n",
    "            if self.type[k]=='r':\n",
    "                T = self._sym_Tdh(k)\n",
    "                if(verbose):\n",
    "                    print('\\nT'+str(k)+str(k+1)+':')\n",
    "                    try:\n",
    "                        display(T)\n",
    "                    except NameError:\n",
    "                        sp.pprint(T)\n",
    "            elif self.type[k]=='p':\n",
    "                T = self._sym_Tdh(k)\n",
    "                if(verbose):\n",
    "                    print('\\nT'+str(k)+str(k+1)+':')\n",
    "                    try:\n",
    "                        display(T)\n",
    "                    except NameError:\n",
    "                        sp.pprint(T)\n",
    "            else:\n",
    "                print('not supported joint type')\n",
    "            Tf = sp.simplify(Tf*T)\n",
    "        return Tf\n",
    "    \n",
    "    def fkine(self, q, verbose=False):\n",
    "        \"\"\"\n",
    "        Compute the forward kinematics of the robot given a joint configuration\n",
    "           q - Joint configuration\n",
    "           verbose - shows intermediate matrices\n",
    "        \n",
    "        \"\"\"\n",
    "        if len(q)!=self.ndof:\n",
    "            print(\"Error: incorrect number of joints\")\n",
    "            return 0\n",
    "        Tf = np.eye(4)\n",
    "        for k in range(self.ndof):\n",
    "            if self.type[k]=='r':\n",
    "                T = self._Tdh(k, 0., q[k])\n",
    "                if(verbose):\n",
    "                    print('\\nT'+str(k)+str(k+1)+':')\n",
    "                    print(np.round(T,3));\n",
    "            elif self.type[k]=='p':\n",
    "                T = self._Tdh(k, q[k], 0.)\n",
    "                if(verbose):\n",
    "                    print('\\nT'+str(k)+str(k+1)+':')\n",
    "                    print(np.round(T,3));\n",
    "            else:\n",
    "                print('not supported joint type')\n",
    "            self.Ts[k] = T\n",
    "            Tf = Tf.dot(T)\n",
    "        return Tf\n",
    "\n",
    "    def plot(self, q, ee=True, axlimits=None, elev=25, azim=45, ascale=0.4, cscale=0.1):\n",
    "        \"\"\"\n",
    "        Basic plot of the robot using lines and showing the joints with green \"cylinders\"\n",
    "        \n",
    "        Arguments\n",
    "           q - Joint configuration vector (1D)\n",
    "           ee - If true (default), an end-effector is plotted\n",
    "           axlimits - Limits for the figure axes [[xmin,xmax],[ymin,ymax],[zmin,zmax]]. If not\n",
    "                      specified, the default axes are used\n",
    "           elev - elevation [in degrees] for the plot view\n",
    "           azim - azimuth [in degrees] for the plot view\n",
    "           ascale - scale for the axis at the base and end effector\n",
    "           cscale - scale for the \"cylinders\"\n",
    "           \n",
    "        \"\"\"\n",
    "        # Compute intermediate DH homogeneous transformations\n",
    "        pcnt = 0\n",
    "        # Initial intermediate point\n",
    "        if (not self.isdzero[0]):\n",
    "            if self.type[0]=='r':\n",
    "                self.p[pcnt] = np.array([0.,0.,self.d[0],1.])\n",
    "                pcnt+=1\n",
    "            elif self.type[0]=='p':\n",
    "                self.p[pcnt] = np.array([0.,0.,self.d[0]+q[0],1.])\n",
    "                pcnt+=1\n",
    "        # Loop around all the ndofs\n",
    "        for k in range(self.ndof):\n",
    "            if self.type[k]=='r':\n",
    "                T = self._Tdh(k, 0., q[k])\n",
    "                if (not self.isdzero[k] and k!=0):\n",
    "                    self.p[pcnt] = np.array([0.,0.,self.d[k],1.])\n",
    "            elif self.type[k]=='p':\n",
    "                T = self._Tdh(k, q[k], 0.)\n",
    "                if (not self.isdzero[k] and k!=0):\n",
    "                    self.p[pcnt] = np.array([0.,0.,self.d[k]+q[k],1.])\n",
    "            else:\n",
    "                print('wrong joint type')\n",
    "            if k==0:\n",
    "                self.Ts[k] = T\n",
    "                self.p[pcnt] = self.Ts[k][:,3]\n",
    "                pcnt+=1\n",
    "            else:\n",
    "                self.Ts[k] = self.Ts[k-1].dot(T)\n",
    "                if (not self.isdzero[k]):\n",
    "                    self.p[pcnt] = self.Ts[k-1].dot(self.p[pcnt])\n",
    "                    pcnt+=1\n",
    "                self.p[pcnt] = self.Ts[k][:,3]\n",
    "                pcnt+=1\n",
    "        # Clear the figure\n",
    "        plt.clf()\n",
    "        ax = plt.axes(projection='3d')\n",
    "        # Names for the axes\n",
    "        ax.set_xlabel('x'); ax.set_ylabel('y'); ax.set_zlabel('z')\n",
    "        # Points (base of the robot)\n",
    "        ax.scatter(0, 0, 0, color='g', s=50)\n",
    "        # Body of the robot\n",
    "        ax.plot([0, self.p[0][0]], [0, self.p[0][1]], [0, self.p[0][2]], linewidth=3, color='k')\n",
    "        for k in range(1, len(self.p)):\n",
    "            ax.plot([self.p[k-1][0],self.p[k][0]], [self.p[k-1][1],self.p[k][1]],\n",
    "                    [self.p[k-1][2], self.p[k][2]], linewidth=3, color='k')\n",
    "        e = 0\n",
    "        # Ensure cylinders for end-effector are not so large\n",
    "        if ee:\n",
    "            e = 1\n",
    "            # scale for the cylinders of the end effector\n",
    "            escale = cscale*0.5\n",
    "            for k in np.flip(range(self.ndof)):\n",
    "                if np.linalg.norm(self.Ts[k][:,3]-self.Ts[k-1][:,3])<1e-6:\n",
    "                    e=e+1\n",
    "                else:\n",
    "                    break\n",
    "        # Fake \"cylinders\" that represent the joint directions (except for the last joint)\n",
    "        ax.plot([0,0], [0,0], [0-cscale,0+cscale], linewidth=10, color='g')\n",
    "        for k in range(self.ndof-e):\n",
    "            ax.plot([self.Ts[k][0,3]-cscale*self.Ts[k][0,2], self.Ts[k][0,3]+cscale*self.Ts[k][0,2]], \n",
    "                    [self.Ts[k][1,3]-cscale*self.Ts[k][1,2], self.Ts[k][1,3]+cscale*self.Ts[k][1,2]], \n",
    "                    [self.Ts[k][2,3]-cscale*self.Ts[k][2,2], self.Ts[k][2,3]+cscale*self.Ts[k][2,2]], \n",
    "                    linewidth=10, color='g')\n",
    "        for k in range(self.ndof-e, self.ndof):\n",
    "            ax.plot([self.Ts[k][0,3]-escale*self.Ts[k][0,2], self.Ts[k][0,3]+escale*self.Ts[k][0,2]], \n",
    "                    [self.Ts[k][1,3]-escale*self.Ts[k][1,2], self.Ts[k][1,3]+escale*self.Ts[k][1,2]], \n",
    "                    [self.Ts[k][2,3]-escale*self.Ts[k][2,2], self.Ts[k][2,3]+escale*self.Ts[k][2,2]], \n",
    "                    linewidth=10, color='g')\n",
    "        # Plot an end effector\n",
    "        if ee:\n",
    "            # End effector (defined by 4 points)\n",
    "            p1 = np.array([0, 0.1, 0, 1]); p2 = np.array([0, 0.1, 0.2, 1])\n",
    "            p3 = np.array([0, -0.1, 0, 1]); p4 = np.array([0, -0.1, 0.2, 1])\n",
    "            p1 = self.Ts[-1].dot(p1); p2 = self.Ts[-1].dot(p2); p3 = self.Ts[-1].dot(p3); p4 = self.Ts[-1].dot(p4)\n",
    "            # Plot an end effector\n",
    "            ax.plot([p1[0],p2[0]], [p1[1],p2[1]], [p1[2],p2[2]], color='k', linewidth=3)\n",
    "            ax.plot([p3[0],p4[0]], [p3[1],p4[1]], [p3[2],p4[2]], color='k', linewidth=3)\n",
    "            ax.plot([p1[0],p3[0]], [p1[1],p3[1]], [p1[2],p3[2]], color='k', linewidth=3)\n",
    "        # Reference frame for the end effector (with respect to frame 0)\n",
    "        ax.plot([self.Ts[-1][0,3],self.Ts[-1][0,3]+ascale*self.Ts[-1][0,0]], \n",
    "                [self.Ts[-1][1,3],self.Ts[-1][1,3]+ascale*self.Ts[-1][1,0]], \n",
    "                [self.Ts[-1][2,3],self.Ts[-1][2,3]+ascale*self.Ts[-1][2,0]], color='r')\n",
    "        ax.plot([self.Ts[-1][0,3],self.Ts[-1][0,3]+ascale*self.Ts[-1][0,1]], \n",
    "                [self.Ts[-1][1,3],self.Ts[-1][1,3]+ascale*self.Ts[-1][1,1]], \n",
    "                [self.Ts[-1][2,3],self.Ts[-1][2,3]+ascale*self.Ts[-1][2,1]], color='g')\n",
    "        ax.plot([self.Ts[-1][0,3],self.Ts[-1][0,3]+ascale*self.Ts[-1][0,2]], \n",
    "                [self.Ts[-1][1,3],self.Ts[-1][1,3]+ascale*self.Ts[-1][1,2]], \n",
    "                [self.Ts[-1][2,3],self.Ts[-1][2,3]+ascale*self.Ts[-1][2,2]], color='b')\n",
    "        # Reference frame for the base (0)\n",
    "        ax.plot([0,ascale], [0,0], [0,0], color='r')\n",
    "        ax.plot([0,0], [0,ascale], [0,0], color='g')\n",
    "        ax.plot([0,0], [0,0], [0,ascale], color='b')\n",
    "        # Point of view\n",
    "        ax.view_init(elev=elev, azim=azim)\n",
    "        # Limits fot the figure axes\n",
    "        if axlimits!=None:\n",
    "            ax.set_xlim3d(axlimits[0][0], axlimits[0][1])\n",
    "            ax.set_ylim3d(axlimits[1][0], axlimits[1][1])\n",
    "            ax.set_zlim3d(axlimits[2][0], axlimits[2][1])"
   ]
  },
  {
   "cell_type": "code",
   "execution_count": 70,
   "metadata": {},
   "outputs": [],
   "source": [
    "# Parámetros DH del robot\n",
    "# d, th, a, alpha\n",
    "L = [[ 0.65, np.pi/2,       0,       0, 'r'],\n",
    "     [ 0.65,       0,       0, np.pi/2, 'p'],\n",
    "     [    0,   np.pi,    0.45,       0, 'r'],\n",
    "     [    0,       0,    0.45,       0, 'r'],\n",
    "     [    0,       0,       0, np.pi/2, 'r'],\n",
    "     [ -0.3,   np.pi,      0,        0, 'r']]\n",
    "\n",
    "# Creación del robot\n",
    "Drobot = SerialRobot(L, name='Drobot')"
   ]
  },
  {
   "cell_type": "code",
   "execution_count": 71,
   "metadata": {},
   "outputs": [],
   "source": [
    "# \"qt\" realiza el gráfico en una ventana nueva (para abrir un nuevo gráfico usar matplotlib qt)\n",
    "%matplotlib inline"
   ]
  },
  {
   "cell_type": "code",
   "execution_count": 72,
   "metadata": {},
   "outputs": [
    {
     "data": {
      "image/png": "[encoded data removed]",
      "text/plain": [
       "<Figure size 432x288 with 1 Axes>"
      ]
     },
     "metadata": {
      "needs_background": "light"
     },
     "output_type": "display_data"
    }
   ],
   "source": [
    "alims = [[-1.3,1.3],[-1.1,1.1],[-0.1, 2]]\n",
    "Drobot.plot([0, 0.5, -0.5, 0., -0, 0], axlimits=alims, ascale=0.3, ee=False)"
   ]
  },
  {
   "cell_type": "code",
   "execution_count": 73,
   "metadata": {},
   "outputs": [],
   "source": [
    "# \"qt\" realiza el gráfico en una ventana nueva\n",
    "%matplotlib qt"
   ]
  },
  {
   "cell_type": "code",
   "execution_count": 80,
   "metadata": {},
   "outputs": [
    {
     "data": {
      "image/png": "[encoded data removed]",
      "text/plain": [
       "<Figure size 432x286 with 1 Axes>"
      ]
     },
     "metadata": {
      "needs_background": "light"
     },
     "output_type": "display_data"
    }
   ],
   "source": [
    "# Se abrirá una nueva ventana donde se visualizará el robot\n",
    "for i in range(40):\n",
    "    q = [np.deg2rad(0.72*i), -0.003*i , np.deg2rad(-0.95*i), np.deg2rad(0.75*i), np.deg2rad(-0.5*i), np.deg2rad(-0.15*i) ]  # En grados\n",
    "    Drobot.plot(q, axlimits=alims)\n",
    "    plt.pause(0.01)   "
   ]
  },
  {
   "cell_type": "code",
   "execution_count": null,
   "metadata": {},
   "outputs": [],
   "source": []
  }
 ],
 "metadata": {
  "kernelspec": {
   "display_name": "Python 3",
   "language": "python",
   "name": "python3"
  },
  "language_info": {
   "codemirror_mode": {
    "name": "ipython",
    "version": 3
   },
   "file_extension": ".py",
   "mimetype": "text/x-python",
   "name": "python",
   "nbconvert_exporter": "python",
   "pygments_lexer": "ipython3",
   "version": "3.6.6"
  }
 },
 "nbformat": 4,
 "nbformat_minor": 2
}
