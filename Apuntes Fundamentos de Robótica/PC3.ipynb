{
 "cells": [
  {
   "cell_type": "code",
   "execution_count": 1,
   "metadata": {},
   "outputs": [],
   "source": [
    "import numpy as np\n",
    "import sympy as sp\n",
    "from sympy import init_printing\n",
    "from sympy import Matrix\n",
    "from sympy.interactive import printing\n",
    "from sympy.matrices import Matrix\n",
    "import matplotlib.pyplot as plt\n",
    "from sympy.utilities.lambdify import lambdify, implemented_function\n",
    "printing.init_printing(use_latex=True)\n",
    "#Redefine numpy functions\n",
    "cos = np.cos\n",
    "sin = np.sin\n",
    "pi = np.pi\n",
    "\n",
    "#Redefine sympy functions\n",
    "scos = sp.cos\n",
    "ssin = sp.sin\n",
    "spi = sp.pi\n",
    "\n",
    "# \"qt\" realiza el gráfico en una ventana nueva\n",
    "%matplotlib qt\n",
    "#%matplotlib inline"
   ]
  },
  {
   "cell_type": "code",
   "execution_count": 2,
   "metadata": {},
   "outputs": [],
   "source": [
    "#Funciones de rotación canonicas con valores simbolicos\n",
    "def srotx(ang):\n",
    "    Rx=sp.Matrix([[1,0,0],\n",
    "                  [0,sp.cos(ang),-sp.sin(ang)],\n",
    "                  [0, sp.sin(ang), sp.cos(ang)]])\n",
    "    return Rx\n",
    "def sroty(ang):\n",
    "    Ry= sp.Matrix([[sp.cos(ang),0,sp.sin(ang)],\n",
    "                  [0,1,0],\n",
    "                  [-sp.sin(ang), 0, sp.cos(ang)]])\n",
    "    return Ry\n",
    "def srotz(ang):\n",
    "    Rz= sp.Matrix([[sp.cos(ang),-sp.sin(ang),0],\n",
    "                  [sp.sin(ang), sp.cos(ang), 0],\n",
    "                  [0,0,1]])\n",
    "    return Rz\n",
    "\n",
    "#Funciones de rotación canonicas con valores simbolicos\n",
    "def rotx(ang):\n",
    "    Rx=np.Matrix([[1,0,0],\n",
    "                  [0,np.cos(ang),-np.sin(ang)],\n",
    "                  [0, np.sin(ang), np.cos(ang)]])\n",
    "    return Rx\n",
    "def roty(ang):\n",
    "    Ry= np.Matrix([[np.cos(ang),0,np.sin(ang)],\n",
    "                  [0,1,0],\n",
    "                  [-np.sin(ang), 0, np.cos(ang)]])\n",
    "    return Ry\n",
    "def rotz(ang):\n",
    "    Rz= np.Matrix([[np.cos(ang),-np.sin(ang),0],\n",
    "                  [np.sin(ang), np.cos(ang), 0],\n",
    "                  [0,0,1]])\n",
    "    return Rz\n",
    "\n",
    "#T given t,R\n",
    "def T_tR(t,R):\n",
    "    T = np.vstack((np.hstack((R,t)),np.array([[0, 0, 0, 1]])))\n",
    "    return T\n",
    "def rotdh(d,th,a,alf):\n",
    "    T=sp.Matrix([[cos(th),-cos(alf)*sin(th),sin(alf)*sin(th),a*cos(th)],\n",
    "                  [sin(th),cos(alf)*cos(th),-sin(alf)*cos(th),a*sin(th)],\n",
    "                  [0, sin(alf), cos(alf),d],[0, 0, 0, 1]])\n",
    "    return T"
   ]
  },
  {
   "cell_type": "code",
   "execution_count": 82,
   "metadata": {},
   "outputs": [
    {
     "name": "stdout",
     "output_type": "stream",
     "text": [
      "q(t): \n"
     ]
    },
    {
     "data": {
      "image/png": "[encoded data removed]",
      "text/latex": [
       "$$a_{0} + a_{1} t + a_{2} t^{2} + a_{3} t^{3} + a_{4} t^{4} + a_{5} t^{5}$$"
      ],
      "text/plain": [
       "                2       3       4       5\n",
       "a₀ + a₁⋅t + a₂⋅t  + a₃⋅t  + a₄⋅t  + a₅⋅t "
      ]
     },
     "metadata": {},
     "output_type": "display_data"
    },
    {
     "name": "stdout",
     "output_type": "stream",
     "text": [
      "dq(t): \n"
     ]
    },
    {
     "data": {
      "image/png": "[encoded data removed]",
      "text/latex": [
       "$$a_{1} + 2 a_{2} t + 3 a_{3} t^{2} + 4 a_{4} t^{3} + 5 a_{5} t^{4}$$"
      ],
      "text/plain": [
       "                    2         3         4\n",
       "a₁ + 2⋅a₂⋅t + 3⋅a₃⋅t  + 4⋅a₄⋅t  + 5⋅a₅⋅t "
      ]
     },
     "metadata": {},
     "output_type": "display_data"
    },
    {
     "name": "stdout",
     "output_type": "stream",
     "text": [
      "ddq(t): \n"
     ]
    },
    {
     "data": {
      "image/png": "[encoded data removed]",
      "text/latex": [
       "$$2 a_{2} + 6 a_{3} t + 12 a_{4} t^{2} + 20 a_{5} t^{3}$$"
      ],
      "text/plain": [
       "                       2          3\n",
       "2⋅a₂ + 6⋅a₃⋅t + 12⋅a₄⋅t  + 20⋅a₅⋅t "
      ]
     },
     "metadata": {},
     "output_type": "display_data"
    },
    {
     "name": "stdout",
     "output_type": "stream",
     "text": [
      "Coeficentes del polinomio de tercer orden (a0, a1, a2, a3): \n",
      "[[ 0.00000000e+00]\n",
      " [-1.33226763e-16]\n",
      " [-5.27355937e-17]\n",
      " [ 8.00000000e-02]\n",
      " [-2.40000000e-02]\n",
      " [ 1.92000000e-03]]\n",
      "\n",
      "Polinomio hallado, \n",
      "q(t): \n"
     ]
    },
    {
     "data": {
      "image/png": "[encoded data removed]",
      "text/latex": [
       "$$0.00192 t^{5} - 0.024 t^{4} + 0.08 t^{3} - 5.27355936696949 \\cdot 10^{-17} t^{2} - 1.33226762955019 \\cdot 10^{-16} t$$"
      ],
      "text/plain": [
       "         5          4         3                         2                     \n",
       "0.00192⋅t  - 0.024⋅t  + 0.08⋅t  - 5.27355936696949e-17⋅t  - 1.33226762955019e-\n",
       "\n",
       "    \n",
       "16⋅t"
      ]
     },
     "metadata": {},
     "output_type": "display_data"
    },
    {
     "name": "stdout",
     "output_type": "stream",
     "text": [
      "Polinomio hallado evaluado en t=2, \n",
      "q(t): \n"
     ]
    },
    {
     "data": {
      "image/png": "[encoded data removed]",
      "text/latex": [
       "$$0.31744$$"
      ],
      "text/plain": [
       "0.317440000000000"
      ]
     },
     "metadata": {},
     "output_type": "display_data"
    }
   ],
   "source": [
    "#Pregunta 1\n",
    "\n",
    "#s(to)= 0\n",
    "#s(tf)=1\n",
    "#-0.5=0.5+sx*(-0.5-0.5)\n",
    "#1=1+sy*(1-1)\n",
    "#1.1=0.9+sz*(1.1-0.9)\n",
    "#En x\n",
    "#x(0)=0.5 dx(0)=0 ddx(0)=0\n",
    "#x(5)=-0.5 dx(5)=0 ddx(5)=0\n",
    "\n",
    "# s(t) = a_5*t^5+a_4*t^4+a_3*t^3 + a_2*t^2 + a_1*t + a_0\n",
    "# ds(t) = 5*a_5*t^4+4*a_4*t^3+3*a_3*t^2 + 2*a_2*t + a_1\n",
    "# dds(t) = 20*a_5*t^3+12*a_4*t^2+6*a_3*t+2*a_2\n",
    "\n",
    "#s(0)= 0\n",
    "#s(5)=1\n",
    "#ds(0)=0\n",
    "#ds(5)=0\n",
    "#dds(0)=0\n",
    "#dds(5)=0\n",
    "# Reemplazando\n",
    "# 0=a_0\n",
    "# 1= a_5*5^5+a_4*5^4+a_3*5^3 + a_2*5^2 + a_1*5 + a_0\n",
    "\n",
    "# 0= a_1\n",
    "# 0= 5*a_5*5^4+4*a_4*5^3+3*a_3*5^2 + 2*a_2*5 + a_1\n",
    "\n",
    "# 0 = a_2\n",
    "# 0 = 20*a_5*5^3+12*a_4*5^2+6*a_3*5+2*a_2\n",
    "\n",
    "#Variables simbolicas\n",
    "t = sp.symbols(\"t\")\n",
    "a0, a1, a2, a3, a4, a5 = sp.symbols(\"a_0 a_1 a_2 a_3 a_4 a_5\")\n",
    "\n",
    "\n",
    "#Polinomio\n",
    "q = a5*t**5+a4*t**4+a3*t**3 + a2*t**2 + a1*t + a0\n",
    "\n",
    "dq=sp.diff(q,t)\n",
    "ddq=sp.diff(dq,t)\n",
    "print(\"q(t): \"); display(q)\n",
    "print(\"dq(t): \"); display(dq)\n",
    "print(\"ddq(t): \"); display(ddq)\n",
    "\n",
    "\n",
    "#Resolviendo como sistema de ecuaciones\n",
    "A = np.array([[1, 0, 0 ,0,0,0],\n",
    "       [1, 5, 5**2, 5**3, 5**4, 5**5],\n",
    "       [0, 1, 0, 0,0,0],\n",
    "       [0, 1, 2*5, 3*(5**2),4*(5**3),5*(5**4)],\n",
    "       [0, 0, 1, 0, 0, 0],\n",
    "       [0,0,2,6*5,12*(5**2),20*(5**3)]])\n",
    "\n",
    "B = np.array([[0],[1],[0],[0],[0],[0]])\n",
    "\n",
    "a_p = np.dot(np.linalg.inv(A),B)\n",
    "\n",
    "\n",
    "#Respuesta\n",
    "print(\"Coeficentes del polinomio de tercer orden (a0, a1, a2, a3): \"); print(a_p)\n",
    "print(\"\")\n",
    "print(\"Polinomio hallado, \\nq(t): \"); display(q.subs({a0: a_p[0,0], a1: a_p[1,0], a2: a_p[2,0], a3: a_p[3,0],  a4: a_p[4,0], a5: a_p[5,0]}))\n",
    "\n",
    "pf=q.subs({a0: a_p[0,0], a1: a_p[1,0], a2: a_p[2,0], a3: a_p[3,0], a4: a_p[4,0], a5: a_p[5,0]})\n",
    "print(\"Polinomio hallado evaluado en t=2, \\nq(t): \"); display(pf.subs({t:2}))\n",
    "\n"
   ]
  },
  {
   "cell_type": "code",
   "execution_count": 8,
   "metadata": {},
   "outputs": [
    {
     "name": "stdout",
     "output_type": "stream",
     "text": [
      "La cinematica directa seria\n"
     ]
    },
    {
     "data": {
      "text/latex": [
       "$$\\left[\\begin{matrix}0.015 \\dot{\\varphi}_1 + 0.015 \\dot{\\varphi}_2 + 0.015 \\dot{\\varphi}_3 + 0.015 \\dot{\\varphi}_4\\\\0.015 \\dot{\\varphi}_1 - 0.015 \\dot{\\varphi}_2 + 0.015 \\dot{\\varphi}_3 - 0.015 \\dot{\\varphi}_4\\\\0.046513 \\dot{\\varphi}_1 - 0.046513 \\dot{\\varphi}_2 - 0.046513 \\dot{\\varphi}_3 + 0.046513 \\dot{\\varphi}_4\\end{matrix}\\right]$$"
      ],
      "text/plain": [
       "⎡      0.015⋅\\dot{\\varphi}₁ + 0.015⋅\\dot{\\varphi}₂ + 0.015⋅\\dot{\\varphi}₃ + 0.\n",
       "⎢                                                                             \n",
       "⎢      0.015⋅\\dot{\\varphi}₁ - 0.015⋅\\dot{\\varphi}₂ + 0.015⋅\\dot{\\varphi}₃ - 0.\n",
       "⎢                                                                             \n",
       "⎣0.046513⋅\\dot{\\varphi}₁ - 0.046513⋅\\dot{\\varphi}₂ - 0.046513⋅\\dot{\\varphi}₃ +\n",
       "\n",
       "015⋅\\dot{\\varphi}₄      ⎤\n",
       "                        ⎥\n",
       "015⋅\\dot{\\varphi}₄      ⎥\n",
       "                        ⎥\n",
       " 0.046513⋅\\dot{\\varphi}₄⎦"
      ]
     },
     "metadata": {},
     "output_type": "display_data"
    },
    {
     "name": "stdout",
     "output_type": "stream",
     "text": [
      "La cinematica inversa seria\n"
     ]
    },
    {
     "data": {
      "text/latex": [
       "$$\\left[\\begin{matrix}16.6667 vx + 16.6667 vy + 5.37484 w\\\\16.6667 vx - 16.6667 vy - 5.37484 w\\\\16.6667 vx + 16.6667 vy - 5.37484 w\\\\16.6667 vx - 16.6667 vy + 5.37484 w\\end{matrix}\\right]$$"
      ],
      "text/plain": [
       "⎡16.6667⋅vx + 16.6667⋅vy + 5.37484⋅w⎤\n",
       "⎢                                   ⎥\n",
       "⎢16.6667⋅vx - 16.6667⋅vy - 5.37484⋅w⎥\n",
       "⎢                                   ⎥\n",
       "⎢16.6667⋅vx + 16.6667⋅vy - 5.37484⋅w⎥\n",
       "⎢                                   ⎥\n",
       "⎣16.6667⋅vx - 16.6667⋅vy + 5.37484⋅w⎦"
      ]
     },
     "metadata": {},
     "output_type": "display_data"
    },
    {
     "name": "stdout",
     "output_type": "stream",
     "text": [
      "La velocidad de las ruedas tiene que ser\n"
     ]
    },
    {
     "data": {
      "text/latex": [
       "$$\\left[\\begin{matrix}9.10684\\\\-2.44017\\\\9.10684\\\\-2.44017\\end{matrix}\\right]$$"
      ],
      "text/plain": [
       "⎡9.10684 ⎤\n",
       "⎢        ⎥\n",
       "⎢-2.44017⎥\n",
       "⎢        ⎥\n",
       "⎢9.10684 ⎥\n",
       "⎢        ⎥\n",
       "⎣-2.44017⎦"
      ]
     },
     "metadata": {},
     "output_type": "display_data"
    },
    {
     "name": "stdout",
     "output_type": "stream",
     "text": [
      "Si queremos velocidad en vx\n"
     ]
    },
    {
     "data": {
      "text/latex": [
       "$$\\left[\\begin{matrix}1.2\\\\0\\\\0\\end{matrix}\\right]$$"
      ],
      "text/plain": [
       "⎡1.2⎤\n",
       "⎢   ⎥\n",
       "⎢ 0 ⎥\n",
       "⎢   ⎥\n",
       "⎣ 0 ⎦"
      ]
     },
     "metadata": {},
     "output_type": "display_data"
    },
    {
     "name": "stdout",
     "output_type": "stream",
     "text": [
      "Si queremos velocidad en vy\n"
     ]
    },
    {
     "data": {
      "text/latex": [
       "$$\\left[\\begin{matrix}0\\\\1.2\\\\0\\end{matrix}\\right]$$"
      ],
      "text/plain": [
       "⎡ 0 ⎤\n",
       "⎢   ⎥\n",
       "⎢1.2⎥\n",
       "⎢   ⎥\n",
       "⎣ 0 ⎦"
      ]
     },
     "metadata": {},
     "output_type": "display_data"
    },
    {
     "name": "stdout",
     "output_type": "stream",
     "text": [
      "Si queremos velocidad angular\n"
     ]
    },
    {
     "data": {
      "text/latex": [
       "$$\\left[\\begin{matrix}0\\\\0\\\\3.72104\\end{matrix}\\right]$$"
      ],
      "text/plain": [
       "⎡   0   ⎤\n",
       "⎢       ⎥\n",
       "⎢   0   ⎥\n",
       "⎢       ⎥\n",
       "⎣3.72104⎦"
      ]
     },
     "metadata": {},
     "output_type": "display_data"
    }
   ],
   "source": [
    "#Pregunta 2\n",
    "\n",
    "pi=sp.pi\n",
    "l,vx,vy,w = sp.symbols('l vx vy w')\n",
    "vr1, vr2, vr3, vr4 = sp.symbols(r'\\dot{\\varphi}_1 \\dot{\\varphi}_2 \\dot{\\varphi}_3 \\dot{\\varphi}_4') #Velocidades de las ruedas\n",
    "\n",
    "r=0.06\n",
    "d1=0.18\n",
    "d2=0.14\n",
    "l=sp.sqrt(d2**2+d1**2)\n",
    "beta1=3*pi/4\n",
    "alf1=-45*pi/180\n",
    "l1=l\n",
    "\n",
    "beta2=pi/4\n",
    "alf2=45*pi/180\n",
    "l2=l\n",
    "\n",
    "beta3=-pi/4\n",
    "alf3=135*pi/180\n",
    "l3=l\n",
    "\n",
    "beta4=-3*pi/4\n",
    "alf4=225*pi/180\n",
    "l4=l\n",
    "\n",
    "y1=45*pi/180\n",
    "y2=-45*pi/180\n",
    "y3=45*pi/180\n",
    "y4=-45*pi/180\n",
    "\n",
    "\n",
    "\n",
    "\n",
    "A=sp.Matrix([[ssin(alf1+beta1+y1), -scos(alf1+beta1+y1), -l1*scos(beta1+y1)],\n",
    "             [ssin(alf2+beta2+y2), -scos(alf2+beta2+y2), -l2*scos(beta2+y2)],\n",
    "             [ssin(alf3+beta3+y3), -scos(alf3+beta3+y3), -l3*scos(beta3+y3)],\n",
    "             [ssin(alf4+beta4+y4), -scos(alf4+beta4+y4), -l4*scos(beta4+y4)]])\n",
    "\n",
    "B=sp.Matrix([[r*scos(y1), 0, 0,0],[0,r*scos(y2),0,0],[0, 0,r*scos(y3),0],[0,0,0,r*scos(y4)]])\n",
    "\n",
    "vr_s=sp.Matrix([[vr1],[vr2],[vr3],[vr4]])\n",
    "v_w_s=sp.Matrix([[vx],[vy],[w]])\n",
    "\n",
    "#Cinematica directa\n",
    "v_w=A.pinv()*B*vr_s\n",
    "print('La cinematica directa seria')\n",
    "display(v_w.evalf(6))\n",
    "\n",
    "#Cinematica inversa\n",
    "phi=B.pinv()*A*v_w_s\n",
    "print('La cinematica inversa seria')\n",
    "display(phi.evalf(6))\n",
    "\n",
    "\n",
    "#Parte a\n",
    "#Queremos que el robot tenga sp.Matrix([[0.4*cos(60*pi/180)],[0.4*sin(60*pi/180)],[0]])\n",
    "\n",
    "v_w_a=sp.Matrix([[0.4*scos(60*pi/180)],[0.4*ssin(60*pi/180)],[0]])\n",
    "\n",
    "phi_a=B.pinv()*A*v_w_a\n",
    "\n",
    "print('La velocidad de las ruedas tiene que ser')\n",
    "display(phi_a.evalf(6))\n",
    "\n",
    "#Parte b\n",
    "\n",
    "#Cinematica directa\n",
    "v_w=A.pinv()*B*vr_s\n",
    "print('Si queremos velocidad en vx')\n",
    "display(v_w.evalf(6).subs({vr1:20, vr2:20, vr3:20, vr4:20}))\n",
    "print('Si queremos velocidad en vy')\n",
    "display(v_w.evalf(6).subs({vr1:20, vr2:-20, vr3:20, vr4:-20}))\n",
    "print('Si queremos velocidad angular')\n",
    "display(v_w.evalf(6).subs({vr1:20, vr2:-20, vr3:-20, vr4:20}))"
   ]
  },
  {
   "cell_type": "code",
   "execution_count": 81,
   "metadata": {},
   "outputs": [
    {
     "name": "stdout",
     "output_type": "stream",
     "text": [
      "La matriz Mq es:\n"
     ]
    },
    {
     "data": {
      "text/latex": [
       "$$\\left[\\begin{matrix}m_{1} + m_{2} & - l_{2} m_{2} \\sin{\\left (q_{2} \\right )}\\\\- l_{2} m_{2} \\sin{\\left (q_{2} \\right )} & Iyy_{2} + l_{2}^{2} m_{2}\\end{matrix}\\right]$$"
      ],
      "text/plain": [
       "⎡   m₁ + m₂      -l₂⋅m₂⋅sin(q₂)⎤\n",
       "⎢                              ⎥\n",
       "⎢                         2    ⎥\n",
       "⎣-l₂⋅m₂⋅sin(q₂)  Iyy₂ + l₂ ⋅m₂ ⎦"
      ]
     },
     "metadata": {},
     "output_type": "display_data"
    },
    {
     "name": "stdout",
     "output_type": "stream",
     "text": [
      "el vector de g es:\n"
     ]
    },
    {
     "data": {
      "text/latex": [
       "$$\\left[\\begin{matrix}0\\\\g l_{2} m_{2} \\cos{\\left (q_{2} \\right )}\\end{matrix}\\right]$$"
      ],
      "text/plain": [
       "⎡       0       ⎤\n",
       "⎢               ⎥\n",
       "⎣g⋅l₂⋅m₂⋅cos(q₂)⎦"
      ]
     },
     "metadata": {},
     "output_type": "display_data"
    },
    {
     "name": "stdout",
     "output_type": "stream",
     "text": [
      "El torque cuando q1=0 q2= 0 dq1:0 dq2:0 ddq1:0  ddq2:0 es:\n"
     ]
    },
    {
     "data": {
      "text/latex": [
       "$$\\left[\\begin{matrix}0\\\\g l_{2} m_{2}\\end{matrix}\\right]$$"
      ],
      "text/plain": [
       "⎡   0   ⎤\n",
       "⎢       ⎥\n",
       "⎣g⋅l₂⋅m₂⎦"
      ]
     },
     "metadata": {},
     "output_type": "display_data"
    }
   ],
   "source": [
    "#Pregunta 3\n",
    "m1, m2, q1, q2, l1, l2 = sp.symbols('m1 m2 q1 q2 l1 l2')\n",
    "\n",
    "\n",
    "R11=sp.Matrix([[1, 0, 0],[0, 1, 0],[0, 0, 1]])\n",
    "R12=sroty(-q2)\n",
    "x1=q1\n",
    "z1=0\n",
    "y1=0\n",
    "x2=q1+l1+l2*scos(q2)\n",
    "z2=l2*ssin(q2)\n",
    "y2=0\n",
    "\n",
    "xyz1=sp.Matrix([[x1],[y1],[z1]])\n",
    "xyz2=sp.Matrix([[x2],[y2],[z2]])\n",
    "\n",
    "# Jacobianos de velocidad lineal (del CdM)\n",
    "xyz1=sp.Matrix([[x1],[y1],[z1]])\n",
    "xyz2=sp.Matrix([[x2],[y2],[z2]])\n",
    "Jv11=sp.diff(xyz1,q1)\n",
    "Jv12=sp.diff(xyz1,q2)\n",
    "Jv1=sp.Matrix.hstack(Jv11,Jv12)\n",
    "Jv1\n",
    "\n",
    "Jv21=sp.diff(xyz2,q1)\n",
    "Jv22=sp.diff(xyz2,q2)\n",
    "Jv2=sp.Matrix.hstack(Jv21,Jv22)\n",
    "Jv2\n",
    "\n",
    "#Jacobianos de velocidad angular\n",
    "J1w=sp.Matrix([[0, 0],[0,0],[0,0]])\n",
    "J2w=sp.Matrix([[0, 0],[0,-1],[0,0]])\n",
    "\n",
    "#Productos de Jacobianos de velocidad lineal\n",
    "J1j1=sp.simplify(Jv1.T*Jv1)\n",
    "J2j2=sp.simplify(Jv2.T*Jv2)\n",
    "\n",
    "\n",
    "#Productos de Jacobianos de velocidad angular con R\n",
    "\n",
    "Jw1R1=J1w.T*R11\n",
    "Jw2R2=J2w.T*R12\n",
    "\n",
    "#Productos con el tensor de inercia de cada CdM\n",
    "Ixx1, Ixy1, Ixz1, Ixy1, Iyy1, Iyz1, Ixz1, Iyz1, Izz1 = sp.symbols('Ixx1 Ixy1 Ixz1 Ixy1 Iyy1 Iyz1 Ixz1 Iyz1 Izz1')\n",
    "Ixx2, Ixy2, Ixz2, Ixy2, Iyy2, Iyz2, Ixz2, Iyz2, Izz2 = sp.symbols('Ixx2 Ixy2 Ixz2 Ixy2 Iyy2 Iyz2 Ixz2 Iyz2 Izz2')\n",
    "\n",
    "I1=sp.Matrix([[Ixx1, Ixy1, Ixz1],\n",
    "             [Ixy1, Iyy1, Iyz1],\n",
    "             [Ixz1, Iyz1, Izz1]])\n",
    "I2=sp.Matrix([[Ixx2, Ixy2, Ixz2],\n",
    "             [Ixy2, Iyy2, Iyz2],\n",
    "             [Ixz2, Iyz2, Izz2]])\n",
    "\n",
    "Icdm1=Jw1R1*I1*Jw1R1.T\n",
    "Icdm2=Jw2R2*I2*Jw2R2.T\n",
    "Icdm1, Icdm2\n",
    "\n",
    "# Parte a\n",
    "\n",
    "Mq=m1*J1j1+m2*J2j2+Icdm1+Icdm2\n",
    "Mq\n",
    "\n",
    "#Parte b\n",
    "dq1, dq2, g=sp.symbols('\\dot{q}_1 \\dot{q}_2 g')\n",
    "ddq1, ddq2 = sp.symbols('\\dot{\\dot{q}}_1 \\dot{\\dot{q}}_2 ')\n",
    "#Vector de gravedad\n",
    "g0 = sp.Matrix([[0,0 , -g]]).T\n",
    "g1 = sp.simplify(-(Jv1[:,0].T*m1*g0 + Jv2[:,0].T*m2*g0))\n",
    "g2 = sp.simplify(-(Jv1[:,1].T*m1*g0 + Jv2[:,1].T*m2*g0))\n",
    "g_vector = sp.Matrix([[g1,g2]]).T\n",
    "\n",
    "#Calculo de Matriz Coriolisis/ fuerzas centrifugas\n",
    "dq1, dq2,g=sp.symbols('\\dot{q}_1 \\dot{q}_2,g')\n",
    "\n",
    "#Cij=sum cijk*qk (k=1 --> k=2)\n",
    "#Cijk=1/2(dmij/dqk + dmik/dqj - dmjk/dqi)\n",
    "q=sp.Matrix([q1,q2])\n",
    "\n",
    "# Reemplazando los terminos\n",
    "#c111\n",
    "mij11=sp.diff(Mq[0,0],q1) #mij\n",
    "mik11=sp.diff(Mq[0,0],q1) #mik\n",
    "mjk11=sp.diff(Mq[0,0],q1) #mjk\n",
    "c111=(mij11+mik11-mjk11)/2\n",
    "\n",
    "#c112 \n",
    "mij11=sp.diff(Mq[0,0],q2) #mij derivada respecto a k\n",
    "mik12=sp.diff(Mq[0,1],q1) #mik derivada respecto a jTHE \n",
    "mjk12=sp.diff(Mq[0,1],q1) #mjk derivada respecto a i\n",
    "c112=(mij11+mik11-mjk11)/2\n",
    "\n",
    "#c121\n",
    "c121=c112\n",
    "\n",
    "#c122 Mq[i-1,j-1] \n",
    "mij12=sp.diff(Mq[0,1],q2) #mij derivada respecto a k\n",
    "mik12=sp.diff(Mq[0,1],q2) #mik derivada respecto a j\n",
    "mjk22=sp.diff(Mq[1,1],q1) #mjk derivada respecto a i\n",
    "c122=(mij12+mik12-mjk22)/2\n",
    "\n",
    "#c211 Mq[i-1,j-1]\n",
    "mij21=sp.diff(Mq[1,0],q1) #mij derivada respecto a k\n",
    "mik21=sp.diff(Mq[1,0],q1) #mik derivada respecto a j\n",
    "mjk11=sp.diff(Mq[0,0],q2) #mjk derivada respecto a i\n",
    "c211=(mij21+mik21-mjk11)/2\n",
    "\n",
    "#c212 Mq[i-1,j-1]\n",
    "mij21=sp.diff(Mq[1,0],q2) #mij derivada respecto a k\n",
    "mik22=sp.diff(Mq[1,1],q1) #mik derivada respecto a j\n",
    "mjk12=sp.diff(Mq[0,1],q2) #mjk derivada respecto a i\n",
    "c212=(mij21+mik22-mjk12)/2\n",
    "\n",
    "#c221\n",
    "c221=c212\n",
    "\n",
    "#c222 Mq[i-1,j-1]\n",
    "mij22=sp.diff(Mq[1,1],q2) #mij derivada respecto a k\n",
    "mik22=sp.diff(Mq[1,1],q2) #mik derivada respecto a j\n",
    "mjk22=sp.diff(Mq[1,1],q2) #mjk derivada respecto a i\n",
    "c222=(mij22+mik22-mjk22)/2\n",
    "\n",
    "c11=c111*dq1+c112*dq2\n",
    "c12=c121*dq1+c122*dq2\n",
    "c21=c211*dq1+c212*dq2\n",
    "c22=c221*dq1+c222*dq2\n",
    "\n",
    "# Matriz Coriolis / Fuerzas centrifugas\n",
    "\n",
    "C=sp.Matrix([[c11, c12],[c21, c22]])\n",
    "\n",
    "\n",
    "ddq=sp.Matrix([[ddq1],[ddq2]])\n",
    "dq=sp.Matrix([[dq1],[dq2]])\n",
    "\n",
    "\n",
    "g_v=sp.Matrix([[0],[g*l2*m2*scos(q2)]])\n",
    "\n",
    "T=Mq*ddq+C*dq+g_v\n",
    "\n",
    "print('La matriz Mq es:')\n",
    "display(Mq)\n",
    "\n",
    "print('el vector de g es:')\n",
    "display(g_v)\n",
    "\n",
    "print('El torque cuando q1=0 q2= 0 dq1:0 dq2:0 ddq1:0  ddq2:0 es:')\n",
    "display(T.subs({q1:0, q2:0,dq1:0, dq2:0, ddq1:0, ddq2:0}))\n"
   ]
  },
  {
   "cell_type": "code",
   "execution_count": 77,
   "metadata": {},
   "outputs": [
    {
     "data": {
      "text/latex": [
       "$$\\left ( \\left[\\begin{matrix}\\dot{q}_1\\\\\\dot{q}_2\\end{matrix}\\right], \\quad \\left[\\begin{matrix}\\dot{\\dot{q}}_1\\\\\\dot{\\dot{q}}_2\\end{matrix}\\right]\\right )$$"
      ],
      "text/plain": [
       "⎛⎡\\dot{q}₁⎤  ⎡\\dot{\\dot{q}}₁⎤⎞\n",
       "⎜⎢        ⎥, ⎢              ⎥⎟\n",
       "⎝⎣\\dot{q}₂⎦  ⎣\\dot{\\dot{q}}₂⎦⎠"
      ]
     },
     "execution_count": 77,
     "metadata": {},
     "output_type": "execute_result"
    }
   ],
   "source": [
    "dq, ddq"
   ]
  }
 ],
 "metadata": {
  "kernelspec": {
   "display_name": "Python 3",
   "language": "python",
   "name": "python3"
  },
  "language_info": {
   "codemirror_mode": {
    "name": "ipython",
    "version": 3
   },
   "file_extension": ".py",
   "mimetype": "text/x-python",
   "name": "python",
   "nbconvert_exporter": "python",
   "pygments_lexer": "ipython3",
   "version": "3.6.6"
  }
 },
 "nbformat": 4,
 "nbformat_minor": 2
}
