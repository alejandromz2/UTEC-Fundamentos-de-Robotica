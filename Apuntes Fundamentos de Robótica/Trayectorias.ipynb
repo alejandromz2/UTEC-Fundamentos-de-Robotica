{
 "cells": [
  {
   "cell_type": "code",
   "execution_count": 1,
   "metadata": {},
   "outputs": [],
   "source": [
    "import numpy as np\n",
    "import sympy as sp\n",
    "from sympy import init_printing\n",
    "from sympy import Matrix\n",
    "from sympy.interactive import printing\n",
    "from sympy.matrices import Matrix\n",
    "import matplotlib.pyplot as plt\n",
    "from sympy.utilities.lambdify import lambdify, implemented_function\n",
    "printing.init_printing(use_latex=True)\n",
    "#Redefine numpy functions\n",
    "cos = np.cos\n",
    "sin = np.sin\n",
    "pi = np.pi\n",
    "\n",
    "#Redefine sympy functions\n",
    "scos = sp.cos\n",
    "ssin = sp.sin\n",
    "\n",
    "# \"qt\" realiza el gráfico en una ventana nueva\n",
    "%matplotlib qt\n",
    "#%matplotlib inline"
   ]
  },
  {
   "cell_type": "code",
   "execution_count": 2,
   "metadata": {},
   "outputs": [],
   "source": [
    "#Funciones de rotación canonicas con valores simbolicos\n",
    "def srotx(ang):\n",
    "    Rx=sp.Matrix([[1,0,0],\n",
    "                  [0,sp.cos(ang),-sp.sin(ang)],\n",
    "                  [0, sp.sin(ang), sp.cos(ang)]])\n",
    "    return Rx\n",
    "def sroty(ang):\n",
    "    Ry= sp.Matrix([[sp.cos(ang),0,sp.sin(ang)],\n",
    "                  [0,1,0],\n",
    "                  [-sp.sin(ang), 0, sp.cos(ang)]])\n",
    "    return Ry\n",
    "def srotz(ang):\n",
    "    Rz= sp.Matrix([[sp.cos(ang),-sp.sin(ang),0],\n",
    "                  [sp.sin(ang), sp.cos(ang), 0],\n",
    "                  [0,0,1]])\n",
    "    return Rz\n",
    "\n",
    "\n",
    "#T given t,R\n",
    "def T_tR(t,R):\n",
    "    T = np.vstack((np.hstack((R,t)),np.array([[0, 0, 0, 1]])))\n",
    "    return T\n",
    "def rotdh(d,th,a,alf):\n",
    "    T=sp.Matrix([[scos(th),-scos(alf)*ssin(th),ssin(alf)*ssin(th),a*scos(th)],\n",
    "                  [ssin(th),scos(alf)*scos(th),-ssin(alf)*scos(th),a*ssin(th)],\n",
    "                  [0, ssin(alf), scos(alf),d],[0, 0, 0, 1]])\n",
    "    return T"
   ]
  },
  {
   "cell_type": "code",
   "execution_count": 20,
   "metadata": {},
   "outputs": [],
   "source": [
    "def get_coeffs(ec_m, v_m, type = 's'):\n",
    "\n",
    "\tnv = v_m.shape[0]\n",
    "\tn_ec = ec_m.shape[0]\n",
    "\n",
    "\tcoeffs = sp.zeros(n_ec,nv)\n",
    "\n",
    "\tfor i in range(n_ec):\n",
    "\t\tfor j in range(nv):\n",
    "\t\t\tcoeffs[i,j] = (ec_m[i].evalf()).coeff(v_m[j,0])\n",
    "\n",
    "\tif type == 'n':\n",
    "\t\tn_coeffs = np.array(coeffs.tolist()).astype(np.float64)\n",
    "\t\treturn n_coeffs\n",
    "\telif type == 's':\n",
    "\t\treturn coeffs"
   ]
  },
  {
   "cell_type": "markdown",
   "metadata": {},
   "source": [
    "### Ejercicio 1"
   ]
  },
  {
   "cell_type": "code",
   "execution_count": 4,
   "metadata": {},
   "outputs": [
    {
     "name": "stdout",
     "output_type": "stream",
     "text": [
      "q(t): \n"
     ]
    },
    {
     "data": {
      "image/png": "[encoded data removed]",
      "text/latex": [
       "$$a_{0} + a_{1} t + a_{2} t^{2} + a_{3} t^{3}$$"
      ],
      "text/plain": [
       "                2       3\n",
       "a₀ + a₁⋅t + a₂⋅t  + a₃⋅t "
      ]
     },
     "metadata": {},
     "output_type": "display_data"
    },
    {
     "name": "stdout",
     "output_type": "stream",
     "text": [
      "Coeficentes del polinomio de tercer orden (a0, a1, a2, a3): \n",
      "[[20.    ]\n",
      " [ 0.    ]\n",
      " [10.    ]\n",
      " [-1.5625]]\n",
      "\n",
      "Polinomio hallado, \n",
      "q(t): \n"
     ]
    },
    {
     "data": {
      "image/png": "[encoded data removed]",
      "text/latex": [
       "$$- 1.5625 t^{3} + 10.0 t^{2} + 20.0$$"
      ],
      "text/plain": [
       "          3         2       \n",
       "- 1.5625⋅t  + 10.0⋅t  + 20.0"
      ]
     },
     "metadata": {},
     "output_type": "display_data"
    }
   ],
   "source": [
    "# Datos:\n",
    "# 1. q(0) = 20°\n",
    "# 2. q(4) = 80°\n",
    "# 3. dq(0) = 0 °/s\n",
    "# 4. dq(4) = 5 °/s\n",
    "\n",
    "#Polinomios de tercer orden\n",
    "# q(t) = a_3*t^3 + a_2*t^2 + a_1*t + a_0\n",
    "# dq(t) = 3*a_3*t^2 + 2*a_2*t + a_1\n",
    "\n",
    "# Reemplazando\n",
    "# 1. 20 = a_0\n",
    "# 2. 80 = a_3*4^3 + a_2*4^2 + a_1*4 + a_0\n",
    "# 3. 0 = a_1\n",
    "# 4. 5 = 3*a_3*4^2 + 2*a_2*4 + a_1\n",
    "\n",
    "#Variables simbolicas\n",
    "t = sp.symbols(\"t\")\n",
    "a0, a1, a2, a3 = sp.symbols(\"a_0 a_1 a_2 a_3\")\n",
    "\n",
    "#Polinomio\n",
    "q = a3*t**3 + a2*t**2 + a1*t + a0\n",
    "print(\"q(t): \"); display(q)\n",
    "\n",
    "#Resolviendo como sistema de ecuaciones\n",
    "A = np.array([[1, 0, 0 ,0],\n",
    "       [1, 4, 4**2, 4**3],\n",
    "       [0, 1, 0, 0],\n",
    "       [0, 1, 2*4, 3*(4**2)]])\n",
    "\n",
    "B = np.array([[20],[80],[0],[5]])\n",
    "\n",
    "a_p = np.dot(np.linalg.inv(A),B)\n",
    "\n",
    "#Respuesta\n",
    "print(\"Coeficentes del polinomio de tercer orden (a0, a1, a2, a3): \"); print(a_p)\n",
    "print(\"\")\n",
    "print(\"Polinomio hallado, \\nq(t): \"); display(q.subs({a0: a_p[0,0], a1: a_p[1,0], a2: a_p[2,0], a3: a_p[3,0]}))"
   ]
  },
  {
   "cell_type": "markdown",
   "metadata": {},
   "source": [
    "### Ejercicio 2"
   ]
  },
  {
   "cell_type": "code",
   "execution_count": 5,
   "metadata": {},
   "outputs": [
    {
     "name": "stdout",
     "output_type": "stream",
     "text": [
      "Polinomios\n",
      "s(t), 1 <= t <= 3\n"
     ]
    },
    {
     "data": {
      "image/png": "[encoded data removed]",
      "text/latex": [
       "$$a_{0} + a_{1} t + a_{2} t^{2} + a_{3} t^{3}$$"
      ],
      "text/plain": [
       "                2       3\n",
       "a₀ + a₁⋅t + a₂⋅t  + a₃⋅t "
      ]
     },
     "metadata": {},
     "output_type": "display_data"
    },
    {
     "name": "stdout",
     "output_type": "stream",
     "text": [
      "s(t), 3 <= t <= 6\n"
     ]
    },
    {
     "data": {
      "image/png": "[encoded data removed]",
      "text/latex": [
       "$$a_{4} + a_{5} t + a_{6} t^{2} + a_{7} t^{3}$$"
      ],
      "text/plain": [
       "                2       3\n",
       "a₄ + a₅⋅t + a₆⋅t  + a₇⋅t "
      ]
     },
     "metadata": {},
     "output_type": "display_data"
    },
    {
     "name": "stdout",
     "output_type": "stream",
     "text": [
      "Coeficentes de los polinomios de tercer orden (a0, a1, a2, a3, a4, a5, a6, a7): \n",
      "[[ 0.17      ]\n",
      " [ 0.09      ]\n",
      " [-0.09      ]\n",
      " [ 0.03      ]\n",
      " [-2.08      ]\n",
      " [ 1.44      ]\n",
      " [-0.24      ]\n",
      " [ 0.01333333]]\n",
      "\n",
      "Polinomios hallados: \n",
      "\n",
      "s(t), 1 <= t <= 3\n"
     ]
    },
    {
     "data": {
      "image/png": "[encoded data removed]",
      "text/latex": [
       "$$0.03 t^{3} - 0.09 t^{2} + 0.09 t + 0.17$$"
      ],
      "text/plain": [
       "      3         2                \n",
       "0.03⋅t  - 0.09⋅t  + 0.09⋅t + 0.17"
      ]
     },
     "metadata": {},
     "output_type": "display_data"
    },
    {
     "name": "stdout",
     "output_type": "stream",
     "text": [
      "s(t), 3 <= t <= 6\n"
     ]
    },
    {
     "data": {
      "image/png": "[encoded data removed]",
      "text/latex": [
       "$$0.013 t^{3} - 0.24 t^{2} + 1.44 t - 2.08$$"
      ],
      "text/plain": [
       "       3         2                \n",
       "0.013⋅t  - 0.24⋅t  + 1.44⋅t - 2.08"
      ]
     },
     "metadata": {},
     "output_type": "display_data"
    }
   ],
   "source": [
    "#Datos\n",
    "# 1. t_0 = 1, t_1 = 3, t_2 = 6\n",
    "# 1. s(1) = 0.2, ds(1) = 0, dds(1) = 0\n",
    "# 2. s(6) = 0.8, ds(6) = 0, dds(6) = 0\n",
    "# 3. s(3-) = s(3+), ds(3-) = ds(3+)\n",
    "\n",
    "#Variables simbolicas\n",
    "t = sp.symbols(\"t\")\n",
    "a0, a1, a2, a3, a4, a5, a6, a7 = sp.symbols(\"a_0 a_1 a_2 a_3 a_4 a_5 a_6 a_7\")\n",
    "a_v = sp.Matrix([[a0, a1, a2, a3, a4, a5, a6, a7]]).T\n",
    "\n",
    "#Expresiones de s y sus derivadas\n",
    "s1 = a3*t**3 + a2*t**2 + a1*t + a0\n",
    "s2 = a7*t**3 + a6*t**2 + a5*t + a4\n",
    "ds1 = sp.diff(s1,t)\n",
    "ds2 = sp.diff(s2,t)\n",
    "dds1 = sp.diff(ds1,t)\n",
    "dds2 = sp.diff(ds2,t)\n",
    "\n",
    "print(\"Polinomios\")\n",
    "print(\"s(t), 1 <= t <= 3\"); display(s1)\n",
    "print(\"s(t), 3 <= t <= 6\"); display(s2)\n",
    "\n",
    "tr_ec = sp.Matrix([[s1.subs({t: 1})],\n",
    "                  [s2.subs({t: 6})],\n",
    "                  [ds1.subs({t: 1})],\n",
    "                  [ds2.subs({t: 6})],\n",
    "                  [dds1.subs({t: 1})],\n",
    "                  [dds2.subs({t: 6})],\n",
    "                  [s1.subs({t: 3}) - s2.subs({t: 3})],\n",
    "                  [ds1.subs({t: 3}) - ds2.subs({t: 3})]])\n",
    "\n",
    "A = get_coeffs(tr_ec, a_v, 'n')\n",
    "B = np.array([[0.2, 0.8, 0, 0, 0, 0, 0, 0]]).T\n",
    "a_c = np.dot(np.linalg.inv(A),B)\n",
    "\n",
    "#Respuesta\n",
    "print(\"Coeficentes de los polinomios de tercer orden (a0, a1, a2, a3, a4, a5, a6, a7): \"); print(a_c)\n",
    "print(\"\")\n",
    "a_p = np.round(a_c,3)\n",
    "print(\"Polinomios hallados: \"); \n",
    "print(\"\")\n",
    "print(\"s(t), 1 <= t <= 3\");  display(s1.subs({a0: a_p[0,0], a1: a_p[1,0], a2: a_p[2,0], a3: a_p[3,0]}))\n",
    "print(\"s(t), 3 <= t <= 6\");  display(s2.subs({a4: a_p[4,0], a5: a_p[5,0], a6: a_p[6,0], a7: a_p[7,0]}))"
   ]
  },
  {
   "cell_type": "markdown",
   "metadata": {},
   "source": [
    "### Ejercicio 3 "
   ]
  },
  {
   "cell_type": "code",
   "execution_count": 7,
   "metadata": {},
   "outputs": [
    {
     "name": "stdout",
     "output_type": "stream",
     "text": [
      "dq_max hallada: 2.73861278752583\n",
      "dq_max hallada es mayor a dq_max de dato\n",
      "\n",
      "ddq_max hallada: 1.3333333333333333\n",
      "Se satisface la aceleracion maxima\n"
     ]
    }
   ],
   "source": [
    "#Datos\n",
    "ddq_max = 2.5\n",
    "dq_max = 2\n",
    "q0 = -1.5\n",
    "qf = 1.5\n",
    "\n",
    "#Hallar tf y tb en función de ddq_max\n",
    "tf = 2*np.sqrt((qf-q0)/ddq_max)\n",
    "tb = tf/2\n",
    "#Hallar dq maxima\n",
    "dq_max_f = ddq_max*tb\n",
    "print(\"dq_max hallada: {}\".format(dq_max_f))\n",
    "print(\"dq_max hallada es mayor a dq_max de dato\")\n",
    "print(\"\")\n",
    "\n",
    "#Hallar tf y tb en función de dq_max\n",
    "tf = 4*((qf-q0)/(2*dq_max))\n",
    "tb = tf/2\n",
    "#Hallar ddq maxima\n",
    "ddq_max_f = dq_max/tb\n",
    "print(\"ddq_max hallada: {}\".format(ddq_max_f))\n",
    "print(\"Se satisface la aceleracion maxima\")\n",
    "\n",
    "#Trayectorias\n",
    "#t, tf, q0, qf, ddq_max = sp.symbols(\"t t_f q_0 q_f \\ddot{q}_{max}\") \n",
    "t = sp.symbols(\"t\")\n",
    "#Ecuaciones de trayectoria simbolicas\n",
    "q_t1 = q0 + 0.5*ddq_max_f*t**2\n",
    "q_t2 = qf - 0.5*ddq_max_f*(t-tf)**2\n",
    "dq_t1 = sp.diff(q_t1,t)\n",
    "dq_t2 = sp.diff(q_t2,t)\n",
    "ddq_t1 = sp.diff(dq_t1,t)\n",
    "ddq_t2 = sp.diff(dq_t2,t)"
   ]
  },
  {
   "cell_type": "code",
   "execution_count": 8,
   "metadata": {},
   "outputs": [],
   "source": [
    "\n",
    "N = 10000 #Numero de puntos \n",
    "t_v = np.linspace(0,tf,N) #Vector de tiempo\n",
    "\n",
    "#Vectores para guadar q, dq y ddq\n",
    "q_vector = np.zeros((N,1))\n",
    "dq_vector = np.zeros((N,1))\n",
    "ddq_vector = np.zeros((N,1))\n",
    "\n",
    "#Transformar funciones simbolicas a numericas\n",
    "q1_f = lambdify(t, q_t1)\n",
    "q2_f = lambdify(t, q_t2)\n",
    "dq1_f = lambdify(t, dq_t1)\n",
    "dq2_f = lambdify(t, dq_t2)\n",
    "ddq1_f = lambdify(t, ddq_t1)\n",
    "ddq2_f = lambdify(t, ddq_t2)\n",
    "\n",
    "#Generación de q, dq, ddq para t\n",
    "for i in range(len(t_v)):\n",
    "    \n",
    "    if t_v[i] >= 0 and t_v[i] <= tb:\n",
    "    \n",
    "        q = q1_f(t_v[i])\n",
    "        dq = dq1_f(t_v[i])\n",
    "        ddq = ddq1_f(t_v[i])\n",
    "    \n",
    "    elif t_v[i] > tb and t_v[i] <= tf:\n",
    "    \n",
    "        q = q2_f(t_v[i])\n",
    "        dq = dq2_f(t_v[i])\n",
    "        ddq = ddq2_f(t_v[i])\n",
    "    \n",
    "    q_vector[i,:] = q\n",
    "    dq_vector[i,:] = dq\n",
    "    ddq_vector[i,:] = ddq\n",
    "\n",
    "ddq_vector[0,0] = 0\n",
    "ddq_vector[N-1,0] = 0"
   ]
  },
  {
   "cell_type": "code",
   "execution_count": 9,
   "metadata": {},
   "outputs": [
    {
     "data": {
      "image/png": "[encoded data removed]",
      "text/plain": [
       "<Figure size 432x288 with 3 Axes>"
      ]
     },
     "metadata": {
      "needs_background": "light"
     },
     "output_type": "display_data"
    }
   ],
   "source": [
    "#Graficos\n",
    "fig, axs = plt.subplots(3, 1)\n",
    "\n",
    "axs[0].plot(t_v, q_vector[0:N,0],linewidth=2)\n",
    "axs[0].set_title('Posición de q',fontweight=\"bold\")\n",
    "#axs[0].set(xlabel='Tiempo (s)', ylabel='$q$ $(rad)$')\n",
    "axs[0].set_ylabel('$q$ $(rad)$', fontsize=12.5)\n",
    "axs[0].set_xlim([0,3])\n",
    "axs[0].grid();\n",
    "\n",
    "axs[1].plot(t_v, dq_vector[0:N,0],linewidth=2)\n",
    "axs[1].set_title('Velocidad de q',fontweight=\"bold\")\n",
    "#axs[1].set(xlabel='Tiempo (s)', ylabel='$\\dot{q}$ $(rad/s)$')\n",
    "axs[1].set_ylabel('$\\dot{q}$ $(rad/s)$', fontsize=12.5)\n",
    "axs[1].set_xlim([0,3])\n",
    "axs[1].grid();\n",
    "\n",
    "axs[2].plot(t_v, ddq_vector[0:N,0],linewidth=2)\n",
    "axs[2].set_title('Aceleración de q',fontweight=\"bold\")\n",
    "axs[2].set_xlabel('Tiempo (s)', fontsize=12.5)\n",
    "axs[2].set_ylabel('$\\ddot{q}$ $(rad/s_2)$', fontsize=12.5)\n",
    "#axs[2].set(xlabel='Tiempo (s)', ylabel='$\\ddot{q}$ $(rad/s_2)$')\n",
    "axs[2].set_xlim([-0.005,3.005])\n",
    "axs[2].grid();"
   ]
  },
  {
   "cell_type": "markdown",
   "metadata": {},
   "source": [
    "#### Ejercicio 4\n",
    "\n",
    "Generar una trayectoria con ajuste parab´olico a trav´es de los puntos q1 = 0, q2 = 2π y\n",
    "q3 = π/2 en los tiempos t1 = 0, t2 = 2 y t3 = 3, con velocidades inicial y final nulas.\n",
    "Considerar una duraci´on de 0.6 s como duraci´on de la par´abola (blending time). Graficar\n",
    "la trayectoria resultante\n"
   ]
  },
  {
   "cell_type": "code",
   "execution_count": 10,
   "metadata": {},
   "outputs": [],
   "source": [
    "#Valores de t y q(t)\n",
    "t1 = 0; q1 = 0\n",
    "t2 = 2; q2 = 2*pi\n",
    "t3 = 3; q3 = pi/2\n",
    "\n",
    "#Blending time\n",
    "bt = 0.6\n",
    "bt_2 = 0.6/2\n",
    "#Tiempo final\n",
    "tf = t3\n",
    "\n",
    "t = sp.symbols(\"t\")\n",
    "\n",
    "#Ecuaciones de q(t)\n",
    "#Primer tramo 0 <= t <= 2\n",
    "tb1 = bt_2\n",
    "tf1 = t2\n",
    "dq_max1 = (q1-q2)/(tb1-tf1)\n",
    "q_t11 = q1 + 0.5*(dq_max1/tb1)*t**2\n",
    "q_t12 = q1 - 0.5*tb1*dq_max1 + dq_max1*t\n",
    "q_t13 = q2 - 0.5*(dq_max1/tb1)*(t-tf1)**2\n",
    "\n",
    "#Primer tramo 0 <= t <= 2\n",
    "tb2 = tf1 + bt_2\n",
    "tf2 = tf\n",
    "dq_max2 = (q2-q3)/(tb2-tf2)\n",
    "q_t21 = q2 + 0.5*(dq_max2/bt_2)*(t-tf1)**2\n",
    "q_t22 = q2 - 0.5*bt_2*dq_max2 + dq_max2*(t-tf1)\n",
    "q_t23 = q3 - 0.5*(dq_max2/bt_2)*(t-tf2)**2"
   ]
  },
  {
   "cell_type": "code",
   "execution_count": 11,
   "metadata": {},
   "outputs": [],
   "source": [
    "N = 10000 #Numero de puntos \n",
    "t_v = np.linspace(0,tf,N) #Vector de tiempo\n",
    "\n",
    "#Vectores para guadar q, dq y ddq\n",
    "q_vector = np.zeros((N,1))\n",
    "\n",
    "#Transformar funciones simbolicas a numericas\n",
    "q11_f = lambdify(t, q_t11)\n",
    "q12_f = lambdify(t, q_t12)\n",
    "q13_f = lambdify(t, q_t13)\n",
    "q21_f = lambdify(t, q_t21)\n",
    "q22_f = lambdify(t, q_t22)\n",
    "q23_f = lambdify(t, q_t23)\n",
    "\n",
    "#Generación de q, dq, ddq para t\n",
    "for i in range(len(t_v)):\n",
    "    \n",
    "    if t_v[i] >= 0 and t_v[i] <= tb1:   \n",
    "        q = q11_f(t_v[i])\n",
    "    \n",
    "    elif t_v[i] > tb1 and t_v[i] <= tf1-tb1:  \n",
    "        q = q12_f(t_v[i])\n",
    "\n",
    "    elif t_v[i] > tf1-tb1 and t_v[i] <= tf1:  \n",
    "        q = q13_f(t_v[i])\n",
    "        \n",
    "    elif t_v[i] > tf1 and t_v[i] <= tb2:  \n",
    "        q = q21_f(t_v[i])\n",
    "        \n",
    "    elif t_v[i] > tb2 and t_v[i] <= tf2-bt_2:  \n",
    "        q = q22_f(t_v[i])\n",
    "        \n",
    "    elif t_v[i] > tf2-bt_2 and t_v[i] <= tf:  \n",
    "        q = q23_f(t_v[i])\n",
    "\n",
    "    q_vector[i,:] = q"
   ]
  },
  {
   "cell_type": "code",
   "execution_count": 12,
   "metadata": {},
   "outputs": [
    {
     "data": {
      "image/png": "[encoded data removed]",
      "text/plain": [
       "<Figure size 432x288 with 1 Axes>"
      ]
     },
     "metadata": {
      "needs_background": "light"
     },
     "output_type": "display_data"
    }
   ],
   "source": [
    "#Grafico de trayectoria - Ejercicio 4\n",
    "plt.figure(2)\n",
    "plt.plot(t_v, q_vector[0:N,0], linewidth = 2)\n",
    "plt.title('Ejercicio 4 - Trayectoria', fontsize = 20, fontweight=\"bold\")\n",
    "plt.xlabel('Tiempo (s)', fontsize = 15)\n",
    "plt.ylabel('$q$ (rad)', fontsize = 15)\n",
    "plt.xlim([t1,t3])\n",
    "plt.tick_params(labelsize=12.5)\n",
    "plt.grid()\n",
    "plt.show()"
   ]
  },
  {
   "cell_type": "markdown",
   "metadata": {},
   "source": [
    "#### Ejercicio 5\n",
    "\n",
    "Se tiene los siguientes puntos: q1 = 0, q2 = 2π, q3 = π/2 y q4 = π en los tiempos t1 = 0,\n",
    "t2 = 2, t3 = 3 y t4 = 5. Se desea que las velocidades al inicio de la trayectoria y al final de\n",
    "la misma sean nulas. Determinar una trayectoria de tipo spline que pase por los 4 puntos\n",
    "mencionados. Graficar la trayectoria y la velocidad.\n"
   ]
  },
  {
   "cell_type": "code",
   "execution_count": 22,
   "metadata": {},
   "outputs": [
    {
     "name": "stdout",
     "output_type": "stream",
     "text": [
      "Polinomios\n",
      "q(t), 0 <= t <= 2\n"
     ]
    },
    {
     "data": {
      "image/png": "[encoded data removed]",
      "text/latex": [
       "$$a_{0} + a_{1} t + a_{2} t^{2} + a_{3} t^{3}$$"
      ],
      "text/plain": [
       "                2       3\n",
       "a₀ + a₁⋅t + a₂⋅t  + a₃⋅t "
      ]
     },
     "metadata": {},
     "output_type": "display_data"
    },
    {
     "name": "stdout",
     "output_type": "stream",
     "text": [
      "q(t), 2 <= t <= 3\n"
     ]
    },
    {
     "data": {
      "image/png": "[encoded data removed]",
      "text/latex": [
       "$$a_{4} + a_{5} t + a_{6} t^{2} + a_{7} t^{3}$$"
      ],
      "text/plain": [
       "                2       3\n",
       "a₄ + a₅⋅t + a₆⋅t  + a₇⋅t "
      ]
     },
     "metadata": {},
     "output_type": "display_data"
    },
    {
     "name": "stdout",
     "output_type": "stream",
     "text": [
      "q(t), 3 <= t <= 5\n"
     ]
    },
    {
     "data": {
      "image/png": "[encoded data removed]",
      "text/latex": [
       "$$a_{10} t^{2} + a_{11} t^{3} + a_{8} + a_{9} t$$"
      ],
      "text/plain": [
       "     2        3            \n",
       "a₁₀⋅t  + a₁₁⋅t  + a₈ + a₉⋅t"
      ]
     },
     "metadata": {},
     "output_type": "display_data"
    },
    {
     "name": "stdout",
     "output_type": "stream",
     "text": [
      "Coeficentes de los polinomios de tercer orden (a0, a1, a2, a3, a4, a5, a6, a7, a8, a9, a10, a11): \n",
      "[[  0.        ]\n",
      " [  0.        ]\n",
      " [  5.66959299]\n",
      " [ -2.04939833]\n",
      " [-47.02571503]\n",
      " [ 70.53857255]\n",
      " [-29.59969328]\n",
      " [  3.82881605]\n",
      " [ 91.80568219]\n",
      " [-68.29282468]\n",
      " [ 16.67743913]\n",
      " [ -1.31308755]]\n",
      "\n",
      "Polinomios hallados: \n",
      "\n",
      "q(t), 0 <= t <= 2\n"
     ]
    },
    {
     "data": {
      "image/png": "[encoded data removed]",
      "text/latex": [
       "$$- 2.0494 t^{3} + 5.6696 t^{2}$$"
      ],
      "text/plain": [
       "          3           2\n",
       "- 2.0494⋅t  + 5.6696⋅t "
      ]
     },
     "metadata": {},
     "output_type": "display_data"
    },
    {
     "name": "stdout",
     "output_type": "stream",
     "text": [
      "q(t), 2 <= t <= 3\n"
     ]
    },
    {
     "data": {
      "image/png": "[encoded data removed]",
      "text/latex": [
       "$$3.8288 t^{3} - 29.5997 t^{2} + 70.5386 t - 47.0257$$"
      ],
      "text/plain": [
       "        3            2                      \n",
       "3.8288⋅t  - 29.5997⋅t  + 70.5386⋅t - 47.0257"
      ]
     },
     "metadata": {},
     "output_type": "display_data"
    },
    {
     "name": "stdout",
     "output_type": "stream",
     "text": [
      "q(t), 3 <= t <= 5\n"
     ]
    },
    {
     "data": {
      "image/png": "[encoded data removed]",
      "text/latex": [
       "$$- 1.3131 t^{3} + 16.6774 t^{2} - 68.2928 t + 91.8057$$"
      ],
      "text/plain": [
       "          3            2                      \n",
       "- 1.3131⋅t  + 16.6774⋅t  - 68.2928⋅t + 91.8057"
      ]
     },
     "metadata": {},
     "output_type": "display_data"
    }
   ],
   "source": [
    "\n",
    "#Variables simbolicas\n",
    "t = sp.symbols(\"t\")\n",
    "a0, a1, a2, a3, a4, a5, a6, a7, a8, a9, a10, a11 = sp.symbols(\"a_0 a_1 a_2 a_3 a_4 a_5 a_6 a_7 a_8 a_9 a_10 a_11\")\n",
    "a_v = sp.Matrix([[a0, a1, a2, a3, a4, a5, a6, a7, a8, a9, a10, a11]]).T\n",
    "\n",
    "#Valores de t y q(t)\n",
    "t1 = 0; q1 = 0\n",
    "t2 = 2; q2 = 2*pi\n",
    "t3 = 3; q3 = pi/2\n",
    "t4 = 5; q4 = pi\n",
    "\n",
    "#Expresiones de s y sus derivadas\n",
    "q_t1 = a3*t**3 + a2*t**2 + a1*t + a0\n",
    "q_t2 = a7*t**3 + a6*t**2 + a5*t + a4\n",
    "q_t3 = a11*t**3 + a10*t**2 + a9*t + a8\n",
    "dq_t1 = sp.diff(q_t1,t)\n",
    "dq_t2 = sp.diff(q_t2,t)\n",
    "dq_t3 = sp.diff(q_t3,t)\n",
    "ddq_t1 = sp.diff(dq_t1,t)\n",
    "ddq_t2 = sp.diff(dq_t2,t)\n",
    "ddq_t3 = sp.diff(dq_t3,t)\n",
    "\n",
    "print(\"Polinomios\")\n",
    "print(\"q(t), 0 <= t <= 2\"); display(q_t1)\n",
    "print(\"q(t), 2 <= t <= 3\"); display(q_t2)\n",
    "print(\"q(t), 3 <= t <= 5\"); display(q_t3)\n",
    "\n",
    "#Matriz de valores conocidos y restricciones\n",
    "tr_ec = sp.Matrix([[q_t1.subs({t: t1})],\n",
    "                  [q_t1.subs({t: t2})],\n",
    "                  [q_t2.subs({t: t2})],\n",
    "                  [q_t2.subs({t: t3})],\n",
    "                  [q_t3.subs({t: t3})],\n",
    "                  [q_t3.subs({t: t4})],\n",
    "                  [dq_t1.subs({t: t1})],\n",
    "                  [dq_t3.subs({t: t4})],\n",
    "                  [dq_t1.subs({t: t2}) - dq_t2.subs({t: t2})],\n",
    "                  [ddq_t1.subs({t: t2}) - ddq_t2.subs({t: t2})],\n",
    "                  [dq_t2.subs({t: t3}) - dq_t3.subs({t: t3})],\n",
    "                  [ddq_t2.subs({t: t3}) - ddq_t3.subs({t: t3})]])\n",
    "\n",
    "A = get_coeffs(tr_ec, a_v, 'n')\n",
    "B = np.array([[q1, q2, q2, q3, q3, q4, 0, 0, 0, 0, 0, 0]]).T\n",
    "a_c = np.dot(np.linalg.inv(A),B)\n",
    "\n",
    "#Respuesta\n",
    "print(\"Coeficentes de los polinomios de tercer orden (a0, a1, a2, a3, a4, a5, a6, a7, a8, a9, a10, a11): \"); print(a_c)\n",
    "print(\"\")\n",
    "a_p = np.round(a_c,4)\n",
    "print(\"Polinomios hallados: \"); \n",
    "print(\"\")\n",
    "print(\"q(t), 0 <= t <= 2\");  display(q_t1.subs({a0: a_p[0,0], a1: a_p[1,0], a2: a_p[2,0], a3: a_p[3,0]}))\n",
    "print(\"q(t), 2 <= t <= 3\");  display(q_t2.subs({a4: a_p[4,0], a5: a_p[5,0], a6: a_p[6,0], a7: a_p[7,0]}))\n",
    "print(\"q(t), 3 <= t <= 5\");  display(q_t3.subs({a8: a_p[8,0], a9: a_p[9,0], a10: a_p[10,0], a11: a_p[11,0]}))"
   ]
  },
  {
   "cell_type": "code",
   "execution_count": 23,
   "metadata": {},
   "outputs": [],
   "source": [
    "#Expresiones simbolicas de los polinomios y sus derivadas\n",
    "#Posicion\n",
    "q_t1 = q_t1.subs({a0: a_c[0,0], a1: a_c[1,0], a2: a_c[2,0], a3: a_c[3,0]})\n",
    "q_t2 = q_t2.subs({a4: a_c[4,0], a5: a_c[5,0], a6: a_c[6,0], a7: a_c[7,0]})\n",
    "q_t3 = q_t3.subs({a8: a_c[8,0], a9: a_c[9,0], a10: a_c[10,0], a11: a_c[11,0]})\n",
    "#Velocidad\n",
    "dq_t1 = sp.diff(q_t1,t)\n",
    "dq_t2 = sp.diff(q_t2,t)\n",
    "dq_t3 = sp.diff(q_t3,t)\n",
    "\n",
    "N = 10000 #Numero de puntos \n",
    "t_v = np.linspace(0,t4,N) #Vector de tiempo\n",
    "\n",
    "#Vectores para guadar q, dq y ddq\n",
    "q_vector = np.zeros((N,1))\n",
    "dq_vector = np.zeros((N,1))\n",
    "\n",
    "#Transformar funciones simbolicas a numericas\n",
    "q_t1_f = lambdify(t, q_t1)\n",
    "q_t2_f = lambdify(t, q_t2)\n",
    "q_t3_f = lambdify(t, q_t3)\n",
    "dq_t1_f = lambdify(t, dq_t1)\n",
    "dq_t2_f = lambdify(t, dq_t2)\n",
    "dq_t3_f = lambdify(t, dq_t3)\n",
    "\n",
    "#Generación de q, dq, ddq para t\n",
    "for i in range(len(t_v)):\n",
    "    \n",
    "    if t_v[i] >= t1 and t_v[i] <= t2: \n",
    "        q = q_t1_f(t_v[i])\n",
    "        dq = dq_t1_f(t_v[i])\n",
    "    \n",
    "    elif t_v[i] >= t2 and t_v[i] <= t3:\n",
    "        q = q_t2_f(t_v[i])\n",
    "        dq = dq_t2_f(t_v[i])\n",
    "    \n",
    "    elif t_v[i] >= t3 and t_v[i] <= t4:\n",
    "        q = q_t3_f(t_v[i])\n",
    "        dq = dq_t3_f(t_v[i])\n",
    "    \n",
    "    q_vector[i,:] = q\n",
    "    dq_vector[i,:] = dq"
   ]
  },
  {
   "cell_type": "code",
   "execution_count": 24,
   "metadata": {},
   "outputs": [
    {
     "data": {
      "image/png": "[encoded data removed]",
      "text/plain": [
       "<Figure size 432x288 with 2 Axes>"
      ]
     },
     "metadata": {
      "needs_background": "light"
     },
     "output_type": "display_data"
    }
   ],
   "source": [
    "#Graficos\n",
    "fig, axs = plt.subplots(2, 1)\n",
    "\n",
    "axs[0].plot(t_v, q_vector[0:N,0],linewidth=2.5)\n",
    "axs[0].set_title('Posición de q',fontsize=12.5,fontweight=\"bold\")\n",
    "axs[0].set_xlabel('Tiempo (s)', fontsize=12)\n",
    "axs[0].set_ylabel('$q$ $(rad)$', fontsize=12)\n",
    "axs[0].set_xlim([t1,t4])\n",
    "#axs[0].set(xlabel='Tiempo (s)', ylabel='$q$ $(rad)$')\n",
    "axs[0].tick_params(labelsize=10)\n",
    "axs[0].grid();\n",
    "\n",
    "axs[1].plot(t_v, dq_vector[0:N,0],linewidth=2.5)\n",
    "axs[1].set_title('Velocidad de q',fontsize=12.5,fontweight=\"bold\")\n",
    "#axs[1].set(xlabel='Tiempo (s)', ylabel='$\\dot{q}$ $(rad/s)$')\n",
    "axs[1].set_xlabel('Tiempo (s)', fontsize=12)\n",
    "axs[1].set_ylabel('$\\dot{q}$ $(rad/s)$', fontsize=12)\n",
    "axs[1].set_xlim([t1,t4])\n",
    "axs[1].tick_params(labelsize=10)\n",
    "axs[1].grid();"
   ]
  },
  {
   "cell_type": "code",
   "execution_count": 25,
   "metadata": {},
   "outputs": [
    {
     "name": "stdout",
     "output_type": "stream",
     "text": [
      "El motor de la rueda derecha debe ir a al menos 20.0 rad/s\n",
      "El motor de la rueda izquierda debe ir a al menos 20.0 rad/s\n"
     ]
    }
   ],
   "source": [
    "#Ejercicio 6\n",
    "#Parte a\n",
    "r = 0.1 #Radio de las ruedas\n",
    "b = 5 #Distancia entre el centro del robot y la rueda\n",
    "v = 2 #Velocidad lineal del robot\n",
    "w = 0 #Velocidad angular del robot\n",
    "\n",
    "#Velocidades de los motores\n",
    "phi_d = (1/r)*(v+b*w)\n",
    "phi_i = (1/r)*(v-b*w)\n",
    "\n",
    "#Respuesta\n",
    "print(\"El motor de la rueda derecha debe ir a al menos {} rad/s\".format(phi_d))\n",
    "print(\"El motor de la rueda izquierda debe ir a al menos {} rad/s\".format(phi_i))"
   ]
  }
 ],
 "metadata": {
  "kernelspec": {
   "display_name": "Python 3",
   "language": "python",
   "name": "python3"
  },
  "language_info": {
   "codemirror_mode": {
    "name": "ipython",
    "version": 3
   },
   "file_extension": ".py",
   "mimetype": "text/x-python",
   "name": "python",
   "nbconvert_exporter": "python",
   "pygments_lexer": "ipython3",
   "version": "3.6.6"
  }
 },
 "nbformat": 4,
 "nbformat_minor": 2
}
