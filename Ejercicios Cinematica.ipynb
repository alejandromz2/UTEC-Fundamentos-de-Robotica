{
 "cells": [
  {
   "cell_type": "markdown",
   "metadata": {},
   "source": [
    "### Ejercicios Cinematica Inversa"
   ]
  },
  {
   "cell_type": "markdown",
   "metadata": {},
   "source": [
    "##### Librerias"
   ]
  },
  {
   "cell_type": "code",
   "execution_count": 2,
   "metadata": {},
   "outputs": [],
   "source": [
    "import numpy as np\n",
    "import sympy as sp\n",
    "from sympy import init_printing\n",
    "from sympy import Matrix\n",
    "from sympy.interactive import printing\n",
    "printing.init_printing(use_latex=True)\n",
    "sin=sp.sin\n",
    "cos=sp.cos\n",
    "pi=sp.pi"
   ]
  },
  {
   "cell_type": "markdown",
   "metadata": {},
   "source": [
    "#### Importando funciones internas"
   ]
  },
  {
   "cell_type": "code",
   "execution_count": null,
   "metadata": {},
   "outputs": [],
   "source": [
    "import sys\n",
    "sys.path.insert(0, 'D:\\Files\\Sergio\\Jupyter Notebook\\Libs')\n",
    "from serialrobot import *\n",
    "from rot_matrix import *\n",
    "from tf_matrix import *\n",
    "from par_or import *\n",
    "from kinematics import *"
   ]
  },
  {
   "cell_type": "markdown",
   "metadata": {},
   "source": [
    "##### Funciones"
   ]
  },
  {
   "cell_type": "code",
   "execution_count": 2,
   "metadata": {},
   "outputs": [],
   "source": [
    "#Funciones de rotación canonicas con valores simbolicos\n",
    "def srotx(ang):\n",
    "    Rx=sp.Matrix([[1,0,0],\n",
    "                  [0,sp.cos(ang),-sp.sin(ang)],\n",
    "                  [0, sp.sin(ang), sp.cos(ang)]])\n",
    "    return Rx\n",
    "def sroty(ang):\n",
    "    Ry= sp.Matrix([[sp.cos(ang),0,sp.sin(ang)],\n",
    "                  [0,1,0],\n",
    "                  [-sp.sin(ang), 0, sp.cos(ang)]])\n",
    "    return Ry\n",
    "def srotz(ang):\n",
    "    Rz= sp.Matrix([[sp.cos(ang),-sp.sin(ang),0],\n",
    "                  [sp.sin(ang), sp.cos(ang), 0],\n",
    "                  [0,0,1]])\n",
    "    return Rz\n",
    "\n",
    "\n",
    "#T given t,R\n",
    "def T_tR(t,R):\n",
    "    T = np.vstack((np.hstack((R,t)),np.array([[0, 0, 0, 1]])))\n",
    "    return T\n",
    "def rotdh(d,th,a,alf):\n",
    "    T=sp.Matrix([[cos(th),-cos(alf)*sin(th),sin(alf)*sin(th),a*cos(th)],\n",
    "                  [sin(th),cos(alf)*cos(th),-sin(alf)*cos(th),a*sin(th)],\n",
    "                  [0, sin(alf), cos(alf),d],[0, 0, 0, 1]])\n",
    "    return T"
   ]
  },
  {
   "cell_type": "markdown",
   "metadata": {},
   "source": [
    "###### Pregunta 2\n"
   ]
  },
  {
   "cell_type": "code",
   "execution_count": 34,
   "metadata": {},
   "outputs": [
    {
     "data": {
      "text/latex": [
       "$$\\left[\\begin{matrix}\\cos{\\left (q_{1} + q_{2} + q_{3} \\right )} & 0 & - \\sin{\\left (q_{1} + q_{2} + q_{3} \\right )} & l_{1} \\cos{\\left (q_{1} \\right )} + l_{2} \\cos{\\left (q_{1} - q_{2} \\right )} + l_{3} \\cos{\\left (q_{1} + q_{2} - q_{3} \\right )}\\\\0 & 1 & 0 & 0\\\\\\sin{\\left (q_{1} + q_{2} + q_{3} \\right )} & 0 & \\cos{\\left (q_{1} + q_{2} + q_{3} \\right )} & - l_{1} \\sin{\\left (q_{1} \\right )} + l_{2} \\sin{\\left (q_{1} - q_{2} \\right )} + l_{3} \\sin{\\left (q_{1} + q_{2} - q_{3} \\right )}\\\\0 & 0 & 0 & 1\\end{matrix}\\right]$$"
      ],
      "text/plain": [
       "⎡cos(q₁ + q₂ + q₃)  0  -sin(q₁ + q₂ + q₃)  l₁⋅cos(q₁) + l₂⋅cos(q₁ - q₂) + l₃⋅c\n",
       "⎢                                                                             \n",
       "⎢        0          1          0                                    0         \n",
       "⎢                                                                             \n",
       "⎢sin(q₁ + q₂ + q₃)  0  cos(q₁ + q₂ + q₃)   -l₁⋅sin(q₁) + l₂⋅sin(q₁ - q₂) + l₃⋅\n",
       "⎢                                                                             \n",
       "⎣        0          0          0                                    1         \n",
       "\n",
       "os(q₁ + q₂ - q₃) ⎤\n",
       "                 ⎥\n",
       "                 ⎥\n",
       "                 ⎥\n",
       "sin(q₁ + q₂ - q₃)⎥\n",
       "                 ⎥\n",
       "                 ⎦"
      ]
     },
     "execution_count": 34,
     "metadata": {},
     "output_type": "execute_result"
    }
   ],
   "source": [
    "#Variables simbolicas\n",
    "q1,q2,q3,l1,l2,l3 = sp.symbols('q1 q2 q3 l1 l2 l3')\n",
    "sin=sp.sin\n",
    "cos=sp.cos\n",
    "y=l1*sin(q1)+l2*sin(q1+q2)+l3*sin(q1+q2+q3)\n",
    "x=l1*cos(q1)+l2*cos(q1+q2)+l3*cos(q1+q2+q3)\n",
    "\n",
    "# a=x**2+y**2\n",
    "# sp.simplify(a)\n",
    "# b=x+y\n",
    "# sp.simplify(b)\n",
    "\n",
    "#T0_1=Roty(-q1)*Trasx(l1)\n",
    "#T1_2=Roty(-q2)*Trasx(l2)\n",
    "#T2_3=Roty(-q3)*Trasx(l3)\n",
    "#T0_3=\n",
    "\n",
    "T0_1=sp.Matrix([[cos(-q1), 0, sin(-q1),l1*cos(-q1)],[0, 1, 0, 0],[-sin(-q1),0,cos(-q1),l1*sin(-q1)],[0,0,0,1]])\n",
    "\n",
    "T1_2=sp.Matrix([[cos(-q2), 0, sin(-q2),l2*cos(-q2)],[0, 1, 0, 0],[-sin(-q2),0,cos(-q2),l2*sin(-q2)],[0,0,0,1]])\n",
    "T2_3=sp.Matrix([[cos(-q3), 0, sin(-q3),l3*cos(-q3)],[0, 1, 0, 0],[-sin(-q3),0,cos(-q3),l3*sin(-q3)],[0,0,0,1]])\n",
    "T0_3=T0_1*T1_2*T2_3\n",
    "sp.simplify(T0_3)\n",
    "\n"
   ]
  },
  {
   "cell_type": "code",
   "execution_count": 27,
   "metadata": {},
   "outputs": [
    {
     "data": {
      "image/png": "[encoded data removed]",
      "text/latex": [
       "$$l_{1}^{2} + 2 l_{1} l_{2} \\cos{\\left (q_{2} \\right )} + 2 l_{1} l_{3} \\cos{\\left (q_{2} + q_{3} \\right )} + l_{2}^{2} + 2 l_{2} l_{3} \\cos{\\left (q_{3} \\right )} + l_{3}^{2}$$"
      ],
      "text/plain": [
       "  2                                              2                       2\n",
       "l₁  + 2⋅l₁⋅l₂⋅cos(q₂) + 2⋅l₁⋅l₃⋅cos(q₂ + q₃) + l₂  + 2⋅l₂⋅l₃⋅cos(q₃) + l₃ "
      ]
     },
     "execution_count": 27,
     "metadata": {},
     "output_type": "execute_result"
    }
   ],
   "source": [
    "\n",
    "y=l1*sin(q1)+l2*sin(q1+q2)+l3*sin(q1+q2+q3)\n",
    "x=l1*cos(q1)+l2*cos(q1+q2)+l3*cos(q1+q2+q3)\n",
    "\n",
    "a=x**2+y**2\n",
    "sp.simplify(a)\n",
    "\n"
   ]
  },
  {
   "cell_type": "markdown",
   "metadata": {},
   "source": [
    "##### Pregunta 3"
   ]
  },
  {
   "cell_type": "code",
   "execution_count": 34,
   "metadata": {},
   "outputs": [
    {
     "data": {
      "text/latex": [
       "$$\\left[\\begin{matrix}- \\sin{\\left (q_{1} \\right )} \\sin{\\left (q_{2} + q_{3} \\right )} & \\sin{\\left (q_{1} \\right )} \\cos{\\left (q_{2} + q_{3} \\right )} & - \\cos{\\left (q_{1} \\right )} & - \\left(l_{1} + l_{2} \\cos{\\left (q_{2} \\right )}\\right) \\sin{\\left (q_{1} \\right )}\\\\\\sin{\\left (q_{2} + q_{3} \\right )} \\cos{\\left (q_{1} \\right )} & - \\cos{\\left (q_{1} \\right )} \\cos{\\left (q_{2} + q_{3} \\right )} & - \\sin{\\left (q_{1} \\right )} & \\left(l_{1} + l_{2} \\cos{\\left (q_{2} \\right )}\\right) \\cos{\\left (q_{1} \\right )}\\\\- \\cos{\\left (q_{2} + q_{3} \\right )} & - \\sin{\\left (q_{2} + q_{3} \\right )} & 0 & l_{2} \\sin{\\left (q_{2} \\right )}\\\\0 & 0 & 0 & 1\\end{matrix}\\right]$$"
      ],
      "text/plain": [
       "⎡-sin(q₁)⋅sin(q₂ + q₃)  sin(q₁)⋅cos(q₂ + q₃)   -cos(q₁)  -(l₁ + l₂⋅cos(q₂))⋅si\n",
       "⎢                                                                             \n",
       "⎢sin(q₂ + q₃)⋅cos(q₁)   -cos(q₁)⋅cos(q₂ + q₃)  -sin(q₁)  (l₁ + l₂⋅cos(q₂))⋅cos\n",
       "⎢                                                                             \n",
       "⎢    -cos(q₂ + q₃)          -sin(q₂ + q₃)         0              l₂⋅sin(q₂)   \n",
       "⎢                                                                             \n",
       "⎣          0                      0               0                  1        \n",
       "\n",
       "n(q₁)⎤\n",
       "     ⎥\n",
       "(q₁) ⎥\n",
       "     ⎥\n",
       "     ⎥\n",
       "     ⎥\n",
       "     ⎦"
      ]
     },
     "execution_count": 34,
     "metadata": {},
     "output_type": "execute_result"
    }
   ],
   "source": [
    "#Variables simbolicas\n",
    "q1,q2,q3,l1,l2 = sp.symbols('q1 q2 q3 l1 l2')\n",
    "sin=sp.sin\n",
    "cos=sp.cos\n",
    "pi=sp.pi\n",
    "T0_1=rotdh(0,pi/2+q1,l1,pi/2)\n",
    "T1_2=rotdh(0,q2,l2,0)\n",
    "T2_3=rotdh(0,-pi/2+q3,0,pi)\n",
    "T0_3=sp.simplify(T0_1*T1_2*T2_3)\n",
    "T0_3"
   ]
  },
  {
   "cell_type": "code",
   "execution_count": 35,
   "metadata": {},
   "outputs": [
    {
     "data": {
      "text/latex": [
       "$$\\left[\\begin{matrix}0 & 0 & -1 & 0\\\\0 & -1 & 0 & l_{1} + l_{2}\\\\-1 & 0 & 0 & 0\\\\0 & 0 & 0 & 1\\end{matrix}\\right]$$"
      ],
      "text/plain": [
       "⎡0   0   -1     0   ⎤\n",
       "⎢                   ⎥\n",
       "⎢0   -1  0   l₁ + l₂⎥\n",
       "⎢                   ⎥\n",
       "⎢-1  0   0      0   ⎥\n",
       "⎢                   ⎥\n",
       "⎣0   0   0      1   ⎦"
      ]
     },
     "execution_count": 35,
     "metadata": {},
     "output_type": "execute_result"
    }
   ],
   "source": [
    "T0_3.subs({q1:0, q2:0, q3:0})"
   ]
  },
  {
   "cell_type": "code",
   "execution_count": 37,
   "metadata": {},
   "outputs": [],
   "source": [
    "X=sp.Matrix([[cos(q1)*cos(q2+q3),-cos(q1)*sin(q2+q3),sin(q1),(l2*cos(q2)+l1)*cos(q1)],[sin(q1)*cos(q2+q3),-sin(q1)*sin(q2+q3),-cos(q1),(l2*cos(q2)+l1)*sin(q1)],[sin(q2+q3),cos(q2+q3),0,sin(q2)*l2],[0,0,0,1]])"
   ]
  },
  {
   "cell_type": "code",
   "execution_count": 38,
   "metadata": {},
   "outputs": [
    {
     "data": {
      "text/latex": [
       "$$\\left[\\begin{matrix}1 & 0 & 0 & l_{1} + l_{2}\\\\0 & 0 & -1 & 0\\\\0 & 1 & 0 & 0\\\\0 & 0 & 0 & 1\\end{matrix}\\right]$$"
      ],
      "text/plain": [
       "⎡1  0  0   l₁ + l₂⎤\n",
       "⎢                 ⎥\n",
       "⎢0  0  -1     0   ⎥\n",
       "⎢                 ⎥\n",
       "⎢0  1  0      0   ⎥\n",
       "⎢                 ⎥\n",
       "⎣0  0  0      1   ⎦"
      ]
     },
     "execution_count": 38,
     "metadata": {},
     "output_type": "execute_result"
    }
   ],
   "source": [
    "X.subs({q1:0, q2:0, q3:0})"
   ]
  },
  {
   "cell_type": "code",
   "execution_count": 60,
   "metadata": {},
   "outputs": [],
   "source": [
    "def newtonrap(J):\n",
    "    try:\n",
    "        return np.linalg.inv(J)\n",
    "    except np.linalg.LinAlgError:\n",
    "        return np.linalg.pinv(J)\n"
   ]
  },
  {
   "cell_type": "code",
   "execution_count": 84,
   "metadata": {},
   "outputs": [],
   "source": [
    "x=np.array([[1,2],[4,2],[3,3]])\n",
    "a,b,c,d,f,g,e,w = sp.symbols('a b c d f g e w')\n",
    "\n",
    "A=sp.Matrix([[a,b,e],[c,d,w],[f,g,d]])\n",
    "\n"
   ]
  },
  {
   "cell_type": "code",
   "execution_count": 64,
   "metadata": {},
   "outputs": [],
   "source": [
    "def jacobian(T,q):\n",
    "    x11=sp.diff(T[0,1],q[0],1)\n",
    "    "
   ]
  },
  {
   "cell_type": "code",
   "execution_count": 89,
   "metadata": {},
   "outputs": [
    {
     "name": "stdout",
     "output_type": "stream",
     "text": [
      "[0.22865855 1.11365928]\n"
     ]
    }
   ],
   "source": [
    "#Metodo Gradiente descendiente\n",
    "import numpy as np\n",
    "cos=np.cos; sin=np.sin\n",
    "xd = np.array([1.2, 1.2]) # Desired value in the Cartesian space\n",
    "q = np.array([0.5, 0.5]) # Initial value in the joint space\n",
    "epsilon = 1e-3\n",
    "max_iter = 1000 # Maximum number of iterations\n",
    "alpha = 0.5\n",
    "# Iterations: Gradient descent\n",
    "for i in range(max_iter):\n",
    "    q1 = q[0]; q2 = q[1];\n",
    "    J = np.array([[-sin(q1)-sin(q1+q2), -sin(q1+q2)],[ cos(q1)+cos(q1+q2), cos(q1+q2)]])\n",
    "    f = np.array([cos(q1)+cos(q1+q2), sin(q1)+sin(q1+q2)])\n",
    "    e = xd-f\n",
    "    q = q + alpha*np.dot(J.T, e)\n",
    "# End condition\n",
    "    if (np.linalg.norm(e) < epsilon):\n",
    "        break\n",
    "print(q)\n"
   ]
  },
  {
   "cell_type": "markdown",
   "metadata": {},
   "source": [
    "\n",
    "#### Pregunta 1 - PC 2016-1"
   ]
  },
  {
   "cell_type": "code",
   "execution_count": 28,
   "metadata": {},
   "outputs": [
    {
     "data": {
      "text/latex": [
       "$$\\left[\\begin{matrix}\\sin{\\left (\\theta \\right )} & - \\cos{\\left (\\theta \\right )} & 0 & - l_{7}\\\\\\cos{\\left (\\theta \\right )} & \\sin{\\left (\\theta \\right )} & 0 & l_{5}\\\\0 & 0 & 1 & l_{4} + l_{6} + l_{8}\\\\0 & 0 & 0 & 1\\end{matrix}\\right]$$"
      ],
      "text/plain": [
       "⎡sin(θ)  -cos(θ)  0      -l₇     ⎤\n",
       "⎢                                ⎥\n",
       "⎢cos(θ)  sin(θ)   0       l₅     ⎥\n",
       "⎢                                ⎥\n",
       "⎢  0        0     1  l₄ + l₆ + l₈⎥\n",
       "⎢                                ⎥\n",
       "⎣  0        0     0       1      ⎦"
      ]
     },
     "execution_count": 28,
     "metadata": {},
     "output_type": "execute_result"
    }
   ],
   "source": [
    "l4,l5,l6,l7,l8,q1,q2,q3,q4,th= sp.symbols('l4 l5 l6 l7 l8 q1 q2 q3 q4 theta')\n",
    "\n",
    "T01=rotdh(l4,0+q1,0,-pi/2)\n",
    "T12=rotdh(l5+q2,-pi/2,l6,pi/2)\n",
    "T23=rotdh(l7+q3,pi/2,0,pi/2)\n",
    "T34=rotdh(l8,-th+q4,0,0)\n",
    "T04=sp.simplify(T01*T12*T23*T34)\n",
    "T04.subs({q1:0, q2:0, q3:0,q4:0})\n"
   ]
  },
  {
   "cell_type": "markdown",
   "metadata": {},
   "source": [
    "#### Pregunta 2 - Examen 1 2017-1\n"
   ]
  },
  {
   "cell_type": "code",
   "execution_count": 30,
   "metadata": {},
   "outputs": [
    {
     "data": {
      "text/latex": [
       "$$\\left[\\begin{matrix}0 & 0 & 1 & 340\\\\0 & 1 & 0 & 0\\\\-1 & 0 & 0 & 575\\\\0 & 0 & 0 & 1\\end{matrix}\\right]$$"
      ],
      "text/plain": [
       "⎡0   0  1  340⎤\n",
       "⎢             ⎥\n",
       "⎢0   1  0   0 ⎥\n",
       "⎢             ⎥\n",
       "⎢-1  0  0  575⎥\n",
       "⎢             ⎥\n",
       "⎣0   0  0   1 ⎦"
      ]
     },
     "execution_count": 30,
     "metadata": {},
     "output_type": "execute_result"
    }
   ],
   "source": [
    "j1,j2,j3,j4,j5,j6= sp.symbols('j1 j2 j3 j4 j5 j6')\n",
    "T01=rotdh(295,pi+j1,0,pi/2)\n",
    "T12=rotdh(0,-pi/2+j2,-230,0)\n",
    "T23=rotdh(0,0+j3,-50,pi/2)\n",
    "T34=rotdh(270,-pi+j4,0,pi/2)\n",
    "T45=rotdh(0,pi+j5,0,pi/2)\n",
    "T56=rotdh(70,0+j6,0,0)\n",
    "T06=sp.simplify(T01*T12*T23*T34*T45*T56)\n",
    "T06.subs({j1:0, j2:0, j3:0,j4:0,j5:0,j6:0})"
   ]
  },
  {
   "cell_type": "code",
   "execution_count": 31,
   "metadata": {},
   "outputs": [
    {
     "data": {
      "text/latex": [
       "$$\\left[\\begin{matrix}- \\left(\\left(\\sin{\\left (j_{1} \\right )} \\sin{\\left (j_{4} \\right )} + \\sin{\\left (j_{2} + j_{3} \\right )} \\cos{\\left (j_{1} \\right )} \\cos{\\left (j_{4} \\right )}\\right) \\cos{\\left (j_{5} \\right )} + \\sin{\\left (j_{5} \\right )} \\cos{\\left (j_{1} \\right )} \\cos{\\left (j_{2} + j_{3} \\right )}\\right) \\cos{\\left (j_{6} \\right )} - \\left(\\sin{\\left (j_{1} \\right )} \\cos{\\left (j_{4} \\right )} - \\sin{\\left (j_{4} \\right )} \\sin{\\left (j_{2} + j_{3} \\right )} \\cos{\\left (j_{1} \\right )}\\right) \\sin{\\left (j_{6} \\right )} & \\left(\\left(\\sin{\\left (j_{1} \\right )} \\sin{\\left (j_{4} \\right )} + \\sin{\\left (j_{2} + j_{3} \\right )} \\cos{\\left (j_{1} \\right )} \\cos{\\left (j_{4} \\right )}\\right) \\cos{\\left (j_{5} \\right )} + \\sin{\\left (j_{5} \\right )} \\cos{\\left (j_{1} \\right )} \\cos{\\left (j_{2} + j_{3} \\right )}\\right) \\sin{\\left (j_{6} \\right )} + \\left(- \\sin{\\left (j_{1} \\right )} \\cos{\\left (j_{4} \\right )} + \\sin{\\left (j_{4} \\right )} \\sin{\\left (j_{2} + j_{3} \\right )} \\cos{\\left (j_{1} \\right )}\\right) \\cos{\\left (j_{6} \\right )} & - \\left(\\sin{\\left (j_{1} \\right )} \\sin{\\left (j_{4} \\right )} + \\sin{\\left (j_{2} + j_{3} \\right )} \\cos{\\left (j_{1} \\right )} \\cos{\\left (j_{4} \\right )}\\right) \\sin{\\left (j_{5} \\right )} + \\cos{\\left (j_{1} \\right )} \\cos{\\left (j_{5} \\right )} \\cos{\\left (j_{2} + j_{3} \\right )} & - 70 \\sin{\\left (j_{1} \\right )} \\sin{\\left (j_{4} \\right )} \\sin{\\left (j_{5} \\right )} + 230 \\sin{\\left (j_{2} \\right )} \\cos{\\left (j_{1} \\right )} - 70 \\sin{\\left (j_{5} \\right )} \\sin{\\left (j_{2} + j_{3} \\right )} \\cos{\\left (j_{1} \\right )} \\cos{\\left (j_{4} \\right )} + 50 \\sin{\\left (j_{2} + j_{3} \\right )} \\cos{\\left (j_{1} \\right )} + 70 \\cos{\\left (j_{1} \\right )} \\cos{\\left (j_{5} \\right )} \\cos{\\left (j_{2} + j_{3} \\right )} + 270 \\cos{\\left (j_{1} \\right )} \\cos{\\left (j_{2} + j_{3} \\right )}\\\\\\left(\\left(- \\sin{\\left (j_{1} \\right )} \\sin{\\left (j_{2} + j_{3} \\right )} \\cos{\\left (j_{4} \\right )} + \\sin{\\left (j_{4} \\right )} \\cos{\\left (j_{1} \\right )}\\right) \\cos{\\left (j_{5} \\right )} - \\sin{\\left (j_{1} \\right )} \\sin{\\left (j_{5} \\right )} \\cos{\\left (j_{2} + j_{3} \\right )}\\right) \\cos{\\left (j_{6} \\right )} + \\left(\\sin{\\left (j_{1} \\right )} \\sin{\\left (j_{4} \\right )} \\sin{\\left (j_{2} + j_{3} \\right )} + \\cos{\\left (j_{1} \\right )} \\cos{\\left (j_{4} \\right )}\\right) \\sin{\\left (j_{6} \\right )} & \\left(\\left(\\sin{\\left (j_{1} \\right )} \\sin{\\left (j_{2} + j_{3} \\right )} \\cos{\\left (j_{4} \\right )} - \\sin{\\left (j_{4} \\right )} \\cos{\\left (j_{1} \\right )}\\right) \\cos{\\left (j_{5} \\right )} + \\sin{\\left (j_{1} \\right )} \\sin{\\left (j_{5} \\right )} \\cos{\\left (j_{2} + j_{3} \\right )}\\right) \\sin{\\left (j_{6} \\right )} + \\left(\\sin{\\left (j_{1} \\right )} \\sin{\\left (j_{4} \\right )} \\sin{\\left (j_{2} + j_{3} \\right )} + \\cos{\\left (j_{1} \\right )} \\cos{\\left (j_{4} \\right )}\\right) \\cos{\\left (j_{6} \\right )} & - \\left(\\sin{\\left (j_{1} \\right )} \\sin{\\left (j_{2} + j_{3} \\right )} \\cos{\\left (j_{4} \\right )} - \\sin{\\left (j_{4} \\right )} \\cos{\\left (j_{1} \\right )}\\right) \\sin{\\left (j_{5} \\right )} + \\sin{\\left (j_{1} \\right )} \\cos{\\left (j_{5} \\right )} \\cos{\\left (j_{2} + j_{3} \\right )} & 230 \\sin{\\left (j_{1} \\right )} \\sin{\\left (j_{2} \\right )} - 70 \\sin{\\left (j_{1} \\right )} \\sin{\\left (j_{5} \\right )} \\sin{\\left (j_{2} + j_{3} \\right )} \\cos{\\left (j_{4} \\right )} + 50 \\sin{\\left (j_{1} \\right )} \\sin{\\left (j_{2} + j_{3} \\right )} + 70 \\sin{\\left (j_{1} \\right )} \\cos{\\left (j_{5} \\right )} \\cos{\\left (j_{2} + j_{3} \\right )} + 270 \\sin{\\left (j_{1} \\right )} \\cos{\\left (j_{2} + j_{3} \\right )} + 70 \\sin{\\left (j_{4} \\right )} \\sin{\\left (j_{5} \\right )} \\cos{\\left (j_{1} \\right )}\\\\\\left(\\sin{\\left (j_{5} \\right )} \\sin{\\left (j_{2} + j_{3} \\right )} - \\cos{\\left (j_{4} \\right )} \\cos{\\left (j_{5} \\right )} \\cos{\\left (j_{2} + j_{3} \\right )}\\right) \\cos{\\left (j_{6} \\right )} + \\sin{\\left (j_{4} \\right )} \\sin{\\left (j_{6} \\right )} \\cos{\\left (j_{2} + j_{3} \\right )} & - \\left(\\sin{\\left (j_{5} \\right )} \\sin{\\left (j_{2} + j_{3} \\right )} - \\cos{\\left (j_{4} \\right )} \\cos{\\left (j_{5} \\right )} \\cos{\\left (j_{2} + j_{3} \\right )}\\right) \\sin{\\left (j_{6} \\right )} + \\sin{\\left (j_{4} \\right )} \\cos{\\left (j_{6} \\right )} \\cos{\\left (j_{2} + j_{3} \\right )} & - \\sin{\\left (j_{5} \\right )} \\cos{\\left (j_{4} \\right )} \\cos{\\left (j_{2} + j_{3} \\right )} - \\sin{\\left (j_{2} + j_{3} \\right )} \\cos{\\left (j_{5} \\right )} & - 70 \\sin{\\left (j_{5} \\right )} \\cos{\\left (j_{4} \\right )} \\cos{\\left (j_{2} + j_{3} \\right )} - 70 \\sin{\\left (j_{2} + j_{3} \\right )} \\cos{\\left (j_{5} \\right )} - 270 \\sin{\\left (j_{2} + j_{3} \\right )} + 230 \\cos{\\left (j_{2} \\right )} + 50 \\cos{\\left (j_{2} + j_{3} \\right )} + 295\\\\0 & 0 & 0 & 1\\end{matrix}\\right]$$"
      ],
      "text/plain": [
       "⎡-((sin(j₁)⋅sin(j₄) + sin(j₂ + j₃)⋅cos(j₁)⋅cos(j₄))⋅cos(j₅) + sin(j₅)⋅cos(j₁)⋅\n",
       "⎢                                                                             \n",
       "⎢((-sin(j₁)⋅sin(j₂ + j₃)⋅cos(j₄) + sin(j₄)⋅cos(j₁))⋅cos(j₅) - sin(j₁)⋅sin(j₅)⋅\n",
       "⎢                                                                             \n",
       "⎢                                (sin(j₅)⋅sin(j₂ + j₃) - cos(j₄)⋅cos(j₅)⋅cos(j\n",
       "⎢                                                                             \n",
       "⎣                                                                             \n",
       "\n",
       "cos(j₂ + j₃))⋅cos(j₆) - (sin(j₁)⋅cos(j₄) - sin(j₄)⋅sin(j₂ + j₃)⋅cos(j₁))⋅sin(j\n",
       "                                                                              \n",
       "cos(j₂ + j₃))⋅cos(j₆) + (sin(j₁)⋅sin(j₄)⋅sin(j₂ + j₃) + cos(j₁)⋅cos(j₄))⋅sin(j\n",
       "                                                                              \n",
       "₂ + j₃))⋅cos(j₆) + sin(j₄)⋅sin(j₆)⋅cos(j₂ + j₃)                               \n",
       "                                                                              \n",
       " 0                                                                            \n",
       "\n",
       "₆)  ((sin(j₁)⋅sin(j₄) + sin(j₂ + j₃)⋅cos(j₁)⋅cos(j₄))⋅cos(j₅) + sin(j₅)⋅cos(j₁\n",
       "                                                                              \n",
       "₆)  ((sin(j₁)⋅sin(j₂ + j₃)⋅cos(j₄) - sin(j₄)⋅cos(j₁))⋅cos(j₅) + sin(j₁)⋅sin(j₅\n",
       "                                                                              \n",
       "                                    -(sin(j₅)⋅sin(j₂ + j₃) - cos(j₄)⋅cos(j₅)⋅c\n",
       "                                                                              \n",
       "                                                                              \n",
       "\n",
       ")⋅cos(j₂ + j₃))⋅sin(j₆) + (-sin(j₁)⋅cos(j₄) + sin(j₄)⋅sin(j₂ + j₃)⋅cos(j₁))⋅co\n",
       "                                                                              \n",
       ")⋅cos(j₂ + j₃))⋅sin(j₆) + (sin(j₁)⋅sin(j₄)⋅sin(j₂ + j₃) + cos(j₁)⋅cos(j₄))⋅cos\n",
       "                                                                              \n",
       "os(j₂ + j₃))⋅sin(j₆) + sin(j₄)⋅cos(j₆)⋅cos(j₂ + j₃)                           \n",
       "                                                                              \n",
       "    0                                                                         \n",
       "\n",
       "s(j₆)  -(sin(j₁)⋅sin(j₄) + sin(j₂ + j₃)⋅cos(j₁)⋅cos(j₄))⋅sin(j₅) + cos(j₁)⋅cos\n",
       "                                                                              \n",
       "(j₆)   -(sin(j₁)⋅sin(j₂ + j₃)⋅cos(j₄) - sin(j₄)⋅cos(j₁))⋅sin(j₅) + sin(j₁)⋅cos\n",
       "                                                                              \n",
       "                         -sin(j₅)⋅cos(j₄)⋅cos(j₂ + j₃) - sin(j₂ + j₃)⋅cos(j₅) \n",
       "                                                                              \n",
       "                                                  0                           \n",
       "\n",
       "(j₅)⋅cos(j₂ + j₃)  -70⋅sin(j₁)⋅sin(j₄)⋅sin(j₅) + 230⋅sin(j₂)⋅cos(j₁) - 70⋅sin(\n",
       "                                                                              \n",
       "(j₅)⋅cos(j₂ + j₃)  230⋅sin(j₁)⋅sin(j₂) - 70⋅sin(j₁)⋅sin(j₅)⋅sin(j₂ + j₃)⋅cos(j\n",
       "                                                                              \n",
       "                                                  -70⋅sin(j₅)⋅cos(j₄)⋅cos(j₂ +\n",
       "                                                                              \n",
       "                                                                              \n",
       "\n",
       "j₅)⋅sin(j₂ + j₃)⋅cos(j₁)⋅cos(j₄) + 50⋅sin(j₂ + j₃)⋅cos(j₁) + 70⋅cos(j₁)⋅cos(j₅\n",
       "                                                                              \n",
       "₄) + 50⋅sin(j₁)⋅sin(j₂ + j₃) + 70⋅sin(j₁)⋅cos(j₅)⋅cos(j₂ + j₃) + 270⋅sin(j₁)⋅c\n",
       "                                                                              \n",
       " j₃) - 70⋅sin(j₂ + j₃)⋅cos(j₅) - 270⋅sin(j₂ + j₃) + 230⋅cos(j₂) + 50⋅cos(j₂ + \n",
       "                                                                              \n",
       "                             1                                                \n",
       "\n",
       ")⋅cos(j₂ + j₃) + 270⋅cos(j₁)⋅cos(j₂ + j₃)⎤\n",
       "                                         ⎥\n",
       "os(j₂ + j₃) + 70⋅sin(j₄)⋅sin(j₅)⋅cos(j₁) ⎥\n",
       "                                         ⎥\n",
       "j₃) + 295                                ⎥\n",
       "                                         ⎥\n",
       "                                         ⎦"
      ]
     },
     "execution_count": 31,
     "metadata": {},
     "output_type": "execute_result"
    }
   ],
   "source": [
    "T06\n"
   ]
  },
  {
   "cell_type": "markdown",
   "metadata": {},
   "source": [
    "#### Pregunta 1- PC2 2018-1\n"
   ]
  },
  {
   "cell_type": "code",
   "execution_count": 32,
   "metadata": {},
   "outputs": [
    {
     "data": {
      "text/latex": [
       "$$\\left[\\begin{matrix}\\sin{\\left (\\theta_{1} \\right )} \\cos{\\left (\\theta_{2} + \\theta_{3} + \\theta_{4} \\right )} & \\cos{\\left (\\theta_{1} \\right )} & \\sin{\\left (\\theta_{1} \\right )} \\sin{\\left (\\theta_{2} + \\theta_{3} + \\theta_{4} \\right )} & - \\left(l_{2} \\cos{\\left (\\theta_{2} \\right )} + l_{3} \\cos{\\left (\\theta_{2} + \\theta_{3} \\right )} + l_{4} \\sin{\\left (\\theta_{2} + \\theta_{3} + \\theta_{4} \\right )}\\right) \\sin{\\left (\\theta_{1} \\right )}\\\\- \\cos{\\left (\\theta_{1} \\right )} \\cos{\\left (\\theta_{2} + \\theta_{3} + \\theta_{4} \\right )} & \\sin{\\left (\\theta_{1} \\right )} & - \\sin{\\left (\\theta_{2} + \\theta_{3} + \\theta_{4} \\right )} \\cos{\\left (\\theta_{1} \\right )} & \\left(l_{2} \\cos{\\left (\\theta_{2} \\right )} + l_{3} \\cos{\\left (\\theta_{2} + \\theta_{3} \\right )} + l_{4} \\sin{\\left (\\theta_{2} + \\theta_{3} + \\theta_{4} \\right )}\\right) \\cos{\\left (\\theta_{1} \\right )}\\\\- \\sin{\\left (\\theta_{2} + \\theta_{3} + \\theta_{4} \\right )} & 0 & \\cos{\\left (\\theta_{2} + \\theta_{3} + \\theta_{4} \\right )} & l_{1} + l_{2} \\sin{\\left (\\theta_{2} \\right )} + l_{3} \\sin{\\left (\\theta_{2} + \\theta_{3} \\right )} - l_{4} \\cos{\\left (\\theta_{2} + \\theta_{3} + \\theta_{4} \\right )}\\\\0 & 0 & 0 & 1\\end{matrix}\\right]$$"
      ],
      "text/plain": [
       "⎡sin(θ₁)⋅cos(θ₂ + θ₃ + θ₄)   cos(θ₁)  sin(θ₁)⋅sin(θ₂ + θ₃ + θ₄)   -(l₂⋅cos(θ₂)\n",
       "⎢                                                                             \n",
       "⎢-cos(θ₁)⋅cos(θ₂ + θ₃ + θ₄)  sin(θ₁)  -sin(θ₂ + θ₃ + θ₄)⋅cos(θ₁)  (l₂⋅cos(θ₂) \n",
       "⎢                                                                             \n",
       "⎢    -sin(θ₂ + θ₃ + θ₄)         0         cos(θ₂ + θ₃ + θ₄)          l₁ + l₂⋅s\n",
       "⎢                                                                             \n",
       "⎣            0                  0                 0                           \n",
       "\n",
       " + l₃⋅cos(θ₂ + θ₃) + l₄⋅sin(θ₂ + θ₃ + θ₄))⋅sin(θ₁)⎤\n",
       "                                                  ⎥\n",
       "+ l₃⋅cos(θ₂ + θ₃) + l₄⋅sin(θ₂ + θ₃ + θ₄))⋅cos(θ₁) ⎥\n",
       "                                                  ⎥\n",
       "in(θ₂) + l₃⋅sin(θ₂ + θ₃) - l₄⋅cos(θ₂ + θ₃ + θ₄)   ⎥\n",
       "                                                  ⎥\n",
       "                  1                               ⎦"
      ]
     },
     "execution_count": 32,
     "metadata": {},
     "output_type": "execute_result"
    }
   ],
   "source": [
    "th1,th2,th3,th4,th5,l1,l2,l3,l4= sp.symbols('theta1 theta2 theta3 theta4 theta5 l1 l2 l3 l4')\n",
    "\n",
    "T01=rotdh(l1,pi/2+th1,0,pi/2)\n",
    "T12=rotdh(0,0+th2,l2,0)\n",
    "T23=rotdh(0,0+th3,l3,0)\n",
    "T34=rotdh(0,pi+th4,0,pi/2)\n",
    "T45=rotdh(-l4,0,0,0)\n",
    "T05=sp.simplify(T01*T12*T23*T34*T45)\n",
    "T05"
   ]
  },
  {
   "cell_type": "code",
   "execution_count": 33,
   "metadata": {},
   "outputs": [
    {
     "data": {
      "text/latex": [
       "$$\\left[\\begin{matrix}0 & 1 & 0 & 0\\\\-1 & 0 & 0 & l_{2} + l_{3}\\\\0 & 0 & 1 & l_{1} - l_{4}\\\\0 & 0 & 0 & 1\\end{matrix}\\right]$$"
      ],
      "text/plain": [
       "⎡0   1  0     0   ⎤\n",
       "⎢                 ⎥\n",
       "⎢-1  0  0  l₂ + l₃⎥\n",
       "⎢                 ⎥\n",
       "⎢0   0  1  l₁ - l₄⎥\n",
       "⎢                 ⎥\n",
       "⎣0   0  0     1   ⎦"
      ]
     },
     "execution_count": 33,
     "metadata": {},
     "output_type": "execute_result"
    }
   ],
   "source": [
    "T05.subs({th1:0, th2:0, th3:0,th4:0,th5:0})"
   ]
  },
  {
   "cell_type": "markdown",
   "metadata": {},
   "source": [
    "### Cinematica diferencial"
   ]
  },
  {
   "cell_type": "markdown",
   "metadata": {},
   "source": [
    "\n",
    "#### Examen 2 - Pregunta 1"
   ]
  },
  {
   "cell_type": "code",
   "execution_count": null,
   "metadata": {
    "scrolled": false
   },
   "outputs": [],
   "source": [
    "#Parte A\n",
    "\n",
    "x1,x2,x3,q1,q2,q3,x4,x5,x6,a2,a3= sp.symbols('x1 x2 x3 q1 q2 q3 x4 x5 x6 a2 a3')\n",
    "\n",
    "T01=rotdh(x1,q1,x4,pi/2)\n",
    "T12=rotdh(x2,q2,x5,0)\n",
    "T23=rotdh(x3,q3,x6,0)\n",
    "T02=sp.simplify(T01*T12)\n",
    "T03=sp.simplify(T01*T12*T23)\n",
    "\n",
    "p1=T01[0:3, 3]\n",
    "z1= T01[0:3, 2]\n",
    "p2=T02[0:3, 3]\n",
    "z2=T02[0:3, 2]\n",
    "p3=T03[0:3, 3]\n",
    "z3=T03[0:3, 2]\n",
    "\n",
    "z0 = sp.Matrix([[0],[0],[1]]);\n",
    "p0 = sp.Matrix([[0],[0],[0]]);\n",
    "Jv1 = sp.simplify(z0.cross(p3-p0)); Jv2 = sp.simplify(z1.cross(p3-p1)); Jv3=sp.simplify(z2.cross(p3-p2))\n",
    "Jw1 = z0.subs({x1:0,x2:0,x4:0,x3:0}); Jw2 = z1.subs({x1:0,x2:0,x4:0,x3:0}); Jw3=z2.subs({x1:0,x2:0,x4:0,x3:0})\n",
    "\n",
    "# print('Jv1:'); display(Jv1.subs({x1:0,x2:0,x4:0,x3:0,x5:a2,x6:a3}))\n",
    "# print('Jv2:'); display(Jv2.subs({x1:0,x2:0,x4:0,x3:0,x5:a2,x6:a3}))\n",
    "# print('Jv3:'); display(Jv3.subs({x1:0,x2:0,x4:0,x3:0,x5:a2,x6:a3}))\n",
    "\n",
    "Jv1=Jv1.subs({x1:0,x2:0,x4:0,x3:0,x5:a2,x6:a3})\n",
    "Jv2=Jv2.subs({x1:0,x2:0,x4:0,x3:0,x5:a2,x6:a3})\n",
    "Jv3=Jv3.subs({x1:0,x2:0,x4:0,x3:0,x5:a2,x6:a3})\n",
    "\n",
    "J1 = sp.Matrix.vstack(Jv1, Jw1.subs({x1:0,x2:0,x4:0,x3:0,x5:a2,x6:a3}))\n",
    "J2 = sp.Matrix.vstack(Jv2, Jw2.subs({x1:0,x2:0,x4:0,x3:0,x5:a2,x6:a3}))\n",
    "J3 = sp.Matrix.vstack(Jv3, Jw3.subs({x1:0,x2:0,x4:0,x3:0,x5:a2,x6:a3}))\n",
    "J = sp.Matrix.hstack(J1, J2, J3)\n",
    "\n",
    "\n",
    "#Parte C\n",
    "Jaxy = J[0:3,0:3] #Solo se calculan de la parte de la posicion\n",
    "det = sp.simplify(Jaxy.det())\n",
    "\n",
    "\n",
    "# Reeplazando q3=0\n",
    "Jq3_0 = sp.simplify(Jaxy.subs({q3:0}))\n",
    "# Reemplazando q3=pi\n",
    "Jq3_pi = sp.simplify(Jaxy.subs({q3:pi}))\n",
    "# Rango de las matrices\n",
    "r0 = Jq3_0.rank()\n",
    "r1 = Jq3_pi.rank()\n",
    "\n",
    "# print(\"El determinante es:\"); display(det)\n",
    "# print(\"Reemplazando q3=0 el Jacobiano analítico es:\"); display(Jq3_0)\n",
    "# print(\"y su rango es:\", r0)\n",
    "# print(\"\\nReemplazando q3=pi el Jacobiano analítico es:\"); display(Jq3_pi)\n",
    "# print(\"y su rango es:\", r1)\n",
    "\n",
    "\n",
    "#Parte D\n",
    "v_w=sp.Matrix([[1/2],[1/2],[1/2]])\n",
    "q=sp.Matrix([pi/2,0,-pi/2])\n",
    "J1=J.subs({q1:q[0],q2:q[1],q3:q[2],a2:1,a3:1})\n",
    "J2=J1[0:3,0:3]\n",
    "q_motores=J2.inv()*v_w\n",
    "# #-0.5,0.5,0\n",
    "q_motores\n",
    "\n",
    "#Parte E\n",
    "\n",
    "fx,fy,fz,mx,my,mz=sp.symbols('fx fy fz mx my mz')\n",
    "T=sp.Matrix([[mx],[my],[mz]])\n",
    "F=J1.T.pinv()*T\n",
    "F\n"
   ]
  },
  {
   "cell_type": "code",
   "execution_count": null,
   "metadata": {},
   "outputs": [],
   "source": [
    "J"
   ]
  },
  {
   "cell_type": "markdown",
   "metadata": {},
   "source": [
    "#### Velocidad angular"
   ]
  },
  {
   "cell_type": "code",
   "execution_count": 16,
   "metadata": {
    "scrolled": true
   },
   "outputs": [
    {
     "data": {
      "text/latex": [
       "$$\\left[\\begin{matrix}0 & 0 & \\theta\\\\0 & 0 & 0\\\\- \\theta & 0 & 0\\end{matrix}\\right]$$"
      ],
      "text/plain": [
       "⎡0   0  θ⎤\n",
       "⎢        ⎥\n",
       "⎢0   0  0⎥\n",
       "⎢        ⎥\n",
       "⎣-θ  0  0⎦"
      ]
     },
     "execution_count": 16,
     "metadata": {},
     "output_type": "execute_result"
    }
   ],
   "source": [
    "th, dth= sp.symbols('theta theta')\n",
    "R=sroty(th)\n",
    "dth*sp.simplify(sp.diff(R,th)*R.T)\n",
    "\n"
   ]
  },
  {
   "cell_type": "markdown",
   "metadata": {},
   "source": [
    "#### Pregunta 3 "
   ]
  },
  {
   "cell_type": "code",
   "execution_count": 20,
   "metadata": {},
   "outputs": [
    {
     "data": {
      "text/latex": [
       "$$\\left[\\begin{matrix}- q_{3} \\cos{\\left (q_{1} \\right )} & - q_{3} \\cos{\\left (q_{1} \\right )} & 0\\\\- q_{3} \\sin{\\left (q_{1} \\right )} & - q_{3} \\sin{\\left (q_{1} \\right )} & 0\\\\0 & 0 & 0\\\\0 & 0 & - \\sin{\\left (q_{1} \\right )}\\\\0 & 0 & \\cos{\\left (q_{1} \\right )}\\\\1 & 1 & 0\\end{matrix}\\right]$$"
      ],
      "text/plain": [
       "⎡-q₃⋅cos(q₁)  -q₃⋅cos(q₁)     0    ⎤\n",
       "⎢                                  ⎥\n",
       "⎢-q₃⋅sin(q₁)  -q₃⋅sin(q₁)     0    ⎥\n",
       "⎢                                  ⎥\n",
       "⎢     0            0          0    ⎥\n",
       "⎢                                  ⎥\n",
       "⎢     0            0       -sin(q₁)⎥\n",
       "⎢                                  ⎥\n",
       "⎢     0            0       cos(q₁) ⎥\n",
       "⎢                                  ⎥\n",
       "⎣     1            1          0    ⎦"
      ]
     },
     "execution_count": 20,
     "metadata": {},
     "output_type": "execute_result"
    }
   ],
   "source": [
    "\n",
    "#Parte b\n",
    "\n",
    "q1,q2,q3,d1=sp.symbols('q1 q2 q3 d1')\n",
    "T01=rotdh(d1,q1,0,0)\n",
    "T12=rotdh(q2,0,0,-pi/2)\n",
    "T23=rotdh(q3,0,0,0)\n",
    "\n",
    "#Matrices de transformacion respecto a 0\n",
    "T02=sp.simplify(T01*T12)\n",
    "T03=sp.simplify(T01*T12*T23)\n",
    "\n",
    "#Obteniendo la columna 3 \n",
    "\n",
    "p1=T01[0:3, 3]\n",
    "z1= T01[0:3, 2]\n",
    "p2=T02[0:3, 3]\n",
    "z2=T02[0:3, 2]\n",
    "p3=T03[0:3, 3]\n",
    "z3=T03[0:3, 2]\n",
    "\n",
    "z0 = sp.Matrix([[0],[0],[1]]);\n",
    "p0 = sp.Matrix([[0],[0],[0]]);\n",
    "\n",
    "Jv1 = sp.simplify(z0.cross(p3-p0)); Jv2 = sp.simplify(z1.cross(p3-p1)); Jv3=sp.simplify(z2.cross(p3-p2))\n",
    "Jw1 = z0; Jw2 = z1; Jw3=z2\n",
    "\n",
    "J1 = sp.Matrix.vstack(Jv1, Jw1)\n",
    "J2 = sp.Matrix.vstack(Jv2, Jw2)\n",
    "J3 = sp.Matrix.vstack(Jv3, Jw3)\n",
    "J = sp.Matrix.hstack(J1, J2, J3)\n",
    "J"
   ]
  },
  {
   "cell_type": "markdown",
   "metadata": {},
   "source": [
    "#### Desacoplo cinematico\n"
   ]
  },
  {
   "cell_type": "code",
   "execution_count": 5,
   "metadata": {},
   "outputs": [
    {
     "data": {
      "text/latex": [
       "$$\\left[\\begin{matrix}1 & 0 & 0 & l_{1}\\\\0 & -1 & 0 & 0\\\\0 & 0 & -1 & - l_{2} - l_{3}\\\\0 & 0 & 0 & 1\\end{matrix}\\right]$$"
      ],
      "text/plain": [
       "⎡1  0   0      l₁   ⎤\n",
       "⎢                   ⎥\n",
       "⎢0  -1  0      0    ⎥\n",
       "⎢                   ⎥\n",
       "⎢0  0   -1  -l₂ - l₃⎥\n",
       "⎢                   ⎥\n",
       "⎣0  0   0      1    ⎦"
      ]
     },
     "execution_count": 5,
     "metadata": {},
     "output_type": "execute_result"
    }
   ],
   "source": [
    "q1,q2,q3,q4,q5,q6,l1,l2,l3=sp.symbols('q1 q2 q3 q4 q5 q6 l1 l2 l3')\n",
    "T01=rotdh(0,q1,0,pi/2)\n",
    "T12=rotdh(0,q2,l1,0)\n",
    "T23=rotdh(0,q3,0,pi/2)\n",
    "T34=rotdh(l2,q4,0,-pi/2)\n",
    "T45=rotdh(0,q5,0,pi/2)\n",
    "T56=rotdh(l3,q6,0,0)\n",
    "T06=sp.simplify(T01*T12*T23*T34*T45*T56).subs({q1:0,q2:0,q3:0,q4:0,q5:0,q6:0})\n",
    "T06\n"
   ]
  },
  {
   "cell_type": "markdown",
   "metadata": {},
   "source": [
    "#### Pregunta 7"
   ]
  },
  {
   "cell_type": "code",
   "execution_count": 61,
   "metadata": {},
   "outputs": [],
   "source": [
    "# # q1,q2,a1=sp.symbols('q1 q2 a1')\n",
    "# # T01=rotdh(0,q1,a1,-pi/2)\n",
    "# # T12=rotdh(q2,pi,0,pi/2)\n",
    "# # T02=sp.simplify(T01*T12)\n",
    "# # T02\n",
    "\n",
    "\n",
    "# #Calculando el jacobiano\n",
    "\n",
    "# def Jacobian(v_str, f_list):\n",
    "#     vars = sp.symbols(v_str)\n",
    "#     f = sp.sympify(f_list)\n",
    "#     J = sp.zeros(len(f),len(vars))\n",
    "#     for i, fi in enumerate(f):\n",
    "#         for j, s in enumerate(vars):\n",
    "#             J[i,j] = sp.diff(fi, s)\n",
    "#     return J\n",
    "\n",
    "# a1=0.2; \n",
    "# q1=-1; q2=2;\n",
    "# # J=Jacobian('q1 q2','[a1*cos(q1)-q2*sin(q1), a1*sin(q1)+q2*cos(q1)]')\n",
    "# # J=np.array([[-a1*sin(q1)-q2*cos(q1),-sin(q1)],[a1*cos(q1)-q2*sin(q1),cos(q1)]])\n",
    "# J=np.array([[-0.9123, 0.8415],[1.7910, 0.5403]])\n",
    "\n",
    "# xd = np.array([-2, -3]) # Valor deseado en el espacio cartesiano\n",
    "# qk=np.array([-1, 2])\n",
    "# qk_1=np.array([-2.7742,-0.6519])\n",
    "\n",
    "\n",
    "# # f=np.array([a1*cos(q1)-q2*sin(q1), a1*sin(q1)+q2*cos(q1)])\n",
    "# f=np.array([1.7910,0.9123])\n",
    "# e=xd-f\n",
    "# alf=qk_1-qk-e\n",
    "\n",
    "\n",
    "\n"
   ]
  },
  {
   "cell_type": "code",
   "execution_count": null,
   "metadata": {},
   "outputs": [],
   "source": [
    "#### Pregunta 3\n",
    "#Parte A\n",
    "q1,q2,q3,l1,l2,l3=sp.symbols('q1 q2 q3 l1 l2 l3')\n",
    "\n",
    "x=l1*cos(q1)+l2*cos(q1+q2)+l3*cos(q1+q2+q3)\n",
    "z=l1*sin(q1)+l2*sin(q1+q2)+l3*sin(q1+q2+q3)\n",
    "th=q1+q2+q3\n",
    "\n",
    "#Parte B\n",
    "\n",
    "\n",
    "def Jacobian(v_str, f_list):\n",
    "    vars = sp.symbols(v_str)\n",
    "    f = sp.sympify(f_list)\n",
    "    J = sp.zeros(len(f),len(vars))\n",
    "    for i, fi in enumerate(f):\n",
    "        for j, s in enumerate(vars):\n",
    "            J[i,j] = sp.diff(fi, s)\n",
    "    return J\n"
   ]
  },
  {
   "cell_type": "code",
   "execution_count": 75,
   "metadata": {},
   "outputs": [
    {
     "data": {
      "text/latex": [
       "$$\\left ( \\left[\\begin{matrix}1 & 0 & 0 & l_{1} + l_{2}\\\\0 & 0 & -1 & 0\\\\0 & 1 & 0 & 0\\\\0 & 0 & 0 & 1\\end{matrix}\\right], \\quad \\left[\\begin{matrix}\\cos{\\left (\\theta_{1} \\right )} & - \\sin{\\left (\\theta_{1} \\right )} & 0\\\\\\sin{\\left (\\theta_{1} \\right )} & \\cos{\\left (\\theta_{1} \\right )} & 0\\\\0 & 0 & 1\\end{matrix}\\right]\\right )$$"
      ],
      "text/plain": [
       "⎛⎡1  0  0   l₁ + l₂⎤                        ⎞\n",
       "⎜⎢                 ⎥  ⎡cos(θ₁)  -sin(θ₁)  0⎤⎟\n",
       "⎜⎢0  0  -1     0   ⎥  ⎢                    ⎥⎟\n",
       "⎜⎢                 ⎥, ⎢sin(θ₁)  cos(θ₁)   0⎥⎟\n",
       "⎜⎢0  1  0      0   ⎥  ⎢                    ⎥⎟\n",
       "⎜⎢                 ⎥  ⎣   0        0      1⎦⎟\n",
       "⎝⎣0  0  0      1   ⎦                        ⎠"
      ]
     },
     "execution_count": 75,
     "metadata": {},
     "output_type": "execute_result"
    }
   ],
   "source": [
    "th1,th2,th3,l1,l2=sp.symbols('theta1 theta2 theta3 l1 l2')\n",
    "\n",
    "T03=sp.Matrix([[cos(th1)*cos(th2+th3), -cos(th1)*sin(th2+th3), sin(th1), (l2*cos(th2)+l1)*cos(th1)],[sin(th1)*cos(th2+th3),-sin(th1)*sin(th2+th3),-cos(th1),(l2*cos(th2)+l1)*sin(th1)],[sin(th2+th3),cos(th2+th3),0,sin(th2)*l2],[0,0,0,1]])\n",
    "T03.subs({th2:0,th3:0,th1:0}),srotz(th1)"
   ]
  },
  {
   "cell_type": "code",
   "execution_count": 76,
   "metadata": {},
   "outputs": [
    {
     "data": {
      "text/latex": [
       "$$\\left[\\begin{matrix}- l_{1} \\sin{\\left (q_{1} \\right )} - l_{2} \\sin{\\left (q_{1} + q_{2} \\right )} & - l_{2} \\sin{\\left (q_{1} + q_{2} \\right )}\\\\l_{1} \\cos{\\left (q_{1} \\right )} + l_{2} \\cos{\\left (q_{1} + q_{2} \\right )} & l_{2} \\cos{\\left (q_{1} + q_{2} \\right )}\\\\1 & 1\\end{matrix}\\right]$$"
      ],
      "text/plain": [
       "⎡-l₁⋅sin(q₁) - l₂⋅sin(q₁ + q₂)  -l₂⋅sin(q₁ + q₂)⎤\n",
       "⎢                                               ⎥\n",
       "⎢l₁⋅cos(q₁) + l₂⋅cos(q₁ + q₂)   l₂⋅cos(q₁ + q₂) ⎥\n",
       "⎢                                               ⎥\n",
       "⎣              1                       1        ⎦"
      ]
     },
     "metadata": {},
     "output_type": "display_data"
    }
   ],
   "source": [
    "import sympy as sp\n",
    "q1, q2, l1, l2 = sp.symbols(\"q1 q2 l1 l2\")\n",
    "# Cinemática directa\n",
    "x = l1*sp.cos(q1) + l2*sp.cos(q1+q2)\n",
    "y = l1*sp.sin(q1) + l2*sp.sin(q1+q2)\n",
    "phi = q1 + q2\n",
    "# Derivadas\n",
    "dxdq1 = sp.diff(x, q1)\n",
    "dxdq2 = sp.diff(x, q2)\n",
    "dydq1 = sp.diff(y, q1)\n",
    "dydq2 = sp.diff(y, q2)\n",
    "dphidq1 = sp.diff(phi, q1)\n",
    "dphidq2 = sp.diff(phi, q2)\n",
    "# Jacobiano analitico\n",
    "Ja = sp.Matrix([[ dxdq1, dxdq2],\n",
    "[ dydq1, dydq2],\n",
    "[dphidq1, dphidq2]])\n",
    "display(Ja)"
   ]
  },
  {
   "cell_type": "code",
   "execution_count": null,
   "metadata": {},
   "outputs": [],
   "source": [
    "# Slide 42\n",
    "\n",
    "# variables simbólicas\n",
    "q1, q2, q3, d1 = sp.symbols(\"q1 q2 q3 d1\")\n",
    "# Cinemática directa\n",
    "X = sp.Matrix([[q3*sp.cos(q2)*sp.cos(q1)],\n",
    "               [q3*sp.cos(q2)*sp.sin(q1)],\n",
    "               [d1 + q3*sp.sin(q2)]])\n",
    "# Variables articulares\n",
    "q = sp.Matrix([q1, q2, q3])\n",
    "# Jacobiano analítico\n",
    "Ja2 = X.jacobian(q)\n",
    "\n",
    "display(Ja2)\n"
   ]
  },
  {
   "cell_type": "code",
   "execution_count": null,
   "metadata": {},
   "outputs": [],
   "source": [
    "# Slide 47\n",
    "Jaxy = Ja1[0:2,0:2]\n",
    "det = sp.simplify(Jaxy.det())\n",
    "\n",
    "# Reemplazando q2=0 se obtiene:\n",
    "Jq2_0 = sp.simplify(Jaxy.subs({q2:0}))\n",
    "# Reemplazando q2=pi se obtiene:\n",
    "Jq2_1 = sp.simplify(Jaxy.subs({q2:sp.pi}))\n",
    "# Rango de las matrices\n",
    "r0 = Jq2_0.rank()\n",
    "r1 = Jq2_1.rank()\n",
    "\n",
    "print(\"El determinante es:\"); display(det)\n",
    "print(\"Reemplazando q2=0 el Jacobiano analítico es:\"); display(Jq2_0)\n",
    "print(\"y su rango es:\", r0)\n",
    "print(\"\\nReemplazando q2=pi el Jacobiano analítico es:\"); display(Jq2_1)\n",
    "print(\"y su rango es:\", r1)"
   ]
  },
  {
   "cell_type": "code",
   "execution_count": 85,
   "metadata": {},
   "outputs": [
    {
     "data": {
      "text/latex": [
       "$$\\left[\\begin{matrix}0 & 0.25 \\sqrt{2} & 0.25 \\sqrt{2}\\\\0.5 \\sqrt{2} + 1 & 0.25 \\sqrt{2} + 1 & 0.25 \\sqrt{2}\\\\1 & 1 & 1\\end{matrix}\\right]$$"
      ],
      "text/plain": [
       "⎡    0         0.25⋅√2    0.25⋅√2⎤\n",
       "⎢                                ⎥\n",
       "⎢0.5⋅√2 + 1  0.25⋅√2 + 1  0.25⋅√2⎥\n",
       "⎢                                ⎥\n",
       "⎣    1            1          1   ⎦"
      ]
     },
     "execution_count": 85,
     "metadata": {},
     "output_type": "execute_result"
    }
   ],
   "source": [
    "#Cinematica diferencial inversa\n",
    "\n",
    "# variables simbólicas\n",
    "q1, q2, q3, l1, l2, l3 = sp.symbols(\"q1 q2 q3 l1 l2 l3\")\n",
    "v_des=sp.Matrix([[0.7],[0],[0]])\n",
    "#Cinematica directa\n",
    "X=sp.Matrix([[l1*cos(q1)+l2*cos(q1+q2)+l3*cos(q1+q2+q3)],[l1*sin(q1)+l2*sin(q1+q2)+l3*sin(q1+q2+q3)],[q1+q2+q3]])\n",
    "# Variables articulares\n",
    "q = sp.Matrix([q1, q2, q3])\n",
    "J=X.jacobian(q)\n",
    "J=J.subs({q1:pi/4,q2:-pi/4, q3:-pi/4,l1:0.5,l2:1,l3:0.5})\n",
    "\n",
    "#Velocidad articular deseada\n",
    "q_i=sp.simplify(J.inv()*v_des)\n",
    "q_i\n"
   ]
  },
  {
   "cell_type": "markdown",
   "metadata": {},
   "source": [
    "#### EJEMPLO CINEMATICA DIFERENCIAL INVERSA\n",
    "Encontrar las velocidades articulares para que el efector final tenga el siguiente twist (v,w)=(0,0,-L,0,-sqrt(2)/2,0)\n"
   ]
  },
  {
   "cell_type": "code",
   "execution_count": 109,
   "metadata": {},
   "outputs": [
    {
     "data": {
      "text/latex": [
       "$$\\left[\\begin{matrix}0\\\\- \\frac{\\sqrt{2} L}{2}\\\\0\\\\\\frac{3 \\sqrt{2} L}{4} + \\frac{\\sqrt{2}}{4}\\end{matrix}\\right]$$"
      ],
      "text/plain": [
       "⎡     0     ⎤\n",
       "⎢           ⎥\n",
       "⎢  -√2⋅L    ⎥\n",
       "⎢  ──────   ⎥\n",
       "⎢    2      ⎥\n",
       "⎢           ⎥\n",
       "⎢     0     ⎥\n",
       "⎢           ⎥\n",
       "⎢3⋅√2⋅L   √2⎥\n",
       "⎢────── + ──⎥\n",
       "⎣  4      4 ⎦"
      ]
     },
     "execution_count": 109,
     "metadata": {},
     "output_type": "execute_result"
    }
   ],
   "source": [
    "# variables simbólicas\n",
    "L= sp.symbols(\"L\")\n",
    "sqrt=sp.sqrt\n",
    "J= sp.Matrix([[0, -sqrt(2),0,-sqrt(2)/2],\n",
    "              [0,0,-1,0],\n",
    "              [0,0,0,-sqrt(2)/2],\n",
    "              [0,0,sqrt(2)/2,0],\n",
    "              [0,-1,0,-1],\n",
    "              [1,0,sqrt(2)/2,0]])\n",
    "\n",
    "t=sp.Matrix([[0],[0],[-L],[0],[-sqrt(2)/2],[0]])\n",
    "\n",
    "q_i=J.pinv()*t\n",
    "q_i"
   ]
  },
  {
   "cell_type": "code",
   "execution_count": 112,
   "metadata": {},
   "outputs": [
    {
     "data": {
      "text/latex": [
       "$$\\left[\\begin{matrix}l_{1} \\cos{\\left (q_{1} \\right )} + l_{2} \\cos{\\left (q_{1} + q_{2} \\right )} + l_{3} \\cos{\\left (q_{1} + q_{2} + q_{3} \\right )} & l_{2} \\cos{\\left (q_{1} + q_{2} \\right )} + l_{3} \\cos{\\left (q_{1} + q_{2} + q_{3} \\right )} & l_{3} \\cos{\\left (q_{1} + q_{2} + q_{3} \\right )}\\\\- l_{1} \\sin{\\left (q_{1} \\right )} - l_{2} \\sin{\\left (q_{1} + q_{2} \\right )} - l_{3} \\sin{\\left (q_{1} + q_{2} + q_{3} \\right )} & - l_{2} \\sin{\\left (q_{1} + q_{2} \\right )} - l_{3} \\sin{\\left (q_{1} + q_{2} + q_{3} \\right )} & - l_{3} \\sin{\\left (q_{1} + q_{2} + q_{3} \\right )}\\\\1 & 1 & 1\\end{matrix}\\right]$$"
      ],
      "text/plain": [
       "⎡l₁⋅cos(q₁) + l₂⋅cos(q₁ + q₂) + l₃⋅cos(q₁ + q₂ + q₃)   l₂⋅cos(q₁ + q₂) + l₃⋅co\n",
       "⎢                                                                             \n",
       "⎢-l₁⋅sin(q₁) - l₂⋅sin(q₁ + q₂) - l₃⋅sin(q₁ + q₂ + q₃)  -l₂⋅sin(q₁ + q₂) - l₃⋅s\n",
       "⎢                                                                             \n",
       "⎣                         1                                               1   \n",
       "\n",
       "s(q₁ + q₂ + q₃)   l₃⋅cos(q₁ + q₂ + q₃) ⎤\n",
       "                                       ⎥\n",
       "in(q₁ + q₂ + q₃)  -l₃⋅sin(q₁ + q₂ + q₃)⎥\n",
       "                                       ⎥\n",
       "                            1          ⎦"
      ]
     },
     "execution_count": 112,
     "metadata": {},
     "output_type": "execute_result"
    }
   ],
   "source": [
    "#PREGUNTA 3\n",
    "l1,l2,l3,q1,q2,q3= sp.symbols(\"l1 l2 l3 q1 q2 q3\")\n",
    "x=l1*cos(q1)+l2*cos(q1+q2)+l3*cos(q1+q2+q3)\n",
    "y=l1*sin(q1)+l2*sin(q1+q2)+l3*sin(q1+q2+q3)\n",
    "th=q1+q2+q3\n",
    "X=sp.Matrix([[y],[x],[th]])\n",
    "q = sp.Matrix([q1, q2, q3])\n",
    "J=X.jacobian(q)\n",
    "J"
   ]
  },
  {
   "cell_type": "code",
   "execution_count": 120,
   "metadata": {},
   "outputs": [
    {
     "data": {
      "text/latex": [
       "$$\\left[\\begin{matrix}fx \\left(- l_{1} \\sin{\\left (q_{1} \\right )} - l_{2} \\sin{\\left (q_{1} + q_{2} \\right )}\\right) + fy \\left(l_{1} \\cos{\\left (q_{1} \\right )} + l_{2} \\cos{\\left (q_{1} + q_{2} \\right )}\\right)\\\\- fx l_{2} \\sin{\\left (q_{1} + q_{2} \\right )} + fy l_{2} \\cos{\\left (q_{1} + q_{2} \\right )}\\end{matrix}\\right]$$"
      ],
      "text/plain": [
       "⎡fx⋅(-l₁⋅sin(q₁) - l₂⋅sin(q₁ + q₂)) + fy⋅(l₁⋅cos(q₁) + l₂⋅cos(q₁ + q₂))⎤\n",
       "⎢                                                                      ⎥\n",
       "⎣               -fx⋅l₂⋅sin(q₁ + q₂) + fy⋅l₂⋅cos(q₁ + q₂)               ⎦"
      ]
     },
     "execution_count": 120,
     "metadata": {},
     "output_type": "execute_result"
    }
   ],
   "source": [
    "#PREGUNTA 4\n",
    "l1,l2,q1,q2,fx,fy,fz,ux,uy,uz,wz= sp.symbols(\"l1 l2 q1 q2 fx fy fz ux uy uz wz\")\n",
    "x=l1*cos(q1)+l2*cos(q1+q2)\n",
    "y=l1*sin(q1)+l2*sin(q1+q2)\n",
    "q=sp.Matrix([q1, q2])\n",
    "X=sp.Matrix([[x],[y],[0],[0],[0],[wz]])\n",
    "J=X.jacobian(q)\n",
    "F=sp.Matrix([[fx],[fy],[fz],[ux],[uy],[uz]])\n",
    "t=J.T*F\n",
    "t"
   ]
  },
  {
   "cell_type": "code",
   "execution_count": 7,
   "metadata": {},
   "outputs": [
    {
     "data": {
      "text/latex": [
       "$$\\left[\\begin{matrix}- \\frac{1}{2}\\\\1\\\\0\\end{matrix}\\right]$$"
      ],
      "text/plain": [
       "⎡-1/2⎤\n",
       "⎢    ⎥\n",
       "⎢ 1  ⎥\n",
       "⎢    ⎥\n",
       "⎣ 0  ⎦"
      ]
     },
     "execution_count": 7,
     "metadata": {},
     "output_type": "execute_result"
    }
   ],
   "source": [
    "#Pregunta 1 pc3\n",
    "q1,q2,q3,l1,l2,l3=sp.symbols('q1 q2 q3 l1 l2 l3')\n",
    "T01=rotdh(0,q1,l1,0)\n",
    "T12=rotdh(0,q2,-l2,pi/2)\n",
    "T23=rotdh(l3,q3,0,0)\n",
    "T02=T01*T12\n",
    "T03=T01*T12*T23\n",
    "\n",
    "#Obteniendo la columna 3 \n",
    "\n",
    "p1=T01[0:3, 3]\n",
    "z1= T01[0:3, 2]\n",
    "p2=T02[0:3, 3]\n",
    "z2=T02[0:3, 2]\n",
    "p3=T03[0:3, 3]\n",
    "z3=T03[0:3, 2]\n",
    "\n",
    "z0 = sp.Matrix([[0],[0],[1]]);\n",
    "p0 = sp.Matrix([[0],[0],[0]]);\n",
    "\n",
    "Jv1 = sp.simplify(z0.cross(p3-p0)); Jv2 = sp.simplify(z1.cross(p3-p1)); Jv3=sp.simplify(z2.cross(p3-p2))\n",
    "Jw1 = z0; Jw2 = z1; Jw3=z2\n",
    "\n",
    "J1 = sp.Matrix.vstack(Jv1, Jw1)\n",
    "J2 = sp.Matrix.vstack(Jv2, Jw2)\n",
    "J3 = sp.Matrix.vstack(Jv3, Jw3)\n",
    "J = sp.Matrix.hstack(J1, J2, J3)\n",
    "Jf=J.subs({l1:1,l2:1,l3:1,q1:0,q2:pi,q3:pi})\n",
    "\n",
    "v_w=sp.Matrix([[0],[0],[0],[0],[0],[1]])\n",
    "\n",
    "q_deseado=Jf.pinv()*v_w"
   ]
  },
  {
   "cell_type": "code",
   "execution_count": 3,
   "metadata": {},
   "outputs": [],
   "source": [
    "def rotdh(d,th,a,alf):\n",
    "    T=sp.Matrix([[cos(th),-cos(alf)*sin(th),sin(alf)*sin(th),a*cos(th)],\n",
    "                  [sin(th),cos(alf)*cos(th),-sin(alf)*cos(th),a*sin(th)],\n",
    "                  [0, sin(alf), cos(alf),d],[0, 0, 0, 1]])\n",
    "    return T"
   ]
  },
  {
   "cell_type": "code",
   "execution_count": 6,
   "metadata": {},
   "outputs": [
    {
     "data": {
      "text/latex": [
       "$$\\left[\\begin{matrix}0 & -1 & 0 & 0\\\\1 & 0 & 0 & 19.05\\\\0 & 0 & 1 & -690.0\\\\0 & 0 & 0 & 1\\end{matrix}\\right]$$"
      ],
      "text/plain": [
       "⎡0  -1  0    0   ⎤\n",
       "⎢                ⎥\n",
       "⎢1  0   0  19.05 ⎥\n",
       "⎢                ⎥\n",
       "⎢0  0   1  -690.0⎥\n",
       "⎢                ⎥\n",
       "⎣0  0   0    1   ⎦"
      ]
     },
     "execution_count": 6,
     "metadata": {},
     "output_type": "execute_result"
    }
   ],
   "source": [
    "#Pregunta 1\n",
    "j1,j2,j3,j4,j5,j6=sp.symbols('j1 j2 j3 j4 j5 j6')\n",
    "T01=rotdh(0,pi/2+j1,0,pi/2)\n",
    "T12=rotdh(0,-pi/2+j2,0,pi/2)\n",
    "T23=rotdh(-19.05,0+j3,350,0)\n",
    "T34=rotdh(0,pi+j4,-340,0)\n",
    "T45=rotdh(0,0+j5,0,pi/2)\n",
    "T56=rotdh(0,-pi/2+j6 ,0,-pi/2)\n",
    "\n",
    "T06=sp.simplify(T01*T12*T23*T34*T45*T56)\n",
    "T06.subs({j1:0,j2:0,j3:0,j4:0,j5:0,j6:0})"
   ]
  },
  {
   "cell_type": "code",
   "execution_count": 50,
   "metadata": {},
   "outputs": [
    {
     "name": "stdout",
     "output_type": "stream",
     "text": [
      "a) El twist es: \n"
     ]
    },
    {
     "data": {
      "text/latex": [
       "$$\\left[\\begin{matrix}- 0.15 \\sqrt{2}\\\\- 0.15 \\sqrt{2}\\\\0.24\\\\0.2 \\sqrt{2}\\\\0.2 \\sqrt{2}\\\\0.5\\end{matrix}\\right]$$"
      ],
      "text/plain": [
       "⎡-0.15⋅√2⎤\n",
       "⎢        ⎥\n",
       "⎢-0.15⋅√2⎥\n",
       "⎢        ⎥\n",
       "⎢  0.24  ⎥\n",
       "⎢        ⎥\n",
       "⎢ 0.2⋅√2 ⎥\n",
       "⎢        ⎥\n",
       "⎢ 0.2⋅√2 ⎥\n",
       "⎢        ⎥\n",
       "⎣  0.5   ⎦"
      ]
     },
     "metadata": {},
     "output_type": "display_data"
    },
    {
     "name": "stdout",
     "output_type": "stream",
     "text": [
      "b) El determinante es:\n"
     ]
    },
    {
     "data": {
      "image/png": "[encoded data removed]",
      "text/latex": [
       "$$0$$"
      ],
      "text/plain": [
       "0"
      ]
     },
     "metadata": {},
     "output_type": "display_data"
    },
    {
     "name": "stdout",
     "output_type": "stream",
     "text": [
      "c) Los torques serian:\n"
     ]
    },
    {
     "data": {
      "text/latex": [
       "$$\\left[\\begin{matrix}- 0.3 \\sqrt{2}\\\\- 0.3 \\sqrt{2}\\\\0.3\\end{matrix}\\right]$$"
      ],
      "text/plain": [
       "⎡-0.3⋅√2⎤\n",
       "⎢       ⎥\n",
       "⎢-0.3⋅√2⎥\n",
       "⎢       ⎥\n",
       "⎣  0.3  ⎦"
      ]
     },
     "metadata": {},
     "output_type": "display_data"
    }
   ],
   "source": [
    "#Pregunta 2\n",
    "q1,q2,q3,l2=sp.symbols('q1 q2 q3 l2')\n",
    "T01=rotdh(0,q1,0,0)\n",
    "T12=rotdh(q2,-pi/2,0,-pi/2)\n",
    "T23=rotdh(0,q3,l2,-pi/2)\n",
    "\n",
    "#Matrices de transformacion respecto a 0\n",
    "T02=sp.simplify(T01*T12)\n",
    "T03=sp.simplify(T01*T12*T23)\n",
    "\n",
    "#Obteniendo la columna 3 \n",
    "\n",
    "p1=T01[0:3, 3]\n",
    "z1= T01[0:3, 2]\n",
    "p2=T02[0:3, 3]\n",
    "z2=T02[0:3, 2]\n",
    "p3=T03[0:3, 3]\n",
    "z3=T03[0:3, 2]\n",
    "\n",
    "z0 = sp.Matrix([[0],[0],[1]]);\n",
    "p0 = sp.Matrix([[0],[0],[0]]);\n",
    "\n",
    "Jv1 = sp.simplify(z0.cross(p3-p0)); Jv2 = sp.simplify(z1.cross(p3-p1)); Jv3=sp.simplify(z2.cross(p3-p2))\n",
    "Jw1 = z0; Jw2 = z1; Jw3=z2\n",
    "\n",
    "J1 = sp.Matrix.vstack(Jv1, Jw1)\n",
    "J2 = sp.Matrix.vstack(Jv2, Jw2)\n",
    "J3 = sp.Matrix.vstack(Jv3, Jw3)\n",
    "J = sp.Matrix.hstack(J1, J2, J3)\n",
    "J\n",
    "#Parte A\n",
    "q=sp.Matrix([pi/4, 0.5,pi])\n",
    "l2r=0.6\n",
    "Jr=J.subs({q1:q[0],q2:q[1],q3:q[2],l2:l2r})\n",
    "q_i=sp.Matrix([[0.4],[0.1],[0.4]])\n",
    "v_w=Jr*q_i\n",
    " #v_w=Matrix([[-0.15*sqrt(2)], [-0.15*sqrt(2)], [0.240000000000000], [0.2*sqrt(2)], [0.2*sqrt(2)], [0.500000000000000]])\n",
    "print('a) El twist es: '); display(v_w)\n",
    "#Parte b\n",
    "\n",
    "Jxy =sp.Matrix([[l2*cos(q1)*cos(q3), l2*cos(q1)*cos(q3), -l2*sin(q1)*sin(q3)],[l2*sin(q1)*cos(q3), l2*sin(q1)*cos(q3), l2*sin(q3)*cos(q1)],[0, 0, -l2*cos(q3)]])\n",
    "Jxy\n",
    "det = sp.simplify(Jxy.det())\n",
    "print(\"b) El determinante es:\"); display(det) #el det es= 0\n",
    "#Por lo que no exiten singularidades\n",
    "\n",
    "#Parte c\n",
    "\n",
    "F=sp.Matrix([[0.5],[0.5],[0.5],[0],[0],[0]])\n",
    "t=Jr.T*F\n",
    "print('c) Los torques serian:'); display(t)\n",
    "#t=[-0.3*sqrt(2),-0.3*sqrt(2),0.3] \n"
   ]
  },
  {
   "cell_type": "code",
   "execution_count": 74,
   "metadata": {},
   "outputs": [
    {
     "name": "stdout",
     "output_type": "stream",
     "text": [
      "El angulo q1 obtenido es:\n"
     ]
    },
    {
     "data": {
      "image/png": "[encoded data removed]",
      "text/latex": [
       "$$\\operatorname{atan_{2}}{\\left (\\frac{x}{\\sqrt{\\left(x - y\\right)^{2} + 1} - 1},\\sqrt{- \\frac{x^{2}}{\\left(\\sqrt{\\left(x - y\\right)^{2} + 1} - 1\\right)^{2}} + 1} \\right )}$$"
      ],
      "text/plain": [
       "     ⎛                               ________________________________⎞\n",
       "     ⎜                              ╱               2                ⎟\n",
       "     ⎜          x                  ╱               x                 ⎟\n",
       "atan2⎜─────────────────────,      ╱   - ──────────────────────── + 1 ⎟\n",
       "     ⎜   ______________          ╱                             2     ⎟\n",
       "     ⎜  ╱        2              ╱       ⎛   ______________    ⎞      ⎟\n",
       "     ⎜╲╱  (x - y)  + 1  - 1    ╱        ⎜  ╱        2         ⎟      ⎟\n",
       "     ⎝                       ╲╱         ⎝╲╱  (x - y)  + 1  - 1⎠      ⎠"
      ]
     },
     "metadata": {},
     "output_type": "display_data"
    },
    {
     "name": "stdout",
     "output_type": "stream",
     "text": [
      "El angulo q2 obtenido es:\n"
     ]
    },
    {
     "data": {
      "image/png": "[encoded data removed]",
      "text/latex": [
       "$$\\operatorname{atan_{2}}{\\left (\\sqrt{\\left(x - y\\right)^{2} + 1},z - 1 \\right )}$$"
      ],
      "text/plain": [
       "     ⎛   ______________       ⎞\n",
       "     ⎜  ╱        2            ⎟\n",
       "atan2⎝╲╱  (x - y)  + 1 , z - 1⎠"
      ]
     },
     "metadata": {},
     "output_type": "display_data"
    }
   ],
   "source": [
    "#Pregunta 3\n",
    "a1,a2,q1,q2,d, x, y, z=sp.symbols('a1 a2 q1 q2 d x y z')\n",
    "X=sp.Matrix([[a2*sin(q1)*sin(q2)-d*sin(q1)],[d*cos(q1)-a2*cos(q1)*sin(q2)],[a1+a2*cos(q2)]])\n",
    "\n",
    "#Parte A\n",
    "\n",
    "a1=1\n",
    "a2=1\n",
    "d=1\n",
    "#(x-y)**2=(a2*sin(q1)*sin(q2)-d*sin(q1)-(d*cos(q1)-a2*cos(q1)*sin(q2)))**2\n",
    "s2=sp.sqrt((d**2+(x-y)**2)/a2**2)\n",
    "c2=(z-a1)/a2\n",
    "\n",
    "q2=sp.atan2(s2,c2)\n",
    "\n",
    "#Calculamos q1\n",
    "s1=x/(a2*s2-d)\n",
    "c1=sp.sqrt(1-s1**2)\n",
    "q1=sp.atan2(s1,c1)\n",
    "print('El angulo q1 obtenido es:'); display(q1)\n",
    "print('El angulo q2 obtenido es:'); display(q2)\n",
    "#Parte B: No es posible controlar los 3 valores de posicion ya que el jacobiano de\n",
    "#la cinematica directa de este robot es d rango 2, por lo cual solo podriamos controlar\n",
    "#un maximo de 2 grados de libertad del robot\n",
    "\n",
    "XR=X.subs({a1:1,a2:1,d:1})\n",
    "q=sp.Matrix([q1,q2,q3])\n",
    "J=X.jacobian(q)\n",
    "#J.rank()=2"
   ]
  }
 ],
 "metadata": {
  "kernelspec": {
   "display_name": "Python 3",
   "language": "python",
   "name": "python3"
  },
  "language_info": {
   "codemirror_mode": {
    "name": "ipython",
    "version": 3
   },
   "file_extension": ".py",
   "mimetype": "text/x-python",
   "name": "python",
   "nbconvert_exporter": "python",
   "pygments_lexer": "ipython3",
   "version": "3.6.6"
  }
 },
 "nbformat": 4,
 "nbformat_minor": 2
}
